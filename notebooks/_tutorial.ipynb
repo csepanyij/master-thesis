{
 "cells": [
  {
   "cell_type": "markdown",
   "metadata": {},
   "source": [
    "# git2net - Extracting and analysing co-editing relationships from git repositories\n",
    "In this tutorial you will learn the basic steps required to obtain a co-editing relationship from a git repoitory using git2net.\n",
    "\n",
    "The tutorial assumes you have git2net installed. In addition, it is recommended to create a folder for this tutorial as additional files will be downloaded to your local directory (if not specified otherwise).\n",
    "\n",
    " +---------------+   git2net          +---------------+\n",
    " | Repository on | -----------------> | local         |\n",
    " | Github        | clone_repository() | repository    |\n",
    " +---------------+   (1)              +---------------+\n",
    "                                        | git2net \n",
    "                                        | mine_git_repo()\n",
    "                                        v (2)\n",
    " +---------------+   pandas           +---------------+\n",
    " | pandas        |<------------------ | sqlite data   |\n",
    " | dataframe     |  read_sql_query()  | base          |\n",
    " +---------------+                    +---------------+ \n",
    "      |                                       |\n",
    "      v                                       v\n",
    " Data mining (4)                      Network analysis (3)\n",
    "The following sections are structured according to this process model:\n",
    "\n",
    "    Repository Cloning\n",
    "    Repository Mining\n",
    "    Network Analysis and visualization (git2net)\n",
    "    Data analysis (pandas)\n",
    "## Repository Cloning\n",
    "To start, you will need to select and clone a git repository that you are interested in analysing. For the purpose of this tutorial, we will analyse the repository behind git2net—aiming to finally find a solution to the well-known chicken and egg problem.\n",
    "\n",
    "The following lines will clone the git2net repository to your current working directory. To change this location, you can edit the path to the local directory stored in local_directory. The folder name of the repository is the name of the repository, which we store in repo_name."
   ]
  },
  {
   "cell_type": "code",
   "execution_count": 1,
   "metadata": {},
   "outputs": [],
   "source": [
    "import pygit2 as git2\n",
    "import os\n",
    "import shutil\n",
    "\n",
    "git_repo_url = 'https://github.com/gotec/git2net.git'\n",
    "local_directory = '.'\n",
    "git_repo_dir = 'git2net4analysis'\n",
    "\n",
    "if os.path.exists(git_repo_dir):\n",
    "    shutil.rmtree(git_repo_dir)\n",
    "\n",
    "repo = git2.clone_repository(git_repo_url, git_repo_dir) # Clones a non-bare repository"
   ]
  },
  {
   "cell_type": "markdown",
   "metadata": {},
   "source": [
    "Private repositories require some more efforts. Firstly, you have to generate a personal token. The procedure on GitHub side is explained here. Make sure to copy your new access token to a file (secret.txt for instance). You won’t be able to see it again! Please add secret.txt directly to your .gitignore file! You wouldn't believe how many access tokens are freely available at github :-)\n",
    "\n",
    "Now we are able to pass the token as a third parameter embedded in a callback method to clone_repository()."
   ]
  },
  {
   "cell_type": "markdown",
   "metadata": {},
   "source": [
    "## Repository Mining\n",
    "Now that we have obtained a local copy of the repository, we can use git2net to obtain a database containing information on all commits and edits made to obtain the current state of the repository.\n",
    "\n",
    "To do so, we use the mine_git_repo function. This function takes two required inputs as well as a number of optional inputs, some of which we will further explore later in this tutorial. Let's start with the required inputs. Here, we need to supply a path to the git repositoy that will be analysed. Below, this is done with the variable repo_name. In addition, git2net requires a path to the sqlite database that will be filled during the mining process. This path is provided as sqlite_db_file.\n",
    "\n",
    "Note, that if no database exists on the supplied path, git2net will create a new database. If a database exists, git2net will check if the database was mined with the same setting and on the same repository and subsequently resume the mining process from wherever it was left off.\n",
    "\n",
    "Let's try this out. Below we import git2net and point it to the path to which we cloned the database. In addition, we specify the location of the database file in which the results of the mining process will be stored and ensure the database does currently not exist. We then run the mine_git_repo function with the optional argument max_modifications = 1. With this only commits in which 1 or less files were modified are mined."
   ]
  },
  {
   "cell_type": "code",
   "execution_count": 8,
   "metadata": {},
   "outputs": [
    {
     "name": "stdout",
     "output_type": "stream",
     "text": [
      "Found no database on provided path. Starting from scratch.\n"
     ]
    },
    {
     "name": "stderr",
     "output_type": "stream",
     "text": [
      "Parallel (24 processes):   3%|▎         | 7/213 [00:02<01:12,  2.82it/s]"
     ]
    },
    {
     "name": "stdout",
     "output_type": "stream",
     "text": [
      "Commit exceeding max_modifications:  bd0ad7b12500239321a8b7c6ba547f6111c781bb\n"
     ]
    },
    {
     "name": "stderr",
     "output_type": "stream",
     "text": [
      "Parallel (24 processes):   7%|▋         | 14/213 [00:04<00:47,  4.21it/s]"
     ]
    },
    {
     "name": "stdout",
     "output_type": "stream",
     "text": [
      "Commit exceeding max_modifications:  eed200119f675f2abc69a5f72c3505e903b82fd2\n"
     ]
    },
    {
     "name": "stderr",
     "output_type": "stream",
     "text": [
      "Parallel (24 processes):  14%|█▎        | 29/213 [00:07<00:42,  4.34it/s]"
     ]
    },
    {
     "name": "stdout",
     "output_type": "stream",
     "text": [
      "Commit exceeding max_modifications:  40cc53f783aeb835fbec20f4d5e165af4e24fd32\n"
     ]
    },
    {
     "name": "stderr",
     "output_type": "stream",
     "text": [
      "Parallel (24 processes):  16%|█▌        | 34/213 [00:08<00:42,  4.21it/s]"
     ]
    },
    {
     "name": "stdout",
     "output_type": "stream",
     "text": [
      "Commit exceeding max_modifications:  9a042c9c7c6a99733d1b94bf0d440f5d22389a79\n"
     ]
    },
    {
     "name": "stderr",
     "output_type": "stream",
     "text": [
      "Parallel (24 processes):  17%|█▋        | 36/213 [00:09<00:37,  4.66it/s]"
     ]
    },
    {
     "name": "stdout",
     "output_type": "stream",
     "text": [
      "Commit exceeding max_modifications:  a2d25731c924765db4f21fa3afa7d263b7c9e79d\n",
      "Commit exceeding max_modifications:  c657e752b411caf531e3fff8fc0ea8e0b756ed43\n"
     ]
    },
    {
     "name": "stderr",
     "output_type": "stream",
     "text": [
      "Parallel (24 processes):  19%|█▉        | 41/213 [00:10<00:40,  4.25it/s]"
     ]
    },
    {
     "name": "stdout",
     "output_type": "stream",
     "text": [
      "Commit exceeding max_modifications:  87c4d8f3206b400785602de03bdf87f109a65008\n"
     ]
    },
    {
     "name": "stderr",
     "output_type": "stream",
     "text": [
      "Parallel (24 processes):  20%|██        | 43/213 [00:10<00:41,  4.09it/s]"
     ]
    },
    {
     "name": "stdout",
     "output_type": "stream",
     "text": [
      "Commit exceeding max_modifications:  95eb238eeb60d6f4d1eee5acdba1d195d6e0cf70\n",
      "Commit exceeding max_modifications:  16b2226a47e2747a3de9ff07f5fec0ad1abd8e0c\n"
     ]
    },
    {
     "name": "stderr",
     "output_type": "stream",
     "text": [
      "Parallel (24 processes):  21%|██        | 45/213 [00:11<00:37,  4.48it/s]"
     ]
    },
    {
     "name": "stdout",
     "output_type": "stream",
     "text": [
      "Commit exceeding max_modifications:  f8e0c813a4a3049725b4c65a69bf0b487a685276\n"
     ]
    },
    {
     "name": "stderr",
     "output_type": "stream",
     "text": [
      "Parallel (24 processes):  22%|██▏       | 46/213 [00:11<00:35,  4.71it/s]"
     ]
    },
    {
     "name": "stdout",
     "output_type": "stream",
     "text": [
      "Commit exceeding max_modifications:  eb40bbb2e7c68c7ab73bef6d91b41d2376581907\n"
     ]
    },
    {
     "name": "stderr",
     "output_type": "stream",
     "text": [
      "Parallel (24 processes):  22%|██▏       | 47/213 [00:11<00:44,  3.71it/s]"
     ]
    },
    {
     "name": "stdout",
     "output_type": "stream",
     "text": [
      "Commit exceeding max_modifications:  64701617d0d468bba66760046d5519c54c7f3371\n"
     ]
    },
    {
     "name": "stderr",
     "output_type": "stream",
     "text": [
      "Parallel (24 processes):  23%|██▎       | 48/213 [00:12<01:05,  2.52it/s]"
     ]
    },
    {
     "name": "stdout",
     "output_type": "stream",
     "text": [
      "Commit exceeding max_modifications:  c81b190fe260050fcd7ff86a7e947b47cf8f8085\n"
     ]
    },
    {
     "name": "stderr",
     "output_type": "stream",
     "text": [
      "Parallel (24 processes):  23%|██▎       | 50/213 [00:13<01:06,  2.47it/s]"
     ]
    },
    {
     "name": "stdout",
     "output_type": "stream",
     "text": [
      "Commit exceeding max_modifications:  e75736eaf9bd01e6f410c4dc51d9e58dcf20eacb\n",
      "Commit exceeding max_modifications:  91d5d98881c6289f42f30508c4b26d3fa7baf6ca\n"
     ]
    },
    {
     "name": "stderr",
     "output_type": "stream",
     "text": [
      "Parallel (24 processes):  27%|██▋       | 57/213 [00:15<00:56,  2.74it/s]"
     ]
    },
    {
     "name": "stdout",
     "output_type": "stream",
     "text": [
      "Commit exceeding max_modifications:  240a13c3b87558cb85963d3cda415a63b54a8cbf\n"
     ]
    },
    {
     "name": "stderr",
     "output_type": "stream",
     "text": [
      "Parallel (24 processes):  31%|███       | 66/213 [00:18<00:45,  3.24it/s]"
     ]
    },
    {
     "name": "stdout",
     "output_type": "stream",
     "text": [
      "Commit exceeding max_modifications:  a3213cd995e850c8966355755c4ac2ff61f65503\n"
     ]
    },
    {
     "name": "stderr",
     "output_type": "stream",
     "text": [
      "Parallel (24 processes):  35%|███▍      | 74/213 [00:20<00:34,  4.07it/s]"
     ]
    },
    {
     "name": "stdout",
     "output_type": "stream",
     "text": [
      "Commit exceeding max_modifications:  9ef69d206d7cedb82b12d68a39445b2e936cd15f\n"
     ]
    },
    {
     "name": "stderr",
     "output_type": "stream",
     "text": [
      "Parallel (24 processes):  35%|███▌      | 75/213 [00:20<00:33,  4.17it/s]"
     ]
    },
    {
     "name": "stdout",
     "output_type": "stream",
     "text": [
      "Commit exceeding max_modifications:  71b1cd496f6dc800acd7e59260d86b647cc58291\n",
      "Commit exceeding max_modifications:  806fc44d2250c316c75692601362aecabc63d137\n"
     ]
    },
    {
     "name": "stderr",
     "output_type": "stream",
     "text": [
      "Parallel (24 processes):  38%|███▊      | 80/213 [00:21<00:33,  3.95it/s]"
     ]
    },
    {
     "name": "stdout",
     "output_type": "stream",
     "text": [
      "Commit exceeding max_modifications:  9e72df61bf300b42c3fbc16d94153e8edbbe6dd6\n"
     ]
    },
    {
     "name": "stderr",
     "output_type": "stream",
     "text": [
      "Parallel (24 processes):  39%|███▉      | 83/213 [00:22<00:27,  4.65it/s]"
     ]
    },
    {
     "name": "stdout",
     "output_type": "stream",
     "text": [
      "Commit exceeding max_modifications:  090c00c342283134a23900f85c1d232499617365\n"
     ]
    },
    {
     "name": "stderr",
     "output_type": "stream",
     "text": [
      "Parallel (24 processes):  40%|███▉      | 85/213 [00:22<00:35,  3.63it/s]"
     ]
    },
    {
     "name": "stdout",
     "output_type": "stream",
     "text": [
      "Commit exceeding max_modifications:  509e1394637f74a357ef2bf0c567dc6520a80eb6\n",
      "Commit exceeding max_modifications:  cf51fa8ddf40c85645cf9e6e7fb5c64b322a20ef\n"
     ]
    },
    {
     "name": "stderr",
     "output_type": "stream",
     "text": [
      "Parallel (24 processes):  41%|████      | 87/213 [00:23<00:29,  4.23it/s]"
     ]
    },
    {
     "name": "stdout",
     "output_type": "stream",
     "text": [
      "Commit exceeding max_modifications:  73e2b77a786cf19ec4a04e0a95ae4a0f93c45c54\n"
     ]
    },
    {
     "name": "stderr",
     "output_type": "stream",
     "text": [
      "Parallel (24 processes):  42%|████▏     | 89/213 [00:23<00:22,  5.39it/s]"
     ]
    },
    {
     "name": "stdout",
     "output_type": "stream",
     "text": [
      "Commit exceeding max_modifications:  1504d68a4daf1e7529c6ac1a192794da765da9d2\n"
     ]
    },
    {
     "name": "stderr",
     "output_type": "stream",
     "text": [
      "Parallel (24 processes):  42%|████▏     | 90/213 [00:23<00:23,  5.25it/s]"
     ]
    },
    {
     "name": "stdout",
     "output_type": "stream",
     "text": [
      "Commit exceeding max_modifications:  b3b8e33bd6ae43ba9ff50f4b84cc2c6c897fe92b\n"
     ]
    },
    {
     "name": "stderr",
     "output_type": "stream",
     "text": [
      "Parallel (24 processes):  43%|████▎     | 91/213 [00:23<00:21,  5.79it/s]"
     ]
    },
    {
     "name": "stdout",
     "output_type": "stream",
     "text": [
      "Commit exceeding max_modifications:  2294efe5bf28560eb11437f54e18c4ff710e2bd1\n"
     ]
    },
    {
     "name": "stderr",
     "output_type": "stream",
     "text": [
      "Parallel (24 processes):  45%|████▌     | 96/213 [00:25<00:34,  3.44it/s]"
     ]
    },
    {
     "name": "stdout",
     "output_type": "stream",
     "text": [
      "Commit exceeding max_modifications:  7e7a8bd30a12628028234308ae6c7e2f5b5ec2b2\n"
     ]
    },
    {
     "name": "stderr",
     "output_type": "stream",
     "text": [
      "Parallel (24 processes):  46%|████▋     | 99/213 [00:25<00:25,  4.45it/s]"
     ]
    },
    {
     "name": "stdout",
     "output_type": "stream",
     "text": [
      "Commit exceeding max_modifications:  0a8bc07dfd7c481b8936fddd99e7a8a8aac74dfe\n"
     ]
    },
    {
     "name": "stderr",
     "output_type": "stream",
     "text": [
      "Parallel (24 processes):  54%|█████▎    | 114/213 [00:29<00:28,  3.43it/s]"
     ]
    },
    {
     "name": "stdout",
     "output_type": "stream",
     "text": [
      "Commit exceeding max_modifications:  6b837c8f5383d16434afa0eaaab347873113230b\n"
     ]
    },
    {
     "name": "stderr",
     "output_type": "stream",
     "text": [
      "Parallel (24 processes):  56%|█████▌    | 119/213 [00:30<00:21,  4.35it/s]"
     ]
    },
    {
     "name": "stdout",
     "output_type": "stream",
     "text": [
      "Commit exceeding max_modifications:  5e259c75123f17c47e270eace26145fe1f20167b\n"
     ]
    },
    {
     "name": "stderr",
     "output_type": "stream",
     "text": [
      "Parallel (24 processes):  56%|█████▋    | 120/213 [00:30<00:22,  4.19it/s]"
     ]
    },
    {
     "name": "stdout",
     "output_type": "stream",
     "text": [
      "Commit exceeding max_modifications:  03d8af2aee9f4b4f320ec83deecccf9245b8ce03\n",
      "Commit exceeding max_modifications:  bbc55b0ec194710e39bfe098acaf930598eb045c\n"
     ]
    },
    {
     "name": "stderr",
     "output_type": "stream",
     "text": [
      "Parallel (24 processes):  58%|█████▊    | 123/213 [00:31<00:19,  4.68it/s]"
     ]
    },
    {
     "name": "stdout",
     "output_type": "stream",
     "text": [
      "Commit exceeding max_modifications:  4515874def08a49af37a4d47615a2e05dc508d89\n"
     ]
    },
    {
     "name": "stderr",
     "output_type": "stream",
     "text": [
      "Parallel (24 processes):  59%|█████▊    | 125/213 [00:32<00:28,  3.13it/s]"
     ]
    },
    {
     "name": "stdout",
     "output_type": "stream",
     "text": [
      "Commit exceeding max_modifications:  4de4c314a1261e784f1a54969a32ab4dfa439d76\n"
     ]
    },
    {
     "name": "stderr",
     "output_type": "stream",
     "text": [
      "Parallel (24 processes):  59%|█████▉    | 126/213 [00:32<00:24,  3.50it/s]"
     ]
    },
    {
     "name": "stdout",
     "output_type": "stream",
     "text": [
      "Commit exceeding max_modifications:  8a5d405bc8263b6f482f9e6c38534023de8956e5\n"
     ]
    },
    {
     "name": "stderr",
     "output_type": "stream",
     "text": [
      "Parallel (24 processes):  60%|█████▉    | 127/213 [00:32<00:24,  3.51it/s]"
     ]
    },
    {
     "name": "stdout",
     "output_type": "stream",
     "text": [
      "Commit exceeding max_modifications:  3f6435c4acbf8d1b6b02e9be02b514c2c2d53446\n"
     ]
    },
    {
     "name": "stderr",
     "output_type": "stream",
     "text": [
      "Parallel (24 processes):  62%|██████▏   | 132/213 [00:34<00:27,  2.95it/s]"
     ]
    },
    {
     "name": "stdout",
     "output_type": "stream",
     "text": [
      "Commit exceeding max_modifications:  839a9501b36ade7481f9a50fe91e57f690b1570f\n"
     ]
    },
    {
     "name": "stderr",
     "output_type": "stream",
     "text": [
      "Parallel (24 processes):  63%|██████▎   | 135/213 [00:35<00:22,  3.50it/s]"
     ]
    },
    {
     "name": "stdout",
     "output_type": "stream",
     "text": [
      "Commit exceeding max_modifications:  ed7b0b70e6062c4ab9f5f66d99f3413b3b983d94\n",
      "Commit exceeding max_modifications:  bf62853697e83eb52863ef433d5e0771f1b4273d\n"
     ]
    },
    {
     "name": "stderr",
     "output_type": "stream",
     "text": [
      "Parallel (24 processes):  64%|██████▍   | 137/213 [00:35<00:18,  4.19it/s]"
     ]
    },
    {
     "name": "stdout",
     "output_type": "stream",
     "text": [
      "Commit exceeding max_modifications:  8e5219f0da4da3781e6274708f00cace52a8ee6f\n"
     ]
    },
    {
     "name": "stderr",
     "output_type": "stream",
     "text": [
      "Parallel (24 processes):  68%|██████▊   | 144/213 [00:37<00:22,  3.11it/s]"
     ]
    },
    {
     "name": "stdout",
     "output_type": "stream",
     "text": [
      "Commit exceeding max_modifications:  6f9b1ad5ee73c87750ef6c1d48f3580d4b4e35ac\n"
     ]
    },
    {
     "name": "stderr",
     "output_type": "stream",
     "text": [
      "Parallel (24 processes):  70%|██████▉   | 149/213 [00:38<00:17,  3.70it/s]"
     ]
    },
    {
     "name": "stdout",
     "output_type": "stream",
     "text": [
      "Commit exceeding max_modifications:  77341fec9057940ff7fd75dd780d3eec9c0b2bb1\n"
     ]
    },
    {
     "name": "stderr",
     "output_type": "stream",
     "text": [
      "Parallel (24 processes):  70%|███████   | 150/213 [00:38<00:19,  3.28it/s]"
     ]
    },
    {
     "name": "stdout",
     "output_type": "stream",
     "text": [
      "Commit exceeding max_modifications:  c2d7f0cf365472789d4e369a4fb5ad6da5e19278\n"
     ]
    },
    {
     "name": "stderr",
     "output_type": "stream",
     "text": [
      "Parallel (24 processes):  72%|███████▏  | 153/213 [00:39<00:24,  2.45it/s]"
     ]
    },
    {
     "name": "stdout",
     "output_type": "stream",
     "text": [
      "Commit exceeding max_modifications:  9d5dd27c210a0306e0bf193af6ad567e0edac0b3\n"
     ]
    },
    {
     "name": "stderr",
     "output_type": "stream",
     "text": [
      "Parallel (24 processes):  73%|███████▎  | 155/213 [00:40<00:21,  2.76it/s]"
     ]
    },
    {
     "name": "stdout",
     "output_type": "stream",
     "text": [
      "Commit exceeding max_modifications:  5b6e6953445fe01ec1317a482239307fbdc2ca27\n"
     ]
    },
    {
     "name": "stderr",
     "output_type": "stream",
     "text": [
      "Parallel (24 processes):  75%|███████▍  | 159/213 [00:41<00:18,  2.86it/s]"
     ]
    },
    {
     "name": "stdout",
     "output_type": "stream",
     "text": [
      "Commit exceeding max_modifications:  7df9aefe5f71d70e6bdd26b6f1c242c547be670e\n"
     ]
    },
    {
     "name": "stderr",
     "output_type": "stream",
     "text": [
      "Parallel (24 processes):  76%|███████▌  | 161/213 [00:42<00:20,  2.50it/s]"
     ]
    },
    {
     "name": "stdout",
     "output_type": "stream",
     "text": [
      "Commit exceeding max_modifications:  2fe35a2c8001ef7f1494eb32b175baaa6615f3a5\n"
     ]
    },
    {
     "name": "stderr",
     "output_type": "stream",
     "text": [
      "Parallel (24 processes):  77%|███████▋  | 163/213 [00:43<00:16,  2.94it/s]"
     ]
    },
    {
     "name": "stdout",
     "output_type": "stream",
     "text": [
      "Commit exceeding max_modifications:  7e24ad664e91ee6da32c999e66bc374023657af1\n"
     ]
    },
    {
     "name": "stderr",
     "output_type": "stream",
     "text": [
      "Parallel (24 processes):  77%|███████▋  | 165/213 [00:43<00:18,  2.64it/s]"
     ]
    },
    {
     "name": "stdout",
     "output_type": "stream",
     "text": [
      "Commit exceeding max_modifications:  ed9f24ef27a185a1b4dec32777f6e7cb0491113a\n",
      "Commit exceeding max_modifications:  2fe365271e5f1506a17724fbb83af5db0ad49cfa\n"
     ]
    },
    {
     "name": "stderr",
     "output_type": "stream",
     "text": [
      "Parallel (24 processes):  78%|███████▊  | 166/213 [00:44<00:27,  1.69it/s]"
     ]
    },
    {
     "name": "stdout",
     "output_type": "stream",
     "text": [
      "Commit exceeding max_modifications:  23f26b519e913580d02c7755f7617125683a784f\n"
     ]
    },
    {
     "name": "stderr",
     "output_type": "stream",
     "text": [
      "Parallel (24 processes):  81%|████████  | 173/213 [00:48<00:18,  2.12it/s]"
     ]
    },
    {
     "name": "stdout",
     "output_type": "stream",
     "text": [
      "Commit exceeding max_modifications:  256e113a3592167b10456496d804a04592395d09\n"
     ]
    },
    {
     "name": "stderr",
     "output_type": "stream",
     "text": [
      "Parallel (24 processes):  82%|████████▏ | 174/213 [00:49<00:20,  1.89it/s]"
     ]
    },
    {
     "name": "stdout",
     "output_type": "stream",
     "text": [
      "Commit exceeding max_modifications:  15318963c6a4c25bbcff4182d3f55a17f1393e69\n"
     ]
    },
    {
     "name": "stderr",
     "output_type": "stream",
     "text": [
      "Parallel (24 processes):  83%|████████▎ | 176/213 [00:49<00:16,  2.30it/s]"
     ]
    },
    {
     "name": "stdout",
     "output_type": "stream",
     "text": [
      "Commit exceeding max_modifications:  d758d4c10b5c98a5d5dcaf5652de6cb791591669\n"
     ]
    },
    {
     "name": "stderr",
     "output_type": "stream",
     "text": [
      "Parallel (24 processes):  84%|████████▍ | 179/213 [00:50<00:16,  2.07it/s]"
     ]
    },
    {
     "name": "stdout",
     "output_type": "stream",
     "text": [
      "Commit exceeding max_modifications:  5349d14fc3b4da1bf97d64c4537140acd9d7c962\n"
     ]
    },
    {
     "name": "stderr",
     "output_type": "stream",
     "text": [
      "Parallel (24 processes):  85%|████████▌ | 182/213 [00:51<00:13,  2.22it/s]"
     ]
    },
    {
     "name": "stdout",
     "output_type": "stream",
     "text": [
      "Commit exceeding max_modifications:  542ffb6935793a27d710dfd01ffc7797754769ed\n",
      "Commit exceeding max_modifications:  70a5836f1a6e8b2109c352608a737c56647a542b\n"
     ]
    },
    {
     "name": "stderr",
     "output_type": "stream",
     "text": [
      "Parallel (24 processes):  88%|████████▊ | 188/213 [00:54<00:13,  1.87it/s]"
     ]
    },
    {
     "name": "stdout",
     "output_type": "stream",
     "text": [
      "Commit exceeding max_modifications:  c442dd375f9f4e23982b4708fb7e096a47c8d395\n"
     ]
    },
    {
     "name": "stderr",
     "output_type": "stream",
     "text": [
      "Parallel (24 processes):  90%|████████▉ | 191/213 [00:55<00:10,  2.17it/s]"
     ]
    },
    {
     "name": "stdout",
     "output_type": "stream",
     "text": [
      "Commit exceeding max_modifications:  1b66ee94df628da88dab7905c3edadf87d8d92d7\n"
     ]
    },
    {
     "name": "stderr",
     "output_type": "stream",
     "text": [
      "Parallel (24 processes):  92%|█████████▏| 196/213 [00:57<00:06,  2.44it/s]"
     ]
    },
    {
     "name": "stdout",
     "output_type": "stream",
     "text": [
      "Commit exceeding max_modifications:  0ade8b9347b9a7078c2349f183a3c2c8470ac51c\n"
     ]
    },
    {
     "name": "stderr",
     "output_type": "stream",
     "text": [
      "Parallel (24 processes):  92%|█████████▏| 197/213 [00:58<00:06,  2.61it/s]"
     ]
    },
    {
     "name": "stdout",
     "output_type": "stream",
     "text": [
      "Commit exceeding max_modifications:  59fd7557e6dc12b1ae5fb4c5140b63b9b7dc268f\n"
     ]
    },
    {
     "name": "stderr",
     "output_type": "stream",
     "text": [
      "Parallel (24 processes):  94%|█████████▍| 201/213 [00:59<00:03,  3.09it/s]"
     ]
    },
    {
     "name": "stdout",
     "output_type": "stream",
     "text": [
      "Commit exceeding max_modifications:  2d354bc002f4b71636bf2dbf188c5de835fbfc2d\n"
     ]
    },
    {
     "name": "stderr",
     "output_type": "stream",
     "text": [
      "Parallel (24 processes):  99%|█████████▊| 210/213 [01:01<00:00,  3.74it/s]"
     ]
    },
    {
     "name": "stdout",
     "output_type": "stream",
     "text": [
      "Commit exceeding max_modifications:  e56c7dacd4c8d20d9f4fb1cd88d4f565abd28de7\n"
     ]
    },
    {
     "name": "stderr",
     "output_type": "stream",
     "text": [
      "Parallel (24 processes): 100%|██████████| 213/213 [01:01<00:00,  3.46it/s]\n"
     ]
    }
   ],
   "source": [
    "import git2net\n",
    "\n",
    "sqlite_db_file = 'git2net.db'\n",
    "\n",
    "# Remove database if exists\n",
    "if os.path.exists(sqlite_db_file):\n",
    "    os.remove(sqlite_db_file)\n",
    "\n",
    "max_modifications = 1\n",
    "    \n",
    "git2net.mine_git_repo(git_repo_dir, sqlite_db_file, max_modifications=max_modifications)"
   ]
  },
  {
   "cell_type": "markdown",
   "metadata": {},
   "source": [
    "While mining, git2net provides information about the current progress. The first line shows that no database was found at the current path and mining will be started from scratch. This is totally expected, as we deliberately deleted any existing database before the run.\n",
    "\n",
    "Subsequently, progress updates on the mining process are printed. The first information denotes the number of processes git2net spawns and runs on. git2net is highly parallelised and will automatically detect the number of threads of your CPU, fully utilising all of them during operation. In case you want to reduce this load, this can be done by specifically setting the number of processes with the no_of_processes option of the mine_git_repo function.\n",
    "\n",
    "The other output shows the number of commits and total number of commits mined in this run, as well as the elapsed time and an estimate of the remaining time to finish.\n",
    "\n",
    "If a commit is skipped, the reason and the commit hash are printed. Currently, there are three cases in which a commit can be skipped. Firstly, as seen above a commit can exceed the maximum number of modifications set by max_modifications. Secondly, processing the commit can take longer as a maximum time defined by the timeout option. Thirdly, a commit can be skipped due to an error occuring within the commit. In these cases, please report the repository and commit hash in a new issue on github.com/gotec/git2net.\n",
    "\n",
    "Let's resume the mining process while increasing the maximum number of modifications to 5!"
   ]
  },
  {
   "cell_type": "code",
   "execution_count": 12,
   "metadata": {},
   "outputs": [
    {
     "name": "stdout",
     "output_type": "stream",
     "text": [
      "Found a matching database on provided path. Skipping 148 (69.48%) of 213 commits. 65 commits remaining.\n"
     ]
    },
    {
     "name": "stderr",
     "output_type": "stream",
     "text": [
      "Parallel (24 processes):  17%|█▋        | 11/65 [00:05<00:17,  3.14it/s]"
     ]
    },
    {
     "name": "stdout",
     "output_type": "stream",
     "text": [
      "Commit exceeding max_modifications:  a3213cd995e850c8966355755c4ac2ff61f65503\n"
     ]
    },
    {
     "name": "stderr",
     "output_type": "stream",
     "text": [
      "Parallel (24 processes):  22%|██▏       | 14/65 [00:06<00:16,  3.12it/s]"
     ]
    },
    {
     "name": "stdout",
     "output_type": "stream",
     "text": [
      "Commit exceeding max_modifications:  9e72df61bf300b42c3fbc16d94153e8edbbe6dd6\n"
     ]
    },
    {
     "name": "stderr",
     "output_type": "stream",
     "text": [
      "Parallel (24 processes):  23%|██▎       | 15/65 [00:06<00:16,  3.11it/s]"
     ]
    },
    {
     "name": "stdout",
     "output_type": "stream",
     "text": [
      "Commit exceeding max_modifications:  090c00c342283134a23900f85c1d232499617365\n"
     ]
    },
    {
     "name": "stderr",
     "output_type": "stream",
     "text": [
      "Parallel (24 processes):  37%|███▋      | 24/65 [00:07<00:09,  4.28it/s]"
     ]
    },
    {
     "name": "stdout",
     "output_type": "stream",
     "text": [
      "Commit exceeding max_modifications:  6b837c8f5383d16434afa0eaaab347873113230b\n"
     ]
    },
    {
     "name": "stderr",
     "output_type": "stream",
     "text": [
      "Parallel (24 processes):  40%|████      | 26/65 [00:08<00:11,  3.41it/s]"
     ]
    },
    {
     "name": "stdout",
     "output_type": "stream",
     "text": [
      "Commit exceeding max_modifications:  bbc55b0ec194710e39bfe098acaf930598eb045c\n"
     ]
    },
    {
     "name": "stderr",
     "output_type": "stream",
     "text": [
      "Parallel (24 processes):  43%|████▎     | 28/65 [00:08<00:08,  4.30it/s]"
     ]
    },
    {
     "name": "stdout",
     "output_type": "stream",
     "text": [
      "Commit exceeding max_modifications:  4515874def08a49af37a4d47615a2e05dc508d89\n"
     ]
    },
    {
     "name": "stderr",
     "output_type": "stream",
     "text": [
      "Parallel (24 processes):  46%|████▌     | 30/65 [00:09<00:06,  5.00it/s]"
     ]
    },
    {
     "name": "stdout",
     "output_type": "stream",
     "text": [
      "Commit exceeding max_modifications:  3f6435c4acbf8d1b6b02e9be02b514c2c2d53446\n"
     ]
    },
    {
     "name": "stderr",
     "output_type": "stream",
     "text": [
      "Parallel (24 processes):  51%|█████     | 33/65 [00:10<00:08,  3.85it/s]"
     ]
    },
    {
     "name": "stdout",
     "output_type": "stream",
     "text": [
      "Commit exceeding max_modifications:  ed7b0b70e6062c4ab9f5f66d99f3413b3b983d94\n"
     ]
    },
    {
     "name": "stderr",
     "output_type": "stream",
     "text": [
      "Parallel (24 processes):  63%|██████▎   | 41/65 [00:13<00:09,  2.59it/s]"
     ]
    },
    {
     "name": "stdout",
     "output_type": "stream",
     "text": [
      "Commit exceeding max_modifications:  23f26b519e913580d02c7755f7617125683a784f\n"
     ]
    },
    {
     "name": "stderr",
     "output_type": "stream",
     "text": [
      "Parallel (24 processes): 100%|██████████| 65/65 [00:19<00:00,  3.42it/s]\n"
     ]
    }
   ],
   "source": [
    "max_modifications = 5\n",
    "\n",
    "git2net.mine_git_repo(git_repo_dir, sqlite_db_file, max_modifications=max_modifications)"
   ]
  },
  {
   "cell_type": "markdown",
   "metadata": {},
   "source": [
    "As you can see from the output above, the process was resumed from the old database, skipping the already processed commits in the repository.\n",
    "\n",
    "Great, we made some progress and a large amount of the commits in the repository are already mined and in the database! But what about the other ones? We get some more information on the commits missing from the database from the mining_state_summary function. Similar to mine_git_repo, it also requires the paths to the repository as well as the database."
   ]
  },
  {
   "cell_type": "code",
   "execution_count": 13,
   "metadata": {},
   "outputs": [
    {
     "name": "stderr",
     "output_type": "stream",
     "text": [
      "  0%|          | 0/9 [00:00<?, ?it/s]"
     ]
    },
    {
     "name": "stdout",
     "output_type": "stream",
     "text": [
      "204 / 213 (95.77%) of commits were successfully mined.\n"
     ]
    },
    {
     "name": "stderr",
     "output_type": "stream",
     "text": [
      "100%|██████████| 9/9 [00:03<00:00,  2.91it/s]\n"
     ]
    },
    {
     "data": {
      "text/html": [
       "<div>\n",
       "<style scoped>\n",
       "    .dataframe tbody tr th:only-of-type {\n",
       "        vertical-align: middle;\n",
       "    }\n",
       "\n",
       "    .dataframe tbody tr th {\n",
       "        vertical-align: top;\n",
       "    }\n",
       "\n",
       "    .dataframe thead th {\n",
       "        text-align: right;\n",
       "    }\n",
       "</style>\n",
       "<table border=\"1\" class=\"dataframe\">\n",
       "  <thead>\n",
       "    <tr style=\"text-align: right;\">\n",
       "      <th></th>\n",
       "      <th>hash</th>\n",
       "      <th>is_merge</th>\n",
       "      <th>modifications</th>\n",
       "      <th>author_name</th>\n",
       "      <th>author_email</th>\n",
       "      <th>author_date</th>\n",
       "    </tr>\n",
       "  </thead>\n",
       "  <tbody>\n",
       "    <tr>\n",
       "      <th>0</th>\n",
       "      <td>a3213cd995e850c8966355755c4ac2ff61f65503</td>\n",
       "      <td>False</td>\n",
       "      <td>18</td>\n",
       "      <td>Christoph Gote</td>\n",
       "      <td>cgote@ethz.ch</td>\n",
       "      <td>2019-02-15 15:39:38</td>\n",
       "    </tr>\n",
       "    <tr>\n",
       "      <th>1</th>\n",
       "      <td>9e72df61bf300b42c3fbc16d94153e8edbbe6dd6</td>\n",
       "      <td>False</td>\n",
       "      <td>7</td>\n",
       "      <td>Christoph Gote</td>\n",
       "      <td>cgote@ethz.ch</td>\n",
       "      <td>2019-04-10 17:40:01</td>\n",
       "    </tr>\n",
       "    <tr>\n",
       "      <th>2</th>\n",
       "      <td>090c00c342283134a23900f85c1d232499617365</td>\n",
       "      <td>False</td>\n",
       "      <td>9</td>\n",
       "      <td>Christoph Gote</td>\n",
       "      <td>cgote@ethz.ch</td>\n",
       "      <td>2019-04-10 18:26:54</td>\n",
       "    </tr>\n",
       "    <tr>\n",
       "      <th>3</th>\n",
       "      <td>6b837c8f5383d16434afa0eaaab347873113230b</td>\n",
       "      <td>False</td>\n",
       "      <td>6</td>\n",
       "      <td>Christoph Gote</td>\n",
       "      <td>cgote@ethz.ch</td>\n",
       "      <td>2019-09-23 16:32:25</td>\n",
       "    </tr>\n",
       "    <tr>\n",
       "      <th>4</th>\n",
       "      <td>bbc55b0ec194710e39bfe098acaf930598eb045c</td>\n",
       "      <td>True</td>\n",
       "      <td>7</td>\n",
       "      <td>Christoph Gote</td>\n",
       "      <td>gotec@me.com</td>\n",
       "      <td>2019-10-03 12:02:34</td>\n",
       "    </tr>\n",
       "    <tr>\n",
       "      <th>5</th>\n",
       "      <td>4515874def08a49af37a4d47615a2e05dc508d89</td>\n",
       "      <td>False</td>\n",
       "      <td>15</td>\n",
       "      <td>Christoph Gote</td>\n",
       "      <td>gotec@me.com</td>\n",
       "      <td>2019-10-03 12:37:41</td>\n",
       "    </tr>\n",
       "    <tr>\n",
       "      <th>6</th>\n",
       "      <td>3f6435c4acbf8d1b6b02e9be02b514c2c2d53446</td>\n",
       "      <td>False</td>\n",
       "      <td>16</td>\n",
       "      <td>Christoph Gote</td>\n",
       "      <td>gotec@me.com</td>\n",
       "      <td>2019-10-03 13:02:03</td>\n",
       "    </tr>\n",
       "    <tr>\n",
       "      <th>7</th>\n",
       "      <td>ed7b0b70e6062c4ab9f5f66d99f3413b3b983d94</td>\n",
       "      <td>False</td>\n",
       "      <td>20</td>\n",
       "      <td>Christoph Gote</td>\n",
       "      <td>cgote@ethz.ch</td>\n",
       "      <td>2019-11-04 19:08:31</td>\n",
       "    </tr>\n",
       "    <tr>\n",
       "      <th>8</th>\n",
       "      <td>23f26b519e913580d02c7755f7617125683a784f</td>\n",
       "      <td>False</td>\n",
       "      <td>6</td>\n",
       "      <td>Christoph Gote</td>\n",
       "      <td>gotec@me.com</td>\n",
       "      <td>2020-04-22 14:08:21</td>\n",
       "    </tr>\n",
       "  </tbody>\n",
       "</table>\n",
       "</div>"
      ],
      "text/plain": [
       "                                       hash  is_merge  modifications  \\\n",
       "0  a3213cd995e850c8966355755c4ac2ff61f65503     False             18   \n",
       "1  9e72df61bf300b42c3fbc16d94153e8edbbe6dd6     False              7   \n",
       "2  090c00c342283134a23900f85c1d232499617365     False              9   \n",
       "3  6b837c8f5383d16434afa0eaaab347873113230b     False              6   \n",
       "4  bbc55b0ec194710e39bfe098acaf930598eb045c      True              7   \n",
       "5  4515874def08a49af37a4d47615a2e05dc508d89     False             15   \n",
       "6  3f6435c4acbf8d1b6b02e9be02b514c2c2d53446     False             16   \n",
       "7  ed7b0b70e6062c4ab9f5f66d99f3413b3b983d94     False             20   \n",
       "8  23f26b519e913580d02c7755f7617125683a784f     False              6   \n",
       "\n",
       "      author_name   author_email          author_date  \n",
       "0  Christoph Gote  cgote@ethz.ch  2019-02-15 15:39:38  \n",
       "1  Christoph Gote  cgote@ethz.ch  2019-04-10 17:40:01  \n",
       "2  Christoph Gote  cgote@ethz.ch  2019-04-10 18:26:54  \n",
       "3  Christoph Gote  cgote@ethz.ch  2019-09-23 16:32:25  \n",
       "4  Christoph Gote   gotec@me.com  2019-10-03 12:02:34  \n",
       "5  Christoph Gote   gotec@me.com  2019-10-03 12:37:41  \n",
       "6  Christoph Gote   gotec@me.com  2019-10-03 13:02:03  \n",
       "7  Christoph Gote  cgote@ethz.ch  2019-11-04 19:08:31  \n",
       "8  Christoph Gote   gotec@me.com  2020-04-22 14:08:21  "
      ]
     },
     "execution_count": 13,
     "metadata": {},
     "output_type": "execute_result"
    }
   ],
   "source": [
    "git2net.mining_state_summary(git_repo_dir, sqlite_db_file)"
   ]
  },
  {
   "cell_type": "markdown",
   "metadata": {},
   "source": [
    "The function again provides a summary of the mining state, as well as details on all missing commits. Let's assume, we are very interest in commit 090c00c342283134a23900f85c1d232499617365 but want to avoid crawling the other missing commits. While this is uneccessary for small repositories such as git2net this might become higly relevant for larger projects such as linux, where individual commits can make changes to thousands of files which in turn require significant computational resources to analyse. This is particularly important for merge commits, as all files included in the diffs to both parent commits need to be considered. Therefore, for larger projects I generally recommend to run git2net with max_modifications = 1000, subsequently increasing this number if required.\n",
    "\n",
    "But now back to mining specifically commit 090c00c342283134a23900f85c1d232499617365, which can be done with the commits option in mine_git_repo. We also set the number of processes to 1, enabling serial mode, which can be very helpful for debugging as significantly more information is printed."
   ]
  },
  {
   "cell_type": "code",
   "execution_count": 14,
   "metadata": {},
   "outputs": [
    {
     "name": "stdout",
     "output_type": "stream",
     "text": [
      "Found a matching database on provided path. Skipping 204 (95.77%) of 213 commits. 9 commits remaining.\n"
     ]
    },
    {
     "name": "stderr",
     "output_type": "stream",
     "text": [
      "Serial: 100%|██████████| 1/1 [00:02<00:00,  2.19s/it]\n"
     ]
    }
   ],
   "source": [
    "\n",
    "# mine_git_repo takes list of commits\n",
    "commits = ['090c00c342283134a23900f85c1d232499617365']\n",
    "\n",
    "git2net.mine_git_repo(git_repo_dir, sqlite_db_file, commits=commits, no_of_processes=1)"
   ]
  },
  {
   "cell_type": "markdown",
   "metadata": {},
   "source": [
    "Congratulations, you have now mined your first git repository using git2net! Note, though that not all commits have been mined at this point. This will be done at a later stage of this tutorial.\n",
    "\n",
    "## Network Analysis and visualization\n",
    "You can now use the database to query various information on different commits or edits. In addition, git2net also provides the functionality to generate various network projections of the data.\n",
    "\n",
    "To start, lets try to obtain a co-editing network for our project. This is as simple as calling the get_coediting_network function and providing the database we just mined."
   ]
  },
  {
   "cell_type": "code",
   "execution_count": 11,
   "metadata": {},
   "outputs": [
    {
     "data": {
      "text/html": [
       "<style>\n",
       "    text.active_vefBVwlm {\n",
       "        text-anchor: middle;\n",
       "        font-size: 8px;\n",
       "        font-family: Arial, Helvetica, sans-serif;\n",
       "        fill: #cccccc;\n",
       "        opacity: 1.0;\n",
       "    }\n",
       "    text.hidden_vefBVwlm {\n",
       "        opacity: 0;\n",
       "    }\n",
       "    line.tlinks_vefBVwlm {\n",
       "        stroke: #cccccc;\n",
       "        stroke-opacity: 0.4;\n",
       "        stroke-width: 0.5;\n",
       "    }\n",
       "    line.active_vefBVwlm {\n",
       "        stroke: #ff0000;\n",
       "        stroke-opacity: 1.0;\n",
       "        stroke-width: 4.0;\n",
       "    }\n",
       "    line.hidden_vefBVwlm {\n",
       "        stroke: rgb(255, 255, 255);\n",
       "        stroke-opacity: 0;\n",
       "        stroke-width: 0px;\n",
       "    }\n",
       "    circle.active_vefBVwlm {\n",
       "        stroke: #222;\n",
       "        fill: #ff0000;\n",
       "        fill-opacity: 1;\n",
       "        stroke-width: 2px;\n",
       "    }\n",
       "    circle.tnodes_vefBVwlm {\n",
       "        fill: #cccccc;\n",
       "        stroke: #222;\n",
       "        fill-opacity: 1;\n",
       "        stroke-width: 1.5px;\n",
       "    }\n",
       "</style>\n",
       "\n",
       "<svg width=\"400\" height=\"400\" id=\"vefBVwlm\">\n",
       "    <text x=\"10\" y=\"20\" font-family=\"sans-serif\" font-size=\"14px\" fill=\"red\"\n",
       "        id='vefBVwlm_time_txt'>t</text>\n",
       "    <text x=\"120\" y=\"20\" font-family=\"sans-serif\" font-size=\"14px\" fill=\"#9999bb\" style=\"cursor: pointer\"\n",
       "        id='vefBVwlm_start_txt'>stop</text>\n",
       "    <text x=\"170\" y=\"20\" font-family=\"sans-serif\" font-size=\"14px\" fill=\"#9999bb\" style=\"cursor: pointer\"\n",
       "        id='vefBVwlm_restart_txt'>restart</text>\n",
       "</svg>\n",
       "\n",
       "<script charset=\"utf-8\" src=\"https://d3js.org/d3.v4.min.js\"></script>\n",
       "<script charset=\"utf-8\">\n",
       "\n",
       "// Load via requireJS if available (jupyter notebook environment)\n",
       "try {\n",
       "    // Problem: require.config will raise an exception when called for the second time\n",
       "    require.config({\n",
       "        paths: {\n",
       "            //d3: \"https://d3js.org/d3.v4.min\"\n",
       "            d3: \"https://d3js.org/d3.v4.min.js\".replace(\".js\", \"\")\n",
       "        }\n",
       "    });\n",
       "    console.log(\"Detected requireJS\");\n",
       "}\n",
       "catch(err){\n",
       "    // a reference error indicates that requireJS does not exist.\n",
       "    // other errors may occur due to multiple calls to config\n",
       "    if (err instanceof ReferenceError){\n",
       "        console.log(\"Detected no requireJS\");\n",
       "\n",
       "        // Helper function that waits for d3js to be loaded\n",
       "        require = function require(symbols, callback) {\n",
       "            var ms = 5;\n",
       "            window.setTimeout(function(t) {\n",
       "                if (window[symbols[0]])\n",
       "                    callback(window[symbols[0]]);\n",
       "                else\n",
       "                    window.setTimeout(arguments.callee, ms);\n",
       "            }, ms);\n",
       "        }\n",
       "    }\n",
       "}\n",
       "\n",
       "require([\"d3\"], function(d3) {\n",
       "    d3.selection.prototype.moveToFront = function() {\n",
       "        return this.each(function(){\n",
       "            this.parentNode.appendChild(this);\n",
       "        });\n",
       "    };\n",
       "\n",
       "    d3.selection.prototype.moveToBack = function() {\n",
       "        return this.each(function() {\n",
       "            var firstChild = this.parentNode.firstChild;\n",
       "            if (firstChild) {\n",
       "                this.parentNode.insertBefore(this, firstChild);\n",
       "            }\n",
       "        });\n",
       "    };\n",
       "\n",
       "    var svg = d3.select(\"#vefBVwlm\"),\n",
       "        width = +svg.attr(\"width\"),\n",
       "        height = +svg.attr(\"height\"),\n",
       "        radius = 5.0,\n",
       "        color = d3.scaleOrdinal(d3.schemeCategory20b);\n",
       "\n",
       "    var temporal_net = {\"nodes\": [{\"id\": \"Christoph Gote\", \"group\": 1}, {\"id\": \"Ingo Scholtes\", \"group\": 1}, {\"id\": \"Jan Philip\", \"group\": 1}, {\"id\": \"Sebastian Zug\", \"group\": 1}, {\"id\": \"Milo Trujillo\", \"group\": 1}], \"links\": [{\"source\": \"Christoph Gote\", \"target\": \"Ingo Scholtes\", \"width\": 1, \"time\": 1547119240}, {\"source\": \"Christoph Gote\", \"target\": \"Ingo Scholtes\", \"width\": 1, \"time\": 1547119240}, {\"source\": \"Christoph Gote\", \"target\": \"Ingo Scholtes\", \"width\": 1, \"time\": 1547119240}, {\"source\": \"Christoph Gote\", \"target\": \"Ingo Scholtes\", \"width\": 1, \"time\": 1547119240}, {\"source\": \"Christoph Gote\", \"target\": \"Ingo Scholtes\", \"width\": 1, \"time\": 1547119240}, {\"source\": \"Christoph Gote\", \"target\": \"Ingo Scholtes\", \"width\": 1, \"time\": 1547119240}, {\"source\": \"Christoph Gote\", \"target\": \"Ingo Scholtes\", \"width\": 1, \"time\": 1547119240}, {\"source\": \"Christoph Gote\", \"target\": \"Ingo Scholtes\", \"width\": 1, \"time\": 1547119240}, {\"source\": \"Christoph Gote\", \"target\": \"Ingo Scholtes\", \"width\": 1, \"time\": 1547119240}, {\"source\": \"Christoph Gote\", \"target\": \"Ingo Scholtes\", \"width\": 1, \"time\": 1547119240}, {\"source\": \"Christoph Gote\", \"target\": \"Ingo Scholtes\", \"width\": 1, \"time\": 1547132464}, {\"source\": \"Christoph Gote\", \"target\": \"Ingo Scholtes\", \"width\": 1, \"time\": 1547132464}, {\"source\": \"Christoph Gote\", \"target\": \"Ingo Scholtes\", \"width\": 1, \"time\": 1547132464}, {\"source\": \"Christoph Gote\", \"target\": \"Ingo Scholtes\", \"width\": 1, \"time\": 1547130768}, {\"source\": \"Christoph Gote\", \"target\": \"Ingo Scholtes\", \"width\": 1, \"time\": 1547130768}, {\"source\": \"Christoph Gote\", \"target\": \"Ingo Scholtes\", \"width\": 1, \"time\": 1547130768}, {\"source\": \"Christoph Gote\", \"target\": \"Ingo Scholtes\", \"width\": 1, \"time\": 1547130768}, {\"source\": \"Christoph Gote\", \"target\": \"Ingo Scholtes\", \"width\": 1, \"time\": 1547130768}, {\"source\": \"Christoph Gote\", \"target\": \"Ingo Scholtes\", \"width\": 1, \"time\": 1547130768}, {\"source\": \"Christoph Gote\", \"target\": \"Ingo Scholtes\", \"width\": 1, \"time\": 1547130768}, {\"source\": \"Christoph Gote\", \"target\": \"Ingo Scholtes\", \"width\": 1, \"time\": 1547130768}, {\"source\": \"Christoph Gote\", \"target\": \"Ingo Scholtes\", \"width\": 1, \"time\": 1547130768}, {\"source\": \"Christoph Gote\", \"target\": \"Ingo Scholtes\", \"width\": 1, \"time\": 1547130768}, {\"source\": \"Christoph Gote\", \"target\": \"Ingo Scholtes\", \"width\": 1, \"time\": 1547130768}, {\"source\": \"Christoph Gote\", \"target\": \"Ingo Scholtes\", \"width\": 1, \"time\": 1547130768}, {\"source\": \"Christoph Gote\", \"target\": \"Ingo Scholtes\", \"width\": 1, \"time\": 1547130768}, {\"source\": \"Christoph Gote\", \"target\": \"Ingo Scholtes\", \"width\": 1, \"time\": 1547130768}, {\"source\": \"Christoph Gote\", \"target\": \"Ingo Scholtes\", \"width\": 1, \"time\": 1547130768}, {\"source\": \"Christoph Gote\", \"target\": \"Ingo Scholtes\", \"width\": 1, \"time\": 1547130768}, {\"source\": \"Christoph Gote\", \"target\": \"Ingo Scholtes\", \"width\": 1, \"time\": 1547130768}, {\"source\": \"Christoph Gote\", \"target\": \"Ingo Scholtes\", \"width\": 1, \"time\": 1547130768}, {\"source\": \"Christoph Gote\", \"target\": \"Ingo Scholtes\", \"width\": 1, \"time\": 1547130768}, {\"source\": \"Christoph Gote\", \"target\": \"Ingo Scholtes\", \"width\": 1, \"time\": 1547130768}, {\"source\": \"Christoph Gote\", \"target\": \"Ingo Scholtes\", \"width\": 1, \"time\": 1547130768}, {\"source\": \"Christoph Gote\", \"target\": \"Ingo Scholtes\", \"width\": 1, \"time\": 1547130768}, {\"source\": \"Christoph Gote\", \"target\": \"Ingo Scholtes\", \"width\": 1, \"time\": 1547130768}, {\"source\": \"Christoph Gote\", \"target\": \"Ingo Scholtes\", \"width\": 1, \"time\": 1547130768}, {\"source\": \"Christoph Gote\", \"target\": \"Ingo Scholtes\", \"width\": 1, \"time\": 1547130768}, {\"source\": \"Christoph Gote\", \"target\": \"Ingo Scholtes\", \"width\": 1, \"time\": 1547130768}, {\"source\": \"Christoph Gote\", \"target\": \"Ingo Scholtes\", \"width\": 1, \"time\": 1547130768}, {\"source\": \"Christoph Gote\", \"target\": \"Ingo Scholtes\", \"width\": 1, \"time\": 1547130768}, {\"source\": \"Christoph Gote\", \"target\": \"Ingo Scholtes\", \"width\": 1, \"time\": 1547130768}, {\"source\": \"Christoph Gote\", \"target\": \"Ingo Scholtes\", \"width\": 1, \"time\": 1547130768}, {\"source\": \"Christoph Gote\", \"target\": \"Ingo Scholtes\", \"width\": 1, \"time\": 1547130768}, {\"source\": \"Christoph Gote\", \"target\": \"Ingo Scholtes\", \"width\": 1, \"time\": 1547130768}, {\"source\": \"Christoph Gote\", \"target\": \"Ingo Scholtes\", \"width\": 1, \"time\": 1547130768}, {\"source\": \"Christoph Gote\", \"target\": \"Ingo Scholtes\", \"width\": 1, \"time\": 1547130768}, {\"source\": \"Christoph Gote\", \"target\": \"Ingo Scholtes\", \"width\": 1, \"time\": 1547130768}, {\"source\": \"Christoph Gote\", \"target\": \"Ingo Scholtes\", \"width\": 1, \"time\": 1547130768}, {\"source\": \"Christoph Gote\", \"target\": \"Ingo Scholtes\", \"width\": 1, \"time\": 1547130768}, {\"source\": \"Christoph Gote\", \"target\": \"Ingo Scholtes\", \"width\": 1, \"time\": 1547130768}, {\"source\": \"Christoph Gote\", \"target\": \"Ingo Scholtes\", \"width\": 1, \"time\": 1547130768}, {\"source\": \"Christoph Gote\", \"target\": \"Ingo Scholtes\", \"width\": 1, \"time\": 1547130768}, {\"source\": \"Christoph Gote\", \"target\": \"Ingo Scholtes\", \"width\": 1, \"time\": 1547130768}, {\"source\": \"Christoph Gote\", \"target\": \"Ingo Scholtes\", \"width\": 1, \"time\": 1547130768}, {\"source\": \"Christoph Gote\", \"target\": \"Ingo Scholtes\", \"width\": 1, \"time\": 1547130768}, {\"source\": \"Christoph Gote\", \"target\": \"Ingo Scholtes\", \"width\": 1, \"time\": 1547130768}, {\"source\": \"Christoph Gote\", \"target\": \"Ingo Scholtes\", \"width\": 1, \"time\": 1547130768}, {\"source\": \"Christoph Gote\", \"target\": \"Ingo Scholtes\", \"width\": 1, \"time\": 1547130768}, {\"source\": \"Christoph Gote\", \"target\": \"Ingo Scholtes\", \"width\": 1, \"time\": 1547481034}, {\"source\": \"Christoph Gote\", \"target\": \"Ingo Scholtes\", \"width\": 1, \"time\": 1547481034}, {\"source\": \"Christoph Gote\", \"target\": \"Ingo Scholtes\", \"width\": 1, \"time\": 1547481034}, {\"source\": \"Christoph Gote\", \"target\": \"Ingo Scholtes\", \"width\": 1, \"time\": 1547481034}, {\"source\": \"Christoph Gote\", \"target\": \"Ingo Scholtes\", \"width\": 1, \"time\": 1547481034}, {\"source\": \"Christoph Gote\", \"target\": \"Ingo Scholtes\", \"width\": 1, \"time\": 1547481034}, {\"source\": \"Christoph Gote\", \"target\": \"Ingo Scholtes\", \"width\": 1, \"time\": 1547481034}, {\"source\": \"Christoph Gote\", \"target\": \"Ingo Scholtes\", \"width\": 1, \"time\": 1547481034}, {\"source\": \"Christoph Gote\", \"target\": \"Ingo Scholtes\", \"width\": 1, \"time\": 1547548080}, {\"source\": \"Christoph Gote\", \"target\": \"Ingo Scholtes\", \"width\": 1, \"time\": 1547548080}, {\"source\": \"Christoph Gote\", \"target\": \"Ingo Scholtes\", \"width\": 1, \"time\": 1547548080}, {\"source\": \"Christoph Gote\", \"target\": \"Ingo Scholtes\", \"width\": 1, \"time\": 1547548080}, {\"source\": \"Christoph Gote\", \"target\": \"Ingo Scholtes\", \"width\": 1, \"time\": 1547548080}, {\"source\": \"Christoph Gote\", \"target\": \"Ingo Scholtes\", \"width\": 1, \"time\": 1547548080}, {\"source\": \"Christoph Gote\", \"target\": \"Ingo Scholtes\", \"width\": 1, \"time\": 1547548080}, {\"source\": \"Christoph Gote\", \"target\": \"Ingo Scholtes\", \"width\": 1, \"time\": 1547548080}, {\"source\": \"Christoph Gote\", \"target\": \"Ingo Scholtes\", \"width\": 1, \"time\": 1547548080}, {\"source\": \"Christoph Gote\", \"target\": \"Ingo Scholtes\", \"width\": 1, \"time\": 1547548080}, {\"source\": \"Christoph Gote\", \"target\": \"Ingo Scholtes\", \"width\": 1, \"time\": 1547548080}, {\"source\": \"Christoph Gote\", \"target\": \"Ingo Scholtes\", \"width\": 1, \"time\": 1547548080}, {\"source\": \"Christoph Gote\", \"target\": \"Ingo Scholtes\", \"width\": 1, \"time\": 1547548080}, {\"source\": \"Christoph Gote\", \"target\": \"Ingo Scholtes\", \"width\": 1, \"time\": 1547548080}, {\"source\": \"Christoph Gote\", \"target\": \"Ingo Scholtes\", \"width\": 1, \"time\": 1547548080}, {\"source\": \"Christoph Gote\", \"target\": \"Ingo Scholtes\", \"width\": 1, \"time\": 1548951476}, {\"source\": \"Christoph Gote\", \"target\": \"Ingo Scholtes\", \"width\": 1, \"time\": 1548951476}, {\"source\": \"Christoph Gote\", \"target\": \"Ingo Scholtes\", \"width\": 1, \"time\": 1548951476}, {\"source\": \"Christoph Gote\", \"target\": \"Ingo Scholtes\", \"width\": 1, \"time\": 1548951476}, {\"source\": \"Christoph Gote\", \"target\": \"Ingo Scholtes\", \"width\": 1, \"time\": 1548951476}, {\"source\": \"Christoph Gote\", \"target\": \"Ingo Scholtes\", \"width\": 1, \"time\": 1548951476}, {\"source\": \"Christoph Gote\", \"target\": \"Ingo Scholtes\", \"width\": 1, \"time\": 1548951476}, {\"source\": \"Christoph Gote\", \"target\": \"Ingo Scholtes\", \"width\": 1, \"time\": 1548951476}, {\"source\": \"Christoph Gote\", \"target\": \"Ingo Scholtes\", \"width\": 1, \"time\": 1548951476}, {\"source\": \"Christoph Gote\", \"target\": \"Ingo Scholtes\", \"width\": 1, \"time\": 1548951476}, {\"source\": \"Christoph Gote\", \"target\": \"Ingo Scholtes\", \"width\": 1, \"time\": 1548951476}, {\"source\": \"Christoph Gote\", \"target\": \"Ingo Scholtes\", \"width\": 1, \"time\": 1548951476}, {\"source\": \"Christoph Gote\", \"target\": \"Ingo Scholtes\", \"width\": 1, \"time\": 1548951476}, {\"source\": \"Christoph Gote\", \"target\": \"Ingo Scholtes\", \"width\": 1, \"time\": 1548951476}, {\"source\": \"Christoph Gote\", \"target\": \"Ingo Scholtes\", \"width\": 1, \"time\": 1548951476}, {\"source\": \"Christoph Gote\", \"target\": \"Ingo Scholtes\", \"width\": 1, \"time\": 1548951476}, {\"source\": \"Christoph Gote\", \"target\": \"Ingo Scholtes\", \"width\": 1, \"time\": 1548951476}, {\"source\": \"Christoph Gote\", \"target\": \"Ingo Scholtes\", \"width\": 1, \"time\": 1548951476}, {\"source\": \"Christoph Gote\", \"target\": \"Ingo Scholtes\", \"width\": 1, \"time\": 1548951476}, {\"source\": \"Christoph Gote\", \"target\": \"Ingo Scholtes\", \"width\": 1, \"time\": 1548951476}, {\"source\": \"Christoph Gote\", \"target\": \"Ingo Scholtes\", \"width\": 1, \"time\": 1548951476}, {\"source\": \"Christoph Gote\", \"target\": \"Ingo Scholtes\", \"width\": 1, \"time\": 1548951476}, {\"source\": \"Christoph Gote\", \"target\": \"Ingo Scholtes\", \"width\": 1, \"time\": 1548951476}, {\"source\": \"Christoph Gote\", \"target\": \"Ingo Scholtes\", \"width\": 1, \"time\": 1548953055}, {\"source\": \"Christoph Gote\", \"target\": \"Ingo Scholtes\", \"width\": 1, \"time\": 1548953055}, {\"source\": \"Christoph Gote\", \"target\": \"Ingo Scholtes\", \"width\": 1, \"time\": 1548953055}, {\"source\": \"Christoph Gote\", \"target\": \"Ingo Scholtes\", \"width\": 1, \"time\": 1548953055}, {\"source\": \"Christoph Gote\", \"target\": \"Ingo Scholtes\", \"width\": 1, \"time\": 1548953055}, {\"source\": \"Christoph Gote\", \"target\": \"Ingo Scholtes\", \"width\": 1, \"time\": 1548953662}, {\"source\": \"Christoph Gote\", \"target\": \"Ingo Scholtes\", \"width\": 1, \"time\": 1548953662}, {\"source\": \"Christoph Gote\", \"target\": \"Ingo Scholtes\", \"width\": 1, \"time\": 1548953662}, {\"source\": \"Christoph Gote\", \"target\": \"Ingo Scholtes\", \"width\": 1, \"time\": 1548953662}, {\"source\": \"Christoph Gote\", \"target\": \"Ingo Scholtes\", \"width\": 1, \"time\": 1548953662}, {\"source\": \"Christoph Gote\", \"target\": \"Ingo Scholtes\", \"width\": 1, \"time\": 1548954784}, {\"source\": \"Christoph Gote\", \"target\": \"Ingo Scholtes\", \"width\": 1, \"time\": 1548963825}, {\"source\": \"Christoph Gote\", \"target\": \"Ingo Scholtes\", \"width\": 1, \"time\": 1548963825}, {\"source\": \"Christoph Gote\", \"target\": \"Ingo Scholtes\", \"width\": 1, \"time\": 1548963825}, {\"source\": \"Christoph Gote\", \"target\": \"Ingo Scholtes\", \"width\": 1, \"time\": 1548963825}, {\"source\": \"Christoph Gote\", \"target\": \"Ingo Scholtes\", \"width\": 1, \"time\": 1548963825}, {\"source\": \"Christoph Gote\", \"target\": \"Ingo Scholtes\", \"width\": 1, \"time\": 1548963825}, {\"source\": \"Christoph Gote\", \"target\": \"Ingo Scholtes\", \"width\": 1, \"time\": 1548963825}, {\"source\": \"Christoph Gote\", \"target\": \"Ingo Scholtes\", \"width\": 1, \"time\": 1548963825}, {\"source\": \"Christoph Gote\", \"target\": \"Ingo Scholtes\", \"width\": 1, \"time\": 1548963825}, {\"source\": \"Christoph Gote\", \"target\": \"Ingo Scholtes\", \"width\": 1, \"time\": 1548963825}, {\"source\": \"Christoph Gote\", \"target\": \"Ingo Scholtes\", \"width\": 1, \"time\": 1548963825}, {\"source\": \"Christoph Gote\", \"target\": \"Ingo Scholtes\", \"width\": 1, \"time\": 1548963825}, {\"source\": \"Christoph Gote\", \"target\": \"Ingo Scholtes\", \"width\": 1, \"time\": 1548963825}, {\"source\": \"Christoph Gote\", \"target\": \"Ingo Scholtes\", \"width\": 1, \"time\": 1548963825}, {\"source\": \"Christoph Gote\", \"target\": \"Ingo Scholtes\", \"width\": 1, \"time\": 1548963825}, {\"source\": \"Christoph Gote\", \"target\": \"Ingo Scholtes\", \"width\": 1, \"time\": 1548963825}, {\"source\": \"Christoph Gote\", \"target\": \"Ingo Scholtes\", \"width\": 1, \"time\": 1548963825}, {\"source\": \"Christoph Gote\", \"target\": \"Ingo Scholtes\", \"width\": 1, \"time\": 1548963825}, {\"source\": \"Christoph Gote\", \"target\": \"Ingo Scholtes\", \"width\": 1, \"time\": 1548963825}, {\"source\": \"Christoph Gote\", \"target\": \"Ingo Scholtes\", \"width\": 1, \"time\": 1549020848}, {\"source\": \"Christoph Gote\", \"target\": \"Ingo Scholtes\", \"width\": 1, \"time\": 1549020848}, {\"source\": \"Christoph Gote\", \"target\": \"Ingo Scholtes\", \"width\": 1, \"time\": 1549020848}, {\"source\": \"Christoph Gote\", \"target\": \"Ingo Scholtes\", \"width\": 1, \"time\": 1549020848}, {\"source\": \"Christoph Gote\", \"target\": \"Ingo Scholtes\", \"width\": 1, \"time\": 1549020848}, {\"source\": \"Christoph Gote\", \"target\": \"Ingo Scholtes\", \"width\": 1, \"time\": 1549020848}, {\"source\": \"Christoph Gote\", \"target\": \"Ingo Scholtes\", \"width\": 1, \"time\": 1549020848}, {\"source\": \"Christoph Gote\", \"target\": \"Ingo Scholtes\", \"width\": 1, \"time\": 1549020848}, {\"source\": \"Christoph Gote\", \"target\": \"Ingo Scholtes\", \"width\": 1, \"time\": 1549020848}, {\"source\": \"Christoph Gote\", \"target\": \"Ingo Scholtes\", \"width\": 1, \"time\": 1549020848}, {\"source\": \"Christoph Gote\", \"target\": \"Ingo Scholtes\", \"width\": 1, \"time\": 1549020848}, {\"source\": \"Christoph Gote\", \"target\": \"Ingo Scholtes\", \"width\": 1, \"time\": 1549020848}, {\"source\": \"Christoph Gote\", \"target\": \"Ingo Scholtes\", \"width\": 1, \"time\": 1549020848}, {\"source\": \"Christoph Gote\", \"target\": \"Ingo Scholtes\", \"width\": 1, \"time\": 1549049972}, {\"source\": \"Christoph Gote\", \"target\": \"Ingo Scholtes\", \"width\": 1, \"time\": 1549049972}, {\"source\": \"Christoph Gote\", \"target\": \"Ingo Scholtes\", \"width\": 1, \"time\": 1549655668}, {\"source\": \"Christoph Gote\", \"target\": \"Ingo Scholtes\", \"width\": 1, \"time\": 1554928201}, {\"source\": \"Christoph Gote\", \"target\": \"Ingo Scholtes\", \"width\": 1, \"time\": 1554928201}, {\"source\": \"Christoph Gote\", \"target\": \"Ingo Scholtes\", \"width\": 1, \"time\": 1554928201}, {\"source\": \"Christoph Gote\", \"target\": \"Ingo Scholtes\", \"width\": 1, \"time\": 1554928201}, {\"source\": \"Christoph Gote\", \"target\": \"Ingo Scholtes\", \"width\": 1, \"time\": 1554928201}, {\"source\": \"Christoph Gote\", \"target\": \"Ingo Scholtes\", \"width\": 1, \"time\": 1554928201}, {\"source\": \"Christoph Gote\", \"target\": \"Ingo Scholtes\", \"width\": 1, \"time\": 1554928201}, {\"source\": \"Christoph Gote\", \"target\": \"Ingo Scholtes\", \"width\": 1, \"time\": 1554928201}, {\"source\": \"Christoph Gote\", \"target\": \"Ingo Scholtes\", \"width\": 1, \"time\": 1554928201}, {\"source\": \"Christoph Gote\", \"target\": \"Ingo Scholtes\", \"width\": 1, \"time\": 1554928201}, {\"source\": \"Christoph Gote\", \"target\": \"Ingo Scholtes\", \"width\": 1, \"time\": 1554928201}, {\"source\": \"Christoph Gote\", \"target\": \"Ingo Scholtes\", \"width\": 1, \"time\": 1554928201}, {\"source\": \"Christoph Gote\", \"target\": \"Ingo Scholtes\", \"width\": 1, \"time\": 1554928201}, {\"source\": \"Christoph Gote\", \"target\": \"Ingo Scholtes\", \"width\": 1, \"time\": 1554928201}, {\"source\": \"Christoph Gote\", \"target\": \"Ingo Scholtes\", \"width\": 1, \"time\": 1554928201}, {\"source\": \"Christoph Gote\", \"target\": \"Ingo Scholtes\", \"width\": 1, \"time\": 1554928201}, {\"source\": \"Christoph Gote\", \"target\": \"Ingo Scholtes\", \"width\": 1, \"time\": 1554928201}, {\"source\": \"Christoph Gote\", \"target\": \"Ingo Scholtes\", \"width\": 1, \"time\": 1554928201}, {\"source\": \"Christoph Gote\", \"target\": \"Ingo Scholtes\", \"width\": 1, \"time\": 1554928201}, {\"source\": \"Christoph Gote\", \"target\": \"Ingo Scholtes\", \"width\": 1, \"time\": 1554928201}, {\"source\": \"Christoph Gote\", \"target\": \"Ingo Scholtes\", \"width\": 1, \"time\": 1554928201}, {\"source\": \"Christoph Gote\", \"target\": \"Ingo Scholtes\", \"width\": 1, \"time\": 1554928201}, {\"source\": \"Christoph Gote\", \"target\": \"Ingo Scholtes\", \"width\": 1, \"time\": 1554928201}, {\"source\": \"Christoph Gote\", \"target\": \"Ingo Scholtes\", \"width\": 1, \"time\": 1554928201}, {\"source\": \"Christoph Gote\", \"target\": \"Ingo Scholtes\", \"width\": 1, \"time\": 1554928201}, {\"source\": \"Christoph Gote\", \"target\": \"Ingo Scholtes\", \"width\": 1, \"time\": 1554928201}, {\"source\": \"Christoph Gote\", \"target\": \"Ingo Scholtes\", \"width\": 1, \"time\": 1554928201}, {\"source\": \"Christoph Gote\", \"target\": \"Ingo Scholtes\", \"width\": 1, \"time\": 1554928201}, {\"source\": \"Christoph Gote\", \"target\": \"Ingo Scholtes\", \"width\": 1, \"time\": 1554928201}, {\"source\": \"Christoph Gote\", \"target\": \"Ingo Scholtes\", \"width\": 1, \"time\": 1554928201}, {\"source\": \"Christoph Gote\", \"target\": \"Ingo Scholtes\", \"width\": 1, \"time\": 1554928201}, {\"source\": \"Christoph Gote\", \"target\": \"Ingo Scholtes\", \"width\": 1, \"time\": 1554928201}, {\"source\": \"Christoph Gote\", \"target\": \"Ingo Scholtes\", \"width\": 1, \"time\": 1554928201}, {\"source\": \"Christoph Gote\", \"target\": \"Ingo Scholtes\", \"width\": 1, \"time\": 1554928201}, {\"source\": \"Christoph Gote\", \"target\": \"Ingo Scholtes\", \"width\": 1, \"time\": 1554928201}, {\"source\": \"Christoph Gote\", \"target\": \"Ingo Scholtes\", \"width\": 1, \"time\": 1554928201}, {\"source\": \"Christoph Gote\", \"target\": \"Ingo Scholtes\", \"width\": 1, \"time\": 1554928201}, {\"source\": \"Christoph Gote\", \"target\": \"Ingo Scholtes\", \"width\": 1, \"time\": 1554928201}, {\"source\": \"Christoph Gote\", \"target\": \"Ingo Scholtes\", \"width\": 1, \"time\": 1554928201}, {\"source\": \"Christoph Gote\", \"target\": \"Ingo Scholtes\", \"width\": 1, \"time\": 1554928201}, {\"source\": \"Christoph Gote\", \"target\": \"Ingo Scholtes\", \"width\": 1, \"time\": 1554928201}, {\"source\": \"Christoph Gote\", \"target\": \"Ingo Scholtes\", \"width\": 1, \"time\": 1554928201}, {\"source\": \"Christoph Gote\", \"target\": \"Ingo Scholtes\", \"width\": 1, \"time\": 1554928201}, {\"source\": \"Jan Philip\", \"target\": \"Christoph Gote\", \"width\": 1, \"time\": 1572735255}, {\"source\": \"Jan Philip\", \"target\": \"Christoph Gote\", \"width\": 1, \"time\": 1572735255}, {\"source\": \"Jan Philip\", \"target\": \"Christoph Gote\", \"width\": 1, \"time\": 1572735255}, {\"source\": \"Jan Philip\", \"target\": \"Christoph Gote\", \"width\": 1, \"time\": 1572735255}, {\"source\": \"Jan Philip\", \"target\": \"Christoph Gote\", \"width\": 1, \"time\": 1572735255}, {\"source\": \"Jan Philip\", \"target\": \"Christoph Gote\", \"width\": 1, \"time\": 1572735255}, {\"source\": \"Jan Philip\", \"target\": \"Christoph Gote\", \"width\": 1, \"time\": 1572735255}, {\"source\": \"Jan Philip\", \"target\": \"Christoph Gote\", \"width\": 1, \"time\": 1572735255}, {\"source\": \"Jan Philip\", \"target\": \"Christoph Gote\", \"width\": 1, \"time\": 1572735255}, {\"source\": \"Jan Philip\", \"target\": \"Christoph Gote\", \"width\": 1, \"time\": 1572735255}, {\"source\": \"Jan Philip\", \"target\": \"Christoph Gote\", \"width\": 1, \"time\": 1572735255}, {\"source\": \"Jan Philip\", \"target\": \"Christoph Gote\", \"width\": 1, \"time\": 1572735255}, {\"source\": \"Jan Philip\", \"target\": \"Christoph Gote\", \"width\": 1, \"time\": 1572735255}, {\"source\": \"Jan Philip\", \"target\": \"Christoph Gote\", \"width\": 1, \"time\": 1572735255}, {\"source\": \"Jan Philip\", \"target\": \"Christoph Gote\", \"width\": 1, \"time\": 1572735255}, {\"source\": \"Jan Philip\", \"target\": \"Christoph Gote\", \"width\": 1, \"time\": 1572735255}, {\"source\": \"Jan Philip\", \"target\": \"Christoph Gote\", \"width\": 1, \"time\": 1572735255}, {\"source\": \"Jan Philip\", \"target\": \"Christoph Gote\", \"width\": 1, \"time\": 1572735255}, {\"source\": \"Jan Philip\", \"target\": \"Christoph Gote\", \"width\": 1, \"time\": 1572735255}, {\"source\": \"Jan Philip\", \"target\": \"Christoph Gote\", \"width\": 1, \"time\": 1572735255}, {\"source\": \"Jan Philip\", \"target\": \"Christoph Gote\", \"width\": 1, \"time\": 1572735255}, {\"source\": \"Jan Philip\", \"target\": \"Christoph Gote\", \"width\": 1, \"time\": 1572735255}, {\"source\": \"Jan Philip\", \"target\": \"Christoph Gote\", \"width\": 1, \"time\": 1572735255}, {\"source\": \"Jan Philip\", \"target\": \"Christoph Gote\", \"width\": 1, \"time\": 1572735255}, {\"source\": \"Jan Philip\", \"target\": \"Christoph Gote\", \"width\": 1, \"time\": 1572735255}, {\"source\": \"Jan Philip\", \"target\": \"Christoph Gote\", \"width\": 1, \"time\": 1572735255}, {\"source\": \"Jan Philip\", \"target\": \"Christoph Gote\", \"width\": 1, \"time\": 1572735255}, {\"source\": \"Jan Philip\", \"target\": \"Christoph Gote\", \"width\": 1, \"time\": 1572735255}, {\"source\": \"Jan Philip\", \"target\": \"Christoph Gote\", \"width\": 1, \"time\": 1572735255}, {\"source\": \"Jan Philip\", \"target\": \"Christoph Gote\", \"width\": 1, \"time\": 1572735255}, {\"source\": \"Jan Philip\", \"target\": \"Christoph Gote\", \"width\": 1, \"time\": 1572735255}, {\"source\": \"Jan Philip\", \"target\": \"Christoph Gote\", \"width\": 1, \"time\": 1572735255}, {\"source\": \"Jan Philip\", \"target\": \"Christoph Gote\", \"width\": 1, \"time\": 1572735255}, {\"source\": \"Jan Philip\", \"target\": \"Christoph Gote\", \"width\": 1, \"time\": 1572735255}, {\"source\": \"Jan Philip\", \"target\": \"Christoph Gote\", \"width\": 1, \"time\": 1572735255}, {\"source\": \"Jan Philip\", \"target\": \"Christoph Gote\", \"width\": 1, \"time\": 1572735255}, {\"source\": \"Jan Philip\", \"target\": \"Christoph Gote\", \"width\": 1, \"time\": 1572735255}, {\"source\": \"Jan Philip\", \"target\": \"Christoph Gote\", \"width\": 1, \"time\": 1572735255}, {\"source\": \"Jan Philip\", \"target\": \"Christoph Gote\", \"width\": 1, \"time\": 1572735255}, {\"source\": \"Jan Philip\", \"target\": \"Christoph Gote\", \"width\": 1, \"time\": 1572735255}, {\"source\": \"Jan Philip\", \"target\": \"Christoph Gote\", \"width\": 1, \"time\": 1572735255}, {\"source\": \"Jan Philip\", \"target\": \"Christoph Gote\", \"width\": 1, \"time\": 1572735255}, {\"source\": \"Jan Philip\", \"target\": \"Christoph Gote\", \"width\": 1, \"time\": 1572735255}, {\"source\": \"Jan Philip\", \"target\": \"Christoph Gote\", \"width\": 1, \"time\": 1572735255}, {\"source\": \"Jan Philip\", \"target\": \"Christoph Gote\", \"width\": 1, \"time\": 1572735255}, {\"source\": \"Jan Philip\", \"target\": \"Christoph Gote\", \"width\": 1, \"time\": 1572735255}, {\"source\": \"Jan Philip\", \"target\": \"Christoph Gote\", \"width\": 1, \"time\": 1572735255}, {\"source\": \"Jan Philip\", \"target\": \"Christoph Gote\", \"width\": 1, \"time\": 1572735255}, {\"source\": \"Jan Philip\", \"target\": \"Christoph Gote\", \"width\": 1, \"time\": 1572735255}, {\"source\": \"Jan Philip\", \"target\": \"Christoph Gote\", \"width\": 1, \"time\": 1572735255}, {\"source\": \"Jan Philip\", \"target\": \"Christoph Gote\", \"width\": 1, \"time\": 1572735255}, {\"source\": \"Jan Philip\", \"target\": \"Christoph Gote\", \"width\": 1, \"time\": 1572735255}, {\"source\": \"Jan Philip\", \"target\": \"Christoph Gote\", \"width\": 1, \"time\": 1572735255}, {\"source\": \"Jan Philip\", \"target\": \"Christoph Gote\", \"width\": 1, \"time\": 1572735255}, {\"source\": \"Jan Philip\", \"target\": \"Christoph Gote\", \"width\": 1, \"time\": 1572735255}, {\"source\": \"Jan Philip\", \"target\": \"Christoph Gote\", \"width\": 1, \"time\": 1572735255}, {\"source\": \"Jan Philip\", \"target\": \"Christoph Gote\", \"width\": 1, \"time\": 1572735255}, {\"source\": \"Jan Philip\", \"target\": \"Christoph Gote\", \"width\": 1, \"time\": 1572735255}, {\"source\": \"Jan Philip\", \"target\": \"Christoph Gote\", \"width\": 1, \"time\": 1572735255}, {\"source\": \"Christoph Gote\", \"target\": \"Jan Philip\", \"width\": 1, \"time\": 1582112976}, {\"source\": \"Christoph Gote\", \"target\": \"Jan Philip\", \"width\": 1, \"time\": 1582112976}, {\"source\": \"Christoph Gote\", \"target\": \"Jan Philip\", \"width\": 1, \"time\": 1582112976}, {\"source\": \"Christoph Gote\", \"target\": \"Jan Philip\", \"width\": 1, \"time\": 1582112976}, {\"source\": \"Christoph Gote\", \"target\": \"Jan Philip\", \"width\": 1, \"time\": 1582112976}, {\"source\": \"Christoph Gote\", \"target\": \"Jan Philip\", \"width\": 1, \"time\": 1582112976}, {\"source\": \"Christoph Gote\", \"target\": \"Jan Philip\", \"width\": 1, \"time\": 1582112976}, {\"source\": \"Christoph Gote\", \"target\": \"Jan Philip\", \"width\": 1, \"time\": 1582112976}, {\"source\": \"Christoph Gote\", \"target\": \"Jan Philip\", \"width\": 1, \"time\": 1582112976}, {\"source\": \"Christoph Gote\", \"target\": \"Jan Philip\", \"width\": 1, \"time\": 1582112976}, {\"source\": \"Christoph Gote\", \"target\": \"Jan Philip\", \"width\": 1, \"time\": 1582112976}, {\"source\": \"Christoph Gote\", \"target\": \"Jan Philip\", \"width\": 1, \"time\": 1582112976}, {\"source\": \"Christoph Gote\", \"target\": \"Jan Philip\", \"width\": 1, \"time\": 1582112976}, {\"source\": \"Christoph Gote\", \"target\": \"Jan Philip\", \"width\": 1, \"time\": 1582112976}, {\"source\": \"Christoph Gote\", \"target\": \"Jan Philip\", \"width\": 1, \"time\": 1582112976}, {\"source\": \"Christoph Gote\", \"target\": \"Jan Philip\", \"width\": 1, \"time\": 1582112976}, {\"source\": \"Christoph Gote\", \"target\": \"Jan Philip\", \"width\": 1, \"time\": 1582112976}, {\"source\": \"Christoph Gote\", \"target\": \"Jan Philip\", \"width\": 1, \"time\": 1582112976}, {\"source\": \"Christoph Gote\", \"target\": \"Jan Philip\", \"width\": 1, \"time\": 1582112976}, {\"source\": \"Christoph Gote\", \"target\": \"Jan Philip\", \"width\": 1, \"time\": 1582112976}, {\"source\": \"Christoph Gote\", \"target\": \"Jan Philip\", \"width\": 1, \"time\": 1582112976}, {\"source\": \"Christoph Gote\", \"target\": \"Jan Philip\", \"width\": 1, \"time\": 1582112976}, {\"source\": \"Christoph Gote\", \"target\": \"Jan Philip\", \"width\": 1, \"time\": 1582112976}, {\"source\": \"Christoph Gote\", \"target\": \"Jan Philip\", \"width\": 1, \"time\": 1582112976}, {\"source\": \"Christoph Gote\", \"target\": \"Jan Philip\", \"width\": 1, \"time\": 1582112976}, {\"source\": \"Christoph Gote\", \"target\": \"Jan Philip\", \"width\": 1, \"time\": 1582112976}, {\"source\": \"Christoph Gote\", \"target\": \"Jan Philip\", \"width\": 1, \"time\": 1582112976}, {\"source\": \"Christoph Gote\", \"target\": \"Jan Philip\", \"width\": 1, \"time\": 1582112976}, {\"source\": \"Christoph Gote\", \"target\": \"Jan Philip\", \"width\": 1, \"time\": 1582112976}, {\"source\": \"Christoph Gote\", \"target\": \"Jan Philip\", \"width\": 1, \"time\": 1582112976}, {\"source\": \"Christoph Gote\", \"target\": \"Jan Philip\", \"width\": 1, \"time\": 1582112976}, {\"source\": \"Christoph Gote\", \"target\": \"Jan Philip\", \"width\": 1, \"time\": 1582112976}, {\"source\": \"Christoph Gote\", \"target\": \"Jan Philip\", \"width\": 1, \"time\": 1582112976}, {\"source\": \"Christoph Gote\", \"target\": \"Jan Philip\", \"width\": 1, \"time\": 1582112976}, {\"source\": \"Christoph Gote\", \"target\": \"Jan Philip\", \"width\": 1, \"time\": 1582112976}, {\"source\": \"Christoph Gote\", \"target\": \"Jan Philip\", \"width\": 1, \"time\": 1582112976}, {\"source\": \"Christoph Gote\", \"target\": \"Jan Philip\", \"width\": 1, \"time\": 1582112976}, {\"source\": \"Christoph Gote\", \"target\": \"Jan Philip\", \"width\": 1, \"time\": 1582112976}, {\"source\": \"Christoph Gote\", \"target\": \"Jan Philip\", \"width\": 1, \"time\": 1582112976}, {\"source\": \"Christoph Gote\", \"target\": \"Jan Philip\", \"width\": 1, \"time\": 1582112976}, {\"source\": \"Christoph Gote\", \"target\": \"Jan Philip\", \"width\": 1, \"time\": 1582112976}, {\"source\": \"Christoph Gote\", \"target\": \"Jan Philip\", \"width\": 1, \"time\": 1582112976}, {\"source\": \"Christoph Gote\", \"target\": \"Jan Philip\", \"width\": 1, \"time\": 1582112976}, {\"source\": \"Christoph Gote\", \"target\": \"Jan Philip\", \"width\": 1, \"time\": 1582112976}, {\"source\": \"Christoph Gote\", \"target\": \"Jan Philip\", \"width\": 1, \"time\": 1582112976}, {\"source\": \"Christoph Gote\", \"target\": \"Jan Philip\", \"width\": 1, \"time\": 1582112976}, {\"source\": \"Christoph Gote\", \"target\": \"Jan Philip\", \"width\": 1, \"time\": 1582310357}, {\"source\": \"Christoph Gote\", \"target\": \"Jan Philip\", \"width\": 1, \"time\": 1582310357}, {\"source\": \"Sebastian Zug\", \"target\": \"Christoph Gote\", \"width\": 1, \"time\": 1596568955}, {\"source\": \"Sebastian Zug\", \"target\": \"Christoph Gote\", \"width\": 1, \"time\": 1596568955}, {\"source\": \"Sebastian Zug\", \"target\": \"Christoph Gote\", \"width\": 1, \"time\": 1596568955}, {\"source\": \"Sebastian Zug\", \"target\": \"Christoph Gote\", \"width\": 1, \"time\": 1598707338}, {\"source\": \"Sebastian Zug\", \"target\": \"Christoph Gote\", \"width\": 1, \"time\": 1598707338}, {\"source\": \"Sebastian Zug\", \"target\": \"Christoph Gote\", \"width\": 1, \"time\": 1598707338}, {\"source\": \"Sebastian Zug\", \"target\": \"Christoph Gote\", \"width\": 1, \"time\": 1598707338}, {\"source\": \"Sebastian Zug\", \"target\": \"Christoph Gote\", \"width\": 1, \"time\": 1598707338}, {\"source\": \"Sebastian Zug\", \"target\": \"Christoph Gote\", \"width\": 1, \"time\": 1598707338}, {\"source\": \"Sebastian Zug\", \"target\": \"Christoph Gote\", \"width\": 1, \"time\": 1598707338}, {\"source\": \"Sebastian Zug\", \"target\": \"Christoph Gote\", \"width\": 1, \"time\": 1598707338}, {\"source\": \"Sebastian Zug\", \"target\": \"Christoph Gote\", \"width\": 1, \"time\": 1598707338}, {\"source\": \"Milo Trujillo\", \"target\": \"Christoph Gote\", \"width\": 1, \"time\": 1604407129}]};\n",
       "    var tsperframe = 1;\n",
       "    var msperframe = 50;\n",
       "    var look_ahead = 10;\n",
       "    var look_behind = 10;\n",
       "\n",
       "    var hidden_link_strength = 0;\n",
       "    var active_link_strength = 0.2;\n",
       "\n",
       "    // create a dictionary with edges indexed by timestamps\n",
       "    var edgesbytime = {};\n",
       "    var time_stamps = temporal_net.links.map(link => link['time']);\n",
       "    time_stamps.forEach(function(t){\n",
       "                edgesbytime[t] = [];\n",
       "            });\n",
       "\n",
       "    // extract static links\n",
       "    var links = [];\n",
       "    var links_by_id = {};\n",
       "    temporal_net.links.forEach(function(link){\n",
       "        id = String(link.source + '-' + link.target);\n",
       "        edgesbytime[link.time].push(id);\n",
       "        l = {\n",
       "            'source': link.source,\n",
       "            'target': link.target,\n",
       "            'id': id,\n",
       "            'strength': 0\n",
       "        };\n",
       "        if (!contains(links, l)){\n",
       "            links.push(l);\n",
       "            links_by_id[l.id] = l;\n",
       "        }\n",
       "    });\n",
       "\n",
       "    var mintime = d3.min(time_stamps);\n",
       "    var maxtime = d3.max(time_stamps);\n",
       "    var run_status = true;\n",
       "\n",
       "    var simulation = d3.forceSimulation()\n",
       "        .force(\"link\", d3.forceLink().id(function(d) { return d.id; }))\n",
       "        .force(\"charge\", d3.forceManyBody().strength(-30).distanceMax(200))\n",
       "        .force(\"repelForce\", d3.forceManyBody().strength(-100).distanceMax(200))\n",
       "        .force(\"center\", d3.forceCenter(width / 2, height / 2))\n",
       "        .alphaTarget(0.1)\n",
       "        .on(\"tick\", ticked);\n",
       "\n",
       "    var g = svg.append(\"g\")\n",
       "        .attr(\"class\", \"everything\");\n",
       "\n",
       "    var link = g.append(\"g\")\n",
       "        .attr(\"class\", \"tlinks_vefBVwlm\")\n",
       "        .selectAll(\"line\")\n",
       "        .data(links, function(d){return d.id;})\n",
       "        .enter().append(\"line\")\n",
       "        .attr(\"id\", function(d) { return d.id; });\n",
       "\n",
       "    var node_g = g.append(\"g\").attr(\"class\", \"tnodes_vefBVwlm\")\n",
       "        .selectAll(\"circle\")\n",
       "        .data(temporal_net.nodes, function(d){return d.id;})\n",
       "        .enter()\n",
       "        .append(\"g\");\n",
       "\n",
       "    var node = node_g.append(\"circle\")\n",
       "            .attr('id', function(d) { return d.id; })\n",
       "            .attr(\"r\", radius)\n",
       "            // .attr(\"fill\", function(d) { return color(d.group); })\n",
       "            .attr(\"class\", \"tnodes_vefBVwlm\")\n",
       "            .call(d3.drag()\n",
       "                .on(\"start\", dragstarted)\n",
       "                .on(\"drag\", dragged)\n",
       "                .on(\"end\", dragended));\n",
       "\n",
       "    var text = node_g.append(\"text\")\n",
       "    .attr(\"x\", [0, -10][0])\n",
       "    .attr(\"y\", [0, -10][1])\n",
       "    .attr(\"id\", function(d) {return d.id; })\n",
       "    .attr(\"class\", \"active_vefBVwlm\")\n",
       "    .text(function(d) { return d.id; });\n",
       "\n",
       "    node.append(\"title\").text(function(d) { return d.id; });\n",
       "\n",
       "    var zoom_handler = d3.zoom()\n",
       "        .on(\"zoom\", zoom_actions);\n",
       "    zoom_handler(svg);\n",
       "\n",
       "    // build mapping to DOM objects once\n",
       "    // for performance reasons\n",
       "    var time_txt = d3.select('#vefBVwlm_time_txt');\n",
       "    var edges_to_dom = {};\n",
       "    var nodes_to_dom = {};\n",
       "\n",
       "    links.forEach(function(link){\n",
       "        edges_to_dom[link.id] = d3.select('#vefBVwlm #'+link.id);\n",
       "    });\n",
       "\n",
       "    temporal_net.nodes.forEach(function(n){\n",
       "        nodes_to_dom[n.id] = d3.select('#vefBVwlm #'+n.id);\n",
       "    });\n",
       "\n",
       "    // attach event handlers\n",
       "    d3.select('#vefBVwlm_start_txt').on(\"click\", pauseAnimation);\n",
       "    d3.select('#vefBVwlm_restart_txt').on(\"click\", restartAnimation);\n",
       "\n",
       "    simulation.nodes(temporal_net.nodes).on(\"tick\", ticked);\n",
       "    // simulation.force(\"link\").links(links);\n",
       "\n",
       "    // start animation\n",
       "    var time = mintime;\n",
       "    var intervl = setInterval(time_step, msperframe);\n",
       "    console.log('Started animation.')\n",
       "\n",
       "    // animates one time step\n",
       "    function time_step() {\n",
       "\n",
       "        time_txt.html('t = ' + time);\n",
       "\n",
       "        // stop animation\n",
       "        if(time > maxtime){\n",
       "            run_status = false;\n",
       "            clearInterval(intervl);\n",
       "            console.log('Stopped animation.')\n",
       "        }\n",
       "\n",
       "       // reset all links to hidden\n",
       "       for (id in edges_to_dom){\n",
       "            try {\n",
       "                // edges_to_dom[l.id].attr('class', 'links');\n",
       "                links_by_id[id].strength = hidden_link_strength;\n",
       "                edges_to_dom[id].attr('class', 'hidden_vefBVwlm');\n",
       "            }\n",
       "            catch(err){\n",
       "                console.log('Error: Could not find DOM object with id ' + id);\n",
       "            }\n",
       "        }\n",
       "        // reset all nodes to inactive\n",
       "        for (id in nodes_to_dom) {\n",
       "            try{\n",
       "                nodes_to_dom[id].attr(\"class\", \"tnodes_vefBVwlm\");\n",
       "            }\n",
       "            catch(err){\n",
       "                console.log('Error: Could not find DOM object with id ' + id);\n",
       "            }\n",
       "        }\n",
       "\n",
       "        // change nodes and links in current time slice\n",
       "        for (ti=Math.max(mintime, time-look_behind); ti<=time+look_ahead; ti++) {\n",
       "\n",
       "            if (ti in edgesbytime) {\n",
       "                edgesbytime[ti].forEach(function(id){\n",
       "                    links_by_id[id].strength = active_link_strength;\n",
       "                    // links that are currently active\n",
       "                    if (ti >= time-tsperframe+1 && ti <= time) {\n",
       "                        node_ids = id.split('-');\n",
       "                        try {\n",
       "                            edges_to_dom[id].attr('class', 'active_vefBVwlm').moveToFront();\n",
       "                        }\n",
       "                        catch(err){\n",
       "                            console.log('Error: Could not find DOM link with id ' + id);\n",
       "                        }\n",
       "                        try {\n",
       "                            nodes_to_dom[node_ids[0]].attr('class', 'active_vefBVwlm').moveToFront();\n",
       "                        }\n",
       "                        catch(err){\n",
       "                            console.log('Error: Could not find DOM node with id ' + node_ids[0]);\n",
       "                        }\n",
       "                        try {\n",
       "                            nodes_to_dom[node_ids[1]].attr('class', 'active_vefBVwlm').moveToFront();\n",
       "                        }\n",
       "                        catch(err){\n",
       "                            console.log('Error: Could not find DOM node with id ' + node_ids[1]);\n",
       "                        }\n",
       "                    }\n",
       "                    // links in current time slice that are not active\n",
       "                    else{\n",
       "                        edges_to_dom[id].attr('class', 'tlinks_vefBVwlm');\n",
       "                    }\n",
       "                });\n",
       "            }\n",
       "        }\n",
       "        simulation.force('link', d3.forceLink()\n",
       "            .id(link => link.id)\n",
       "            .strength(link => link.strength));\n",
       "        simulation.force(\"link\").links(links);\n",
       "        text.moveToFront();\n",
       "\n",
       "        time += tsperframe;\n",
       "    }\n",
       "\n",
       "    function pauseAnimation() {\n",
       "        if (run_status) {\n",
       "            run_status = false;\n",
       "            clearInterval(intervl);\n",
       "            d3.select('#vefBVwlm_start_txt').html('start');\n",
       "            console.log('Paused animation.')\n",
       "        }\n",
       "        else {\n",
       "            intervl = setInterval(time_step, msperframe);\n",
       "            run_status = true;\n",
       "            d3.select('#vefBVwlm_start_txt').html('stop');\n",
       "            console.log('Resumed animation.')\n",
       "        }\n",
       "\n",
       "    }\n",
       "\n",
       "    function zoom_actions(){\n",
       "        g.attr(\"transform\", d3.event.transform)\n",
       "    }\n",
       "\n",
       "    function restartAnimation() {\n",
       "        if (run_status)\n",
       "            clearInterval(intervl);\n",
       "        time = mintime;\n",
       "        time_txt.html('t = ' + time);\n",
       "        d3.select('#vefBVwlm_start_txt').html('stop');\n",
       "        run_status = true;\n",
       "        intervl = setInterval(time_step, msperframe);\n",
       "        console.log('Restarted animation.')\n",
       "    }\n",
       "\n",
       "    function ticked() {\n",
       "        link.attr(\"x1\", function(d) { return d.source.x; })\n",
       "            .attr(\"y1\", function(d) { return d.source.y; })\n",
       "            .attr(\"x2\", function(d) { return d.target.x; })\n",
       "            .attr(\"y2\", function(d) { return d.target.y; });\n",
       "\n",
       "         text.attr(\"transform\", transform);\n",
       "\n",
       "\n",
       "        text.attr(\"cx\", function(d) { return d.x; })\n",
       "            .attr(\"cy\", function(d) { return d.y; });\n",
       "\n",
       "        node.attr(\"cx\", function(d) { return d.x; })\n",
       "            .attr(\"cy\", function(d) { return d.y; });\n",
       "    }\n",
       "\n",
       "\n",
       "    function transform(d) {\n",
       "        return \"translate(\" + d.x + \",\" + d.y + \")\";\n",
       "    }\n",
       "\n",
       "    function dragstarted(d) {\n",
       "        if (!d3.event.active)\n",
       "            simulation.alphaTarget(0.2).restart();\n",
       "        d.fx = d.x;\n",
       "        d.fy = d.y;\n",
       "    }\n",
       "\n",
       "    function dragged(d) {\n",
       "        d.fx = d3.event.x;\n",
       "        d.fy = d3.event.y;\n",
       "    }\n",
       "\n",
       "    function dragended(d) {\n",
       "        if (!d3.event.active)\n",
       "            simulation.alphaTarget(0.2);\n",
       "        d.fx = null;\n",
       "        d.fy = null;\n",
       "    }\n",
       "\n",
       "    function contains(array, obj) {\n",
       "        var i = array.length;\n",
       "        while (i--) {\n",
       "        if (array[i] === obj) {\n",
       "            return true;\n",
       "        }\n",
       "        }\n",
       "        return false;\n",
       "    }\n",
       "});\n",
       "</script>\n"
      ],
      "text/plain": [
       "<pathpy.classes.temporal_network.TemporalNetwork at 0x7feff3a1f040>"
      ]
     },
     "execution_count": 11,
     "metadata": {},
     "output_type": "execute_result"
    }
   ],
   "source": [
    "t, node_info, edge_info = git2net.get_coediting_network(sqlite_db_file)\n",
    "t"
   ]
  },
  {
   "cell_type": "markdown",
   "metadata": {},
   "source": [
    "The function returns a pathpy temporal network object as well as two dictionaries which can be used to return properties of nodes and edges. As of writing this tutorial not all of them are used but they are set as placeholders for future versions of git2net.\n",
    "\n",
    "A pathpy temporal network object can be visualised by itself as shown above. In addition, we can also aggregate the network, by dropping the order of events, yielding a standard network object. Let's do this next."
   ]
  },
  {
   "cell_type": "code",
   "execution_count": 15,
   "metadata": {},
   "outputs": [
    {
     "data": {
      "text/html": [
       "<style>\n",
       "    text.label_yhpgfrea {\n",
       "        text-anchor: middle;\n",
       "        font-size: 8px;\n",
       "        font-family: Arial, Helvetica, sans-serif;\n",
       "        fill: #999999;\n",
       "        stroke: #ffffff;\n",
       "        stroke-width: 0.1px;\n",
       "        opacity: 1.0;\n",
       "    }\n",
       "    .links_yhpgfrea line {\n",
       "    stroke-opacity: 1.0;\n",
       "    }\n",
       "    .arrows svg:path {\n",
       "        stroke: #666;\n",
       "    }\n",
       "    .nodes_yhpgfrea circle {\n",
       "    stroke: #fff;\n",
       "    stroke-width: 0.5px;\n",
       "    }\n",
       "</style>\n",
       "\n",
       "<svg width=\"400\" height=\"400\" id=\"yhpgfrea\">        \n",
       "    <text x=\"20\" y=\"20\" font-family=\"sans-serif\" font-size=\"14px\" fill=\"#666\" style=\"cursor: pointer\"\n",
       "        id='yhpgfrea_svg_txt'>[save svg]</text>\n",
       "</svg>\n",
       "\n",
       "<script charset=\"utf-8\" src=\"https://d3js.org/d3.v4.min.js\"></script>\n",
       "<script charset=\"utf-8\">\n",
       "\n",
       "// Load via requireJS if available (jupyter notebook environment)\n",
       "try {\n",
       "    // Problem: require.config will raise an exception when called for the second time \n",
       "    require.config({\n",
       "        paths: {\n",
       "            //d3: \"https://d3js.org/d3.v4.min\"\n",
       "            d3: \"https://d3js.org/d3.v4.min.js\".replace(\".js\", \"\")\n",
       "        }\n",
       "    });\n",
       "    console.log(\"Detected requireJS\");\n",
       "}\n",
       "catch(err){\n",
       "    // a reference error indicates that requireJS does not exist. \n",
       "    // other errors may occur due to multiple calls to config\n",
       "    if (err instanceof ReferenceError){\n",
       "        console.log(\"Detected no requireJS\");\n",
       "\n",
       "        // Helper function that waits for d3js to be loaded\n",
       "        require = function require(symbols, callback) {\n",
       "            var ms = 5;\n",
       "            window.setTimeout(function(t) {\n",
       "                if (window[symbols[0]])\n",
       "                    callback(window[symbols[0]]);\n",
       "                else \n",
       "                    window.setTimeout(arguments.callee, ms);\n",
       "            }, ms);\n",
       "        }\n",
       "    }\n",
       "}\n",
       "\n",
       "// wait until d3js has been loaded\n",
       "require([\"d3\"], function(d3) {\n",
       "    var svg = d3.select(\"#\"+\"yhpgfrea\"), radius = 6, width = +svg.attr(\"width\"), height = +svg.attr(\"height\");\n",
       "\n",
       "    var color = d3.scaleOrdinal(d3.schemeCategory20);\n",
       "\n",
       "    var graph = {\"links\": [{\"source\": \"Christoph Gote\", \"target\": \"Ingo Scholtes\", \"color\": \"#999999\", \"width\": 0.5, \"weight\": 1.0}, {\"source\": \"Jan Philip\", \"target\": \"Christoph Gote\", \"color\": \"#999999\", \"width\": 0.5, \"weight\": 0.5514018691588785}, {\"source\": \"Christoph Gote\", \"target\": \"Jan Philip\", \"color\": \"#999999\", \"width\": 0.5, \"weight\": 0.4485981308411215}, {\"source\": \"Sebastian Zug\", \"target\": \"Christoph Gote\", \"color\": \"#999999\", \"width\": 0.5, \"weight\": 1.0}, {\"source\": \"Milo Trujillo\", \"target\": \"Christoph Gote\", \"color\": \"#999999\", \"width\": 0.5, \"weight\": 1.0}], \"nodes\": [{\"id\": \"Christoph Gote\", \"text\": \"Christoph Gote\", \"color\": \"#99ccff\", \"size\": 5.0}, {\"id\": \"Ingo Scholtes\", \"text\": \"Ingo Scholtes\", \"color\": \"#99ccff\", \"size\": 5.0}, {\"id\": \"Jan Philip\", \"text\": \"Jan Philip\", \"color\": \"#99ccff\", \"size\": 5.0}, {\"id\": \"Sebastian Zug\", \"text\": \"Sebastian Zug\", \"color\": \"#99ccff\", \"size\": 5.0}, {\"id\": \"Milo Trujillo\", \"text\": \"Milo Trujillo\", \"color\": \"#99ccff\", \"size\": 5.0}]};\n",
       "    var directed = true;\n",
       "\n",
       "    var simulation = d3.forceSimulation()        \n",
       "       .force(\"link\", d3.forceLink().id(function(d) { return d.id; }).strength(function(d){return d.weight;}))\n",
       "        .force(\"charge\", d3.forceManyBody().strength(-20).distanceMax(400))\n",
       "       .force(\"repelForce\", d3.forceManyBody().strength(-200).distanceMax(100))\n",
       "       .force(\"center\", d3.forceCenter(400 / 2, 400 / 2))\n",
       "       .alphaTarget(0.0);\n",
       "\n",
       "    svg.append(\"defs\").selectAll(\"marker\")\n",
       "        .data([\"end\"])\n",
       "    .enter().append(\"marker\")\n",
       "        .attr(\"id\", String)\n",
       "        .attr(\"viewBox\", \"0 -5 20 20\")\n",
       "        .attr(\"refX\", 34)\n",
       "        .attr(\"refY\", 0)\n",
       "        .attr(\"markerWidth\", 15)\n",
       "        .attr(\"markerHeight\", 15)\n",
       "        .attr(\"orient\", \"auto\")\n",
       "    .append(\"path\")\n",
       "        // draws a filled path (triangle) between three points\n",
       "        .attr(\"d\", \"M0,-5 L20,0 L0,5 z\")\n",
       "        .attr(\"fill\", '#999')\n",
       "        .attr(\"stroke\", 'none');\n",
       "\n",
       "    var g = svg.append(\"g\")\n",
       "        .attr(\"class\", \"everything\");\n",
       "\n",
       "    var link = g.append(\"g\")\n",
       "        .attr(\"class\", \"links_yhpgfrea\")\n",
       "        .selectAll(\"line\")\n",
       "        .data(graph.links)\n",
       "        .enter().append(\"line\")\n",
       "        .attr(\"stroke-width\", function(d) { return d.width; })\n",
       "        .attr(\"stroke\", function(d) { return d.color; } );\n",
       "\n",
       "    if (directed)\n",
       "        link.attr(\"marker-end\", \"url(#end)\");\n",
       "\n",
       "    var node_g = g.append(\"g\")\n",
       "        .attr(\"class\", \"nodes_yhpgfrea\")\n",
       "        .selectAll(\"circle\")\n",
       "        .data(graph.nodes)\n",
       "        .enter()\n",
       "        .append(\"g\"); \n",
       "\n",
       "    var node = node_g.append(\"circle\")\n",
       "        .attr('id', function(d) { return d.id; })\n",
       "        .attr(\"r\", function(d) { return d.size; })\n",
       "        .attr(\"fill\", function(d) { return d.color; })\n",
       "        .call(d3.drag()\n",
       "            .on(\"start\", dragstarted)\n",
       "            .on(\"drag\", dragged)\n",
       "            .on(\"end\", dragended));\n",
       "\n",
       "    var text = node_g.append(\"text\")\n",
       "    .attr(\"x\", [0, -10][0])\n",
       "    .attr(\"y\", [0, -10][1]+3)\n",
       "    .attr(\"id\", function(d) {return d.id; })\n",
       "    .attr(\"class\", \"label_yhpgfrea\")\n",
       "    .text(function(d) { return d.id; });\n",
       "\n",
       "    node.append(\"title\")\n",
       "        .text(function(d) { return d.text; });\n",
       "\n",
       "    var zoom_handler = d3.zoom()\n",
       "        .on(\"zoom\", zoom_actions);\n",
       "    zoom_handler(svg);\n",
       "\n",
       "    // attach event handler for svg export\n",
       "    d3.select('#yhpgfrea_svg_txt').on(\"click\", save_svg);\n",
       "\n",
       "    simulation\n",
       "        .nodes(graph.nodes)\n",
       "        .on(\"tick\", ticked);\n",
       "\n",
       "    simulation.force(\"link\")\n",
       "        .links(graph.links);\n",
       "\n",
       "    function ticked() {\n",
       "        link.attr(\"x1\", function(d) { return d.source.x; })\n",
       "            .attr(\"y1\", function(d) { return d.source.y; })\n",
       "            .attr(\"x2\", function(d) { return d.target.x; })\n",
       "            .attr(\"y2\", function(d) { return d.target.y; });\n",
       "\n",
       "         text.attr(\"transform\", transform);\n",
       "\n",
       "\n",
       "        text.attr(\"cx\", function(d) { return d.x; })\n",
       "            .attr(\"cy\", function(d) { return d.y; });\n",
       "\n",
       "        node.attr(\"cx\", function(d) { return d.x; })\n",
       "            .attr(\"cy\", function(d) { return d.y; });\n",
       "    }\n",
       "\n",
       "    function transform(d) {\n",
       "        return \"translate(\" + d.x + \",\" + d.y + \")\";\n",
       "    }\n",
       "\n",
       "    function dragstarted(d) {\n",
       "    if (!d3.event.active) simulation.alphaTarget(0.3).restart();\n",
       "    d.fx = d.x;\n",
       "    d.fy = d.y;\n",
       "    }\n",
       "\n",
       "    function zoom_actions(){\n",
       "        g.attr(\"transform\", d3.event.transform)\n",
       "    }    \n",
       "\n",
       "    function dragged(d) {\n",
       "    d.fx = d3.event.x;\n",
       "    d.fy = d3.event.y;\n",
       "    }\n",
       "\n",
       "    function dragended(d) {\n",
       "    if (!d3.event.active) simulation.alphaTarget(0);\n",
       "    d.fx = null;\n",
       "    d.fy = null;\n",
       "    }\n",
       "\n",
       "    function to_svg() {\n",
       "        // Returns a SVG representation of the current state of the visualisation\n",
       "\t    var svg  = document.getElementById('yhpgfrea');\n",
       "\t    var xml = (new XMLSerializer).serializeToString(svg);\n",
       "        return xml;\n",
       "    }\n",
       "\n",
       "    function save_svg() {\n",
       "        var svg  = document.getElementById('yhpgfrea');\n",
       "        var xml = (new XMLSerializer).serializeToString(svg);        \n",
       "        var blob = new Blob([xml], {type: 'text/xml'});\n",
       "        if(window.navigator.msSaveOrOpenBlob) {\n",
       "            window.navigator.msSaveBlob(blob, 'network.svg');\n",
       "        }\n",
       "        else{\n",
       "            var elem = window.document.createElement('a');\n",
       "            elem.href = window.URL.createObjectURL(blob);\n",
       "            elem.download = 'network.svg';\n",
       "            document.body.appendChild(elem);\n",
       "            elem.click();\n",
       "            document.body.removeChild(elem);\n",
       "        }\n",
       "    }\n",
       "});\n",
       "</script>"
      ],
      "text/plain": [
       "<pathpy.classes.network.Network at 0x7feff3f49610>"
      ]
     },
     "execution_count": 15,
     "metadata": {},
     "output_type": "execute_result"
    }
   ],
   "source": [
    "import pathpy as pp\n",
    "pp.Network.from_temporal_network(t)"
   ]
  },
  {
   "cell_type": "markdown",
   "metadata": {},
   "source": [
    "In both the temporal and aggregated network, a node represents an author, whereas edges point from the person changing a line of code to the person who was the original author.\n",
    "\n",
    "Next, we could ask the question which those files were that authors collaborated on. Therefore, we can plot a bipartite network containing both files and authors as nodes."
   ]
  },
  {
   "cell_type": "code",
   "execution_count": 16,
   "metadata": {},
   "outputs": [
    {
     "data": {
      "text/html": [
       "<style>\n",
       "    text.label_eGfvEbcy {\n",
       "        text-anchor: middle;\n",
       "        font-size: 8px;\n",
       "        font-family: Arial, Helvetica, sans-serif;\n",
       "        fill: #999999;\n",
       "        stroke: #ffffff;\n",
       "        stroke-width: 0.1px;\n",
       "        opacity: 1.0;\n",
       "    }\n",
       "    .links_eGfvEbcy line {\n",
       "    stroke-opacity: 1.0;\n",
       "    }\n",
       "    .arrows svg:path {\n",
       "        stroke: #666;\n",
       "    }\n",
       "    .nodes_eGfvEbcy circle {\n",
       "    stroke: #fff;\n",
       "    stroke-width: 0.5px;\n",
       "    }\n",
       "</style>\n",
       "\n",
       "<svg width=\"400\" height=\"400\" id=\"eGfvEbcy\">        \n",
       "    <text x=\"20\" y=\"20\" font-family=\"sans-serif\" font-size=\"14px\" fill=\"#666\" style=\"cursor: pointer\"\n",
       "        id='eGfvEbcy_svg_txt'>[save svg]</text>\n",
       "</svg>\n",
       "\n",
       "<script charset=\"utf-8\" src=\"https://d3js.org/d3.v4.min.js\"></script>\n",
       "<script charset=\"utf-8\">\n",
       "\n",
       "// Load via requireJS if available (jupyter notebook environment)\n",
       "try {\n",
       "    // Problem: require.config will raise an exception when called for the second time \n",
       "    require.config({\n",
       "        paths: {\n",
       "            //d3: \"https://d3js.org/d3.v4.min\"\n",
       "            d3: \"https://d3js.org/d3.v4.min.js\".replace(\".js\", \"\")\n",
       "        }\n",
       "    });\n",
       "    console.log(\"Detected requireJS\");\n",
       "}\n",
       "catch(err){\n",
       "    // a reference error indicates that requireJS does not exist. \n",
       "    // other errors may occur due to multiple calls to config\n",
       "    if (err instanceof ReferenceError){\n",
       "        console.log(\"Detected no requireJS\");\n",
       "\n",
       "        // Helper function that waits for d3js to be loaded\n",
       "        require = function require(symbols, callback) {\n",
       "            var ms = 5;\n",
       "            window.setTimeout(function(t) {\n",
       "                if (window[symbols[0]])\n",
       "                    callback(window[symbols[0]]);\n",
       "                else \n",
       "                    window.setTimeout(arguments.callee, ms);\n",
       "            }, ms);\n",
       "        }\n",
       "    }\n",
       "}\n",
       "\n",
       "// wait until d3js has been loaded\n",
       "require([\"d3\"], function(d3) {\n",
       "    var svg = d3.select(\"#\"+\"eGfvEbcy\"), radius = 6, width = +svg.attr(\"width\"), height = +svg.attr(\"height\");\n",
       "\n",
       "    var color = d3.scaleOrdinal(d3.schemeCategory20);\n",
       "\n",
       "    var graph = {\"links\": [{\"source\": \"Ingo Scholtes\", \"target\": \"test.py\", \"color\": \"#999999\", \"width\": 0.5, \"weight\": 1.0}, {\"source\": \"Ingo Scholtes\", \"target\": \"pyce.py\", \"color\": \"#999999\", \"width\": 0.5, \"weight\": 0.3}, {\"source\": \"Ingo Scholtes\", \"target\": \"ignore\", \"color\": \"#999999\", \"width\": 0.5, \"weight\": 0.5}, {\"source\": \"Christoph Gote\", \"target\": \"pyce.py\", \"color\": \"#999999\", \"width\": 0.5, \"weight\": 0.7272727272727273}, {\"source\": \"Ingo Scholtes\", \"target\": \"anonymize.py\", \"color\": \"#999999\", \"width\": 0.5, \"weight\": 0.6666666666666666}, {\"source\": \"Christoph Gote\", \"target\": \"git2net.py\", \"color\": \"#999999\", \"width\": 0.5, \"weight\": 1.0}, {\"source\": \"Christoph Gote\", \"target\": \".gitignore\", \"color\": \"#999999\", \"width\": 0.5, \"weight\": 1.0}, {\"source\": \"Christoph Gote\", \"target\": \"test_git2net.py\", \"color\": \"#999999\", \"width\": 0.5, \"weight\": 1.0}, {\"source\": \"Christoph Gote\", \"target\": \"LICENSE.txt\", \"color\": \"#999999\", \"width\": 0.5, \"weight\": 1.0}, {\"source\": \"Christoph Gote\", \"target\": \"README.md\", \"color\": \"#999999\", \"width\": 0.5, \"weight\": 1.0}, {\"source\": \"Christoph Gote\", \"target\": \"test_repo_1.zip\", \"color\": \"#999999\", \"width\": 0.5, \"weight\": 1.0}, {\"source\": \"Christoph Gote\", \"target\": \"get_original_line_number.md\", \"color\": \"#999999\", \"width\": 0.5, \"weight\": 1.0}, {\"source\": \"Christoph Gote\", \"target\": \"anonymize.py\", \"color\": \"#999999\", \"width\": 0.5, \"weight\": 0.3333333333333333}, {\"source\": \"Christoph Gote\", \"target\": \"extraction.py\", \"color\": \"#999999\", \"width\": 0.5, \"weight\": 0.9692307692307692}, {\"source\": \"Christoph Gote\", \"target\": \"visualisation.py\", \"color\": \"#999999\", \"width\": 0.5, \"weight\": 1.0}, {\"source\": \"Christoph Gote\", \"target\": \"__init__.py\", \"color\": \"#999999\", \"width\": 0.5, \"weight\": 1.0}, {\"source\": \"Jan Philip\", \"target\": \"extraction.py\", \"color\": \"#999999\", \"width\": 0.5, \"weight\": 1.0}, {\"source\": \"Christoph Gote\", \"target\": \"TUTORIAL.ipynb\", \"color\": \"#999999\", \"width\": 0.5, \"weight\": 0.7777777777777778}, {\"source\": \"Christoph Gote\", \"target\": \"requirements.txt\", \"color\": \"#999999\", \"width\": 0.5, \"weight\": 1.0}, {\"source\": \"Christoph Gote\", \"target\": \"test_functions.py\", \"color\": \"#999999\", \"width\": 0.5, \"weight\": 1.0}, {\"source\": \"Sebastian Zug\", \"target\": \"TUTORIAL.ipynb\", \"color\": \"#999999\", \"width\": 0.5, \"weight\": 1.0}, {\"source\": \"Milo Trujillo\", \"target\": \"extraction.py\", \"color\": \"#999999\", \"width\": 0.5, \"weight\": 1.0}, {\"source\": \"Breee\", \"target\": \"command_line.py\", \"color\": \"#999999\", \"width\": 0.5, \"weight\": 1.0}, {\"source\": \"Christoph Gote\", \"target\": \"ignore\", \"color\": \"#999999\", \"width\": 0.5, \"weight\": 0.5}, {\"source\": \"Christoph Gote\", \"target\": \"test_visualisation.py\", \"color\": \"#999999\", \"width\": 0.5, \"weight\": 1.0}, {\"source\": \"Christoph Gote\", \"target\": \"test_extract_coedits.py\", \"color\": \"#999999\", \"width\": 0.5, \"weight\": 1.0}, {\"source\": \"Christoph Gote\", \"target\": \"test_identify_edits.py\", \"color\": \"#999999\", \"width\": 0.5, \"weight\": 1.0}, {\"source\": \"Christoph Gote\", \"target\": \"test_extract_edits.py\", \"color\": \"#999999\", \"width\": 0.5, \"weight\": 1.0}, {\"source\": \"Christoph Gote\", \"target\": \"test_extract_editing_paths.py\", \"color\": \"#999999\", \"width\": 0.5, \"weight\": 1.0}, {\"source\": \"Christoph Gote\", \"target\": \"test_get_original_line_number.py\", \"color\": \"#999999\", \"width\": 0.5, \"weight\": 1.0}, {\"source\": \"Christoph Gote\", \"target\": \"get_previous_names.py\", \"color\": \"#999999\", \"width\": 0.5, \"weight\": 1.0}, {\"source\": \"Christoph Gote\", \"target\": \"test_get_unified_changes.py\", \"color\": \"#999999\", \"width\": 0.5, \"weight\": 1.0}, {\"source\": \"Christoph Gote\", \"target\": \"test_identify_file_renaming.py\", \"color\": \"#999999\", \"width\": 0.5, \"weight\": 1.0}, {\"source\": \"Christoph Gote\", \"target\": \"test_get_paths_to_origin.py\", \"color\": \"#999999\", \"width\": 0.5, \"weight\": 1.0}, {\"source\": \"Christoph Gote\", \"target\": \"test_get_path_to_origin.py\", \"color\": \"#999999\", \"width\": 0.5, \"weight\": 1.0}, {\"source\": \"Christoph Gote\", \"target\": \"setup.py\", \"color\": \"#999999\", \"width\": 0.5, \"weight\": 1.0}, {\"source\": \"Christoph Gote\", \"target\": \"bug_report.md\", \"color\": \"#999999\", \"width\": 0.5, \"weight\": 1.0}, {\"source\": \"Christoph Gote\", \"target\": \"feature_request.md\", \"color\": \"#999999\", \"width\": 0.5, \"weight\": 1.0}, {\"source\": \"Christoph Gote\", \"target\": \".gitmodules\", \"color\": \"#999999\", \"width\": 0.5, \"weight\": 1.0}, {\"source\": \"Christoph Gote\", \"target\": \"command_line.py\", \"color\": \"#999999\", \"width\": 0.5, \"weight\": 0.6666666666666666}, {\"source\": \"Christoph Gote\", \"target\": \"_test_extract_editing_paths.py\", \"color\": \"#999999\", \"width\": 0.5, \"weight\": 1.0}, {\"source\": \"Christoph Gote\", \"target\": \"_test_extract_edits.py\", \"color\": \"#999999\", \"width\": 0.5, \"weight\": 1.0}, {\"source\": \"Christoph Gote\", \"target\": \"_test_get_original_line_number.py\", \"color\": \"#999999\", \"width\": 0.5, \"weight\": 1.0}, {\"source\": \"Christoph Gote\", \"target\": \"_test_get_paths_to_origin.py\", \"color\": \"#999999\", \"width\": 0.5, \"weight\": 1.0}, {\"source\": \"Christoph Gote\", \"target\": \"_test_get_unified_changes.py\", \"color\": \"#999999\", \"width\": 0.5, \"weight\": 1.0}, {\"source\": \"Christoph Gote\", \"target\": \"_test_git2net.py\", \"color\": \"#999999\", \"width\": 0.5, \"weight\": 1.0}, {\"source\": \"Christoph Gote\", \"target\": \"_test_identify_edits.py\", \"color\": \"#999999\", \"width\": 0.5, \"weight\": 1.0}, {\"source\": \"Christoph Gote\", \"target\": \"_test_identify_file_renaming.py\", \"color\": \"#999999\", \"width\": 0.5, \"weight\": 1.0}, {\"source\": \"Christoph Gote\", \"target\": \"_test_visualisation.py\", \"color\": \"#999999\", \"width\": 0.5, \"weight\": 1.0}], \"nodes\": [{\"id\": \"Ingo Scholtes\", \"text\": \"Ingo Scholtes\", \"color\": \"#99ccff\", \"size\": 5.0}, {\"id\": \"test.py\", \"text\": \"test.py\", \"color\": \"#99ccff\", \"size\": 5.0}, {\"id\": \"pyce.py\", \"text\": \"pyce.py\", \"color\": \"#99ccff\", \"size\": 5.0}, {\"id\": \"ignore\", \"text\": \"ignore\", \"color\": \"#99ccff\", \"size\": 5.0}, {\"id\": \"Christoph Gote\", \"text\": \"Christoph Gote\", \"color\": \"#99ccff\", \"size\": 5.0}, {\"id\": \"anonymize.py\", \"text\": \"anonymize.py\", \"color\": \"#99ccff\", \"size\": 5.0}, {\"id\": \"git2net.py\", \"text\": \"git2net.py\", \"color\": \"#99ccff\", \"size\": 5.0}, {\"id\": \".gitignore\", \"text\": \".gitignore\", \"color\": \"#99ccff\", \"size\": 5.0}, {\"id\": \"test_git2net.py\", \"text\": \"test_git2net.py\", \"color\": \"#99ccff\", \"size\": 5.0}, {\"id\": \"LICENSE.txt\", \"text\": \"LICENSE.txt\", \"color\": \"#99ccff\", \"size\": 5.0}, {\"id\": \"README.md\", \"text\": \"README.md\", \"color\": \"#99ccff\", \"size\": 5.0}, {\"id\": \"test_repo_1.zip\", \"text\": \"test_repo_1.zip\", \"color\": \"#99ccff\", \"size\": 5.0}, {\"id\": \"get_original_line_number.md\", \"text\": \"get_original_line_number.md\", \"color\": \"#99ccff\", \"size\": 5.0}, {\"id\": \"extraction.py\", \"text\": \"extraction.py\", \"color\": \"#99ccff\", \"size\": 5.0}, {\"id\": \"visualisation.py\", \"text\": \"visualisation.py\", \"color\": \"#99ccff\", \"size\": 5.0}, {\"id\": \"__init__.py\", \"text\": \"__init__.py\", \"color\": \"#99ccff\", \"size\": 5.0}, {\"id\": \"Jan Philip\", \"text\": \"Jan Philip\", \"color\": \"#99ccff\", \"size\": 5.0}, {\"id\": \"TUTORIAL.ipynb\", \"text\": \"TUTORIAL.ipynb\", \"color\": \"#99ccff\", \"size\": 5.0}, {\"id\": \"requirements.txt\", \"text\": \"requirements.txt\", \"color\": \"#99ccff\", \"size\": 5.0}, {\"id\": \"test_functions.py\", \"text\": \"test_functions.py\", \"color\": \"#99ccff\", \"size\": 5.0}, {\"id\": \"Sebastian Zug\", \"text\": \"Sebastian Zug\", \"color\": \"#99ccff\", \"size\": 5.0}, {\"id\": \"Milo Trujillo\", \"text\": \"Milo Trujillo\", \"color\": \"#99ccff\", \"size\": 5.0}, {\"id\": \"Breee\", \"text\": \"Breee\", \"color\": \"#99ccff\", \"size\": 5.0}, {\"id\": \"command_line.py\", \"text\": \"command_line.py\", \"color\": \"#99ccff\", \"size\": 5.0}, {\"id\": \"test_visualisation.py\", \"text\": \"test_visualisation.py\", \"color\": \"#99ccff\", \"size\": 5.0}, {\"id\": \"test_extract_coedits.py\", \"text\": \"test_extract_coedits.py\", \"color\": \"#99ccff\", \"size\": 5.0}, {\"id\": \"test_identify_edits.py\", \"text\": \"test_identify_edits.py\", \"color\": \"#99ccff\", \"size\": 5.0}, {\"id\": \"test_extract_edits.py\", \"text\": \"test_extract_edits.py\", \"color\": \"#99ccff\", \"size\": 5.0}, {\"id\": \"test_extract_editing_paths.py\", \"text\": \"test_extract_editing_paths.py\", \"color\": \"#99ccff\", \"size\": 5.0}, {\"id\": \"test_get_original_line_number.py\", \"text\": \"test_get_original_line_number.py\", \"color\": \"#99ccff\", \"size\": 5.0}, {\"id\": \"get_previous_names.py\", \"text\": \"get_previous_names.py\", \"color\": \"#99ccff\", \"size\": 5.0}, {\"id\": \"test_get_unified_changes.py\", \"text\": \"test_get_unified_changes.py\", \"color\": \"#99ccff\", \"size\": 5.0}, {\"id\": \"test_identify_file_renaming.py\", \"text\": \"test_identify_file_renaming.py\", \"color\": \"#99ccff\", \"size\": 5.0}, {\"id\": \"test_get_paths_to_origin.py\", \"text\": \"test_get_paths_to_origin.py\", \"color\": \"#99ccff\", \"size\": 5.0}, {\"id\": \"test_get_path_to_origin.py\", \"text\": \"test_get_path_to_origin.py\", \"color\": \"#99ccff\", \"size\": 5.0}, {\"id\": \"setup.py\", \"text\": \"setup.py\", \"color\": \"#99ccff\", \"size\": 5.0}, {\"id\": \"bug_report.md\", \"text\": \"bug_report.md\", \"color\": \"#99ccff\", \"size\": 5.0}, {\"id\": \"feature_request.md\", \"text\": \"feature_request.md\", \"color\": \"#99ccff\", \"size\": 5.0}, {\"id\": \".gitmodules\", \"text\": \".gitmodules\", \"color\": \"#99ccff\", \"size\": 5.0}, {\"id\": \"_test_extract_editing_paths.py\", \"text\": \"_test_extract_editing_paths.py\", \"color\": \"#99ccff\", \"size\": 5.0}, {\"id\": \"_test_extract_edits.py\", \"text\": \"_test_extract_edits.py\", \"color\": \"#99ccff\", \"size\": 5.0}, {\"id\": \"_test_get_original_line_number.py\", \"text\": \"_test_get_original_line_number.py\", \"color\": \"#99ccff\", \"size\": 5.0}, {\"id\": \"_test_get_paths_to_origin.py\", \"text\": \"_test_get_paths_to_origin.py\", \"color\": \"#99ccff\", \"size\": 5.0}, {\"id\": \"_test_get_unified_changes.py\", \"text\": \"_test_get_unified_changes.py\", \"color\": \"#99ccff\", \"size\": 5.0}, {\"id\": \"_test_git2net.py\", \"text\": \"_test_git2net.py\", \"color\": \"#99ccff\", \"size\": 5.0}, {\"id\": \"_test_identify_edits.py\", \"text\": \"_test_identify_edits.py\", \"color\": \"#99ccff\", \"size\": 5.0}, {\"id\": \"_test_identify_file_renaming.py\", \"text\": \"_test_identify_file_renaming.py\", \"color\": \"#99ccff\", \"size\": 5.0}, {\"id\": \"_test_visualisation.py\", \"text\": \"_test_visualisation.py\", \"color\": \"#99ccff\", \"size\": 5.0}]};\n",
       "    var directed = true;\n",
       "\n",
       "    var simulation = d3.forceSimulation()        \n",
       "       .force(\"link\", d3.forceLink().id(function(d) { return d.id; }).strength(function(d){return d.weight;}))\n",
       "        .force(\"charge\", d3.forceManyBody().strength(-20).distanceMax(400))\n",
       "       .force(\"repelForce\", d3.forceManyBody().strength(-200).distanceMax(100))\n",
       "       .force(\"center\", d3.forceCenter(400 / 2, 400 / 2))\n",
       "       .alphaTarget(0.0);\n",
       "\n",
       "    svg.append(\"defs\").selectAll(\"marker\")\n",
       "        .data([\"end\"])\n",
       "    .enter().append(\"marker\")\n",
       "        .attr(\"id\", String)\n",
       "        .attr(\"viewBox\", \"0 -5 20 20\")\n",
       "        .attr(\"refX\", 34)\n",
       "        .attr(\"refY\", 0)\n",
       "        .attr(\"markerWidth\", 15)\n",
       "        .attr(\"markerHeight\", 15)\n",
       "        .attr(\"orient\", \"auto\")\n",
       "    .append(\"path\")\n",
       "        // draws a filled path (triangle) between three points\n",
       "        .attr(\"d\", \"M0,-5 L20,0 L0,5 z\")\n",
       "        .attr(\"fill\", '#999')\n",
       "        .attr(\"stroke\", 'none');\n",
       "\n",
       "    var g = svg.append(\"g\")\n",
       "        .attr(\"class\", \"everything\");\n",
       "\n",
       "    var link = g.append(\"g\")\n",
       "        .attr(\"class\", \"links_eGfvEbcy\")\n",
       "        .selectAll(\"line\")\n",
       "        .data(graph.links)\n",
       "        .enter().append(\"line\")\n",
       "        .attr(\"stroke-width\", function(d) { return d.width; })\n",
       "        .attr(\"stroke\", function(d) { return d.color; } );\n",
       "\n",
       "    if (directed)\n",
       "        link.attr(\"marker-end\", \"url(#end)\");\n",
       "\n",
       "    var node_g = g.append(\"g\")\n",
       "        .attr(\"class\", \"nodes_eGfvEbcy\")\n",
       "        .selectAll(\"circle\")\n",
       "        .data(graph.nodes)\n",
       "        .enter()\n",
       "        .append(\"g\"); \n",
       "\n",
       "    var node = node_g.append(\"circle\")\n",
       "        .attr('id', function(d) { return d.id; })\n",
       "        .attr(\"r\", function(d) { return d.size; })\n",
       "        .attr(\"fill\", function(d) { return d.color; })\n",
       "        .call(d3.drag()\n",
       "            .on(\"start\", dragstarted)\n",
       "            .on(\"drag\", dragged)\n",
       "            .on(\"end\", dragended));\n",
       "\n",
       "    var text = node_g.append(\"text\")\n",
       "    .attr(\"x\", [0, -10][0])\n",
       "    .attr(\"y\", [0, -10][1]+3)\n",
       "    .attr(\"id\", function(d) {return d.id; })\n",
       "    .attr(\"class\", \"label_eGfvEbcy\")\n",
       "    .text(function(d) { return d.id; });\n",
       "\n",
       "    node.append(\"title\")\n",
       "        .text(function(d) { return d.text; });\n",
       "\n",
       "    var zoom_handler = d3.zoom()\n",
       "        .on(\"zoom\", zoom_actions);\n",
       "    zoom_handler(svg);\n",
       "\n",
       "    // attach event handler for svg export\n",
       "    d3.select('#eGfvEbcy_svg_txt').on(\"click\", save_svg);\n",
       "\n",
       "    simulation\n",
       "        .nodes(graph.nodes)\n",
       "        .on(\"tick\", ticked);\n",
       "\n",
       "    simulation.force(\"link\")\n",
       "        .links(graph.links);\n",
       "\n",
       "    function ticked() {\n",
       "        link.attr(\"x1\", function(d) { return d.source.x; })\n",
       "            .attr(\"y1\", function(d) { return d.source.y; })\n",
       "            .attr(\"x2\", function(d) { return d.target.x; })\n",
       "            .attr(\"y2\", function(d) { return d.target.y; });\n",
       "\n",
       "         text.attr(\"transform\", transform);\n",
       "\n",
       "\n",
       "        text.attr(\"cx\", function(d) { return d.x; })\n",
       "            .attr(\"cy\", function(d) { return d.y; });\n",
       "\n",
       "        node.attr(\"cx\", function(d) { return d.x; })\n",
       "            .attr(\"cy\", function(d) { return d.y; });\n",
       "    }\n",
       "\n",
       "    function transform(d) {\n",
       "        return \"translate(\" + d.x + \",\" + d.y + \")\";\n",
       "    }\n",
       "\n",
       "    function dragstarted(d) {\n",
       "    if (!d3.event.active) simulation.alphaTarget(0.3).restart();\n",
       "    d.fx = d.x;\n",
       "    d.fy = d.y;\n",
       "    }\n",
       "\n",
       "    function zoom_actions(){\n",
       "        g.attr(\"transform\", d3.event.transform)\n",
       "    }    \n",
       "\n",
       "    function dragged(d) {\n",
       "    d.fx = d3.event.x;\n",
       "    d.fy = d3.event.y;\n",
       "    }\n",
       "\n",
       "    function dragended(d) {\n",
       "    if (!d3.event.active) simulation.alphaTarget(0);\n",
       "    d.fx = null;\n",
       "    d.fy = null;\n",
       "    }\n",
       "\n",
       "    function to_svg() {\n",
       "        // Returns a SVG representation of the current state of the visualisation\n",
       "\t    var svg  = document.getElementById('eGfvEbcy');\n",
       "\t    var xml = (new XMLSerializer).serializeToString(svg);\n",
       "        return xml;\n",
       "    }\n",
       "\n",
       "    function save_svg() {\n",
       "        var svg  = document.getElementById('eGfvEbcy');\n",
       "        var xml = (new XMLSerializer).serializeToString(svg);        \n",
       "        var blob = new Blob([xml], {type: 'text/xml'});\n",
       "        if(window.navigator.msSaveOrOpenBlob) {\n",
       "            window.navigator.msSaveBlob(blob, 'network.svg');\n",
       "        }\n",
       "        else{\n",
       "            var elem = window.document.createElement('a');\n",
       "            elem.href = window.URL.createObjectURL(blob);\n",
       "            elem.download = 'network.svg';\n",
       "            document.body.appendChild(elem);\n",
       "            elem.click();\n",
       "            document.body.removeChild(elem);\n",
       "        }\n",
       "    }\n",
       "});\n",
       "</script>"
      ],
      "text/plain": [
       "<pathpy.classes.network.Network at 0x7feff3ef9940>"
      ]
     },
     "execution_count": 16,
     "metadata": {},
     "output_type": "execute_result"
    }
   ],
   "source": [
    "t, node_info, edge_info = git2net.get_bipartite_network(sqlite_db_file)\n",
    "n = pp.Network.from_temporal_network(t)\n",
    "n"
   ]
  },
  {
   "cell_type": "markdown",
   "metadata": {},
   "source": [
    "For this network, node_info contains the classes of authors in the network. These can e.g. be used to color nodes as shown below."
   ]
  },
  {
   "cell_type": "code",
   "execution_count": 17,
   "metadata": {},
   "outputs": [
    {
     "data": {
      "text/html": [
       "<style>\n",
       "    text.label_pWzgjkwh {\n",
       "        text-anchor: middle;\n",
       "        font-size: 8px;\n",
       "        font-family: Arial, Helvetica, sans-serif;\n",
       "        fill: #999999;\n",
       "        stroke: #ffffff;\n",
       "        stroke-width: 0.1px;\n",
       "        opacity: 1.0;\n",
       "    }\n",
       "    .links_pWzgjkwh line {\n",
       "    stroke-opacity: 1.0;\n",
       "    }\n",
       "    .arrows svg:path {\n",
       "        stroke: #666;\n",
       "    }\n",
       "    .nodes_pWzgjkwh circle {\n",
       "    stroke: #fff;\n",
       "    stroke-width: 0.5px;\n",
       "    }\n",
       "</style>\n",
       "\n",
       "<svg width=\"400\" height=\"400\" id=\"pWzgjkwh\">        \n",
       "    <text x=\"20\" y=\"20\" font-family=\"sans-serif\" font-size=\"14px\" fill=\"#666\" style=\"cursor: pointer\"\n",
       "        id='pWzgjkwh_svg_txt'>[save svg]</text>\n",
       "</svg>\n",
       "\n",
       "<script charset=\"utf-8\" src=\"https://d3js.org/d3.v4.min.js\"></script>\n",
       "<script charset=\"utf-8\">\n",
       "\n",
       "// Load via requireJS if available (jupyter notebook environment)\n",
       "try {\n",
       "    // Problem: require.config will raise an exception when called for the second time \n",
       "    require.config({\n",
       "        paths: {\n",
       "            //d3: \"https://d3js.org/d3.v4.min\"\n",
       "            d3: \"https://d3js.org/d3.v4.min.js\".replace(\".js\", \"\")\n",
       "        }\n",
       "    });\n",
       "    console.log(\"Detected requireJS\");\n",
       "}\n",
       "catch(err){\n",
       "    // a reference error indicates that requireJS does not exist. \n",
       "    // other errors may occur due to multiple calls to config\n",
       "    if (err instanceof ReferenceError){\n",
       "        console.log(\"Detected no requireJS\");\n",
       "\n",
       "        // Helper function that waits for d3js to be loaded\n",
       "        require = function require(symbols, callback) {\n",
       "            var ms = 5;\n",
       "            window.setTimeout(function(t) {\n",
       "                if (window[symbols[0]])\n",
       "                    callback(window[symbols[0]]);\n",
       "                else \n",
       "                    window.setTimeout(arguments.callee, ms);\n",
       "            }, ms);\n",
       "        }\n",
       "    }\n",
       "}\n",
       "\n",
       "// wait until d3js has been loaded\n",
       "require([\"d3\"], function(d3) {\n",
       "    var svg = d3.select(\"#\"+\"pWzgjkwh\"), radius = 6, width = +svg.attr(\"width\"), height = +svg.attr(\"height\");\n",
       "\n",
       "    var color = d3.scaleOrdinal(d3.schemeCategory20);\n",
       "\n",
       "    var graph = {\"links\": [{\"source\": \"Ingo Scholtes\", \"target\": \"test.py\", \"color\": \"#999999\", \"width\": 0.5, \"weight\": 1.0}, {\"source\": \"Ingo Scholtes\", \"target\": \"pyce.py\", \"color\": \"#999999\", \"width\": 0.5, \"weight\": 0.3}, {\"source\": \"Ingo Scholtes\", \"target\": \"ignore\", \"color\": \"#999999\", \"width\": 0.5, \"weight\": 0.5}, {\"source\": \"Christoph Gote\", \"target\": \"pyce.py\", \"color\": \"#999999\", \"width\": 0.5, \"weight\": 0.7272727272727273}, {\"source\": \"Ingo Scholtes\", \"target\": \"anonymize.py\", \"color\": \"#999999\", \"width\": 0.5, \"weight\": 0.6666666666666666}, {\"source\": \"Christoph Gote\", \"target\": \"git2net.py\", \"color\": \"#999999\", \"width\": 0.5, \"weight\": 1.0}, {\"source\": \"Christoph Gote\", \"target\": \".gitignore\", \"color\": \"#999999\", \"width\": 0.5, \"weight\": 1.0}, {\"source\": \"Christoph Gote\", \"target\": \"test_git2net.py\", \"color\": \"#999999\", \"width\": 0.5, \"weight\": 1.0}, {\"source\": \"Christoph Gote\", \"target\": \"LICENSE.txt\", \"color\": \"#999999\", \"width\": 0.5, \"weight\": 1.0}, {\"source\": \"Christoph Gote\", \"target\": \"README.md\", \"color\": \"#999999\", \"width\": 0.5, \"weight\": 1.0}, {\"source\": \"Christoph Gote\", \"target\": \"test_repo_1.zip\", \"color\": \"#999999\", \"width\": 0.5, \"weight\": 1.0}, {\"source\": \"Christoph Gote\", \"target\": \"get_original_line_number.md\", \"color\": \"#999999\", \"width\": 0.5, \"weight\": 1.0}, {\"source\": \"Christoph Gote\", \"target\": \"anonymize.py\", \"color\": \"#999999\", \"width\": 0.5, \"weight\": 0.3333333333333333}, {\"source\": \"Christoph Gote\", \"target\": \"extraction.py\", \"color\": \"#999999\", \"width\": 0.5, \"weight\": 0.9692307692307692}, {\"source\": \"Christoph Gote\", \"target\": \"visualisation.py\", \"color\": \"#999999\", \"width\": 0.5, \"weight\": 1.0}, {\"source\": \"Christoph Gote\", \"target\": \"__init__.py\", \"color\": \"#999999\", \"width\": 0.5, \"weight\": 1.0}, {\"source\": \"Jan Philip\", \"target\": \"extraction.py\", \"color\": \"#999999\", \"width\": 0.5, \"weight\": 1.0}, {\"source\": \"Christoph Gote\", \"target\": \"TUTORIAL.ipynb\", \"color\": \"#999999\", \"width\": 0.5, \"weight\": 0.7777777777777778}, {\"source\": \"Christoph Gote\", \"target\": \"requirements.txt\", \"color\": \"#999999\", \"width\": 0.5, \"weight\": 1.0}, {\"source\": \"Christoph Gote\", \"target\": \"test_functions.py\", \"color\": \"#999999\", \"width\": 0.5, \"weight\": 1.0}, {\"source\": \"Sebastian Zug\", \"target\": \"TUTORIAL.ipynb\", \"color\": \"#999999\", \"width\": 0.5, \"weight\": 1.0}, {\"source\": \"Milo Trujillo\", \"target\": \"extraction.py\", \"color\": \"#999999\", \"width\": 0.5, \"weight\": 1.0}, {\"source\": \"Breee\", \"target\": \"command_line.py\", \"color\": \"#999999\", \"width\": 0.5, \"weight\": 1.0}, {\"source\": \"Christoph Gote\", \"target\": \"ignore\", \"color\": \"#999999\", \"width\": 0.5, \"weight\": 0.5}, {\"source\": \"Christoph Gote\", \"target\": \"test_visualisation.py\", \"color\": \"#999999\", \"width\": 0.5, \"weight\": 1.0}, {\"source\": \"Christoph Gote\", \"target\": \"test_extract_coedits.py\", \"color\": \"#999999\", \"width\": 0.5, \"weight\": 1.0}, {\"source\": \"Christoph Gote\", \"target\": \"test_identify_edits.py\", \"color\": \"#999999\", \"width\": 0.5, \"weight\": 1.0}, {\"source\": \"Christoph Gote\", \"target\": \"test_extract_edits.py\", \"color\": \"#999999\", \"width\": 0.5, \"weight\": 1.0}, {\"source\": \"Christoph Gote\", \"target\": \"test_extract_editing_paths.py\", \"color\": \"#999999\", \"width\": 0.5, \"weight\": 1.0}, {\"source\": \"Christoph Gote\", \"target\": \"test_get_original_line_number.py\", \"color\": \"#999999\", \"width\": 0.5, \"weight\": 1.0}, {\"source\": \"Christoph Gote\", \"target\": \"get_previous_names.py\", \"color\": \"#999999\", \"width\": 0.5, \"weight\": 1.0}, {\"source\": \"Christoph Gote\", \"target\": \"test_get_unified_changes.py\", \"color\": \"#999999\", \"width\": 0.5, \"weight\": 1.0}, {\"source\": \"Christoph Gote\", \"target\": \"test_identify_file_renaming.py\", \"color\": \"#999999\", \"width\": 0.5, \"weight\": 1.0}, {\"source\": \"Christoph Gote\", \"target\": \"test_get_paths_to_origin.py\", \"color\": \"#999999\", \"width\": 0.5, \"weight\": 1.0}, {\"source\": \"Christoph Gote\", \"target\": \"test_get_path_to_origin.py\", \"color\": \"#999999\", \"width\": 0.5, \"weight\": 1.0}, {\"source\": \"Christoph Gote\", \"target\": \"setup.py\", \"color\": \"#999999\", \"width\": 0.5, \"weight\": 1.0}, {\"source\": \"Christoph Gote\", \"target\": \"bug_report.md\", \"color\": \"#999999\", \"width\": 0.5, \"weight\": 1.0}, {\"source\": \"Christoph Gote\", \"target\": \"feature_request.md\", \"color\": \"#999999\", \"width\": 0.5, \"weight\": 1.0}, {\"source\": \"Christoph Gote\", \"target\": \".gitmodules\", \"color\": \"#999999\", \"width\": 0.5, \"weight\": 1.0}, {\"source\": \"Christoph Gote\", \"target\": \"command_line.py\", \"color\": \"#999999\", \"width\": 0.5, \"weight\": 0.6666666666666666}, {\"source\": \"Christoph Gote\", \"target\": \"_test_extract_editing_paths.py\", \"color\": \"#999999\", \"width\": 0.5, \"weight\": 1.0}, {\"source\": \"Christoph Gote\", \"target\": \"_test_extract_edits.py\", \"color\": \"#999999\", \"width\": 0.5, \"weight\": 1.0}, {\"source\": \"Christoph Gote\", \"target\": \"_test_get_original_line_number.py\", \"color\": \"#999999\", \"width\": 0.5, \"weight\": 1.0}, {\"source\": \"Christoph Gote\", \"target\": \"_test_get_paths_to_origin.py\", \"color\": \"#999999\", \"width\": 0.5, \"weight\": 1.0}, {\"source\": \"Christoph Gote\", \"target\": \"_test_get_unified_changes.py\", \"color\": \"#999999\", \"width\": 0.5, \"weight\": 1.0}, {\"source\": \"Christoph Gote\", \"target\": \"_test_git2net.py\", \"color\": \"#999999\", \"width\": 0.5, \"weight\": 1.0}, {\"source\": \"Christoph Gote\", \"target\": \"_test_identify_edits.py\", \"color\": \"#999999\", \"width\": 0.5, \"weight\": 1.0}, {\"source\": \"Christoph Gote\", \"target\": \"_test_identify_file_renaming.py\", \"color\": \"#999999\", \"width\": 0.5, \"weight\": 1.0}, {\"source\": \"Christoph Gote\", \"target\": \"_test_visualisation.py\", \"color\": \"#999999\", \"width\": 0.5, \"weight\": 1.0}], \"nodes\": [{\"id\": \"Ingo Scholtes\", \"text\": \"Ingo Scholtes\", \"color\": \"#73D2DE\", \"size\": 5.0}, {\"id\": \"test.py\", \"text\": \"test.py\", \"color\": \"#2E5EAA\", \"size\": 5.0}, {\"id\": \"pyce.py\", \"text\": \"pyce.py\", \"color\": \"#2E5EAA\", \"size\": 5.0}, {\"id\": \"ignore\", \"text\": \"ignore\", \"color\": \"#2E5EAA\", \"size\": 5.0}, {\"id\": \"Christoph Gote\", \"text\": \"Christoph Gote\", \"color\": \"#73D2DE\", \"size\": 5.0}, {\"id\": \"anonymize.py\", \"text\": \"anonymize.py\", \"color\": \"#2E5EAA\", \"size\": 5.0}, {\"id\": \"git2net.py\", \"text\": \"git2net.py\", \"color\": \"#2E5EAA\", \"size\": 5.0}, {\"id\": \".gitignore\", \"text\": \".gitignore\", \"color\": \"#2E5EAA\", \"size\": 5.0}, {\"id\": \"test_git2net.py\", \"text\": \"test_git2net.py\", \"color\": \"#2E5EAA\", \"size\": 5.0}, {\"id\": \"LICENSE.txt\", \"text\": \"LICENSE.txt\", \"color\": \"#2E5EAA\", \"size\": 5.0}, {\"id\": \"README.md\", \"text\": \"README.md\", \"color\": \"#2E5EAA\", \"size\": 5.0}, {\"id\": \"test_repo_1.zip\", \"text\": \"test_repo_1.zip\", \"color\": \"#2E5EAA\", \"size\": 5.0}, {\"id\": \"get_original_line_number.md\", \"text\": \"get_original_line_number.md\", \"color\": \"#2E5EAA\", \"size\": 5.0}, {\"id\": \"extraction.py\", \"text\": \"extraction.py\", \"color\": \"#2E5EAA\", \"size\": 5.0}, {\"id\": \"visualisation.py\", \"text\": \"visualisation.py\", \"color\": \"#2E5EAA\", \"size\": 5.0}, {\"id\": \"__init__.py\", \"text\": \"__init__.py\", \"color\": \"#2E5EAA\", \"size\": 5.0}, {\"id\": \"Jan Philip\", \"text\": \"Jan Philip\", \"color\": \"#73D2DE\", \"size\": 5.0}, {\"id\": \"TUTORIAL.ipynb\", \"text\": \"TUTORIAL.ipynb\", \"color\": \"#2E5EAA\", \"size\": 5.0}, {\"id\": \"requirements.txt\", \"text\": \"requirements.txt\", \"color\": \"#2E5EAA\", \"size\": 5.0}, {\"id\": \"test_functions.py\", \"text\": \"test_functions.py\", \"color\": \"#2E5EAA\", \"size\": 5.0}, {\"id\": \"Sebastian Zug\", \"text\": \"Sebastian Zug\", \"color\": \"#73D2DE\", \"size\": 5.0}, {\"id\": \"Milo Trujillo\", \"text\": \"Milo Trujillo\", \"color\": \"#73D2DE\", \"size\": 5.0}, {\"id\": \"Breee\", \"text\": \"Breee\", \"color\": \"#73D2DE\", \"size\": 5.0}, {\"id\": \"command_line.py\", \"text\": \"command_line.py\", \"color\": \"#2E5EAA\", \"size\": 5.0}, {\"id\": \"test_visualisation.py\", \"text\": \"test_visualisation.py\", \"color\": \"#2E5EAA\", \"size\": 5.0}, {\"id\": \"test_extract_coedits.py\", \"text\": \"test_extract_coedits.py\", \"color\": \"#2E5EAA\", \"size\": 5.0}, {\"id\": \"test_identify_edits.py\", \"text\": \"test_identify_edits.py\", \"color\": \"#2E5EAA\", \"size\": 5.0}, {\"id\": \"test_extract_edits.py\", \"text\": \"test_extract_edits.py\", \"color\": \"#2E5EAA\", \"size\": 5.0}, {\"id\": \"test_extract_editing_paths.py\", \"text\": \"test_extract_editing_paths.py\", \"color\": \"#2E5EAA\", \"size\": 5.0}, {\"id\": \"test_get_original_line_number.py\", \"text\": \"test_get_original_line_number.py\", \"color\": \"#2E5EAA\", \"size\": 5.0}, {\"id\": \"get_previous_names.py\", \"text\": \"get_previous_names.py\", \"color\": \"#2E5EAA\", \"size\": 5.0}, {\"id\": \"test_get_unified_changes.py\", \"text\": \"test_get_unified_changes.py\", \"color\": \"#2E5EAA\", \"size\": 5.0}, {\"id\": \"test_identify_file_renaming.py\", \"text\": \"test_identify_file_renaming.py\", \"color\": \"#2E5EAA\", \"size\": 5.0}, {\"id\": \"test_get_paths_to_origin.py\", \"text\": \"test_get_paths_to_origin.py\", \"color\": \"#2E5EAA\", \"size\": 5.0}, {\"id\": \"test_get_path_to_origin.py\", \"text\": \"test_get_path_to_origin.py\", \"color\": \"#2E5EAA\", \"size\": 5.0}, {\"id\": \"setup.py\", \"text\": \"setup.py\", \"color\": \"#2E5EAA\", \"size\": 5.0}, {\"id\": \"bug_report.md\", \"text\": \"bug_report.md\", \"color\": \"#2E5EAA\", \"size\": 5.0}, {\"id\": \"feature_request.md\", \"text\": \"feature_request.md\", \"color\": \"#2E5EAA\", \"size\": 5.0}, {\"id\": \".gitmodules\", \"text\": \".gitmodules\", \"color\": \"#2E5EAA\", \"size\": 5.0}, {\"id\": \"_test_extract_editing_paths.py\", \"text\": \"_test_extract_editing_paths.py\", \"color\": \"#2E5EAA\", \"size\": 5.0}, {\"id\": \"_test_extract_edits.py\", \"text\": \"_test_extract_edits.py\", \"color\": \"#2E5EAA\", \"size\": 5.0}, {\"id\": \"_test_get_original_line_number.py\", \"text\": \"_test_get_original_line_number.py\", \"color\": \"#2E5EAA\", \"size\": 5.0}, {\"id\": \"_test_get_paths_to_origin.py\", \"text\": \"_test_get_paths_to_origin.py\", \"color\": \"#2E5EAA\", \"size\": 5.0}, {\"id\": \"_test_get_unified_changes.py\", \"text\": \"_test_get_unified_changes.py\", \"color\": \"#2E5EAA\", \"size\": 5.0}, {\"id\": \"_test_git2net.py\", \"text\": \"_test_git2net.py\", \"color\": \"#2E5EAA\", \"size\": 5.0}, {\"id\": \"_test_identify_edits.py\", \"text\": \"_test_identify_edits.py\", \"color\": \"#2E5EAA\", \"size\": 5.0}, {\"id\": \"_test_identify_file_renaming.py\", \"text\": \"_test_identify_file_renaming.py\", \"color\": \"#2E5EAA\", \"size\": 5.0}, {\"id\": \"_test_visualisation.py\", \"text\": \"_test_visualisation.py\", \"color\": \"#2E5EAA\", \"size\": 5.0}]};\n",
       "    var directed = true;\n",
       "\n",
       "    var simulation = d3.forceSimulation()        \n",
       "       .force(\"link\", d3.forceLink().id(function(d) { return d.id; }).strength(function(d){return d.weight;}))\n",
       "        .force(\"charge\", d3.forceManyBody().strength(-20).distanceMax(400))\n",
       "       .force(\"repelForce\", d3.forceManyBody().strength(-200).distanceMax(100))\n",
       "       .force(\"center\", d3.forceCenter(400 / 2, 400 / 2))\n",
       "       .alphaTarget(0.0);\n",
       "\n",
       "    svg.append(\"defs\").selectAll(\"marker\")\n",
       "        .data([\"end\"])\n",
       "    .enter().append(\"marker\")\n",
       "        .attr(\"id\", String)\n",
       "        .attr(\"viewBox\", \"0 -5 20 20\")\n",
       "        .attr(\"refX\", 34)\n",
       "        .attr(\"refY\", 0)\n",
       "        .attr(\"markerWidth\", 15)\n",
       "        .attr(\"markerHeight\", 15)\n",
       "        .attr(\"orient\", \"auto\")\n",
       "    .append(\"path\")\n",
       "        // draws a filled path (triangle) between three points\n",
       "        .attr(\"d\", \"M0,-5 L20,0 L0,5 z\")\n",
       "        .attr(\"fill\", '#999')\n",
       "        .attr(\"stroke\", 'none');\n",
       "\n",
       "    var g = svg.append(\"g\")\n",
       "        .attr(\"class\", \"everything\");\n",
       "\n",
       "    var link = g.append(\"g\")\n",
       "        .attr(\"class\", \"links_pWzgjkwh\")\n",
       "        .selectAll(\"line\")\n",
       "        .data(graph.links)\n",
       "        .enter().append(\"line\")\n",
       "        .attr(\"stroke-width\", function(d) { return d.width; })\n",
       "        .attr(\"stroke\", function(d) { return d.color; } );\n",
       "\n",
       "    if (directed)\n",
       "        link.attr(\"marker-end\", \"url(#end)\");\n",
       "\n",
       "    var node_g = g.append(\"g\")\n",
       "        .attr(\"class\", \"nodes_pWzgjkwh\")\n",
       "        .selectAll(\"circle\")\n",
       "        .data(graph.nodes)\n",
       "        .enter()\n",
       "        .append(\"g\"); \n",
       "\n",
       "    var node = node_g.append(\"circle\")\n",
       "        .attr('id', function(d) { return d.id; })\n",
       "        .attr(\"r\", function(d) { return d.size; })\n",
       "        .attr(\"fill\", function(d) { return d.color; })\n",
       "        .call(d3.drag()\n",
       "            .on(\"start\", dragstarted)\n",
       "            .on(\"drag\", dragged)\n",
       "            .on(\"end\", dragended));\n",
       "\n",
       "    var text = node_g.append(\"text\")\n",
       "    .attr(\"x\", [0, -10][0])\n",
       "    .attr(\"y\", [0, -10][1]+3)\n",
       "    .attr(\"id\", function(d) {return d.id; })\n",
       "    .attr(\"class\", \"label_pWzgjkwh\")\n",
       "    .text(function(d) { return d.id; });\n",
       "\n",
       "    node.append(\"title\")\n",
       "        .text(function(d) { return d.text; });\n",
       "\n",
       "    var zoom_handler = d3.zoom()\n",
       "        .on(\"zoom\", zoom_actions);\n",
       "    zoom_handler(svg);\n",
       "\n",
       "    // attach event handler for svg export\n",
       "    d3.select('#pWzgjkwh_svg_txt').on(\"click\", save_svg);\n",
       "\n",
       "    simulation\n",
       "        .nodes(graph.nodes)\n",
       "        .on(\"tick\", ticked);\n",
       "\n",
       "    simulation.force(\"link\")\n",
       "        .links(graph.links);\n",
       "\n",
       "    function ticked() {\n",
       "        link.attr(\"x1\", function(d) { return d.source.x; })\n",
       "            .attr(\"y1\", function(d) { return d.source.y; })\n",
       "            .attr(\"x2\", function(d) { return d.target.x; })\n",
       "            .attr(\"y2\", function(d) { return d.target.y; });\n",
       "\n",
       "         text.attr(\"transform\", transform);\n",
       "\n",
       "\n",
       "        text.attr(\"cx\", function(d) { return d.x; })\n",
       "            .attr(\"cy\", function(d) { return d.y; });\n",
       "\n",
       "        node.attr(\"cx\", function(d) { return d.x; })\n",
       "            .attr(\"cy\", function(d) { return d.y; });\n",
       "    }\n",
       "\n",
       "    function transform(d) {\n",
       "        return \"translate(\" + d.x + \",\" + d.y + \")\";\n",
       "    }\n",
       "\n",
       "    function dragstarted(d) {\n",
       "    if (!d3.event.active) simulation.alphaTarget(0.3).restart();\n",
       "    d.fx = d.x;\n",
       "    d.fy = d.y;\n",
       "    }\n",
       "\n",
       "    function zoom_actions(){\n",
       "        g.attr(\"transform\", d3.event.transform)\n",
       "    }    \n",
       "\n",
       "    function dragged(d) {\n",
       "    d.fx = d3.event.x;\n",
       "    d.fy = d3.event.y;\n",
       "    }\n",
       "\n",
       "    function dragended(d) {\n",
       "    if (!d3.event.active) simulation.alphaTarget(0);\n",
       "    d.fx = null;\n",
       "    d.fy = null;\n",
       "    }\n",
       "\n",
       "    function to_svg() {\n",
       "        // Returns a SVG representation of the current state of the visualisation\n",
       "\t    var svg  = document.getElementById('pWzgjkwh');\n",
       "\t    var xml = (new XMLSerializer).serializeToString(svg);\n",
       "        return xml;\n",
       "    }\n",
       "\n",
       "    function save_svg() {\n",
       "        var svg  = document.getElementById('pWzgjkwh');\n",
       "        var xml = (new XMLSerializer).serializeToString(svg);        \n",
       "        var blob = new Blob([xml], {type: 'text/xml'});\n",
       "        if(window.navigator.msSaveOrOpenBlob) {\n",
       "            window.navigator.msSaveBlob(blob, 'network.svg');\n",
       "        }\n",
       "        else{\n",
       "            var elem = window.document.createElement('a');\n",
       "            elem.href = window.URL.createObjectURL(blob);\n",
       "            elem.download = 'network.svg';\n",
       "            document.body.appendChild(elem);\n",
       "            elem.click();\n",
       "            document.body.removeChild(elem);\n",
       "        }\n",
       "    }\n",
       "});\n",
       "</script>"
      ],
      "text/plain": [
       "<IPython.core.display.HTML object>"
      ]
     },
     "metadata": {},
     "output_type": "display_data"
    }
   ],
   "source": [
    "colour_map = {'author': '#73D2DE', 'file': '#2E5EAA'}\n",
    "node_color = {node: colour_map[node_info['class'][node]] for node in n.nodes}\n",
    "pp.visualisation.plot(n, node_color=node_color)"
   ]
  },
  {
   "cell_type": "markdown",
   "metadata": {},
   "source": [
    "The projection of this network that links authors editing the same file is the co-authorship network."
   ]
  },
  {
   "cell_type": "code",
   "execution_count": 18,
   "metadata": {},
   "outputs": [
    {
     "data": {
      "text/html": [
       "<style>\n",
       "    text.label_nFYtPpWc {\n",
       "        text-anchor: middle;\n",
       "        font-size: 8px;\n",
       "        font-family: Arial, Helvetica, sans-serif;\n",
       "        fill: #999999;\n",
       "        stroke: #ffffff;\n",
       "        stroke-width: 0.1px;\n",
       "        opacity: 1.0;\n",
       "    }\n",
       "    .links_nFYtPpWc line {\n",
       "    stroke-opacity: 1.0;\n",
       "    }\n",
       "    .arrows svg:path {\n",
       "        stroke: #666;\n",
       "    }\n",
       "    .nodes_nFYtPpWc circle {\n",
       "    stroke: #fff;\n",
       "    stroke-width: 0.5px;\n",
       "    }\n",
       "</style>\n",
       "\n",
       "<svg width=\"400\" height=\"400\" id=\"nFYtPpWc\">        \n",
       "    <text x=\"20\" y=\"20\" font-family=\"sans-serif\" font-size=\"14px\" fill=\"#666\" style=\"cursor: pointer\"\n",
       "        id='nFYtPpWc_svg_txt'>[save svg]</text>\n",
       "</svg>\n",
       "\n",
       "<script charset=\"utf-8\" src=\"https://d3js.org/d3.v4.min.js\"></script>\n",
       "<script charset=\"utf-8\">\n",
       "\n",
       "// Load via requireJS if available (jupyter notebook environment)\n",
       "try {\n",
       "    // Problem: require.config will raise an exception when called for the second time \n",
       "    require.config({\n",
       "        paths: {\n",
       "            //d3: \"https://d3js.org/d3.v4.min\"\n",
       "            d3: \"https://d3js.org/d3.v4.min.js\".replace(\".js\", \"\")\n",
       "        }\n",
       "    });\n",
       "    console.log(\"Detected requireJS\");\n",
       "}\n",
       "catch(err){\n",
       "    // a reference error indicates that requireJS does not exist. \n",
       "    // other errors may occur due to multiple calls to config\n",
       "    if (err instanceof ReferenceError){\n",
       "        console.log(\"Detected no requireJS\");\n",
       "\n",
       "        // Helper function that waits for d3js to be loaded\n",
       "        require = function require(symbols, callback) {\n",
       "            var ms = 5;\n",
       "            window.setTimeout(function(t) {\n",
       "                if (window[symbols[0]])\n",
       "                    callback(window[symbols[0]]);\n",
       "                else \n",
       "                    window.setTimeout(arguments.callee, ms);\n",
       "            }, ms);\n",
       "        }\n",
       "    }\n",
       "}\n",
       "\n",
       "// wait until d3js has been loaded\n",
       "require([\"d3\"], function(d3) {\n",
       "    var svg = d3.select(\"#\"+\"nFYtPpWc\"), radius = 6, width = +svg.attr(\"width\"), height = +svg.attr(\"height\");\n",
       "\n",
       "    var color = d3.scaleOrdinal(d3.schemeCategory20);\n",
       "\n",
       "    var graph = {\"links\": [{\"source\": \"Christoph Gote\", \"target\": \"Ingo Scholtes\", \"color\": \"#999999\", \"width\": 0.5, \"weight\": 0.5}, {\"source\": \"Jan Philip\", \"target\": \"Milo Trujillo\", \"color\": \"#999999\", \"width\": 0.5, \"weight\": 0.25}, {\"source\": \"Christoph Gote\", \"target\": \"Milo Trujillo\", \"color\": \"#999999\", \"width\": 0.5, \"weight\": 0.25}, {\"source\": \"Christoph Gote\", \"target\": \"Jan Philip\", \"color\": \"#999999\", \"width\": 0.5, \"weight\": 0.25}, {\"source\": \"Christoph Gote\", \"target\": \"Sebastian Zug\", \"color\": \"#999999\", \"width\": 0.5, \"weight\": 0.5}, {\"source\": \"Breee\", \"target\": \"Christoph Gote\", \"color\": \"#999999\", \"width\": 0.5, \"weight\": 0.5}], \"nodes\": [{\"id\": \"Ingo Scholtes\", \"text\": \"Ingo Scholtes\", \"color\": \"#99ccff\", \"size\": 5.0}, {\"id\": \"Christoph Gote\", \"text\": \"Christoph Gote\", \"color\": \"#99ccff\", \"size\": 5.0}, {\"id\": \"Milo Trujillo\", \"text\": \"Milo Trujillo\", \"color\": \"#99ccff\", \"size\": 5.0}, {\"id\": \"Jan Philip\", \"text\": \"Jan Philip\", \"color\": \"#99ccff\", \"size\": 5.0}, {\"id\": \"Sebastian Zug\", \"text\": \"Sebastian Zug\", \"color\": \"#99ccff\", \"size\": 5.0}, {\"id\": \"Breee\", \"text\": \"Breee\", \"color\": \"#99ccff\", \"size\": 5.0}]};\n",
       "    var directed = false;\n",
       "\n",
       "    var simulation = d3.forceSimulation()        \n",
       "       .force(\"link\", d3.forceLink().id(function(d) { return d.id; }).strength(function(d){return d.weight;}))\n",
       "        .force(\"charge\", d3.forceManyBody().strength(-20).distanceMax(400))\n",
       "       .force(\"repelForce\", d3.forceManyBody().strength(-200).distanceMax(100))\n",
       "       .force(\"center\", d3.forceCenter(400 / 2, 400 / 2))\n",
       "       .alphaTarget(0.0);\n",
       "\n",
       "    svg.append(\"defs\").selectAll(\"marker\")\n",
       "        .data([\"end\"])\n",
       "    .enter().append(\"marker\")\n",
       "        .attr(\"id\", String)\n",
       "        .attr(\"viewBox\", \"0 -5 20 20\")\n",
       "        .attr(\"refX\", 34)\n",
       "        .attr(\"refY\", 0)\n",
       "        .attr(\"markerWidth\", 15)\n",
       "        .attr(\"markerHeight\", 15)\n",
       "        .attr(\"orient\", \"auto\")\n",
       "    .append(\"path\")\n",
       "        // draws a filled path (triangle) between three points\n",
       "        .attr(\"d\", \"M0,-5 L20,0 L0,5 z\")\n",
       "        .attr(\"fill\", '#999')\n",
       "        .attr(\"stroke\", 'none');\n",
       "\n",
       "    var g = svg.append(\"g\")\n",
       "        .attr(\"class\", \"everything\");\n",
       "\n",
       "    var link = g.append(\"g\")\n",
       "        .attr(\"class\", \"links_nFYtPpWc\")\n",
       "        .selectAll(\"line\")\n",
       "        .data(graph.links)\n",
       "        .enter().append(\"line\")\n",
       "        .attr(\"stroke-width\", function(d) { return d.width; })\n",
       "        .attr(\"stroke\", function(d) { return d.color; } );\n",
       "\n",
       "    if (directed)\n",
       "        link.attr(\"marker-end\", \"url(#end)\");\n",
       "\n",
       "    var node_g = g.append(\"g\")\n",
       "        .attr(\"class\", \"nodes_nFYtPpWc\")\n",
       "        .selectAll(\"circle\")\n",
       "        .data(graph.nodes)\n",
       "        .enter()\n",
       "        .append(\"g\"); \n",
       "\n",
       "    var node = node_g.append(\"circle\")\n",
       "        .attr('id', function(d) { return d.id; })\n",
       "        .attr(\"r\", function(d) { return d.size; })\n",
       "        .attr(\"fill\", function(d) { return d.color; })\n",
       "        .call(d3.drag()\n",
       "            .on(\"start\", dragstarted)\n",
       "            .on(\"drag\", dragged)\n",
       "            .on(\"end\", dragended));\n",
       "\n",
       "    var text = node_g.append(\"text\")\n",
       "    .attr(\"x\", [0, -10][0])\n",
       "    .attr(\"y\", [0, -10][1]+3)\n",
       "    .attr(\"id\", function(d) {return d.id; })\n",
       "    .attr(\"class\", \"label_nFYtPpWc\")\n",
       "    .text(function(d) { return d.id; });\n",
       "\n",
       "    node.append(\"title\")\n",
       "        .text(function(d) { return d.text; });\n",
       "\n",
       "    var zoom_handler = d3.zoom()\n",
       "        .on(\"zoom\", zoom_actions);\n",
       "    zoom_handler(svg);\n",
       "\n",
       "    // attach event handler for svg export\n",
       "    d3.select('#nFYtPpWc_svg_txt').on(\"click\", save_svg);\n",
       "\n",
       "    simulation\n",
       "        .nodes(graph.nodes)\n",
       "        .on(\"tick\", ticked);\n",
       "\n",
       "    simulation.force(\"link\")\n",
       "        .links(graph.links);\n",
       "\n",
       "    function ticked() {\n",
       "        link.attr(\"x1\", function(d) { return d.source.x; })\n",
       "            .attr(\"y1\", function(d) { return d.source.y; })\n",
       "            .attr(\"x2\", function(d) { return d.target.x; })\n",
       "            .attr(\"y2\", function(d) { return d.target.y; });\n",
       "\n",
       "         text.attr(\"transform\", transform);\n",
       "\n",
       "\n",
       "        text.attr(\"cx\", function(d) { return d.x; })\n",
       "            .attr(\"cy\", function(d) { return d.y; });\n",
       "\n",
       "        node.attr(\"cx\", function(d) { return d.x; })\n",
       "            .attr(\"cy\", function(d) { return d.y; });\n",
       "    }\n",
       "\n",
       "    function transform(d) {\n",
       "        return \"translate(\" + d.x + \",\" + d.y + \")\";\n",
       "    }\n",
       "\n",
       "    function dragstarted(d) {\n",
       "    if (!d3.event.active) simulation.alphaTarget(0.3).restart();\n",
       "    d.fx = d.x;\n",
       "    d.fy = d.y;\n",
       "    }\n",
       "\n",
       "    function zoom_actions(){\n",
       "        g.attr(\"transform\", d3.event.transform)\n",
       "    }    \n",
       "\n",
       "    function dragged(d) {\n",
       "    d.fx = d3.event.x;\n",
       "    d.fy = d3.event.y;\n",
       "    }\n",
       "\n",
       "    function dragended(d) {\n",
       "    if (!d3.event.active) simulation.alphaTarget(0);\n",
       "    d.fx = null;\n",
       "    d.fy = null;\n",
       "    }\n",
       "\n",
       "    function to_svg() {\n",
       "        // Returns a SVG representation of the current state of the visualisation\n",
       "\t    var svg  = document.getElementById('nFYtPpWc');\n",
       "\t    var xml = (new XMLSerializer).serializeToString(svg);\n",
       "        return xml;\n",
       "    }\n",
       "\n",
       "    function save_svg() {\n",
       "        var svg  = document.getElementById('nFYtPpWc');\n",
       "        var xml = (new XMLSerializer).serializeToString(svg);        \n",
       "        var blob = new Blob([xml], {type: 'text/xml'});\n",
       "        if(window.navigator.msSaveOrOpenBlob) {\n",
       "            window.navigator.msSaveBlob(blob, 'network.svg');\n",
       "        }\n",
       "        else{\n",
       "            var elem = window.document.createElement('a');\n",
       "            elem.href = window.URL.createObjectURL(blob);\n",
       "            elem.download = 'network.svg';\n",
       "            document.body.appendChild(elem);\n",
       "            elem.click();\n",
       "            document.body.removeChild(elem);\n",
       "        }\n",
       "    }\n",
       "});\n",
       "</script>"
      ],
      "text/plain": [
       "<pathpy.classes.network.Network at 0x7feff3eede50>"
      ]
     },
     "execution_count": 18,
     "metadata": {},
     "output_type": "execute_result"
    }
   ],
   "source": [
    "n, node_info, edge_info = git2net.get_coauthorship_network(sqlite_db_file)\n",
    "n"
   ]
  },
  {
   "cell_type": "markdown",
   "metadata": {},
   "source": [
    "Note that it looks similar, however, all information on the direction of interactions is lost.\n",
    "\n",
    "If we are interested in e.g more recently edited files, we can filter the database by providing the time_from and time_to options. Let's check the files edited since May 2019."
   ]
  },
  {
   "cell_type": "code",
   "execution_count": 19,
   "metadata": {},
   "outputs": [
    {
     "data": {
      "text/html": [
       "<style>\n",
       "    text.label_XwqQeyfl {\n",
       "        text-anchor: middle;\n",
       "        font-size: 8px;\n",
       "        font-family: Arial, Helvetica, sans-serif;\n",
       "        fill: #999999;\n",
       "        stroke: #ffffff;\n",
       "        stroke-width: 0.1px;\n",
       "        opacity: 1.0;\n",
       "    }\n",
       "    .links_XwqQeyfl line {\n",
       "    stroke-opacity: 1.0;\n",
       "    }\n",
       "    .arrows svg:path {\n",
       "        stroke: #666;\n",
       "    }\n",
       "    .nodes_XwqQeyfl circle {\n",
       "    stroke: #fff;\n",
       "    stroke-width: 0.5px;\n",
       "    }\n",
       "</style>\n",
       "\n",
       "<svg width=\"400\" height=\"400\" id=\"XwqQeyfl\">        \n",
       "    <text x=\"20\" y=\"20\" font-family=\"sans-serif\" font-size=\"14px\" fill=\"#666\" style=\"cursor: pointer\"\n",
       "        id='XwqQeyfl_svg_txt'>[save svg]</text>\n",
       "</svg>\n",
       "\n",
       "<script charset=\"utf-8\" src=\"https://d3js.org/d3.v4.min.js\"></script>\n",
       "<script charset=\"utf-8\">\n",
       "\n",
       "// Load via requireJS if available (jupyter notebook environment)\n",
       "try {\n",
       "    // Problem: require.config will raise an exception when called for the second time \n",
       "    require.config({\n",
       "        paths: {\n",
       "            //d3: \"https://d3js.org/d3.v4.min\"\n",
       "            d3: \"https://d3js.org/d3.v4.min.js\".replace(\".js\", \"\")\n",
       "        }\n",
       "    });\n",
       "    console.log(\"Detected requireJS\");\n",
       "}\n",
       "catch(err){\n",
       "    // a reference error indicates that requireJS does not exist. \n",
       "    // other errors may occur due to multiple calls to config\n",
       "    if (err instanceof ReferenceError){\n",
       "        console.log(\"Detected no requireJS\");\n",
       "\n",
       "        // Helper function that waits for d3js to be loaded\n",
       "        require = function require(symbols, callback) {\n",
       "            var ms = 5;\n",
       "            window.setTimeout(function(t) {\n",
       "                if (window[symbols[0]])\n",
       "                    callback(window[symbols[0]]);\n",
       "                else \n",
       "                    window.setTimeout(arguments.callee, ms);\n",
       "            }, ms);\n",
       "        }\n",
       "    }\n",
       "}\n",
       "\n",
       "// wait until d3js has been loaded\n",
       "require([\"d3\"], function(d3) {\n",
       "    var svg = d3.select(\"#\"+\"XwqQeyfl\"), radius = 6, width = +svg.attr(\"width\"), height = +svg.attr(\"height\");\n",
       "\n",
       "    var color = d3.scaleOrdinal(d3.schemeCategory20);\n",
       "\n",
       "    var graph = {\"links\": [{\"source\": \"Christoph Gote\", \"target\": \"extraction.py\", \"color\": \"#999999\", \"width\": 0.5, \"weight\": 0.9692307692307692}, {\"source\": \"Christoph Gote\", \"target\": \"visualisation.py\", \"color\": \"#999999\", \"width\": 0.5, \"weight\": 1.0}, {\"source\": \"Christoph Gote\", \"target\": \"__init__.py\", \"color\": \"#999999\", \"width\": 0.5, \"weight\": 1.0}, {\"source\": \"Christoph Gote\", \"target\": \"README.md\", \"color\": \"#999999\", \"width\": 0.5, \"weight\": 1.0}, {\"source\": \"Jan Philip\", \"target\": \"extraction.py\", \"color\": \"#999999\", \"width\": 0.5, \"weight\": 1.0}, {\"source\": \"Christoph Gote\", \"target\": \"TUTORIAL.ipynb\", \"color\": \"#999999\", \"width\": 0.5, \"weight\": 0.7777777777777778}, {\"source\": \"Christoph Gote\", \"target\": \"requirements.txt\", \"color\": \"#999999\", \"width\": 0.5, \"weight\": 1.0}, {\"source\": \"Christoph Gote\", \"target\": \"test_functions.py\", \"color\": \"#999999\", \"width\": 0.5, \"weight\": 1.0}, {\"source\": \"Christoph Gote\", \"target\": \"git2net.py\", \"color\": \"#999999\", \"width\": 0.5, \"weight\": 1.0}, {\"source\": \"Sebastian Zug\", \"target\": \"TUTORIAL.ipynb\", \"color\": \"#999999\", \"width\": 0.5, \"weight\": 1.0}, {\"source\": \"Milo Trujillo\", \"target\": \"extraction.py\", \"color\": \"#999999\", \"width\": 0.5, \"weight\": 1.0}, {\"source\": \"Breee\", \"target\": \"command_line.py\", \"color\": \"#999999\", \"width\": 0.5, \"weight\": 1.0}, {\"source\": \"Christoph Gote\", \"target\": \".gitmodules\", \"color\": \"#999999\", \"width\": 0.5, \"weight\": 1.0}, {\"source\": \"Christoph Gote\", \"target\": \"command_line.py\", \"color\": \"#999999\", \"width\": 0.5, \"weight\": 0.6666666666666666}, {\"source\": \"Christoph Gote\", \"target\": \"setup.py\", \"color\": \"#999999\", \"width\": 0.5, \"weight\": 1.0}], \"nodes\": [{\"id\": \"Christoph Gote\", \"text\": \"Christoph Gote\", \"color\": \"#73D2DE\", \"size\": 5.0}, {\"id\": \"extraction.py\", \"text\": \"extraction.py\", \"color\": \"#2E5EAA\", \"size\": 5.0}, {\"id\": \"visualisation.py\", \"text\": \"visualisation.py\", \"color\": \"#2E5EAA\", \"size\": 5.0}, {\"id\": \"__init__.py\", \"text\": \"__init__.py\", \"color\": \"#2E5EAA\", \"size\": 5.0}, {\"id\": \"README.md\", \"text\": \"README.md\", \"color\": \"#2E5EAA\", \"size\": 5.0}, {\"id\": \"Jan Philip\", \"text\": \"Jan Philip\", \"color\": \"#73D2DE\", \"size\": 5.0}, {\"id\": \"TUTORIAL.ipynb\", \"text\": \"TUTORIAL.ipynb\", \"color\": \"#2E5EAA\", \"size\": 5.0}, {\"id\": \"requirements.txt\", \"text\": \"requirements.txt\", \"color\": \"#2E5EAA\", \"size\": 5.0}, {\"id\": \"test_functions.py\", \"text\": \"test_functions.py\", \"color\": \"#2E5EAA\", \"size\": 5.0}, {\"id\": \"git2net.py\", \"text\": \"git2net.py\", \"color\": \"#2E5EAA\", \"size\": 5.0}, {\"id\": \"Sebastian Zug\", \"text\": \"Sebastian Zug\", \"color\": \"#73D2DE\", \"size\": 5.0}, {\"id\": \"Milo Trujillo\", \"text\": \"Milo Trujillo\", \"color\": \"#73D2DE\", \"size\": 5.0}, {\"id\": \"Breee\", \"text\": \"Breee\", \"color\": \"#73D2DE\", \"size\": 5.0}, {\"id\": \"command_line.py\", \"text\": \"command_line.py\", \"color\": \"#2E5EAA\", \"size\": 5.0}, {\"id\": \".gitmodules\", \"text\": \".gitmodules\", \"color\": \"#2E5EAA\", \"size\": 5.0}, {\"id\": \"setup.py\", \"text\": \"setup.py\", \"color\": \"#2E5EAA\", \"size\": 5.0}]};\n",
       "    var directed = true;\n",
       "\n",
       "    var simulation = d3.forceSimulation()        \n",
       "       .force(\"link\", d3.forceLink().id(function(d) { return d.id; }).strength(function(d){return d.weight;}))\n",
       "        .force(\"charge\", d3.forceManyBody().strength(-20).distanceMax(400))\n",
       "       .force(\"repelForce\", d3.forceManyBody().strength(-200).distanceMax(100))\n",
       "       .force(\"center\", d3.forceCenter(400 / 2, 400 / 2))\n",
       "       .alphaTarget(0.0);\n",
       "\n",
       "    svg.append(\"defs\").selectAll(\"marker\")\n",
       "        .data([\"end\"])\n",
       "    .enter().append(\"marker\")\n",
       "        .attr(\"id\", String)\n",
       "        .attr(\"viewBox\", \"0 -5 20 20\")\n",
       "        .attr(\"refX\", 34)\n",
       "        .attr(\"refY\", 0)\n",
       "        .attr(\"markerWidth\", 15)\n",
       "        .attr(\"markerHeight\", 15)\n",
       "        .attr(\"orient\", \"auto\")\n",
       "    .append(\"path\")\n",
       "        // draws a filled path (triangle) between three points\n",
       "        .attr(\"d\", \"M0,-5 L20,0 L0,5 z\")\n",
       "        .attr(\"fill\", '#999')\n",
       "        .attr(\"stroke\", 'none');\n",
       "\n",
       "    var g = svg.append(\"g\")\n",
       "        .attr(\"class\", \"everything\");\n",
       "\n",
       "    var link = g.append(\"g\")\n",
       "        .attr(\"class\", \"links_XwqQeyfl\")\n",
       "        .selectAll(\"line\")\n",
       "        .data(graph.links)\n",
       "        .enter().append(\"line\")\n",
       "        .attr(\"stroke-width\", function(d) { return d.width; })\n",
       "        .attr(\"stroke\", function(d) { return d.color; } );\n",
       "\n",
       "    if (directed)\n",
       "        link.attr(\"marker-end\", \"url(#end)\");\n",
       "\n",
       "    var node_g = g.append(\"g\")\n",
       "        .attr(\"class\", \"nodes_XwqQeyfl\")\n",
       "        .selectAll(\"circle\")\n",
       "        .data(graph.nodes)\n",
       "        .enter()\n",
       "        .append(\"g\"); \n",
       "\n",
       "    var node = node_g.append(\"circle\")\n",
       "        .attr('id', function(d) { return d.id; })\n",
       "        .attr(\"r\", function(d) { return d.size; })\n",
       "        .attr(\"fill\", function(d) { return d.color; })\n",
       "        .call(d3.drag()\n",
       "            .on(\"start\", dragstarted)\n",
       "            .on(\"drag\", dragged)\n",
       "            .on(\"end\", dragended));\n",
       "\n",
       "    var text = node_g.append(\"text\")\n",
       "    .attr(\"x\", [0, -10][0])\n",
       "    .attr(\"y\", [0, -10][1]+3)\n",
       "    .attr(\"id\", function(d) {return d.id; })\n",
       "    .attr(\"class\", \"label_XwqQeyfl\")\n",
       "    .text(function(d) { return d.id; });\n",
       "\n",
       "    node.append(\"title\")\n",
       "        .text(function(d) { return d.text; });\n",
       "\n",
       "    var zoom_handler = d3.zoom()\n",
       "        .on(\"zoom\", zoom_actions);\n",
       "    zoom_handler(svg);\n",
       "\n",
       "    // attach event handler for svg export\n",
       "    d3.select('#XwqQeyfl_svg_txt').on(\"click\", save_svg);\n",
       "\n",
       "    simulation\n",
       "        .nodes(graph.nodes)\n",
       "        .on(\"tick\", ticked);\n",
       "\n",
       "    simulation.force(\"link\")\n",
       "        .links(graph.links);\n",
       "\n",
       "    function ticked() {\n",
       "        link.attr(\"x1\", function(d) { return d.source.x; })\n",
       "            .attr(\"y1\", function(d) { return d.source.y; })\n",
       "            .attr(\"x2\", function(d) { return d.target.x; })\n",
       "            .attr(\"y2\", function(d) { return d.target.y; });\n",
       "\n",
       "         text.attr(\"transform\", transform);\n",
       "\n",
       "\n",
       "        text.attr(\"cx\", function(d) { return d.x; })\n",
       "            .attr(\"cy\", function(d) { return d.y; });\n",
       "\n",
       "        node.attr(\"cx\", function(d) { return d.x; })\n",
       "            .attr(\"cy\", function(d) { return d.y; });\n",
       "    }\n",
       "\n",
       "    function transform(d) {\n",
       "        return \"translate(\" + d.x + \",\" + d.y + \")\";\n",
       "    }\n",
       "\n",
       "    function dragstarted(d) {\n",
       "    if (!d3.event.active) simulation.alphaTarget(0.3).restart();\n",
       "    d.fx = d.x;\n",
       "    d.fy = d.y;\n",
       "    }\n",
       "\n",
       "    function zoom_actions(){\n",
       "        g.attr(\"transform\", d3.event.transform)\n",
       "    }    \n",
       "\n",
       "    function dragged(d) {\n",
       "    d.fx = d3.event.x;\n",
       "    d.fy = d3.event.y;\n",
       "    }\n",
       "\n",
       "    function dragended(d) {\n",
       "    if (!d3.event.active) simulation.alphaTarget(0);\n",
       "    d.fx = null;\n",
       "    d.fy = null;\n",
       "    }\n",
       "\n",
       "    function to_svg() {\n",
       "        // Returns a SVG representation of the current state of the visualisation\n",
       "\t    var svg  = document.getElementById('XwqQeyfl');\n",
       "\t    var xml = (new XMLSerializer).serializeToString(svg);\n",
       "        return xml;\n",
       "    }\n",
       "\n",
       "    function save_svg() {\n",
       "        var svg  = document.getElementById('XwqQeyfl');\n",
       "        var xml = (new XMLSerializer).serializeToString(svg);        \n",
       "        var blob = new Blob([xml], {type: 'text/xml'});\n",
       "        if(window.navigator.msSaveOrOpenBlob) {\n",
       "            window.navigator.msSaveBlob(blob, 'network.svg');\n",
       "        }\n",
       "        else{\n",
       "            var elem = window.document.createElement('a');\n",
       "            elem.href = window.URL.createObjectURL(blob);\n",
       "            elem.download = 'network.svg';\n",
       "            document.body.appendChild(elem);\n",
       "            elem.click();\n",
       "            document.body.removeChild(elem);\n",
       "        }\n",
       "    }\n",
       "});\n",
       "</script>"
      ],
      "text/plain": [
       "<IPython.core.display.HTML object>"
      ]
     },
     "metadata": {},
     "output_type": "display_data"
    }
   ],
   "source": [
    "from datetime import datetime\n",
    "time_from = datetime(2019, 5, 1)\n",
    "t, node_info, edge_info = git2net.get_bipartite_network(sqlite_db_file, time_from=time_from)\n",
    "n = pp.Network.from_temporal_network(t)\n",
    "colour_map = {'author': '#73D2DE', 'file': '#2E5EAA'}\n",
    "node_color = {node: colour_map[node_info['class'][node]] for node in n.nodes}\n",
    "pp.visualisation.plot(n, node_color=node_color)"
   ]
  },
  {
   "cell_type": "markdown",
   "metadata": {},
   "source": [
    "git2net allows the extraction of editing paths on the level of individual lines. I.e. we are able to track consecutive changes made to a single line over time—even if these lines move up or down in a file, or even across files. This is very powerful, as it allows us to determine editing sequences as well as find lines that require more editing than others. These could either be very difficult lines to implement or contain very important information, such as the version number in an __init__.py file.\n",
    "\n",
    "To extract these paths, we can use the get_line_editing_paths function. As these networks tend be very large we limit the analysis to a very small file for this tutorial. To only look at a specific set of file paths we can use the file_paths option."
   ]
  },
  {
   "cell_type": "code",
   "execution_count": 20,
   "metadata": {},
   "outputs": [
    {
     "name": "stderr",
     "output_type": "stream",
     "text": [
      " 22%|██▏       | 4/18 [00:00<00:00, 35.12it/s]"
     ]
    },
    {
     "name": "stdout",
     "output_type": "stream",
     "text": [
      "Querying commits\n",
      "Querying edits\n"
     ]
    },
    {
     "name": "stderr",
     "output_type": "stream",
     "text": [
      "100%|██████████| 18/18 [00:00<00:00, 40.06it/s]\n",
      "100%|██████████| 52/52 [00:00<00:00, 88696.14it/s]"
     ]
    },
    {
     "name": "stdout",
     "output_type": "stream",
     "text": [
      "2021-03-06 15:17:08 [Severity.INFO]\tCreating paths from directed acyclic graph\n",
      "2021-03-06 15:17:08 [Severity.INFO]\tExpanding Subpaths\n",
      "2021-03-06 15:17:08 [Severity.INFO]\tCalculating sub path statistics ... \n",
      "2021-03-06 15:17:08 [Severity.INFO]\tfinished.\n"
     ]
    },
    {
     "name": "stderr",
     "output_type": "stream",
     "text": [
      "\n"
     ]
    },
    {
     "data": {
      "text/html": [
       "<style>\n",
       "    text.label_JruWSPhw {\n",
       "        text-anchor: middle;\n",
       "        font-size: 8px;\n",
       "        font-family: Arial, Helvetica, sans-serif;\n",
       "        fill: #999999;\n",
       "        stroke: #ffffff;\n",
       "        stroke-width: 0.1px;\n",
       "        opacity: 1.0;\n",
       "    }\n",
       "    .links_JruWSPhw line {\n",
       "    stroke-opacity: 1.0;\n",
       "    }\n",
       "    .arrows svg:path {\n",
       "        stroke: #666;\n",
       "    }\n",
       "    .nodes_JruWSPhw circle {\n",
       "    stroke: #fff;\n",
       "    stroke-width: 0.5px;\n",
       "    }\n",
       "</style>\n",
       "\n",
       "<svg width=\"400\" height=\"400\" id=\"JruWSPhw\">        \n",
       "    <text x=\"20\" y=\"20\" font-family=\"sans-serif\" font-size=\"14px\" fill=\"#666\" style=\"cursor: pointer\"\n",
       "        id='JruWSPhw_svg_txt'>[save svg]</text>\n",
       "</svg>\n",
       "\n",
       "<script charset=\"utf-8\" src=\"https://d3js.org/d3.v4.min.js\"></script>\n",
       "<script charset=\"utf-8\">\n",
       "\n",
       "// Load via requireJS if available (jupyter notebook environment)\n",
       "try {\n",
       "    // Problem: require.config will raise an exception when called for the second time \n",
       "    require.config({\n",
       "        paths: {\n",
       "            //d3: \"https://d3js.org/d3.v4.min\"\n",
       "            d3: \"https://d3js.org/d3.v4.min.js\".replace(\".js\", \"\")\n",
       "        }\n",
       "    });\n",
       "    console.log(\"Detected requireJS\");\n",
       "}\n",
       "catch(err){\n",
       "    // a reference error indicates that requireJS does not exist. \n",
       "    // other errors may occur due to multiple calls to config\n",
       "    if (err instanceof ReferenceError){\n",
       "        console.log(\"Detected no requireJS\");\n",
       "\n",
       "        // Helper function that waits for d3js to be loaded\n",
       "        require = function require(symbols, callback) {\n",
       "            var ms = 5;\n",
       "            window.setTimeout(function(t) {\n",
       "                if (window[symbols[0]])\n",
       "                    callback(window[symbols[0]]);\n",
       "                else \n",
       "                    window.setTimeout(arguments.callee, ms);\n",
       "            }, ms);\n",
       "        }\n",
       "    }\n",
       "}\n",
       "\n",
       "// wait until d3js has been loaded\n",
       "require([\"d3\"], function(d3) {\n",
       "    var svg = d3.select(\"#\"+\"JruWSPhw\"), radius = 6, width = +svg.attr(\"width\"), height = +svg.attr(\"height\");\n",
       "\n",
       "    var color = d3.scaleOrdinal(d3.schemeCategory20);\n",
       "\n",
       "    var graph = {\"links\": [{\"source\": \"L1 setup.py a3213cd995e850c8966355755c4ac2ff61f65503\", \"target\": \"L1 setup.py 806fc44d2250c316c75692601362aecabc63d137\", \"color\": \"#999999\", \"width\": 0.5, \"weight\": 1.0}, {\"source\": \"L2 setup.py a3213cd995e850c8966355755c4ac2ff61f65503\", \"target\": \"L2 setup.py 806fc44d2250c316c75692601362aecabc63d137\", \"color\": \"#999999\", \"width\": 0.5, \"weight\": 1.0}, {\"source\": \"L3 setup.py a3213cd995e850c8966355755c4ac2ff61f65503\", \"target\": \"L3 setup.py 806fc44d2250c316c75692601362aecabc63d137\", \"color\": \"#999999\", \"width\": 0.5, \"weight\": 1.0}, {\"source\": \"L4 setup.py a3213cd995e850c8966355755c4ac2ff61f65503\", \"target\": \"L4 setup.py 806fc44d2250c316c75692601362aecabc63d137\", \"color\": \"#999999\", \"width\": 0.5, \"weight\": 1.0}, {\"source\": \"L5 setup.py a3213cd995e850c8966355755c4ac2ff61f65503\", \"target\": \"L5 setup.py 806fc44d2250c316c75692601362aecabc63d137\", \"color\": \"#999999\", \"width\": 0.5, \"weight\": 1.0}, {\"source\": \"L6 setup.py a3213cd995e850c8966355755c4ac2ff61f65503\", \"target\": \"L6 setup.py 806fc44d2250c316c75692601362aecabc63d137\", \"color\": \"#999999\", \"width\": 0.5, \"weight\": 1.0}, {\"source\": \"L7 setup.py a3213cd995e850c8966355755c4ac2ff61f65503\", \"target\": \"L7 setup.py 806fc44d2250c316c75692601362aecabc63d137\", \"color\": \"#999999\", \"width\": 0.5, \"weight\": 1.0}, {\"source\": \"L8 setup.py a3213cd995e850c8966355755c4ac2ff61f65503\", \"target\": \"L8 setup.py 806fc44d2250c316c75692601362aecabc63d137\", \"color\": \"#999999\", \"width\": 0.5, \"weight\": 1.0}, {\"source\": \"L9 setup.py a3213cd995e850c8966355755c4ac2ff61f65503\", \"target\": \"L9 setup.py 806fc44d2250c316c75692601362aecabc63d137\", \"color\": \"#999999\", \"width\": 0.5, \"weight\": 1.0}, {\"source\": \"L10 setup.py a3213cd995e850c8966355755c4ac2ff61f65503\", \"target\": \"L10 setup.py 806fc44d2250c316c75692601362aecabc63d137\", \"color\": \"#999999\", \"width\": 0.5, \"weight\": 1.0}, {\"source\": \"L11 setup.py a3213cd995e850c8966355755c4ac2ff61f65503\", \"target\": \"L11 setup.py 806fc44d2250c316c75692601362aecabc63d137\", \"color\": \"#999999\", \"width\": 0.5, \"weight\": 1.0}, {\"source\": \"L27 setup.py 806fc44d2250c316c75692601362aecabc63d137\", \"target\": \"L27 setup.py 509e1394637f74a357ef2bf0c567dc6520a80eb6\", \"color\": \"#999999\", \"width\": 0.5, \"weight\": 1.0}], \"nodes\": [{\"id\": \"L1 setup.py a3213cd995e850c8966355755c4ac2ff61f65503\", \"text\": \"L1 setup.py a3213cd995e850c8966355755c4ac2ff61f65503\", \"color\": \"#73D2DE\", \"size\": 5.0}, {\"id\": \"L1 setup.py 806fc44d2250c316c75692601362aecabc63d137\", \"text\": \"L1 setup.py 806fc44d2250c316c75692601362aecabc63d137\", \"color\": \"#2E5EAA\", \"size\": 5.0}, {\"id\": \"L2 setup.py a3213cd995e850c8966355755c4ac2ff61f65503\", \"text\": \"L2 setup.py a3213cd995e850c8966355755c4ac2ff61f65503\", \"color\": \"#73D2DE\", \"size\": 5.0}, {\"id\": \"L2 setup.py 806fc44d2250c316c75692601362aecabc63d137\", \"text\": \"L2 setup.py 806fc44d2250c316c75692601362aecabc63d137\", \"color\": \"#2E5EAA\", \"size\": 5.0}, {\"id\": \"L3 setup.py a3213cd995e850c8966355755c4ac2ff61f65503\", \"text\": \"L3 setup.py a3213cd995e850c8966355755c4ac2ff61f65503\", \"color\": \"#73D2DE\", \"size\": 5.0}, {\"id\": \"L3 setup.py 806fc44d2250c316c75692601362aecabc63d137\", \"text\": \"L3 setup.py 806fc44d2250c316c75692601362aecabc63d137\", \"color\": \"#2E5EAA\", \"size\": 5.0}, {\"id\": \"L4 setup.py a3213cd995e850c8966355755c4ac2ff61f65503\", \"text\": \"L4 setup.py a3213cd995e850c8966355755c4ac2ff61f65503\", \"color\": \"#73D2DE\", \"size\": 5.0}, {\"id\": \"L4 setup.py 806fc44d2250c316c75692601362aecabc63d137\", \"text\": \"L4 setup.py 806fc44d2250c316c75692601362aecabc63d137\", \"color\": \"#2E5EAA\", \"size\": 5.0}, {\"id\": \"L5 setup.py a3213cd995e850c8966355755c4ac2ff61f65503\", \"text\": \"L5 setup.py a3213cd995e850c8966355755c4ac2ff61f65503\", \"color\": \"#73D2DE\", \"size\": 5.0}, {\"id\": \"L5 setup.py 806fc44d2250c316c75692601362aecabc63d137\", \"text\": \"L5 setup.py 806fc44d2250c316c75692601362aecabc63d137\", \"color\": \"#2E5EAA\", \"size\": 5.0}, {\"id\": \"L6 setup.py a3213cd995e850c8966355755c4ac2ff61f65503\", \"text\": \"L6 setup.py a3213cd995e850c8966355755c4ac2ff61f65503\", \"color\": \"#73D2DE\", \"size\": 5.0}, {\"id\": \"L6 setup.py 806fc44d2250c316c75692601362aecabc63d137\", \"text\": \"L6 setup.py 806fc44d2250c316c75692601362aecabc63d137\", \"color\": \"#2E5EAA\", \"size\": 5.0}, {\"id\": \"L7 setup.py a3213cd995e850c8966355755c4ac2ff61f65503\", \"text\": \"L7 setup.py a3213cd995e850c8966355755c4ac2ff61f65503\", \"color\": \"#73D2DE\", \"size\": 5.0}, {\"id\": \"L7 setup.py 806fc44d2250c316c75692601362aecabc63d137\", \"text\": \"L7 setup.py 806fc44d2250c316c75692601362aecabc63d137\", \"color\": \"#2E5EAA\", \"size\": 5.0}, {\"id\": \"L8 setup.py a3213cd995e850c8966355755c4ac2ff61f65503\", \"text\": \"L8 setup.py a3213cd995e850c8966355755c4ac2ff61f65503\", \"color\": \"#73D2DE\", \"size\": 5.0}, {\"id\": \"L8 setup.py 806fc44d2250c316c75692601362aecabc63d137\", \"text\": \"L8 setup.py 806fc44d2250c316c75692601362aecabc63d137\", \"color\": \"#2E5EAA\", \"size\": 5.0}, {\"id\": \"L9 setup.py a3213cd995e850c8966355755c4ac2ff61f65503\", \"text\": \"L9 setup.py a3213cd995e850c8966355755c4ac2ff61f65503\", \"color\": \"#73D2DE\", \"size\": 5.0}, {\"id\": \"L9 setup.py 806fc44d2250c316c75692601362aecabc63d137\", \"text\": \"L9 setup.py 806fc44d2250c316c75692601362aecabc63d137\", \"color\": \"#2E5EAA\", \"size\": 5.0}, {\"id\": \"L10 setup.py a3213cd995e850c8966355755c4ac2ff61f65503\", \"text\": \"L10 setup.py a3213cd995e850c8966355755c4ac2ff61f65503\", \"color\": \"#73D2DE\", \"size\": 5.0}, {\"id\": \"L10 setup.py 806fc44d2250c316c75692601362aecabc63d137\", \"text\": \"L10 setup.py 806fc44d2250c316c75692601362aecabc63d137\", \"color\": \"#2E5EAA\", \"size\": 5.0}, {\"id\": \"L11 setup.py a3213cd995e850c8966355755c4ac2ff61f65503\", \"text\": \"L11 setup.py a3213cd995e850c8966355755c4ac2ff61f65503\", \"color\": \"#73D2DE\", \"size\": 5.0}, {\"id\": \"L11 setup.py 806fc44d2250c316c75692601362aecabc63d137\", \"text\": \"L11 setup.py 806fc44d2250c316c75692601362aecabc63d137\", \"color\": \"#2E5EAA\", \"size\": 5.0}, {\"id\": \"L12 setup.py 806fc44d2250c316c75692601362aecabc63d137\", \"text\": \"L12 setup.py 806fc44d2250c316c75692601362aecabc63d137\", \"color\": \"#2E5EAA\", \"size\": 5.0}, {\"id\": \"L13 setup.py 806fc44d2250c316c75692601362aecabc63d137\", \"text\": \"L13 setup.py 806fc44d2250c316c75692601362aecabc63d137\", \"color\": \"#2E5EAA\", \"size\": 5.0}, {\"id\": \"L14 setup.py 806fc44d2250c316c75692601362aecabc63d137\", \"text\": \"L14 setup.py 806fc44d2250c316c75692601362aecabc63d137\", \"color\": \"#2E5EAA\", \"size\": 5.0}, {\"id\": \"L15 setup.py 806fc44d2250c316c75692601362aecabc63d137\", \"text\": \"L15 setup.py 806fc44d2250c316c75692601362aecabc63d137\", \"color\": \"#2E5EAA\", \"size\": 5.0}, {\"id\": \"L16 setup.py 806fc44d2250c316c75692601362aecabc63d137\", \"text\": \"L16 setup.py 806fc44d2250c316c75692601362aecabc63d137\", \"color\": \"#2E5EAA\", \"size\": 5.0}, {\"id\": \"L17 setup.py 806fc44d2250c316c75692601362aecabc63d137\", \"text\": \"L17 setup.py 806fc44d2250c316c75692601362aecabc63d137\", \"color\": \"#2E5EAA\", \"size\": 5.0}, {\"id\": \"L18 setup.py 806fc44d2250c316c75692601362aecabc63d137\", \"text\": \"L18 setup.py 806fc44d2250c316c75692601362aecabc63d137\", \"color\": \"#2E5EAA\", \"size\": 5.0}, {\"id\": \"L19 setup.py 806fc44d2250c316c75692601362aecabc63d137\", \"text\": \"L19 setup.py 806fc44d2250c316c75692601362aecabc63d137\", \"color\": \"#2E5EAA\", \"size\": 5.0}, {\"id\": \"L20 setup.py 806fc44d2250c316c75692601362aecabc63d137\", \"text\": \"L20 setup.py 806fc44d2250c316c75692601362aecabc63d137\", \"color\": \"#2E5EAA\", \"size\": 5.0}, {\"id\": \"L21 setup.py 806fc44d2250c316c75692601362aecabc63d137\", \"text\": \"L21 setup.py 806fc44d2250c316c75692601362aecabc63d137\", \"color\": \"#2E5EAA\", \"size\": 5.0}, {\"id\": \"L22 setup.py 806fc44d2250c316c75692601362aecabc63d137\", \"text\": \"L22 setup.py 806fc44d2250c316c75692601362aecabc63d137\", \"color\": \"#2E5EAA\", \"size\": 5.0}, {\"id\": \"L23 setup.py 806fc44d2250c316c75692601362aecabc63d137\", \"text\": \"L23 setup.py 806fc44d2250c316c75692601362aecabc63d137\", \"color\": \"#2E5EAA\", \"size\": 5.0}, {\"id\": \"L24 setup.py 806fc44d2250c316c75692601362aecabc63d137\", \"text\": \"L24 setup.py 806fc44d2250c316c75692601362aecabc63d137\", \"color\": \"#2E5EAA\", \"size\": 5.0}, {\"id\": \"L25 setup.py 806fc44d2250c316c75692601362aecabc63d137\", \"text\": \"L25 setup.py 806fc44d2250c316c75692601362aecabc63d137\", \"color\": \"#2E5EAA\", \"size\": 5.0}, {\"id\": \"L26 setup.py 806fc44d2250c316c75692601362aecabc63d137\", \"text\": \"L26 setup.py 806fc44d2250c316c75692601362aecabc63d137\", \"color\": \"#2E5EAA\", \"size\": 5.0}, {\"id\": \"L27 setup.py 806fc44d2250c316c75692601362aecabc63d137\", \"text\": \"L27 setup.py 806fc44d2250c316c75692601362aecabc63d137\", \"color\": \"#218380\", \"size\": 5.0}, {\"id\": \"L28 setup.py 806fc44d2250c316c75692601362aecabc63d137\", \"text\": \"L28 setup.py 806fc44d2250c316c75692601362aecabc63d137\", \"color\": \"#2E5EAA\", \"size\": 5.0}, {\"id\": \"L29 setup.py 806fc44d2250c316c75692601362aecabc63d137\", \"text\": \"L29 setup.py 806fc44d2250c316c75692601362aecabc63d137\", \"color\": \"#2E5EAA\", \"size\": 5.0}, {\"id\": \"L30 setup.py 806fc44d2250c316c75692601362aecabc63d137\", \"text\": \"L30 setup.py 806fc44d2250c316c75692601362aecabc63d137\", \"color\": \"#2E5EAA\", \"size\": 5.0}, {\"id\": \"L31 setup.py 806fc44d2250c316c75692601362aecabc63d137\", \"text\": \"L31 setup.py 806fc44d2250c316c75692601362aecabc63d137\", \"color\": \"#2E5EAA\", \"size\": 5.0}, {\"id\": \"L32 setup.py 806fc44d2250c316c75692601362aecabc63d137\", \"text\": \"L32 setup.py 806fc44d2250c316c75692601362aecabc63d137\", \"color\": \"#2E5EAA\", \"size\": 5.0}, {\"id\": \"L33 setup.py 806fc44d2250c316c75692601362aecabc63d137\", \"text\": \"L33 setup.py 806fc44d2250c316c75692601362aecabc63d137\", \"color\": \"#2E5EAA\", \"size\": 5.0}, {\"id\": \"L34 setup.py 806fc44d2250c316c75692601362aecabc63d137\", \"text\": \"L34 setup.py 806fc44d2250c316c75692601362aecabc63d137\", \"color\": \"#2E5EAA\", \"size\": 5.0}, {\"id\": \"L27 setup.py 509e1394637f74a357ef2bf0c567dc6520a80eb6\", \"text\": \"L27 setup.py 509e1394637f74a357ef2bf0c567dc6520a80eb6\", \"color\": \"#2E5EAA\", \"size\": 5.0}, {\"id\": \"L33 setup.py 256e113a3592167b10456496d804a04592395d09\", \"text\": \"L33 setup.py 256e113a3592167b10456496d804a04592395d09\", \"color\": \"#2E5EAA\", \"size\": 5.0}, {\"id\": \"L34 setup.py 256e113a3592167b10456496d804a04592395d09\", \"text\": \"L34 setup.py 256e113a3592167b10456496d804a04592395d09\", \"color\": \"#2E5EAA\", \"size\": 5.0}, {\"id\": \"L35 setup.py 256e113a3592167b10456496d804a04592395d09\", \"text\": \"L35 setup.py 256e113a3592167b10456496d804a04592395d09\", \"color\": \"#2E5EAA\", \"size\": 5.0}, {\"id\": \"L36 setup.py 256e113a3592167b10456496d804a04592395d09\", \"text\": \"L36 setup.py 256e113a3592167b10456496d804a04592395d09\", \"color\": \"#2E5EAA\", \"size\": 5.0}, {\"id\": \"L37 setup.py 256e113a3592167b10456496d804a04592395d09\", \"text\": \"L37 setup.py 256e113a3592167b10456496d804a04592395d09\", \"color\": \"#2E5EAA\", \"size\": 5.0}]};\n",
       "    var directed = true;\n",
       "\n",
       "    var simulation = d3.forceSimulation()        \n",
       "       .force(\"link\", d3.forceLink().id(function(d) { return d.id; }).strength(function(d){return d.weight;}))\n",
       "        .force(\"charge\", d3.forceManyBody().strength(-20).distanceMax(400))\n",
       "       .force(\"repelForce\", d3.forceManyBody().strength(-200).distanceMax(100))\n",
       "       .force(\"center\", d3.forceCenter(400 / 2, 400 / 2))\n",
       "       .alphaTarget(0.0);\n",
       "\n",
       "    svg.append(\"defs\").selectAll(\"marker\")\n",
       "        .data([\"end\"])\n",
       "    .enter().append(\"marker\")\n",
       "        .attr(\"id\", String)\n",
       "        .attr(\"viewBox\", \"0 -5 20 20\")\n",
       "        .attr(\"refX\", 34)\n",
       "        .attr(\"refY\", 0)\n",
       "        .attr(\"markerWidth\", 15)\n",
       "        .attr(\"markerHeight\", 15)\n",
       "        .attr(\"orient\", \"auto\")\n",
       "    .append(\"path\")\n",
       "        // draws a filled path (triangle) between three points\n",
       "        .attr(\"d\", \"M0,-5 L20,0 L0,5 z\")\n",
       "        .attr(\"fill\", '#999')\n",
       "        .attr(\"stroke\", 'none');\n",
       "\n",
       "    var g = svg.append(\"g\")\n",
       "        .attr(\"class\", \"everything\");\n",
       "\n",
       "    var link = g.append(\"g\")\n",
       "        .attr(\"class\", \"links_JruWSPhw\")\n",
       "        .selectAll(\"line\")\n",
       "        .data(graph.links)\n",
       "        .enter().append(\"line\")\n",
       "        .attr(\"stroke-width\", function(d) { return d.width; })\n",
       "        .attr(\"stroke\", function(d) { return d.color; } );\n",
       "\n",
       "    if (directed)\n",
       "        link.attr(\"marker-end\", \"url(#end)\");\n",
       "\n",
       "    var node_g = g.append(\"g\")\n",
       "        .attr(\"class\", \"nodes_JruWSPhw\")\n",
       "        .selectAll(\"circle\")\n",
       "        .data(graph.nodes)\n",
       "        .enter()\n",
       "        .append(\"g\"); \n",
       "\n",
       "    var node = node_g.append(\"circle\")\n",
       "        .attr('id', function(d) { return d.id; })\n",
       "        .attr(\"r\", function(d) { return d.size; })\n",
       "        .attr(\"fill\", function(d) { return d.color; })\n",
       "        .call(d3.drag()\n",
       "            .on(\"start\", dragstarted)\n",
       "            .on(\"drag\", dragged)\n",
       "            .on(\"end\", dragended));\n",
       "\n",
       "    var text = node_g.append(\"text\")\n",
       "    .attr(\"x\", [0, -10][0])\n",
       "    .attr(\"y\", [0, -10][1]+3)\n",
       "    .attr(\"id\", function(d) {return d.id; })\n",
       "    .attr(\"class\", \"label_JruWSPhw\")\n",
       "    .text(function(d) { return d.id; });\n",
       "\n",
       "    node.append(\"title\")\n",
       "        .text(function(d) { return d.text; });\n",
       "\n",
       "    var zoom_handler = d3.zoom()\n",
       "        .on(\"zoom\", zoom_actions);\n",
       "    zoom_handler(svg);\n",
       "\n",
       "    // attach event handler for svg export\n",
       "    d3.select('#JruWSPhw_svg_txt').on(\"click\", save_svg);\n",
       "\n",
       "    simulation\n",
       "        .nodes(graph.nodes)\n",
       "        .on(\"tick\", ticked);\n",
       "\n",
       "    simulation.force(\"link\")\n",
       "        .links(graph.links);\n",
       "\n",
       "    function ticked() {\n",
       "        link.attr(\"x1\", function(d) { return d.source.x; })\n",
       "            .attr(\"y1\", function(d) { return d.source.y; })\n",
       "            .attr(\"x2\", function(d) { return d.target.x; })\n",
       "            .attr(\"y2\", function(d) { return d.target.y; });\n",
       "\n",
       "         text.attr(\"transform\", transform);\n",
       "\n",
       "\n",
       "        text.attr(\"cx\", function(d) { return d.x; })\n",
       "            .attr(\"cy\", function(d) { return d.y; });\n",
       "\n",
       "        node.attr(\"cx\", function(d) { return d.x; })\n",
       "            .attr(\"cy\", function(d) { return d.y; });\n",
       "    }\n",
       "\n",
       "    function transform(d) {\n",
       "        return \"translate(\" + d.x + \",\" + d.y + \")\";\n",
       "    }\n",
       "\n",
       "    function dragstarted(d) {\n",
       "    if (!d3.event.active) simulation.alphaTarget(0.3).restart();\n",
       "    d.fx = d.x;\n",
       "    d.fy = d.y;\n",
       "    }\n",
       "\n",
       "    function zoom_actions(){\n",
       "        g.attr(\"transform\", d3.event.transform)\n",
       "    }    \n",
       "\n",
       "    function dragged(d) {\n",
       "    d.fx = d3.event.x;\n",
       "    d.fy = d3.event.y;\n",
       "    }\n",
       "\n",
       "    function dragended(d) {\n",
       "    if (!d3.event.active) simulation.alphaTarget(0);\n",
       "    d.fx = null;\n",
       "    d.fy = null;\n",
       "    }\n",
       "\n",
       "    function to_svg() {\n",
       "        // Returns a SVG representation of the current state of the visualisation\n",
       "\t    var svg  = document.getElementById('JruWSPhw');\n",
       "\t    var xml = (new XMLSerializer).serializeToString(svg);\n",
       "        return xml;\n",
       "    }\n",
       "\n",
       "    function save_svg() {\n",
       "        var svg  = document.getElementById('JruWSPhw');\n",
       "        var xml = (new XMLSerializer).serializeToString(svg);        \n",
       "        var blob = new Blob([xml], {type: 'text/xml'});\n",
       "        if(window.navigator.msSaveOrOpenBlob) {\n",
       "            window.navigator.msSaveBlob(blob, 'network.svg');\n",
       "        }\n",
       "        else{\n",
       "            var elem = window.document.createElement('a');\n",
       "            elem.href = window.URL.createObjectURL(blob);\n",
       "            elem.download = 'network.svg';\n",
       "            document.body.appendChild(elem);\n",
       "            elem.click();\n",
       "            document.body.removeChild(elem);\n",
       "        }\n",
       "    }\n",
       "});\n",
       "</script>"
      ],
      "text/plain": [
       "<IPython.core.display.HTML object>"
      ]
     },
     "metadata": {},
     "output_type": "display_data"
    }
   ],
   "source": [
    "file_paths = ['setup.py']\n",
    "paths, dag, node_info, edge_info = git2net.get_line_editing_paths(sqlite_db_file, git_repo_dir,\n",
    "                                                                  file_paths=file_paths)\n",
    "pp.visualisation.plot(dag, node_color=node_info['colors'])"
   ]
  },
  {
   "cell_type": "markdown",
   "metadata": {},
   "source": [
    "Notice, that despite only looking at a single file the network shown above is not connected. This is due to our database not being complete. Let's fix this now and try again."
   ]
  },
  {
   "cell_type": "code",
   "execution_count": 21,
   "metadata": {},
   "outputs": [
    {
     "name": "stdout",
     "output_type": "stream",
     "text": [
      "Found a matching database on provided path. Skipping 205 (96.24%) of 213 commits. 8 commits remaining.\n"
     ]
    },
    {
     "name": "stderr",
     "output_type": "stream",
     "text": [
      "Parallel (24 processes): 100%|██████████| 8/8 [00:15<00:00,  1.90s/it]\n"
     ]
    }
   ],
   "source": [
    "git2net.mine_git_repo(git_repo_dir, sqlite_db_file)"
   ]
  },
  {
   "cell_type": "code",
   "execution_count": 22,
   "metadata": {},
   "outputs": [
    {
     "name": "stderr",
     "output_type": "stream",
     "text": [
      " 13%|█▎        | 4/31 [00:00<00:00, 38.61it/s]"
     ]
    },
    {
     "name": "stdout",
     "output_type": "stream",
     "text": [
      "Querying commits\n",
      "Querying edits\n"
     ]
    },
    {
     "name": "stderr",
     "output_type": "stream",
     "text": [
      "100%|██████████| 31/31 [00:00<00:00, 43.15it/s]\n",
      "100%|██████████| 60/60 [00:00<00:00, 57892.39it/s]"
     ]
    },
    {
     "name": "stdout",
     "output_type": "stream",
     "text": [
      "2021-03-06 15:18:57 [Severity.INFO]\tCreating paths from directed acyclic graph\n",
      "2021-03-06 15:18:57 [Severity.INFO]\tExpanding Subpaths\n",
      "2021-03-06 15:18:57 [Severity.INFO]\tCalculating sub path statistics ... \n",
      "2021-03-06 15:18:57 [Severity.INFO]\tfinished.\n"
     ]
    },
    {
     "name": "stderr",
     "output_type": "stream",
     "text": [
      "\n"
     ]
    },
    {
     "data": {
      "text/html": [
       "<style>\n",
       "    text.label_cSkwXRTZ {\n",
       "        text-anchor: middle;\n",
       "        font-size: 8px;\n",
       "        font-family: Arial, Helvetica, sans-serif;\n",
       "        fill: #999999;\n",
       "        stroke: #ffffff;\n",
       "        stroke-width: 0.1px;\n",
       "        opacity: 1.0;\n",
       "    }\n",
       "    .links_cSkwXRTZ line {\n",
       "    stroke-opacity: 1.0;\n",
       "    }\n",
       "    .arrows svg:path {\n",
       "        stroke: #666;\n",
       "    }\n",
       "    .nodes_cSkwXRTZ circle {\n",
       "    stroke: #fff;\n",
       "    stroke-width: 0.5px;\n",
       "    }\n",
       "</style>\n",
       "\n",
       "<svg width=\"1000\" height=\"1000\" id=\"cSkwXRTZ\">        \n",
       "    <text x=\"20\" y=\"20\" font-family=\"sans-serif\" font-size=\"14px\" fill=\"#666\" style=\"cursor: pointer\"\n",
       "        id='cSkwXRTZ_svg_txt'>[save svg]</text>\n",
       "</svg>\n",
       "\n",
       "<script charset=\"utf-8\" src=\"https://d3js.org/d3.v4.min.js\"></script>\n",
       "<script charset=\"utf-8\">\n",
       "\n",
       "// Load via requireJS if available (jupyter notebook environment)\n",
       "try {\n",
       "    // Problem: require.config will raise an exception when called for the second time \n",
       "    require.config({\n",
       "        paths: {\n",
       "            //d3: \"https://d3js.org/d3.v4.min\"\n",
       "            d3: \"https://d3js.org/d3.v4.min.js\".replace(\".js\", \"\")\n",
       "        }\n",
       "    });\n",
       "    console.log(\"Detected requireJS\");\n",
       "}\n",
       "catch(err){\n",
       "    // a reference error indicates that requireJS does not exist. \n",
       "    // other errors may occur due to multiple calls to config\n",
       "    if (err instanceof ReferenceError){\n",
       "        console.log(\"Detected no requireJS\");\n",
       "\n",
       "        // Helper function that waits for d3js to be loaded\n",
       "        require = function require(symbols, callback) {\n",
       "            var ms = 5;\n",
       "            window.setTimeout(function(t) {\n",
       "                if (window[symbols[0]])\n",
       "                    callback(window[symbols[0]]);\n",
       "                else \n",
       "                    window.setTimeout(arguments.callee, ms);\n",
       "            }, ms);\n",
       "        }\n",
       "    }\n",
       "}\n",
       "\n",
       "// wait until d3js has been loaded\n",
       "require([\"d3\"], function(d3) {\n",
       "    var svg = d3.select(\"#\"+\"cSkwXRTZ\"), radius = 6, width = +svg.attr(\"width\"), height = +svg.attr(\"height\");\n",
       "\n",
       "    var color = d3.scaleOrdinal(d3.schemeCategory20);\n",
       "\n",
       "    var graph = {\"links\": [{\"source\": \"L1 setup.py a3213cd995e850c8966355755c4ac2ff61f65503\", \"target\": \"L1 setup.py 806fc44d2250c316c75692601362aecabc63d137\", \"color\": \"#999999\", \"width\": 0.5, \"weight\": 1.0}, {\"source\": \"L2 setup.py a3213cd995e850c8966355755c4ac2ff61f65503\", \"target\": \"L2 setup.py 806fc44d2250c316c75692601362aecabc63d137\", \"color\": \"#999999\", \"width\": 0.5, \"weight\": 1.0}, {\"source\": \"L3 setup.py a3213cd995e850c8966355755c4ac2ff61f65503\", \"target\": \"L3 setup.py 806fc44d2250c316c75692601362aecabc63d137\", \"color\": \"#999999\", \"width\": 0.5, \"weight\": 1.0}, {\"source\": \"L4 setup.py a3213cd995e850c8966355755c4ac2ff61f65503\", \"target\": \"L4 setup.py 806fc44d2250c316c75692601362aecabc63d137\", \"color\": \"#999999\", \"width\": 0.5, \"weight\": 1.0}, {\"source\": \"L5 setup.py a3213cd995e850c8966355755c4ac2ff61f65503\", \"target\": \"L5 setup.py 806fc44d2250c316c75692601362aecabc63d137\", \"color\": \"#999999\", \"width\": 0.5, \"weight\": 1.0}, {\"source\": \"L6 setup.py a3213cd995e850c8966355755c4ac2ff61f65503\", \"target\": \"L6 setup.py 806fc44d2250c316c75692601362aecabc63d137\", \"color\": \"#999999\", \"width\": 0.5, \"weight\": 1.0}, {\"source\": \"L7 setup.py a3213cd995e850c8966355755c4ac2ff61f65503\", \"target\": \"L7 setup.py 806fc44d2250c316c75692601362aecabc63d137\", \"color\": \"#999999\", \"width\": 0.5, \"weight\": 0.5}, {\"source\": \"L8 setup.py a3213cd995e850c8966355755c4ac2ff61f65503\", \"target\": \"L8 setup.py 806fc44d2250c316c75692601362aecabc63d137\", \"color\": \"#999999\", \"width\": 0.5, \"weight\": 0.5}, {\"source\": \"L9 setup.py a3213cd995e850c8966355755c4ac2ff61f65503\", \"target\": \"L9 setup.py 806fc44d2250c316c75692601362aecabc63d137\", \"color\": \"#999999\", \"width\": 0.5, \"weight\": 1.0}, {\"source\": \"L10 setup.py a3213cd995e850c8966355755c4ac2ff61f65503\", \"target\": \"L10 setup.py 806fc44d2250c316c75692601362aecabc63d137\", \"color\": \"#999999\", \"width\": 0.5, \"weight\": 0.5}, {\"source\": \"L11 setup.py a3213cd995e850c8966355755c4ac2ff61f65503\", \"target\": \"L11 setup.py 806fc44d2250c316c75692601362aecabc63d137\", \"color\": \"#999999\", \"width\": 0.5, \"weight\": 0.5}, {\"source\": \"setup.py\", \"target\": \"L12 setup.py 806fc44d2250c316c75692601362aecabc63d137\", \"color\": \"#999999\", \"width\": 0.5, \"weight\": 1.0}, {\"source\": \"setup.py\", \"target\": \"L13 setup.py 806fc44d2250c316c75692601362aecabc63d137\", \"color\": \"#999999\", \"width\": 0.5, \"weight\": 1.0}, {\"source\": \"setup.py\", \"target\": \"L14 setup.py 806fc44d2250c316c75692601362aecabc63d137\", \"color\": \"#999999\", \"width\": 0.5, \"weight\": 1.0}, {\"source\": \"setup.py\", \"target\": \"L15 setup.py 806fc44d2250c316c75692601362aecabc63d137\", \"color\": \"#999999\", \"width\": 0.5, \"weight\": 1.0}, {\"source\": \"setup.py\", \"target\": \"L16 setup.py 806fc44d2250c316c75692601362aecabc63d137\", \"color\": \"#999999\", \"width\": 0.5, \"weight\": 1.0}, {\"source\": \"setup.py\", \"target\": \"L17 setup.py 806fc44d2250c316c75692601362aecabc63d137\", \"color\": \"#999999\", \"width\": 0.5, \"weight\": 1.0}, {\"source\": \"setup.py\", \"target\": \"L18 setup.py 806fc44d2250c316c75692601362aecabc63d137\", \"color\": \"#999999\", \"width\": 0.5, \"weight\": 1.0}, {\"source\": \"setup.py\", \"target\": \"L19 setup.py 806fc44d2250c316c75692601362aecabc63d137\", \"color\": \"#999999\", \"width\": 0.5, \"weight\": 1.0}, {\"source\": \"setup.py\", \"target\": \"L20 setup.py 806fc44d2250c316c75692601362aecabc63d137\", \"color\": \"#999999\", \"width\": 0.5, \"weight\": 1.0}, {\"source\": \"setup.py\", \"target\": \"L21 setup.py 806fc44d2250c316c75692601362aecabc63d137\", \"color\": \"#999999\", \"width\": 0.5, \"weight\": 1.0}, {\"source\": \"setup.py\", \"target\": \"L22 setup.py 806fc44d2250c316c75692601362aecabc63d137\", \"color\": \"#999999\", \"width\": 0.5, \"weight\": 1.0}, {\"source\": \"setup.py\", \"target\": \"L23 setup.py 806fc44d2250c316c75692601362aecabc63d137\", \"color\": \"#999999\", \"width\": 0.5, \"weight\": 1.0}, {\"source\": \"setup.py\", \"target\": \"L24 setup.py 806fc44d2250c316c75692601362aecabc63d137\", \"color\": \"#999999\", \"width\": 0.5, \"weight\": 1.0}, {\"source\": \"setup.py\", \"target\": \"L25 setup.py 806fc44d2250c316c75692601362aecabc63d137\", \"color\": \"#999999\", \"width\": 0.5, \"weight\": 1.0}, {\"source\": \"setup.py\", \"target\": \"L26 setup.py 806fc44d2250c316c75692601362aecabc63d137\", \"color\": \"#999999\", \"width\": 0.5, \"weight\": 1.0}, {\"source\": \"setup.py\", \"target\": \"L27 setup.py 806fc44d2250c316c75692601362aecabc63d137\", \"color\": \"#999999\", \"width\": 0.5, \"weight\": 0.5}, {\"source\": \"setup.py\", \"target\": \"L28 setup.py 806fc44d2250c316c75692601362aecabc63d137\", \"color\": \"#999999\", \"width\": 0.5, \"weight\": 1.0}, {\"source\": \"setup.py\", \"target\": \"L29 setup.py 806fc44d2250c316c75692601362aecabc63d137\", \"color\": \"#999999\", \"width\": 0.5, \"weight\": 1.0}, {\"source\": \"setup.py\", \"target\": \"L30 setup.py 806fc44d2250c316c75692601362aecabc63d137\", \"color\": \"#999999\", \"width\": 0.5, \"weight\": 1.0}, {\"source\": \"setup.py\", \"target\": \"L31 setup.py 806fc44d2250c316c75692601362aecabc63d137\", \"color\": \"#999999\", \"width\": 0.5, \"weight\": 1.0}, {\"source\": \"setup.py\", \"target\": \"L32 setup.py 806fc44d2250c316c75692601362aecabc63d137\", \"color\": \"#999999\", \"width\": 0.5, \"weight\": 0.5}, {\"source\": \"setup.py\", \"target\": \"L33 setup.py 806fc44d2250c316c75692601362aecabc63d137\", \"color\": \"#999999\", \"width\": 0.5, \"weight\": 0.5}, {\"source\": \"setup.py\", \"target\": \"L34 setup.py 806fc44d2250c316c75692601362aecabc63d137\", \"color\": \"#999999\", \"width\": 0.5, \"weight\": 1.0}, {\"source\": \"L27 setup.py 806fc44d2250c316c75692601362aecabc63d137\", \"target\": \"L27 setup.py 509e1394637f74a357ef2bf0c567dc6520a80eb6\", \"color\": \"#999999\", \"width\": 0.5, \"weight\": 1.0}, {\"source\": \"setup.py\", \"target\": \"L33 setup.py 256e113a3592167b10456496d804a04592395d09\", \"color\": \"#999999\", \"width\": 0.5, \"weight\": 1.0}, {\"source\": \"setup.py\", \"target\": \"L34 setup.py 256e113a3592167b10456496d804a04592395d09\", \"color\": \"#999999\", \"width\": 0.5, \"weight\": 1.0}, {\"source\": \"setup.py\", \"target\": \"L35 setup.py 256e113a3592167b10456496d804a04592395d09\", \"color\": \"#999999\", \"width\": 0.5, \"weight\": 1.0}, {\"source\": \"setup.py\", \"target\": \"L36 setup.py 256e113a3592167b10456496d804a04592395d09\", \"color\": \"#999999\", \"width\": 0.5, \"weight\": 1.0}, {\"source\": \"setup.py\", \"target\": \"L37 setup.py 256e113a3592167b10456496d804a04592395d09\", \"color\": \"#999999\", \"width\": 0.5, \"weight\": 1.0}, {\"source\": \"L7 setup.py 806fc44d2250c316c75692601362aecabc63d137\", \"target\": \"L7 setup.py 9e72df61bf300b42c3fbc16d94153e8edbbe6dd6\", \"color\": \"#999999\", \"width\": 0.5, \"weight\": 1.0}, {\"source\": \"L8 setup.py 806fc44d2250c316c75692601362aecabc63d137\", \"target\": \"L8 setup.py 9e72df61bf300b42c3fbc16d94153e8edbbe6dd6\", \"color\": \"#999999\", \"width\": 0.5, \"weight\": 1.0}, {\"source\": \"L10 setup.py 806fc44d2250c316c75692601362aecabc63d137\", \"target\": \"L10 setup.py 9e72df61bf300b42c3fbc16d94153e8edbbe6dd6\", \"color\": \"#999999\", \"width\": 0.5, \"weight\": 1.0}, {\"source\": \"L11 setup.py 806fc44d2250c316c75692601362aecabc63d137\", \"target\": \"L11 setup.py 9e72df61bf300b42c3fbc16d94153e8edbbe6dd6\", \"color\": \"#999999\", \"width\": 0.5, \"weight\": 1.0}, {\"source\": \"L32 setup.py 806fc44d2250c316c75692601362aecabc63d137\", \"target\": \"L32 setup.py 9e72df61bf300b42c3fbc16d94153e8edbbe6dd6\", \"color\": \"#999999\", \"width\": 0.5, \"weight\": 0.5}, {\"source\": \"L33 setup.py 806fc44d2250c316c75692601362aecabc63d137\", \"target\": \"deleted L33 setup.py 806fc44d2250c316c75692601362aecabc63d137\", \"color\": \"#999999\", \"width\": 0.5, \"weight\": 1.0}, {\"source\": \"L32 setup.py 9e72df61bf300b42c3fbc16d94153e8edbbe6dd6\", \"target\": \"L32 setup.py ed7b0b70e6062c4ab9f5f66d99f3413b3b983d94\", \"color\": \"#999999\", \"width\": 0.5, \"weight\": 1.0}, {\"source\": \"setup.py\", \"target\": \"L33 setup.py ed7b0b70e6062c4ab9f5f66d99f3413b3b983d94\", \"color\": \"#999999\", \"width\": 0.5, \"weight\": 1.0}, {\"source\": \"setup.py\", \"target\": \"L1 setup.py a3213cd995e850c8966355755c4ac2ff61f65503\", \"color\": \"#999999\", \"width\": 0.5, \"weight\": 0.5}, {\"source\": \"setup.py\", \"target\": \"L2 setup.py a3213cd995e850c8966355755c4ac2ff61f65503\", \"color\": \"#999999\", \"width\": 0.5, \"weight\": 0.5}, {\"source\": \"setup.py\", \"target\": \"L3 setup.py a3213cd995e850c8966355755c4ac2ff61f65503\", \"color\": \"#999999\", \"width\": 0.5, \"weight\": 0.5}, {\"source\": \"setup.py\", \"target\": \"L4 setup.py a3213cd995e850c8966355755c4ac2ff61f65503\", \"color\": \"#999999\", \"width\": 0.5, \"weight\": 0.5}, {\"source\": \"setup.py\", \"target\": \"L5 setup.py a3213cd995e850c8966355755c4ac2ff61f65503\", \"color\": \"#999999\", \"width\": 0.5, \"weight\": 0.5}, {\"source\": \"setup.py\", \"target\": \"L6 setup.py a3213cd995e850c8966355755c4ac2ff61f65503\", \"color\": \"#999999\", \"width\": 0.5, \"weight\": 0.5}, {\"source\": \"setup.py\", \"target\": \"L7 setup.py a3213cd995e850c8966355755c4ac2ff61f65503\", \"color\": \"#999999\", \"width\": 0.5, \"weight\": 0.5}, {\"source\": \"setup.py\", \"target\": \"L8 setup.py a3213cd995e850c8966355755c4ac2ff61f65503\", \"color\": \"#999999\", \"width\": 0.5, \"weight\": 0.5}, {\"source\": \"setup.py\", \"target\": \"L9 setup.py a3213cd995e850c8966355755c4ac2ff61f65503\", \"color\": \"#999999\", \"width\": 0.5, \"weight\": 0.5}, {\"source\": \"setup.py\", \"target\": \"L10 setup.py a3213cd995e850c8966355755c4ac2ff61f65503\", \"color\": \"#999999\", \"width\": 0.5, \"weight\": 0.5}, {\"source\": \"setup.py\", \"target\": \"L11 setup.py a3213cd995e850c8966355755c4ac2ff61f65503\", \"color\": \"#999999\", \"width\": 0.5, \"weight\": 0.5}], \"nodes\": [{\"id\": \"L1 setup.py a3213cd995e850c8966355755c4ac2ff61f65503\", \"text\": \"L1 setup.py a3213cd995e850c8966355755c4ac2ff61f65503\", \"color\": \"#73D2DE\", \"size\": 5.0}, {\"id\": \"L1 setup.py 806fc44d2250c316c75692601362aecabc63d137\", \"text\": \"L1 setup.py 806fc44d2250c316c75692601362aecabc63d137\", \"color\": \"#2E5EAA\", \"size\": 5.0}, {\"id\": \"L2 setup.py a3213cd995e850c8966355755c4ac2ff61f65503\", \"text\": \"L2 setup.py a3213cd995e850c8966355755c4ac2ff61f65503\", \"color\": \"#73D2DE\", \"size\": 5.0}, {\"id\": \"L2 setup.py 806fc44d2250c316c75692601362aecabc63d137\", \"text\": \"L2 setup.py 806fc44d2250c316c75692601362aecabc63d137\", \"color\": \"#2E5EAA\", \"size\": 5.0}, {\"id\": \"L3 setup.py a3213cd995e850c8966355755c4ac2ff61f65503\", \"text\": \"L3 setup.py a3213cd995e850c8966355755c4ac2ff61f65503\", \"color\": \"#73D2DE\", \"size\": 5.0}, {\"id\": \"L3 setup.py 806fc44d2250c316c75692601362aecabc63d137\", \"text\": \"L3 setup.py 806fc44d2250c316c75692601362aecabc63d137\", \"color\": \"#2E5EAA\", \"size\": 5.0}, {\"id\": \"L4 setup.py a3213cd995e850c8966355755c4ac2ff61f65503\", \"text\": \"L4 setup.py a3213cd995e850c8966355755c4ac2ff61f65503\", \"color\": \"#73D2DE\", \"size\": 5.0}, {\"id\": \"L4 setup.py 806fc44d2250c316c75692601362aecabc63d137\", \"text\": \"L4 setup.py 806fc44d2250c316c75692601362aecabc63d137\", \"color\": \"#2E5EAA\", \"size\": 5.0}, {\"id\": \"L5 setup.py a3213cd995e850c8966355755c4ac2ff61f65503\", \"text\": \"L5 setup.py a3213cd995e850c8966355755c4ac2ff61f65503\", \"color\": \"#73D2DE\", \"size\": 5.0}, {\"id\": \"L5 setup.py 806fc44d2250c316c75692601362aecabc63d137\", \"text\": \"L5 setup.py 806fc44d2250c316c75692601362aecabc63d137\", \"color\": \"#2E5EAA\", \"size\": 5.0}, {\"id\": \"L6 setup.py a3213cd995e850c8966355755c4ac2ff61f65503\", \"text\": \"L6 setup.py a3213cd995e850c8966355755c4ac2ff61f65503\", \"color\": \"#73D2DE\", \"size\": 5.0}, {\"id\": \"L6 setup.py 806fc44d2250c316c75692601362aecabc63d137\", \"text\": \"L6 setup.py 806fc44d2250c316c75692601362aecabc63d137\", \"color\": \"#2E5EAA\", \"size\": 5.0}, {\"id\": \"L7 setup.py a3213cd995e850c8966355755c4ac2ff61f65503\", \"text\": \"L7 setup.py a3213cd995e850c8966355755c4ac2ff61f65503\", \"color\": \"#73D2DE\", \"size\": 5.0}, {\"id\": \"L7 setup.py 806fc44d2250c316c75692601362aecabc63d137\", \"text\": \"L7 setup.py 806fc44d2250c316c75692601362aecabc63d137\", \"color\": \"#73D2DE\", \"size\": 5.0}, {\"id\": \"L8 setup.py a3213cd995e850c8966355755c4ac2ff61f65503\", \"text\": \"L8 setup.py a3213cd995e850c8966355755c4ac2ff61f65503\", \"color\": \"#73D2DE\", \"size\": 5.0}, {\"id\": \"L8 setup.py 806fc44d2250c316c75692601362aecabc63d137\", \"text\": \"L8 setup.py 806fc44d2250c316c75692601362aecabc63d137\", \"color\": \"#73D2DE\", \"size\": 5.0}, {\"id\": \"L9 setup.py a3213cd995e850c8966355755c4ac2ff61f65503\", \"text\": \"L9 setup.py a3213cd995e850c8966355755c4ac2ff61f65503\", \"color\": \"#73D2DE\", \"size\": 5.0}, {\"id\": \"L9 setup.py 806fc44d2250c316c75692601362aecabc63d137\", \"text\": \"L9 setup.py 806fc44d2250c316c75692601362aecabc63d137\", \"color\": \"#2E5EAA\", \"size\": 5.0}, {\"id\": \"L10 setup.py a3213cd995e850c8966355755c4ac2ff61f65503\", \"text\": \"L10 setup.py a3213cd995e850c8966355755c4ac2ff61f65503\", \"color\": \"#73D2DE\", \"size\": 5.0}, {\"id\": \"L10 setup.py 806fc44d2250c316c75692601362aecabc63d137\", \"text\": \"L10 setup.py 806fc44d2250c316c75692601362aecabc63d137\", \"color\": \"#73D2DE\", \"size\": 5.0}, {\"id\": \"L11 setup.py a3213cd995e850c8966355755c4ac2ff61f65503\", \"text\": \"L11 setup.py a3213cd995e850c8966355755c4ac2ff61f65503\", \"color\": \"#73D2DE\", \"size\": 5.0}, {\"id\": \"L11 setup.py 806fc44d2250c316c75692601362aecabc63d137\", \"text\": \"L11 setup.py 806fc44d2250c316c75692601362aecabc63d137\", \"color\": \"#73D2DE\", \"size\": 5.0}, {\"id\": \"setup.py\", \"text\": \"setup.py\", \"color\": \"#2E5EAA\", \"size\": 5.0}, {\"id\": \"L12 setup.py 806fc44d2250c316c75692601362aecabc63d137\", \"text\": \"L12 setup.py 806fc44d2250c316c75692601362aecabc63d137\", \"color\": \"#2E5EAA\", \"size\": 5.0}, {\"id\": \"L13 setup.py 806fc44d2250c316c75692601362aecabc63d137\", \"text\": \"L13 setup.py 806fc44d2250c316c75692601362aecabc63d137\", \"color\": \"#2E5EAA\", \"size\": 5.0}, {\"id\": \"L14 setup.py 806fc44d2250c316c75692601362aecabc63d137\", \"text\": \"L14 setup.py 806fc44d2250c316c75692601362aecabc63d137\", \"color\": \"#2E5EAA\", \"size\": 5.0}, {\"id\": \"L15 setup.py 806fc44d2250c316c75692601362aecabc63d137\", \"text\": \"L15 setup.py 806fc44d2250c316c75692601362aecabc63d137\", \"color\": \"#2E5EAA\", \"size\": 5.0}, {\"id\": \"L16 setup.py 806fc44d2250c316c75692601362aecabc63d137\", \"text\": \"L16 setup.py 806fc44d2250c316c75692601362aecabc63d137\", \"color\": \"#2E5EAA\", \"size\": 5.0}, {\"id\": \"L17 setup.py 806fc44d2250c316c75692601362aecabc63d137\", \"text\": \"L17 setup.py 806fc44d2250c316c75692601362aecabc63d137\", \"color\": \"#2E5EAA\", \"size\": 5.0}, {\"id\": \"L18 setup.py 806fc44d2250c316c75692601362aecabc63d137\", \"text\": \"L18 setup.py 806fc44d2250c316c75692601362aecabc63d137\", \"color\": \"#2E5EAA\", \"size\": 5.0}, {\"id\": \"L19 setup.py 806fc44d2250c316c75692601362aecabc63d137\", \"text\": \"L19 setup.py 806fc44d2250c316c75692601362aecabc63d137\", \"color\": \"#2E5EAA\", \"size\": 5.0}, {\"id\": \"L20 setup.py 806fc44d2250c316c75692601362aecabc63d137\", \"text\": \"L20 setup.py 806fc44d2250c316c75692601362aecabc63d137\", \"color\": \"#2E5EAA\", \"size\": 5.0}, {\"id\": \"L21 setup.py 806fc44d2250c316c75692601362aecabc63d137\", \"text\": \"L21 setup.py 806fc44d2250c316c75692601362aecabc63d137\", \"color\": \"#2E5EAA\", \"size\": 5.0}, {\"id\": \"L22 setup.py 806fc44d2250c316c75692601362aecabc63d137\", \"text\": \"L22 setup.py 806fc44d2250c316c75692601362aecabc63d137\", \"color\": \"#2E5EAA\", \"size\": 5.0}, {\"id\": \"L23 setup.py 806fc44d2250c316c75692601362aecabc63d137\", \"text\": \"L23 setup.py 806fc44d2250c316c75692601362aecabc63d137\", \"color\": \"#2E5EAA\", \"size\": 5.0}, {\"id\": \"L24 setup.py 806fc44d2250c316c75692601362aecabc63d137\", \"text\": \"L24 setup.py 806fc44d2250c316c75692601362aecabc63d137\", \"color\": \"#2E5EAA\", \"size\": 5.0}, {\"id\": \"L25 setup.py 806fc44d2250c316c75692601362aecabc63d137\", \"text\": \"L25 setup.py 806fc44d2250c316c75692601362aecabc63d137\", \"color\": \"#2E5EAA\", \"size\": 5.0}, {\"id\": \"L26 setup.py 806fc44d2250c316c75692601362aecabc63d137\", \"text\": \"L26 setup.py 806fc44d2250c316c75692601362aecabc63d137\", \"color\": \"#2E5EAA\", \"size\": 5.0}, {\"id\": \"L27 setup.py 806fc44d2250c316c75692601362aecabc63d137\", \"text\": \"L27 setup.py 806fc44d2250c316c75692601362aecabc63d137\", \"color\": \"#73D2DE\", \"size\": 5.0}, {\"id\": \"L28 setup.py 806fc44d2250c316c75692601362aecabc63d137\", \"text\": \"L28 setup.py 806fc44d2250c316c75692601362aecabc63d137\", \"color\": \"#2E5EAA\", \"size\": 5.0}, {\"id\": \"L29 setup.py 806fc44d2250c316c75692601362aecabc63d137\", \"text\": \"L29 setup.py 806fc44d2250c316c75692601362aecabc63d137\", \"color\": \"#2E5EAA\", \"size\": 5.0}, {\"id\": \"L30 setup.py 806fc44d2250c316c75692601362aecabc63d137\", \"text\": \"L30 setup.py 806fc44d2250c316c75692601362aecabc63d137\", \"color\": \"#2E5EAA\", \"size\": 5.0}, {\"id\": \"L31 setup.py 806fc44d2250c316c75692601362aecabc63d137\", \"text\": \"L31 setup.py 806fc44d2250c316c75692601362aecabc63d137\", \"color\": \"#2E5EAA\", \"size\": 5.0}, {\"id\": \"L32 setup.py 806fc44d2250c316c75692601362aecabc63d137\", \"text\": \"L32 setup.py 806fc44d2250c316c75692601362aecabc63d137\", \"color\": \"#73D2DE\", \"size\": 5.0}, {\"id\": \"L33 setup.py 806fc44d2250c316c75692601362aecabc63d137\", \"text\": \"L33 setup.py 806fc44d2250c316c75692601362aecabc63d137\", \"color\": \"#73D2DE\", \"size\": 5.0}, {\"id\": \"L34 setup.py 806fc44d2250c316c75692601362aecabc63d137\", \"text\": \"L34 setup.py 806fc44d2250c316c75692601362aecabc63d137\", \"color\": \"#2E5EAA\", \"size\": 5.0}, {\"id\": \"L27 setup.py 509e1394637f74a357ef2bf0c567dc6520a80eb6\", \"text\": \"L27 setup.py 509e1394637f74a357ef2bf0c567dc6520a80eb6\", \"color\": \"#2E5EAA\", \"size\": 5.0}, {\"id\": \"L33 setup.py 256e113a3592167b10456496d804a04592395d09\", \"text\": \"L33 setup.py 256e113a3592167b10456496d804a04592395d09\", \"color\": \"#2E5EAA\", \"size\": 5.0}, {\"id\": \"L34 setup.py 256e113a3592167b10456496d804a04592395d09\", \"text\": \"L34 setup.py 256e113a3592167b10456496d804a04592395d09\", \"color\": \"#2E5EAA\", \"size\": 5.0}, {\"id\": \"L35 setup.py 256e113a3592167b10456496d804a04592395d09\", \"text\": \"L35 setup.py 256e113a3592167b10456496d804a04592395d09\", \"color\": \"#2E5EAA\", \"size\": 5.0}, {\"id\": \"L36 setup.py 256e113a3592167b10456496d804a04592395d09\", \"text\": \"L36 setup.py 256e113a3592167b10456496d804a04592395d09\", \"color\": \"#2E5EAA\", \"size\": 5.0}, {\"id\": \"L37 setup.py 256e113a3592167b10456496d804a04592395d09\", \"text\": \"L37 setup.py 256e113a3592167b10456496d804a04592395d09\", \"color\": \"#2E5EAA\", \"size\": 5.0}, {\"id\": \"L7 setup.py 9e72df61bf300b42c3fbc16d94153e8edbbe6dd6\", \"text\": \"L7 setup.py 9e72df61bf300b42c3fbc16d94153e8edbbe6dd6\", \"color\": \"#2E5EAA\", \"size\": 5.0}, {\"id\": \"L8 setup.py 9e72df61bf300b42c3fbc16d94153e8edbbe6dd6\", \"text\": \"L8 setup.py 9e72df61bf300b42c3fbc16d94153e8edbbe6dd6\", \"color\": \"#2E5EAA\", \"size\": 5.0}, {\"id\": \"L10 setup.py 9e72df61bf300b42c3fbc16d94153e8edbbe6dd6\", \"text\": \"L10 setup.py 9e72df61bf300b42c3fbc16d94153e8edbbe6dd6\", \"color\": \"#2E5EAA\", \"size\": 5.0}, {\"id\": \"L11 setup.py 9e72df61bf300b42c3fbc16d94153e8edbbe6dd6\", \"text\": \"L11 setup.py 9e72df61bf300b42c3fbc16d94153e8edbbe6dd6\", \"color\": \"#2E5EAA\", \"size\": 5.0}, {\"id\": \"L32 setup.py 9e72df61bf300b42c3fbc16d94153e8edbbe6dd6\", \"text\": \"L32 setup.py 9e72df61bf300b42c3fbc16d94153e8edbbe6dd6\", \"color\": \"#73D2DE\", \"size\": 5.0}, {\"id\": \"deleted L33 setup.py 806fc44d2250c316c75692601362aecabc63d137\", \"text\": \"deleted L33 setup.py 806fc44d2250c316c75692601362aecabc63d137\", \"color\": \"#A8322D\", \"size\": 5.0}, {\"id\": \"L32 setup.py ed7b0b70e6062c4ab9f5f66d99f3413b3b983d94\", \"text\": \"L32 setup.py ed7b0b70e6062c4ab9f5f66d99f3413b3b983d94\", \"color\": \"#2E5EAA\", \"size\": 5.0}, {\"id\": \"L33 setup.py ed7b0b70e6062c4ab9f5f66d99f3413b3b983d94\", \"text\": \"L33 setup.py ed7b0b70e6062c4ab9f5f66d99f3413b3b983d94\", \"color\": \"#2E5EAA\", \"size\": 5.0}]};\n",
       "    var directed = true;\n",
       "\n",
       "    var simulation = d3.forceSimulation()        \n",
       "       .force(\"link\", d3.forceLink().id(function(d) { return d.id; }).strength(function(d){return d.weight;}))\n",
       "        .force(\"charge\", d3.forceManyBody().strength(-20).distanceMax(1000))\n",
       "       .force(\"repelForce\", d3.forceManyBody().strength(-200).distanceMax(100))\n",
       "       .force(\"center\", d3.forceCenter(1000 / 2, 1000 / 2))\n",
       "       .alphaTarget(0.0);\n",
       "\n",
       "    svg.append(\"defs\").selectAll(\"marker\")\n",
       "        .data([\"end\"])\n",
       "    .enter().append(\"marker\")\n",
       "        .attr(\"id\", String)\n",
       "        .attr(\"viewBox\", \"0 -5 20 20\")\n",
       "        .attr(\"refX\", 34)\n",
       "        .attr(\"refY\", 0)\n",
       "        .attr(\"markerWidth\", 15)\n",
       "        .attr(\"markerHeight\", 15)\n",
       "        .attr(\"orient\", \"auto\")\n",
       "    .append(\"path\")\n",
       "        // draws a filled path (triangle) between three points\n",
       "        .attr(\"d\", \"M0,-5 L20,0 L0,5 z\")\n",
       "        .attr(\"fill\", '#999')\n",
       "        .attr(\"stroke\", 'none');\n",
       "\n",
       "    var g = svg.append(\"g\")\n",
       "        .attr(\"class\", \"everything\");\n",
       "\n",
       "    var link = g.append(\"g\")\n",
       "        .attr(\"class\", \"links_cSkwXRTZ\")\n",
       "        .selectAll(\"line\")\n",
       "        .data(graph.links)\n",
       "        .enter().append(\"line\")\n",
       "        .attr(\"stroke-width\", function(d) { return d.width; })\n",
       "        .attr(\"stroke\", function(d) { return d.color; } );\n",
       "\n",
       "    if (directed)\n",
       "        link.attr(\"marker-end\", \"url(#end)\");\n",
       "\n",
       "    var node_g = g.append(\"g\")\n",
       "        .attr(\"class\", \"nodes_cSkwXRTZ\")\n",
       "        .selectAll(\"circle\")\n",
       "        .data(graph.nodes)\n",
       "        .enter()\n",
       "        .append(\"g\"); \n",
       "\n",
       "    var node = node_g.append(\"circle\")\n",
       "        .attr('id', function(d) { return d.id; })\n",
       "        .attr(\"r\", function(d) { return d.size; })\n",
       "        .attr(\"fill\", function(d) { return d.color; })\n",
       "        .call(d3.drag()\n",
       "            .on(\"start\", dragstarted)\n",
       "            .on(\"drag\", dragged)\n",
       "            .on(\"end\", dragended));\n",
       "\n",
       "    var text = node_g.append(\"text\")\n",
       "    .attr(\"x\", [0, -10][0])\n",
       "    .attr(\"y\", [0, -10][1]+3)\n",
       "    .attr(\"id\", function(d) {return d.id; })\n",
       "    .attr(\"class\", \"label_cSkwXRTZ\")\n",
       "    .text(function(d) { return d.id; });\n",
       "\n",
       "    node.append(\"title\")\n",
       "        .text(function(d) { return d.text; });\n",
       "\n",
       "    var zoom_handler = d3.zoom()\n",
       "        .on(\"zoom\", zoom_actions);\n",
       "    zoom_handler(svg);\n",
       "\n",
       "    // attach event handler for svg export\n",
       "    d3.select('#cSkwXRTZ_svg_txt').on(\"click\", save_svg);\n",
       "\n",
       "    simulation\n",
       "        .nodes(graph.nodes)\n",
       "        .on(\"tick\", ticked);\n",
       "\n",
       "    simulation.force(\"link\")\n",
       "        .links(graph.links);\n",
       "\n",
       "    function ticked() {\n",
       "        link.attr(\"x1\", function(d) { return d.source.x; })\n",
       "            .attr(\"y1\", function(d) { return d.source.y; })\n",
       "            .attr(\"x2\", function(d) { return d.target.x; })\n",
       "            .attr(\"y2\", function(d) { return d.target.y; });\n",
       "\n",
       "         text.attr(\"transform\", transform);\n",
       "\n",
       "\n",
       "        text.attr(\"cx\", function(d) { return d.x; })\n",
       "            .attr(\"cy\", function(d) { return d.y; });\n",
       "\n",
       "        node.attr(\"cx\", function(d) { return d.x; })\n",
       "            .attr(\"cy\", function(d) { return d.y; });\n",
       "    }\n",
       "\n",
       "    function transform(d) {\n",
       "        return \"translate(\" + d.x + \",\" + d.y + \")\";\n",
       "    }\n",
       "\n",
       "    function dragstarted(d) {\n",
       "    if (!d3.event.active) simulation.alphaTarget(0.3).restart();\n",
       "    d.fx = d.x;\n",
       "    d.fy = d.y;\n",
       "    }\n",
       "\n",
       "    function zoom_actions(){\n",
       "        g.attr(\"transform\", d3.event.transform)\n",
       "    }    \n",
       "\n",
       "    function dragged(d) {\n",
       "    d.fx = d3.event.x;\n",
       "    d.fy = d3.event.y;\n",
       "    }\n",
       "\n",
       "    function dragended(d) {\n",
       "    if (!d3.event.active) simulation.alphaTarget(0);\n",
       "    d.fx = null;\n",
       "    d.fy = null;\n",
       "    }\n",
       "\n",
       "    function to_svg() {\n",
       "        // Returns a SVG representation of the current state of the visualisation\n",
       "\t    var svg  = document.getElementById('cSkwXRTZ');\n",
       "\t    var xml = (new XMLSerializer).serializeToString(svg);\n",
       "        return xml;\n",
       "    }\n",
       "\n",
       "    function save_svg() {\n",
       "        var svg  = document.getElementById('cSkwXRTZ');\n",
       "        var xml = (new XMLSerializer).serializeToString(svg);        \n",
       "        var blob = new Blob([xml], {type: 'text/xml'});\n",
       "        if(window.navigator.msSaveOrOpenBlob) {\n",
       "            window.navigator.msSaveBlob(blob, 'network.svg');\n",
       "        }\n",
       "        else{\n",
       "            var elem = window.document.createElement('a');\n",
       "            elem.href = window.URL.createObjectURL(blob);\n",
       "            elem.download = 'network.svg';\n",
       "            document.body.appendChild(elem);\n",
       "            elem.click();\n",
       "            document.body.removeChild(elem);\n",
       "        }\n",
       "    }\n",
       "});\n",
       "</script>"
      ],
      "text/plain": [
       "<IPython.core.display.HTML object>"
      ]
     },
     "metadata": {},
     "output_type": "display_data"
    }
   ],
   "source": [
    "paths, dag, node_info, edge_info = git2net.get_line_editing_paths(sqlite_db_file, git_repo_dir,\n",
    "                                                                  file_paths=file_paths)\n",
    "pp.visualisation.plot(dag, node_color=node_info['colors'], width=1000, height=1000)"
   ]
  },
  {
   "cell_type": "markdown",
   "metadata": {},
   "source": [
    "\n",
    "As mentioned before, these networks get very large very quickly. Therefore, it is often more useful to work with the pathpy path object that is also returned by the function. It cointains all paths and subpaths contained in the network shown above. More information regarding this object can be found in the documentation on pathpy.net.\n",
    "\n",
    "This concludes this tutorial, which I hope you found useful. Enjoy using git2net and best of luck for your research! If you find any bugs with the code please let me know on github.com.\n",
    "\n",
    "git2net has been developed as open source project. This means your ideas and inputs are highly welcome. Feel free to share the project and contribute yourself. You can imediately get started on the repository you just downloaded!"
   ]
  },
  {
   "cell_type": "markdown",
   "metadata": {},
   "source": [
    "## Data mining\n",
    "Let's take a view on data base content. Obviously, we found two tables. The second code snippet illustrates the usage of sql statements to evaluate the content. We extract the unique author names from the commit list."
   ]
  },
  {
   "cell_type": "code",
   "execution_count": 23,
   "metadata": {},
   "outputs": [
    {
     "data": {
      "text/plain": [
       "[('_metadata',), ('edits',), ('commits',)]"
      ]
     },
     "execution_count": 23,
     "metadata": {},
     "output_type": "execute_result"
    }
   ],
   "source": [
    "import sqlite3\n",
    "\n",
    "db = sqlite3.connect(sqlite_db_file)\n",
    "cursor = db.cursor()\n",
    "cursor.execute(\"SELECT name FROM sqlite_master WHERE type='table';\")\n",
    "cursor.fetchall()"
   ]
  },
  {
   "cell_type": "code",
   "execution_count": 24,
   "metadata": {},
   "outputs": [
    {
     "data": {
      "text/plain": [
       "[('Ingo Scholtes',),\n",
       " ('Christoph Gote',),\n",
       " ('Jan Philip',),\n",
       " ('Sebastian Zug',),\n",
       " ('Milo Trujillo',),\n",
       " ('Breee',)]"
      ]
     },
     "execution_count": 24,
     "metadata": {},
     "output_type": "execute_result"
    }
   ],
   "source": [
    "cursor.execute(\"SELECT DISTINCT author_name FROM commits\")\n",
    "rows = cursor.fetchall()\n",
    "\n",
    "rows"
   ]
  },
  {
   "cell_type": "markdown",
   "metadata": {},
   "source": [
    "Let's take a view on an alternative approach using python pandas. We load the data base in a pandas DataFrame in a first step. Afterwards the evaluation is much more comfortable due to the fact that the pandas API includes a huge amount of tools for statistical analysis and visualization."
   ]
  },
  {
   "cell_type": "code",
   "execution_count": 25,
   "metadata": {},
   "outputs": [
    {
     "data": {
      "text/html": [
       "<div>\n",
       "<style scoped>\n",
       "    .dataframe tbody tr th:only-of-type {\n",
       "        vertical-align: middle;\n",
       "    }\n",
       "\n",
       "    .dataframe tbody tr th {\n",
       "        vertical-align: top;\n",
       "    }\n",
       "\n",
       "    .dataframe thead th {\n",
       "        text-align: right;\n",
       "    }\n",
       "</style>\n",
       "<table border=\"1\" class=\"dataframe\">\n",
       "  <thead>\n",
       "    <tr style=\"text-align: right;\">\n",
       "      <th></th>\n",
       "      <th>hash</th>\n",
       "      <th>author_email</th>\n",
       "      <th>author_name</th>\n",
       "      <th>committer_email</th>\n",
       "      <th>committer_name</th>\n",
       "      <th>author_date</th>\n",
       "      <th>committer_date</th>\n",
       "      <th>author_timezone</th>\n",
       "      <th>committer_timezone</th>\n",
       "      <th>no_of_modifications</th>\n",
       "      <th>commit_message_len</th>\n",
       "      <th>project_name</th>\n",
       "      <th>parents</th>\n",
       "      <th>merge</th>\n",
       "      <th>in_main_branch</th>\n",
       "      <th>branches</th>\n",
       "    </tr>\n",
       "  </thead>\n",
       "  <tbody>\n",
       "    <tr>\n",
       "      <th>0</th>\n",
       "      <td>d7def7ec7a8305990640d86470d97f1a16727c5a</td>\n",
       "      <td>scholtes@ifi.uzh.ch</td>\n",
       "      <td>Ingo Scholtes</td>\n",
       "      <td>scholtes@ifi.uzh.ch</td>\n",
       "      <td>Ingo Scholtes</td>\n",
       "      <td>2019-01-08 10:58:20</td>\n",
       "      <td>2019-01-08 10:58:20</td>\n",
       "      <td>-3600</td>\n",
       "      <td>-3600</td>\n",
       "      <td>1</td>\n",
       "      <td>14</td>\n",
       "      <td>git2net4analysis</td>\n",
       "      <td></td>\n",
       "      <td>0</td>\n",
       "      <td>1</td>\n",
       "      <td>master</td>\n",
       "    </tr>\n",
       "    <tr>\n",
       "      <th>1</th>\n",
       "      <td>9d225f34fd63daced3c58c3b7df8d540ec5fc826</td>\n",
       "      <td>scholtes@ifi.uzh.ch</td>\n",
       "      <td>Ingo Scholtes</td>\n",
       "      <td>scholtes@ifi.uzh.ch</td>\n",
       "      <td>Ingo Scholtes</td>\n",
       "      <td>2019-01-08 14:30:15</td>\n",
       "      <td>2019-01-08 14:30:15</td>\n",
       "      <td>-3600</td>\n",
       "      <td>-3600</td>\n",
       "      <td>1</td>\n",
       "      <td>19</td>\n",
       "      <td>git2net4analysis</td>\n",
       "      <td>d7def7ec7a8305990640d86470d97f1a16727c5a</td>\n",
       "      <td>0</td>\n",
       "      <td>1</td>\n",
       "      <td>master</td>\n",
       "    </tr>\n",
       "    <tr>\n",
       "      <th>2</th>\n",
       "      <td>c71a73528640d81b325e19aa38a3f68e4fe34366</td>\n",
       "      <td>scholtes@ifi.uzh.ch</td>\n",
       "      <td>Ingo Scholtes</td>\n",
       "      <td>scholtes@ifi.uzh.ch</td>\n",
       "      <td>Ingo Scholtes</td>\n",
       "      <td>2019-01-08 17:42:58</td>\n",
       "      <td>2019-01-08 17:42:58</td>\n",
       "      <td>-3600</td>\n",
       "      <td>-3600</td>\n",
       "      <td>1</td>\n",
       "      <td>8</td>\n",
       "      <td>git2net4analysis</td>\n",
       "      <td>9d225f34fd63daced3c58c3b7df8d540ec5fc826</td>\n",
       "      <td>0</td>\n",
       "      <td>1</td>\n",
       "      <td>master</td>\n",
       "    </tr>\n",
       "    <tr>\n",
       "      <th>3</th>\n",
       "      <td>db0e20b413363cb93447ed4567bb8e959fc7f306</td>\n",
       "      <td>scholtes@ifi.uzh.ch</td>\n",
       "      <td>Ingo Scholtes</td>\n",
       "      <td>scholtes@ifi.uzh.ch</td>\n",
       "      <td>Ingo Scholtes</td>\n",
       "      <td>2019-01-08 19:48:13</td>\n",
       "      <td>2019-01-08 19:48:13</td>\n",
       "      <td>-3600</td>\n",
       "      <td>-3600</td>\n",
       "      <td>1</td>\n",
       "      <td>15</td>\n",
       "      <td>git2net4analysis</td>\n",
       "      <td>c71a73528640d81b325e19aa38a3f68e4fe34366</td>\n",
       "      <td>0</td>\n",
       "      <td>1</td>\n",
       "      <td>master</td>\n",
       "    </tr>\n",
       "    <tr>\n",
       "      <th>4</th>\n",
       "      <td>69d9c6578fa1aafcbe2ed548159ba16cf39ffc46</td>\n",
       "      <td>scholtes@ifi.uzh.ch</td>\n",
       "      <td>Ingo Scholtes</td>\n",
       "      <td>scholtes@ifi.uzh.ch</td>\n",
       "      <td>Ingo Scholtes</td>\n",
       "      <td>2019-01-09 12:22:27</td>\n",
       "      <td>2019-01-09 12:22:27</td>\n",
       "      <td>-3600</td>\n",
       "      <td>-3600</td>\n",
       "      <td>1</td>\n",
       "      <td>26</td>\n",
       "      <td>git2net4analysis</td>\n",
       "      <td>db0e20b413363cb93447ed4567bb8e959fc7f306</td>\n",
       "      <td>0</td>\n",
       "      <td>1</td>\n",
       "      <td>master</td>\n",
       "    </tr>\n",
       "  </tbody>\n",
       "</table>\n",
       "</div>"
      ],
      "text/plain": [
       "                                       hash         author_email  \\\n",
       "0  d7def7ec7a8305990640d86470d97f1a16727c5a  scholtes@ifi.uzh.ch   \n",
       "1  9d225f34fd63daced3c58c3b7df8d540ec5fc826  scholtes@ifi.uzh.ch   \n",
       "2  c71a73528640d81b325e19aa38a3f68e4fe34366  scholtes@ifi.uzh.ch   \n",
       "3  db0e20b413363cb93447ed4567bb8e959fc7f306  scholtes@ifi.uzh.ch   \n",
       "4  69d9c6578fa1aafcbe2ed548159ba16cf39ffc46  scholtes@ifi.uzh.ch   \n",
       "\n",
       "     author_name      committer_email committer_name          author_date  \\\n",
       "0  Ingo Scholtes  scholtes@ifi.uzh.ch  Ingo Scholtes  2019-01-08 10:58:20   \n",
       "1  Ingo Scholtes  scholtes@ifi.uzh.ch  Ingo Scholtes  2019-01-08 14:30:15   \n",
       "2  Ingo Scholtes  scholtes@ifi.uzh.ch  Ingo Scholtes  2019-01-08 17:42:58   \n",
       "3  Ingo Scholtes  scholtes@ifi.uzh.ch  Ingo Scholtes  2019-01-08 19:48:13   \n",
       "4  Ingo Scholtes  scholtes@ifi.uzh.ch  Ingo Scholtes  2019-01-09 12:22:27   \n",
       "\n",
       "        committer_date  author_timezone  committer_timezone  \\\n",
       "0  2019-01-08 10:58:20            -3600               -3600   \n",
       "1  2019-01-08 14:30:15            -3600               -3600   \n",
       "2  2019-01-08 17:42:58            -3600               -3600   \n",
       "3  2019-01-08 19:48:13            -3600               -3600   \n",
       "4  2019-01-09 12:22:27            -3600               -3600   \n",
       "\n",
       "   no_of_modifications  commit_message_len      project_name  \\\n",
       "0                    1                  14  git2net4analysis   \n",
       "1                    1                  19  git2net4analysis   \n",
       "2                    1                   8  git2net4analysis   \n",
       "3                    1                  15  git2net4analysis   \n",
       "4                    1                  26  git2net4analysis   \n",
       "\n",
       "                                    parents  merge  in_main_branch branches  \n",
       "0                                                0               1   master  \n",
       "1  d7def7ec7a8305990640d86470d97f1a16727c5a      0               1   master  \n",
       "2  9d225f34fd63daced3c58c3b7df8d540ec5fc826      0               1   master  \n",
       "3  c71a73528640d81b325e19aa38a3f68e4fe34366      0               1   master  \n",
       "4  db0e20b413363cb93447ed4567bb8e959fc7f306      0               1   master  "
      ]
     },
     "execution_count": 25,
     "metadata": {},
     "output_type": "execute_result"
    }
   ],
   "source": [
    "import pandas as pd \n",
    "\n",
    "db = sqlite3.connect(sqlite_db_file)\n",
    "pdCommits = pd.read_sql_query(\"SELECT * FROM commits\", db)\n",
    "\n",
    "pdCommits.head(5)"
   ]
  },
  {
   "cell_type": "markdown",
   "metadata": {},
   "source": [
    "The headline lists all extracted features contained in pdCommits. How many records/commits are in the history?"
   ]
  },
  {
   "cell_type": "code",
   "execution_count": 26,
   "metadata": {},
   "outputs": [
    {
     "data": {
      "text/plain": [
       "(213, 16)"
      ]
     },
     "execution_count": 26,
     "metadata": {},
     "output_type": "execute_result"
    }
   ],
   "source": [
    "pdCommits.shape"
   ]
  },
  {
   "cell_type": "markdown",
   "metadata": {},
   "source": [
    "The first number reflects the number of records, the second how man columns/categories are involved."
   ]
  },
  {
   "cell_type": "code",
   "execution_count": 28,
   "metadata": {},
   "outputs": [
    {
     "data": {
      "text/plain": [
       "array(['Ingo Scholtes', 'Christoph Gote', 'Jan Philip', 'Sebastian Zug',\n",
       "       'Milo Trujillo', 'Breee'], dtype=object)"
      ]
     },
     "execution_count": 28,
     "metadata": {},
     "output_type": "execute_result"
    }
   ],
   "source": [
    "pdCommits.author_name.unique()"
   ]
  },
  {
   "cell_type": "markdown",
   "metadata": {},
   "source": [
    "How many commits did the individual authors contribute to the overall project?"
   ]
  },
  {
   "cell_type": "code",
   "execution_count": 29,
   "metadata": {},
   "outputs": [
    {
     "data": {
      "text/plain": [
       "author_name\n",
       "Breee               1\n",
       "Christoph Gote    198\n",
       "Ingo Scholtes      10\n",
       "Jan Philip          1\n",
       "Milo Trujillo       1\n",
       "Sebastian Zug       2\n",
       "Name: hash, dtype: int64"
      ]
     },
     "execution_count": 29,
     "metadata": {},
     "output_type": "execute_result"
    }
   ],
   "source": [
    "pdCommits.groupby('author_name')['hash'].count()"
   ]
  },
  {
   "cell_type": "markdown",
   "metadata": {},
   "source": [
    "\n",
    "That's easy. We want to give a last example that applies the features of pandas. At which time git2net commits are usually submitted? Of course, GitHub and GitLab offers similar visualizations, but based on git2net and pandas you are able to filter your data set individually."
   ]
  },
  {
   "cell_type": "code",
   "execution_count": 30,
   "metadata": {},
   "outputs": [
    {
     "data": {
      "text/plain": [
       "<AxesSubplot:xlabel='hours', ylabel='days'>"
      ]
     },
     "execution_count": 30,
     "metadata": {},
     "output_type": "execute_result"
    },
    {
     "data": {
      "image/png": "[encoded data removed]",
      "text/plain": [
       "<Figure size 1296x432 with 2 Axes>"
      ]
     },
     "metadata": {
      "needs_background": "light"
     },
     "output_type": "display_data"
    }
   ],
   "source": [
    "\n",
    "%matplotlib inline\n",
    "import matplotlib.pyplot as plt\n",
    "import seaborn as sns\n",
    "\n",
    "pdCommits['timestamp'] = pd.to_datetime(pdCommits['author_date'], format=\"%Y-%m-%d %H:%M:%S\")\n",
    "pdCommits['hours'] = pdCommits.timestamp.dt.hour\n",
    "pdCommits['days'] = pdCommits.timestamp.dt.dayofweek\n",
    "fig, ax = plt.subplots(figsize=(18,6))\n",
    "sns.heatmap(pdCommits.groupby(['days', 'hours'])['timestamp'].count().unstack(), annot=True, ax=ax)"
   ]
  },
  {
   "cell_type": "markdown",
   "metadata": {},
   "source": [
    "The diagram shows the week with Monday (0) to Sunday (6). Someone seams to work at the weekend too :-) Find out who it is!"
   ]
  },
  {
   "cell_type": "code",
   "execution_count": 36,
   "metadata": {},
   "outputs": [
    {
     "data": {
      "text/html": [
       "<div>\n",
       "<style scoped>\n",
       "    .dataframe tbody tr th:only-of-type {\n",
       "        vertical-align: middle;\n",
       "    }\n",
       "\n",
       "    .dataframe tbody tr th {\n",
       "        vertical-align: top;\n",
       "    }\n",
       "\n",
       "    .dataframe thead th {\n",
       "        text-align: right;\n",
       "    }\n",
       "</style>\n",
       "<table border=\"1\" class=\"dataframe\">\n",
       "  <thead>\n",
       "    <tr style=\"text-align: right;\">\n",
       "      <th></th>\n",
       "      <th>hash</th>\n",
       "      <th>author_email</th>\n",
       "      <th>author_name</th>\n",
       "      <th>committer_email</th>\n",
       "      <th>committer_name</th>\n",
       "      <th>author_date</th>\n",
       "      <th>committer_date</th>\n",
       "      <th>author_timezone</th>\n",
       "      <th>committer_timezone</th>\n",
       "      <th>no_of_modifications</th>\n",
       "      <th>commit_message_len</th>\n",
       "      <th>project_name</th>\n",
       "      <th>parents</th>\n",
       "      <th>merge</th>\n",
       "      <th>in_main_branch</th>\n",
       "      <th>branches</th>\n",
       "      <th>timestamp</th>\n",
       "      <th>hours</th>\n",
       "      <th>days</th>\n",
       "    </tr>\n",
       "  </thead>\n",
       "  <tbody>\n",
       "    <tr>\n",
       "      <th>85</th>\n",
       "      <td>063e74d1c06b1d0f3c62d34c5668c434f39a5d0f</td>\n",
       "      <td>cgote@ethz.ch</td>\n",
       "      <td>Christoph Gote</td>\n",
       "      <td>cgote@ethz.ch</td>\n",
       "      <td>Christoph Gote</td>\n",
       "      <td>2019-09-15 13:12:06</td>\n",
       "      <td>2019-09-15 13:12:06</td>\n",
       "      <td>-7200</td>\n",
       "      <td>-7200</td>\n",
       "      <td>1</td>\n",
       "      <td>11</td>\n",
       "      <td>git2net4analysis</td>\n",
       "      <td>6a34bb3979f1ef490f9471dd7c80466a542907d0</td>\n",
       "      <td>0</td>\n",
       "      <td>1</td>\n",
       "      <td>master</td>\n",
       "      <td>2019-09-15 13:12:06</td>\n",
       "      <td>13</td>\n",
       "      <td>6</td>\n",
       "    </tr>\n",
       "    <tr>\n",
       "      <th>86</th>\n",
       "      <td>d32df107ed2d75c741726e88e39ba8b3f46b146f</td>\n",
       "      <td>cgote@ethz.ch</td>\n",
       "      <td>Christoph Gote</td>\n",
       "      <td>cgote@ethz.ch</td>\n",
       "      <td>Christoph Gote</td>\n",
       "      <td>2019-09-15 13:15:02</td>\n",
       "      <td>2019-09-15 13:15:02</td>\n",
       "      <td>-7200</td>\n",
       "      <td>-7200</td>\n",
       "      <td>1</td>\n",
       "      <td>24</td>\n",
       "      <td>git2net4analysis</td>\n",
       "      <td>063e74d1c06b1d0f3c62d34c5668c434f39a5d0f</td>\n",
       "      <td>0</td>\n",
       "      <td>1</td>\n",
       "      <td>master</td>\n",
       "      <td>2019-09-15 13:15:02</td>\n",
       "      <td>13</td>\n",
       "      <td>6</td>\n",
       "    </tr>\n",
       "    <tr>\n",
       "      <th>93</th>\n",
       "      <td>241c3c3323b96ae44066b3606dece85472684943</td>\n",
       "      <td>jan.philip.wahle@gmail.com</td>\n",
       "      <td>Jan Philip</td>\n",
       "      <td>jan.philip.wahle@gmail.com</td>\n",
       "      <td>Jan Philip</td>\n",
       "      <td>2019-11-02 21:54:15</td>\n",
       "      <td>2019-11-02 21:54:15</td>\n",
       "      <td>-3600</td>\n",
       "      <td>-3600</td>\n",
       "      <td>1</td>\n",
       "      <td>49</td>\n",
       "      <td>git2net4analysis</td>\n",
       "      <td>5e36e186bc2bff8c03318d7152b7fed5b98774ea</td>\n",
       "      <td>0</td>\n",
       "      <td>1</td>\n",
       "      <td>master</td>\n",
       "      <td>2019-11-02 21:54:15</td>\n",
       "      <td>21</td>\n",
       "      <td>5</td>\n",
       "    </tr>\n",
       "    <tr>\n",
       "      <th>129</th>\n",
       "      <td>f58d707088feea78fae16aedd5bc70d38b0fe6fd</td>\n",
       "      <td>gotec@me.com</td>\n",
       "      <td>Christoph Gote</td>\n",
       "      <td>gotec@me.com</td>\n",
       "      <td>Christoph Gote</td>\n",
       "      <td>2020-08-02 15:27:48</td>\n",
       "      <td>2020-08-02 15:27:48</td>\n",
       "      <td>0</td>\n",
       "      <td>0</td>\n",
       "      <td>1</td>\n",
       "      <td>34</td>\n",
       "      <td>git2net4analysis</td>\n",
       "      <td>c01b3ec7daa11deca4814952540158409c06331a</td>\n",
       "      <td>0</td>\n",
       "      <td>1</td>\n",
       "      <td>master</td>\n",
       "      <td>2020-08-02 15:27:48</td>\n",
       "      <td>15</td>\n",
       "      <td>6</td>\n",
       "    </tr>\n",
       "    <tr>\n",
       "      <th>130</th>\n",
       "      <td>089ec3abb570f10df47de38af129366a314be9f7</td>\n",
       "      <td>gotec@me.com</td>\n",
       "      <td>Christoph Gote</td>\n",
       "      <td>gotec@me.com</td>\n",
       "      <td>Christoph Gote</td>\n",
       "      <td>2020-08-02 16:13:01</td>\n",
       "      <td>2020-08-02 16:13:01</td>\n",
       "      <td>0</td>\n",
       "      <td>0</td>\n",
       "      <td>1</td>\n",
       "      <td>41</td>\n",
       "      <td>git2net4analysis</td>\n",
       "      <td>f58d707088feea78fae16aedd5bc70d38b0fe6fd</td>\n",
       "      <td>0</td>\n",
       "      <td>1</td>\n",
       "      <td>master</td>\n",
       "      <td>2020-08-02 16:13:01</td>\n",
       "      <td>16</td>\n",
       "      <td>6</td>\n",
       "    </tr>\n",
       "    <tr>\n",
       "      <th>136</th>\n",
       "      <td>de3e1c627111cc56856dfe54c4ee3a02b0d62aea</td>\n",
       "      <td>Sebastian.Zug@informatik.tu-freiberg.de</td>\n",
       "      <td>Sebastian Zug</td>\n",
       "      <td>Sebastian.Zug@informatik.tu-freiberg.de</td>\n",
       "      <td>Sebastian Zug</td>\n",
       "      <td>2020-08-29 11:22:18</td>\n",
       "      <td>2020-08-29 11:22:18</td>\n",
       "      <td>-7200</td>\n",
       "      <td>-7200</td>\n",
       "      <td>1</td>\n",
       "      <td>25</td>\n",
       "      <td>git2net4analysis</td>\n",
       "      <td>f22aa1b58e0563644285bd3dce4a040e266a3408</td>\n",
       "      <td>0</td>\n",
       "      <td>1</td>\n",
       "      <td>master</td>\n",
       "      <td>2020-08-29 11:22:18</td>\n",
       "      <td>11</td>\n",
       "      <td>5</td>\n",
       "    </tr>\n",
       "    <tr>\n",
       "      <th>141</th>\n",
       "      <td>636d6f31a6e4e97a99f39e302bc4cda952e7f363</td>\n",
       "      <td>gotec@me.com</td>\n",
       "      <td>Christoph Gote</td>\n",
       "      <td>gotec@me.com</td>\n",
       "      <td>Christoph Gote</td>\n",
       "      <td>2020-11-15 17:47:25</td>\n",
       "      <td>2020-11-15 17:47:25</td>\n",
       "      <td>0</td>\n",
       "      <td>0</td>\n",
       "      <td>1</td>\n",
       "      <td>45</td>\n",
       "      <td>git2net4analysis</td>\n",
       "      <td>8051f5cb881fad44f526f033cd45ed9cb0fd2db6</td>\n",
       "      <td>0</td>\n",
       "      <td>1</td>\n",
       "      <td>master</td>\n",
       "      <td>2020-11-15 17:47:25</td>\n",
       "      <td>17</td>\n",
       "      <td>6</td>\n",
       "    </tr>\n",
       "    <tr>\n",
       "      <th>199</th>\n",
       "      <td>0ade8b9347b9a7078c2349f183a3c2c8470ac51c</td>\n",
       "      <td>gotec@me.com</td>\n",
       "      <td>Christoph Gote</td>\n",
       "      <td>noreply@github.com</td>\n",
       "      <td>GitHub</td>\n",
       "      <td>2020-08-30 16:21:06</td>\n",
       "      <td>2020-08-30 16:21:06</td>\n",
       "      <td>-7200</td>\n",
       "      <td>-7200</td>\n",
       "      <td>0</td>\n",
       "      <td>74</td>\n",
       "      <td>git2net4analysis</td>\n",
       "      <td>f22aa1b58e0563644285bd3dce4a040e266a3408,de3e1...</td>\n",
       "      <td>1</td>\n",
       "      <td>1</td>\n",
       "      <td>master</td>\n",
       "      <td>2020-08-30 16:21:06</td>\n",
       "      <td>16</td>\n",
       "      <td>6</td>\n",
       "    </tr>\n",
       "    <tr>\n",
       "      <th>200</th>\n",
       "      <td>e56c7dacd4c8d20d9f4fb1cd88d4f565abd28de7</td>\n",
       "      <td>gotec@me.com</td>\n",
       "      <td>Christoph Gote</td>\n",
       "      <td>noreply@github.com</td>\n",
       "      <td>GitHub</td>\n",
       "      <td>2021-01-30 17:22:48</td>\n",
       "      <td>2021-01-30 17:22:48</td>\n",
       "      <td>-3600</td>\n",
       "      <td>-3600</td>\n",
       "      <td>0</td>\n",
       "      <td>81</td>\n",
       "      <td>git2net4analysis</td>\n",
       "      <td>a5caf7ec7e7efa21e4747b8d1e7fd719ab76dcba,3b14e...</td>\n",
       "      <td>1</td>\n",
       "      <td>1</td>\n",
       "      <td>master</td>\n",
       "      <td>2021-01-30 17:22:48</td>\n",
       "      <td>17</td>\n",
       "      <td>5</td>\n",
       "    </tr>\n",
       "  </tbody>\n",
       "</table>\n",
       "</div>"
      ],
      "text/plain": [
       "                                         hash  \\\n",
       "85   063e74d1c06b1d0f3c62d34c5668c434f39a5d0f   \n",
       "86   d32df107ed2d75c741726e88e39ba8b3f46b146f   \n",
       "93   241c3c3323b96ae44066b3606dece85472684943   \n",
       "129  f58d707088feea78fae16aedd5bc70d38b0fe6fd   \n",
       "130  089ec3abb570f10df47de38af129366a314be9f7   \n",
       "136  de3e1c627111cc56856dfe54c4ee3a02b0d62aea   \n",
       "141  636d6f31a6e4e97a99f39e302bc4cda952e7f363   \n",
       "199  0ade8b9347b9a7078c2349f183a3c2c8470ac51c   \n",
       "200  e56c7dacd4c8d20d9f4fb1cd88d4f565abd28de7   \n",
       "\n",
       "                                author_email     author_name  \\\n",
       "85                             cgote@ethz.ch  Christoph Gote   \n",
       "86                             cgote@ethz.ch  Christoph Gote   \n",
       "93                jan.philip.wahle@gmail.com      Jan Philip   \n",
       "129                             gotec@me.com  Christoph Gote   \n",
       "130                             gotec@me.com  Christoph Gote   \n",
       "136  Sebastian.Zug@informatik.tu-freiberg.de   Sebastian Zug   \n",
       "141                             gotec@me.com  Christoph Gote   \n",
       "199                             gotec@me.com  Christoph Gote   \n",
       "200                             gotec@me.com  Christoph Gote   \n",
       "\n",
       "                             committer_email  committer_name  \\\n",
       "85                             cgote@ethz.ch  Christoph Gote   \n",
       "86                             cgote@ethz.ch  Christoph Gote   \n",
       "93                jan.philip.wahle@gmail.com      Jan Philip   \n",
       "129                             gotec@me.com  Christoph Gote   \n",
       "130                             gotec@me.com  Christoph Gote   \n",
       "136  Sebastian.Zug@informatik.tu-freiberg.de   Sebastian Zug   \n",
       "141                             gotec@me.com  Christoph Gote   \n",
       "199                       noreply@github.com          GitHub   \n",
       "200                       noreply@github.com          GitHub   \n",
       "\n",
       "             author_date       committer_date  author_timezone  \\\n",
       "85   2019-09-15 13:12:06  2019-09-15 13:12:06            -7200   \n",
       "86   2019-09-15 13:15:02  2019-09-15 13:15:02            -7200   \n",
       "93   2019-11-02 21:54:15  2019-11-02 21:54:15            -3600   \n",
       "129  2020-08-02 15:27:48  2020-08-02 15:27:48                0   \n",
       "130  2020-08-02 16:13:01  2020-08-02 16:13:01                0   \n",
       "136  2020-08-29 11:22:18  2020-08-29 11:22:18            -7200   \n",
       "141  2020-11-15 17:47:25  2020-11-15 17:47:25                0   \n",
       "199  2020-08-30 16:21:06  2020-08-30 16:21:06            -7200   \n",
       "200  2021-01-30 17:22:48  2021-01-30 17:22:48            -3600   \n",
       "\n",
       "     committer_timezone  no_of_modifications  commit_message_len  \\\n",
       "85                -7200                    1                  11   \n",
       "86                -7200                    1                  24   \n",
       "93                -3600                    1                  49   \n",
       "129                   0                    1                  34   \n",
       "130                   0                    1                  41   \n",
       "136               -7200                    1                  25   \n",
       "141                   0                    1                  45   \n",
       "199               -7200                    0                  74   \n",
       "200               -3600                    0                  81   \n",
       "\n",
       "         project_name                                            parents  \\\n",
       "85   git2net4analysis           6a34bb3979f1ef490f9471dd7c80466a542907d0   \n",
       "86   git2net4analysis           063e74d1c06b1d0f3c62d34c5668c434f39a5d0f   \n",
       "93   git2net4analysis           5e36e186bc2bff8c03318d7152b7fed5b98774ea   \n",
       "129  git2net4analysis           c01b3ec7daa11deca4814952540158409c06331a   \n",
       "130  git2net4analysis           f58d707088feea78fae16aedd5bc70d38b0fe6fd   \n",
       "136  git2net4analysis           f22aa1b58e0563644285bd3dce4a040e266a3408   \n",
       "141  git2net4analysis           8051f5cb881fad44f526f033cd45ed9cb0fd2db6   \n",
       "199  git2net4analysis  f22aa1b58e0563644285bd3dce4a040e266a3408,de3e1...   \n",
       "200  git2net4analysis  a5caf7ec7e7efa21e4747b8d1e7fd719ab76dcba,3b14e...   \n",
       "\n",
       "     merge  in_main_branch branches           timestamp  hours  days  \n",
       "85       0               1   master 2019-09-15 13:12:06     13     6  \n",
       "86       0               1   master 2019-09-15 13:15:02     13     6  \n",
       "93       0               1   master 2019-11-02 21:54:15     21     5  \n",
       "129      0               1   master 2020-08-02 15:27:48     15     6  \n",
       "130      0               1   master 2020-08-02 16:13:01     16     6  \n",
       "136      0               1   master 2020-08-29 11:22:18     11     5  \n",
       "141      0               1   master 2020-11-15 17:47:25     17     6  \n",
       "199      1               1   master 2020-08-30 16:21:06     16     6  \n",
       "200      1               1   master 2021-01-30 17:22:48     17     5  "
      ]
     },
     "execution_count": 36,
     "metadata": {},
     "output_type": "execute_result"
    }
   ],
   "source": [
    "pdCommits[pdCommits['days'].isin([5,6])]"
   ]
  }
 ],
 "metadata": {
  "kernelspec": {
   "display_name": "Python 3",
   "language": "python",
   "name": "python3"
  },
  "language_info": {
   "codemirror_mode": {
    "name": "ipython",
    "version": 3
   },
   "file_extension": ".py",
   "mimetype": "text/x-python",
   "name": "python",
   "nbconvert_exporter": "python",
   "pygments_lexer": "ipython3",
   "version": "3.8.5"
  }
 },
 "nbformat": 4,
 "nbformat_minor": 4
}
