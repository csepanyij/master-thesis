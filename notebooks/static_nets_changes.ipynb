{
 "cells": [
  {
   "cell_type": "markdown",
   "metadata": {},
   "source": [
    "# git2net analysis for the networkx repository\n",
    "\n",
    "First we import the required packages"
   ]
  },
  {
   "cell_type": "code",
   "execution_count": 43,
   "metadata": {},
   "outputs": [],
   "source": [
    "import pygit2 as git2\n",
    "import os\n",
    "import shutil\n",
    "import git2net\n",
    "import pathpy as pp\n",
    "import sqlite3\n",
    "import pandas as pd\n",
    "from datetime import date, datetime, timedelta\n",
    "import datetime as dt\n",
    "import matplotlib.pyplot as plt\n",
    "from matplotlib.pyplot import figure\n",
    "import json \n",
    "import math\n",
    "import copy\n",
    "import networkx\n",
    "\n",
    "git_repo_url = 'https://github.com/bytecodealliance/wasmtime'\n",
    "#git_repo_url = 'https://github.com/pandas-dev/pandas.git'\n",
    "#git_repo_url = 'https://github.com/networkx/networkx.git'\n",
    "#git_repo_url = 'https://github.com/numpy/numpy.git'\n",
    "#git_repo_url = 'https://github.com/deepcharles/ruptures.git'\n",
    "#git_repo_url = 'https://github.com/mwaskom/seaborn.git'\n",
    "repo_name = 'wasmtime'\n",
    "local_directory = '.'\n",
    "git_repo_dir = 'repos/{r}4analysis'.format(r=repo_name)\n",
    "sqlite_db_file = 'databases/{r}/{r}_rename.db'.format(r=repo_name)\n",
    "#sqlite_db_file = 'databases/{r}/{r}.db'.format(r=repo_name)"
   ]
  },
  {
   "cell_type": "markdown",
   "metadata": {},
   "source": [
    "Clone repo:"
   ]
  },
  {
   "cell_type": "code",
   "execution_count": 30,
   "metadata": {},
   "outputs": [],
   "source": [
    "if os.path.exists(git_repo_dir):\n",
    "    shutil.rmtree(git_repo_dir)\n",
    "\n",
    "repo = git2.clone_repository(git_repo_url, git_repo_dir) # Clones a non-bare repository"
   ]
  },
  {
   "cell_type": "markdown",
   "metadata": {},
   "source": [
    "Then we create the database for it. We will try with max_modification=100, so that most commits are processed.\n",
    "\n",
    "Mine repo:"
   ]
  },
  {
   "cell_type": "code",
   "execution_count": 39,
   "metadata": {},
   "outputs": [
    {
     "name": "stdout",
     "output_type": "stream",
     "text": [
      "Found no database on provided path. Starting from scratch.\n"
     ]
    },
    {
     "name": "stderr",
     "output_type": "stream",
     "text": [
      "Parallel (8 processes):  21%|██▏       | 1720/8054 [04:55<19:51,  5.31it/s]  "
     ]
    },
    {
     "name": "stdout",
     "output_type": "stream",
     "text": [
      "Commit exceeding max_modifications:  234e72a5b317a8c77ce21fea28b238644ff20868"
     ]
    },
    {
     "name": "stderr",
     "output_type": "stream",
     "text": [
      "\r",
      "Parallel (8 processes):  21%|██▏       | 1721/8054 [04:56<23:36,  4.47it/s]"
     ]
    },
    {
     "name": "stdout",
     "output_type": "stream",
     "text": [
      "\n"
     ]
    },
    {
     "name": "stderr",
     "output_type": "stream",
     "text": [
      "\r",
      "Parallel (8 processes):  21%|██▏       | 1722/8054 [04:56<21:26,  4.92it/s]"
     ]
    },
    {
     "name": "stdout",
     "output_type": "stream",
     "text": [
      "Commit exceeding max_modifications:  dfdab56a5480e92727f1e7e6dfc27234c2026e77\n"
     ]
    },
    {
     "name": "stderr",
     "output_type": "stream",
     "text": [
      "Parallel (8 processes):  22%|██▏       | 1754/8054 [05:01<13:56,  7.53it/s]"
     ]
    },
    {
     "name": "stdout",
     "output_type": "stream",
     "text": [
      "Commit exceeding max_modifications: "
     ]
    },
    {
     "name": "stderr",
     "output_type": "stream",
     "text": [
      "\r",
      "Parallel (8 processes):  22%|██▏       | 1755/8054 [05:01<14:43,  7.13it/s]"
     ]
    },
    {
     "name": "stdout",
     "output_type": "stream",
     "text": [
      " 8f6957296e843b57ac98b0d88a3f795ad42c1c3e\n"
     ]
    },
    {
     "name": "stderr",
     "output_type": "stream",
     "text": [
      "Parallel (8 processes):  22%|██▏       | 1778/8054 [05:05<17:46,  5.88it/s]"
     ]
    },
    {
     "name": "stdout",
     "output_type": "stream",
     "text": [
      "Commit exceeding max_modifications:  2efdc0ed37ed7ff0652fb2ea1c4b3180a8c20867\n"
     ]
    },
    {
     "name": "stderr",
     "output_type": "stream",
     "text": [
      "Parallel (8 processes):  23%|██▎       | 1836/8054 [05:15<15:47,  6.56it/s]"
     ]
    },
    {
     "name": "stdout",
     "output_type": "stream",
     "text": [
      "Commit exceeding max_modifications:  d0fe50a2a87d69253163b5fd4dea31fec77ddb9e\n"
     ]
    },
    {
     "name": "stderr",
     "output_type": "stream",
     "text": [
      "Parallel (8 processes):  30%|███       | 2440/8054 [06:44<16:10,  5.78it/s]"
     ]
    },
    {
     "name": "stdout",
     "output_type": "stream",
     "text": [
      "Commit exceeding max_modifications:  4a3077d6387f4c4f790a78eec8a82903372d2388\n"
     ]
    },
    {
     "name": "stderr",
     "output_type": "stream",
     "text": [
      "Parallel (8 processes):  32%|███▏      | 2567/8054 [07:03<10:22,  8.82it/s]"
     ]
    },
    {
     "name": "stdout",
     "output_type": "stream",
     "text": [
      "Commit exceeding max_modifications:  8d5fecd324fb935d75013bd11b72e8bdb63a3502\n"
     ]
    },
    {
     "name": "stderr",
     "output_type": "stream",
     "text": [
      "Parallel (8 processes):  32%|███▏      | 2573/8054 [07:04<08:03, 11.34it/s]"
     ]
    },
    {
     "name": "stdout",
     "output_type": "stream",
     "text": [
      "Commit exceeding max_modifications:  c50675deb8125f2bf4fea187765443c5e8f88885\n"
     ]
    },
    {
     "name": "stderr",
     "output_type": "stream",
     "text": [
      "\r",
      "Parallel (8 processes):  32%|███▏      | 2575/8054 [07:04<07:41, 11.86it/s]"
     ]
    },
    {
     "name": "stdout",
     "output_type": "stream",
     "text": [
      "Commit exceeding max_modifications:  07693048f0c94eda1e149836ffd74d6c46a9a80a\n"
     ]
    },
    {
     "name": "stderr",
     "output_type": "stream",
     "text": [
      "Parallel (8 processes):  33%|███▎      | 2625/8054 [07:12<15:24,  5.87it/s]"
     ]
    },
    {
     "name": "stdout",
     "output_type": "stream",
     "text": [
      "Commit exceeding max_modifications:  24fa169e1f90b75318409050ba3b56ca57caead8\n"
     ]
    },
    {
     "name": "stderr",
     "output_type": "stream",
     "text": [
      "Parallel (8 processes):  33%|███▎      | 2645/8054 [07:15<13:43,  6.56it/s]"
     ]
    },
    {
     "name": "stdout",
     "output_type": "stream",
     "text": [
      "Commit exceeding max_modifications:  a10a6a0df0de3fe09378f3053ab192f49fc4a833\n"
     ]
    },
    {
     "name": "stderr",
     "output_type": "stream",
     "text": [
      "Parallel (8 processes):  33%|███▎      | 2662/8054 [07:19<17:17,  5.20it/s]"
     ]
    },
    {
     "name": "stdout",
     "output_type": "stream",
     "text": [
      "Commit exceeding max_modifications:  d874843a5987a415e64eac9be67b38a64ff2e65d\n"
     ]
    },
    {
     "name": "stderr",
     "output_type": "stream",
     "text": [
      "Parallel (8 processes):  35%|███▌      | 2851/8054 [07:51<18:06,  4.79it/s]"
     ]
    },
    {
     "name": "stdout",
     "output_type": "stream",
     "text": [
      "Commit exceeding max_modifications:  6b88cd44a887cd278c53368f47e7094abcfd3cd8\n"
     ]
    },
    {
     "name": "stderr",
     "output_type": "stream",
     "text": [
      "Parallel (8 processes):  35%|███▌      | 2859/8054 [07:52<16:59,  5.09it/s]"
     ]
    },
    {
     "name": "stdout",
     "output_type": "stream",
     "text": [
      "Commit exceeding max_modifications:  4e67e08efdf276e9a77a49d18de0353aee17ecd3\n"
     ]
    },
    {
     "name": "stderr",
     "output_type": "stream",
     "text": [
      "Parallel (8 processes):  37%|███▋      | 2959/8054 [08:19<16:51,  5.03it/s]"
     ]
    },
    {
     "name": "stdout",
     "output_type": "stream",
     "text": [
      "Commit exceeding max_modifications:  f4dbd38a4c4e46963468e64a4521080847ed697c\n"
     ]
    },
    {
     "name": "stderr",
     "output_type": "stream",
     "text": [
      "Parallel (8 processes):  44%|████▎     | 3521/8054 [10:18<30:43,  2.46it/s]"
     ]
    },
    {
     "name": "stdout",
     "output_type": "stream",
     "text": [
      "Commit exceeding max_modifications:  effe6c04e44426444feb3794e534ba53a65b9997\n"
     ]
    },
    {
     "name": "stderr",
     "output_type": "stream",
     "text": [
      "Parallel (8 processes):  45%|████▍     | 3606/8054 [10:31<13:58,  5.31it/s]"
     ]
    },
    {
     "name": "stdout",
     "output_type": "stream",
     "text": [
      "Commit exceeding max_modifications:  aeb9161e2cd244a23d3ff8bbee9b63d434d86695\n"
     ]
    },
    {
     "name": "stderr",
     "output_type": "stream",
     "text": [
      "Parallel (8 processes):  45%|████▌     | 3642/8054 [10:41<19:14,  3.82it/s]"
     ]
    },
    {
     "name": "stdout",
     "output_type": "stream",
     "text": [
      "Commit exceeding max_modifications:  747ad3c4c58151d3ed24840a0c8afbee1335fa21\n"
     ]
    },
    {
     "name": "stderr",
     "output_type": "stream",
     "text": [
      "Parallel (8 processes):  58%|█████▊    | 4658/8054 [14:00<13:38,  4.15it/s]"
     ]
    },
    {
     "name": "stdout",
     "output_type": "stream",
     "text": [
      "Commit exceeding max_modifications:  9757f7194cd05d8cb066122c54bfa4eeae082a7f\n"
     ]
    },
    {
     "name": "stderr",
     "output_type": "stream",
     "text": [
      "Parallel (8 processes):  61%|██████    | 4919/8054 [15:09<25:38,  2.04it/s]"
     ]
    },
    {
     "name": "stdout",
     "output_type": "stream",
     "text": [
      "Commit exceeding max_modifications:  cd1e54487c5beb36d6c6b76700a7095bae155ab1\n"
     ]
    },
    {
     "name": "stderr",
     "output_type": "stream",
     "text": [
      "Parallel (8 processes):  61%|██████    | 4931/8054 [15:12<13:38,  3.81it/s]"
     ]
    },
    {
     "name": "stdout",
     "output_type": "stream",
     "text": [
      "Commit exceeding max_modifications:  73f85f5c4b61503bca5c0377500fc02e7d9703b0\n"
     ]
    },
    {
     "name": "stderr",
     "output_type": "stream",
     "text": [
      "Parallel (8 processes):  61%|██████▏   | 4934/8054 [15:13<14:50,  3.50it/s]"
     ]
    },
    {
     "name": "stdout",
     "output_type": "stream",
     "text": [
      "Commit exceeding max_modifications:  2c69546a240b28edb81ab45cc8be78dadc10b224\n"
     ]
    },
    {
     "name": "stderr",
     "output_type": "stream",
     "text": [
      "Parallel (8 processes):  61%|██████▏   | 4944/8054 [15:15<11:06,  4.67it/s]"
     ]
    },
    {
     "name": "stdout",
     "output_type": "stream",
     "text": [
      "Commit exceeding max_modifications:  22641de629914ff956c9132638fcc755ff7efc13\n"
     ]
    },
    {
     "name": "stderr",
     "output_type": "stream",
     "text": [
      "Parallel (8 processes):  62%|██████▏   | 4960/8054 [15:17<08:41,  5.94it/s]"
     ]
    },
    {
     "name": "stdout",
     "output_type": "stream",
     "text": [
      "Commit exceeding max_modifications:  85cfdd0bb130a5b8e793c090f80ca6e59be43228\n"
     ]
    },
    {
     "name": "stderr",
     "output_type": "stream",
     "text": [
      "Parallel (8 processes):  63%|██████▎   | 5086/8054 [16:13<31:45,  1.56it/s]"
     ]
    },
    {
     "name": "stdout",
     "output_type": "stream",
     "text": [
      "Commit exceeding max_modifications:  3e7bc745a222ae758919e2fa1be0ba26b8de0195\n"
     ]
    },
    {
     "name": "stderr",
     "output_type": "stream",
     "text": [
      "Parallel (8 processes):  64%|██████▍   | 5167/8054 [16:42<20:34,  2.34it/s]"
     ]
    },
    {
     "name": "stdout",
     "output_type": "stream",
     "text": [
      "Commit exceeding max_modifications:  63b69a8e6cd89e6bf4e5ff86a57c4cf0b5e04001\n"
     ]
    },
    {
     "name": "stderr",
     "output_type": "stream",
     "text": [
      "Parallel (8 processes):  64%|██████▍   | 5174/8054 [16:46<31:45,  1.51it/s]"
     ]
    },
    {
     "name": "stdout",
     "output_type": "stream",
     "text": [
      "Commit exceeding max_modifications:  67f9ef2cc8eaed804ce954611ea076d6e1d14bbe\n"
     ]
    },
    {
     "name": "stderr",
     "output_type": "stream",
     "text": [
      "Parallel (8 processes):  66%|██████▌   | 5316/8054 [17:47<17:13,  2.65it/s]"
     ]
    },
    {
     "name": "stdout",
     "output_type": "stream",
     "text": [
      "Commit exceeding max_modifications:  "
     ]
    },
    {
     "name": "stderr",
     "output_type": "stream",
     "text": [
      "\r",
      "Parallel (8 processes):  66%|██████▌   | 5317/8054 [17:48<16:02,  2.84it/s]"
     ]
    },
    {
     "name": "stdout",
     "output_type": "stream",
     "text": [
      "b2c63290dd47713c699fdc529572fafd2ffce881\n"
     ]
    },
    {
     "name": "stderr",
     "output_type": "stream",
     "text": [
      "Parallel (8 processes):  68%|██████▊   | 5502/8054 [19:03<15:32,  2.74it/s]  "
     ]
    },
    {
     "name": "stdout",
     "output_type": "stream",
     "text": [
      "Commit exceeding max_modifications:  832666c45ead73fd833ea86da94cacb2f30a530c\n"
     ]
    },
    {
     "name": "stderr",
     "output_type": "stream",
     "text": [
      "Parallel (8 processes):  70%|███████   | 5642/8054 [19:43<14:33,  2.76it/s]"
     ]
    },
    {
     "name": "stdout",
     "output_type": "stream",
     "text": [
      "Commit exceeding max_modifications:  abae4ca46d93e25791df38eb978e5bd58cef92e5\n"
     ]
    },
    {
     "name": "stderr",
     "output_type": "stream",
     "text": [
      "Parallel (8 processes):  70%|███████   | 5666/8054 [19:54<15:52,  2.51it/s]"
     ]
    },
    {
     "name": "stdout",
     "output_type": "stream",
     "text": [
      "Commit exceeding max_modifications:  86ff6d7aef8017da4b77b9b8d69a71c4a2b443cb\n"
     ]
    },
    {
     "name": "stderr",
     "output_type": "stream",
     "text": [
      "\r",
      "Parallel (8 processes):  70%|███████   | 5668/8054 [19:54<13:09,  3.02it/s]"
     ]
    },
    {
     "name": "stdout",
     "output_type": "stream",
     "text": [
      "Commit exceeding max_modifications:  e287a8794899937550983a572dcac8cc868fdb3b\n"
     ]
    },
    {
     "name": "stderr",
     "output_type": "stream",
     "text": [
      "Parallel (8 processes):  71%|███████   | 5711/8054 [20:13<18:26,  2.12it/s]"
     ]
    },
    {
     "name": "stdout",
     "output_type": "stream",
     "text": [
      "Commit exceeding max_modifications:  e47de6f60558e55cc931c53c7e52ddd108627a18\n"
     ]
    },
    {
     "name": "stderr",
     "output_type": "stream",
     "text": [
      "Parallel (8 processes):  71%|███████▏  | 5758/8054 [20:32<09:05,  4.21it/s]"
     ]
    },
    {
     "name": "stdout",
     "output_type": "stream",
     "text": [
      "Commit exceeding max_modifications:  ae0a0240ed7deba7c1803a10a612b48c0624ad8b\n"
     ]
    },
    {
     "name": "stderr",
     "output_type": "stream",
     "text": [
      "Parallel (8 processes):  74%|███████▍  | 5970/8054 [22:12<11:00,  3.15it/s]  "
     ]
    },
    {
     "name": "stdout",
     "output_type": "stream",
     "text": [
      "Commit exceeding max_modifications:  71923c805aac76efc9a4dd2bcf445d1a75f91bed\n"
     ]
    },
    {
     "name": "stderr",
     "output_type": "stream",
     "text": [
      "Parallel (8 processes):  75%|███████▍  | 6007/8054 [22:29<12:14,  2.79it/s]"
     ]
    },
    {
     "name": "stdout",
     "output_type": "stream",
     "text": [
      "Commit exceeding max_modifications:  7da6101732745b43bdb528c53d9a60d1e4d354a7\n"
     ]
    },
    {
     "name": "stderr",
     "output_type": "stream",
     "text": [
      "Parallel (8 processes):  75%|███████▌  | 6050/8054 [22:49<10:52,  3.07it/s]"
     ]
    },
    {
     "name": "stdout",
     "output_type": "stream",
     "text": [
      "Commit exceeding max_modifications:  d88098744b6c53c561f204ac5b915375f7aae371\n"
     ]
    },
    {
     "name": "stderr",
     "output_type": "stream",
     "text": [
      "Parallel (8 processes):  76%|███████▌  | 6126/8054 [23:39<17:37,  1.82it/s]  "
     ]
    },
    {
     "name": "stdout",
     "output_type": "stream",
     "text": [
      "Commit exceeding max_modifications:  8393412c401ed9a9644fc541b2689eb6afcaa977\n"
     ]
    },
    {
     "name": "stderr",
     "output_type": "stream",
     "text": [
      "Parallel (8 processes):  76%|███████▌  | 6130/8054 [23:40<12:20,  2.60it/s]"
     ]
    },
    {
     "name": "stdout",
     "output_type": "stream",
     "text": [
      "Commit exceeding max_modifications:  4471a82b0c540ff48960eca6757ccce5b1b5c3e4\n"
     ]
    },
    {
     "name": "stderr",
     "output_type": "stream",
     "text": [
      "Parallel (8 processes):  77%|███████▋  | 6207/8054 [24:17<08:37,  3.57it/s]"
     ]
    },
    {
     "name": "stdout",
     "output_type": "stream",
     "text": [
      "Commit exceeding max_modifications:  fb7a690efc6ba41dae4eb51994ec2db835443997\n"
     ]
    },
    {
     "name": "stderr",
     "output_type": "stream",
     "text": [
      "Parallel (8 processes):  77%|███████▋  | 6212/8054 [24:18<08:01,  3.82it/s]"
     ]
    },
    {
     "name": "stdout",
     "output_type": "stream",
     "text": [
      "Commit exceeding max_modifications:  df4028749e53d0da258a5e6c5d3779414440130b\n"
     ]
    },
    {
     "name": "stderr",
     "output_type": "stream",
     "text": [
      "Parallel (8 processes):  80%|████████  | 6472/8054 [27:42<17:42,  1.49it/s]  "
     ]
    },
    {
     "name": "stdout",
     "output_type": "stream",
     "text": [
      "Commit exceeding max_modifications:  4f72a7483b3177d4d0f30b51979c1f029123fe9d\n"
     ]
    },
    {
     "name": "stderr",
     "output_type": "stream",
     "text": [
      "Parallel (8 processes):  81%|████████  | 6530/8054 [28:04<11:04,  2.30it/s]"
     ]
    },
    {
     "name": "stdout",
     "output_type": "stream",
     "text": [
      "Commit exceeding max_modifications:  9ce67d8cad92609c74bf3b7fb0e14d894564108b\n"
     ]
    },
    {
     "name": "stderr",
     "output_type": "stream",
     "text": [
      "Parallel (8 processes):  81%|████████  | 6536/8054 [28:08<15:14,  1.66it/s]"
     ]
    },
    {
     "name": "stdout",
     "output_type": "stream",
     "text": [
      "Commit exceeding max_modifications:  c3799c8ab4fe967c88ee8d2de00a365f3bcbba56\n"
     ]
    },
    {
     "name": "stderr",
     "output_type": "stream",
     "text": [
      "Parallel (8 processes):  82%|████████▏ | 6567/8054 [28:31<10:05,  2.45it/s]"
     ]
    },
    {
     "name": "stdout",
     "output_type": "stream",
     "text": [
      "Commit exceeding max_modifications:  4f16f0dc322ce456a752e42ba8e6297b9013ef5b\n"
     ]
    },
    {
     "name": "stderr",
     "output_type": "stream",
     "text": [
      "Parallel (8 processes):  83%|████████▎ | 6661/8054 [29:30<06:05,  3.81it/s]"
     ]
    },
    {
     "name": "stdout",
     "output_type": "stream",
     "text": [
      "Commit exceeding max_modifications:  f48f9eb4b3f8e294b6eafbcea362cf5823a0e037\n"
     ]
    },
    {
     "name": "stderr",
     "output_type": "stream",
     "text": [
      "Parallel (8 processes):  83%|████████▎ | 6664/8054 [29:31<06:52,  3.37it/s]"
     ]
    },
    {
     "name": "stdout",
     "output_type": "stream",
     "text": [
      "Commit exceeding max_modifications:  f4f5eed254ae7fbcb2c30551b2d84dc9cf3db66b\n"
     ]
    },
    {
     "name": "stderr",
     "output_type": "stream",
     "text": [
      "Parallel (8 processes):  83%|████████▎ | 6676/8054 [29:43<18:38,  1.23it/s]"
     ]
    },
    {
     "name": "stdout",
     "output_type": "stream",
     "text": [
      "Commit exceeding max_modifications:  1d09c8e46be757c864e03122cf367347798226af\n"
     ]
    },
    {
     "name": "stderr",
     "output_type": "stream",
     "text": [
      "Parallel (8 processes):  86%|████████▌ | 6926/8054 [32:26<04:39,  4.04it/s]  "
     ]
    },
    {
     "name": "stdout",
     "output_type": "stream",
     "text": [
      "Commit exceeding max_modifications:  \n",
      "02aba548e18a2d4e9d8f6bd05b381e66a3099048"
     ]
    },
    {
     "name": "stderr",
     "output_type": "stream",
     "text": [
      "Parallel (8 processes):  87%|████████▋ | 7041/8054 [33:34<13:11,  1.28it/s]"
     ]
    },
    {
     "name": "stdout",
     "output_type": "stream",
     "text": [
      "Commit exceeding max_modifications:  7bfc4597a0141f3f54f27e13e3f32576d2046ba7\n"
     ]
    },
    {
     "name": "stderr",
     "output_type": "stream",
     "text": [
      "Parallel (8 processes):  89%|████████▉ | 7150/8054 [34:25<06:51,  2.20it/s]"
     ]
    },
    {
     "name": "stdout",
     "output_type": "stream",
     "text": [
      "Commit exceeding max_modifications:  88d975d396defb47da85665054a98a16708ef6df\n"
     ]
    },
    {
     "name": "stderr",
     "output_type": "stream",
     "text": [
      "Parallel (8 processes):  89%|████████▉ | 7165/8054 [34:29<02:46,  5.35it/s]"
     ]
    },
    {
     "name": "stdout",
     "output_type": "stream",
     "text": [
      "Commit exceeding max_modifications:  c2d01fe56f474762042430220f9eccdbc86b7bd9\n"
     ]
    },
    {
     "name": "stderr",
     "output_type": "stream",
     "text": [
      "Parallel (8 processes):  90%|████████▉ | 7213/8054 [34:49<03:53,  3.60it/s]"
     ]
    },
    {
     "name": "stdout",
     "output_type": "stream",
     "text": [
      "Commit exceeding max_modifications:  7b43bf76edcd699636cd5ffe825bcb6d5cabcb75\n"
     ]
    },
    {
     "name": "stderr",
     "output_type": "stream",
     "text": [
      "Parallel (8 processes):  90%|████████▉ | 7243/8054 [35:05<12:37,  1.07it/s]"
     ]
    },
    {
     "name": "stdout",
     "output_type": "stream",
     "text": [
      "Commit exceeding max_modifications:  285edeec3e3c0341fa2ab417048a9b463e5980d0\n"
     ]
    },
    {
     "name": "stderr",
     "output_type": "stream",
     "text": [
      "Parallel (8 processes):  91%|█████████ | 7301/8054 [35:47<03:15,  3.85it/s]"
     ]
    },
    {
     "name": "stdout",
     "output_type": "stream",
     "text": [
      "Commit exceeding max_modifications:  fd6433aaf59dd08d067fb16ac364b2c821c265f3\n"
     ]
    },
    {
     "name": "stderr",
     "output_type": "stream",
     "text": [
      "Parallel (8 processes):  91%|█████████ | 7303/8054 [35:48<03:30,  3.58it/s]"
     ]
    },
    {
     "name": "stdout",
     "output_type": "stream",
     "text": [
      "Commit exceeding max_modifications:  89dbc4590de38dc9d050618bf59c3c07275f8a30\n",
      "Commit exceeding max_modifications:  c19762d5c2d11440421239ac3829b44cbfb0a3d2\n"
     ]
    },
    {
     "name": "stderr",
     "output_type": "stream",
     "text": [
      "Parallel (8 processes):  92%|█████████▏| 7422/8054 [37:13<09:05,  1.16it/s]"
     ]
    },
    {
     "name": "stdout",
     "output_type": "stream",
     "text": [
      "Commit exceeding max_modifications:  502b39606f47bed69ff922996efe07986002f06c\n"
     ]
    },
    {
     "name": "stderr",
     "output_type": "stream",
     "text": [
      "Parallel (8 processes):  92%|█████████▏| 7431/8054 [37:22<11:47,  1.14s/it]"
     ]
    },
    {
     "name": "stdout",
     "output_type": "stream",
     "text": [
      "Commit exceeding max_modifications:  2cec20aa57037ecdfaef46176f31fe8f6b33c2d8\n"
     ]
    },
    {
     "name": "stderr",
     "output_type": "stream",
     "text": [
      "Parallel (8 processes):  93%|█████████▎| 7469/8054 [37:36<04:09,  2.34it/s]"
     ]
    },
    {
     "name": "stdout",
     "output_type": "stream",
     "text": [
      "Commit exceeding max_modifications:  7ec9aac39f11d05c29479078b1d6616bd9df9595\n"
     ]
    },
    {
     "name": "stderr",
     "output_type": "stream",
     "text": [
      "Parallel (8 processes):  94%|█████████▍| 7587/8054 [38:29<14:00,  1.80s/it]"
     ]
    },
    {
     "name": "stdout",
     "output_type": "stream",
     "text": [
      "Commit exceeding max_modifications:  81bc81123601cc6d4fea0411f2ab616ac5120e5a\n"
     ]
    },
    {
     "name": "stderr",
     "output_type": "stream",
     "text": [
      "Parallel (8 processes):  97%|█████████▋| 7786/8054 [40:15<02:10,  2.06it/s]"
     ]
    },
    {
     "name": "stdout",
     "output_type": "stream",
     "text": [
      "Commit exceeding max_modifications:  11821e5bfd16629542b9a689ed935cb9a0ce1a28\n"
     ]
    },
    {
     "name": "stderr",
     "output_type": "stream",
     "text": [
      "Parallel (8 processes):  97%|█████████▋| 7800/8054 [40:18<00:57,  4.40it/s]"
     ]
    },
    {
     "name": "stdout",
     "output_type": "stream",
     "text": [
      "Commit exceeding max_modifications:  f40b9d8a5e0cc13cd2243148eb53c68ceae1771f\n"
     ]
    },
    {
     "name": "stderr",
     "output_type": "stream",
     "text": [
      "Parallel (8 processes):  97%|█████████▋| 7827/8054 [40:26<01:01,  3.67it/s]"
     ]
    },
    {
     "name": "stdout",
     "output_type": "stream",
     "text": [
      "Commit exceeding max_modifications:  5ee093e7747107cda7e277481efbe270762bdae9\n"
     ]
    },
    {
     "name": "stderr",
     "output_type": "stream",
     "text": [
      "Parallel (8 processes):  98%|█████████▊| 7888/8054 [40:39<00:29,  5.68it/s]"
     ]
    },
    {
     "name": "stdout",
     "output_type": "stream",
     "text": [
      "Commit exceeding max_modifications:  e4827ad779c8adf5d99d9b1a1aa62f07af78c892\n"
     ]
    },
    {
     "name": "stderr",
     "output_type": "stream",
     "text": [
      "Parallel (8 processes):  99%|█████████▉| 8003/8054 [41:33<00:31,  1.60it/s]"
     ]
    },
    {
     "name": "stdout",
     "output_type": "stream",
     "text": [
      "Commit exceeding max_modifications:  e41d88214455987751997b9d6173c5dee93204da\n"
     ]
    },
    {
     "name": "stderr",
     "output_type": "stream",
     "text": [
      "Parallel (8 processes): 100%|█████████▉| 8029/8054 [41:41<00:06,  3.71it/s]"
     ]
    },
    {
     "name": "stdout",
     "output_type": "stream",
     "text": [
      "Commit exceeding max_modifications:  df6812b8559c35230d44c6d6f94a83b2b97b5de3\n"
     ]
    },
    {
     "name": "stderr",
     "output_type": "stream",
     "text": [
      "Parallel (8 processes): 100%|██████████| 8054/8054 [42:54<00:00,  3.13it/s]\n"
     ]
    }
   ],
   "source": [
    "# Remove database if exists\n",
    "#if os.path.exists(sqlite_db_file):\n",
    "#    os.remove(sqlite_db_file)\n",
    "\n",
    "max_modifications = 100\n",
    "    \n",
    "git2net.mine_git_repo(git_repo_dir, sqlite_db_file, max_modifications=max_modifications)"
   ]
  },
  {
   "cell_type": "markdown",
   "metadata": {},
   "source": [
    "Let's check the commits that had more than 100 files modified"
   ]
  },
  {
   "cell_type": "code",
   "execution_count": 40,
   "metadata": {},
   "outputs": [
    {
     "name": "stderr",
     "output_type": "stream",
     "text": [
      "\r",
      "  0%|          | 0/71 [00:00<?, ?it/s]"
     ]
    },
    {
     "name": "stdout",
     "output_type": "stream",
     "text": [
      "7983 / 8054 (99.12%) of commits were successfully mined.\n"
     ]
    },
    {
     "name": "stderr",
     "output_type": "stream",
     "text": [
      "100%|██████████| 71/71 [00:27<00:00,  2.58it/s]\n"
     ]
    },
    {
     "data": {
      "text/html": [
       "<div>\n",
       "<style scoped>\n",
       "    .dataframe tbody tr th:only-of-type {\n",
       "        vertical-align: middle;\n",
       "    }\n",
       "\n",
       "    .dataframe tbody tr th {\n",
       "        vertical-align: top;\n",
       "    }\n",
       "\n",
       "    .dataframe thead th {\n",
       "        text-align: right;\n",
       "    }\n",
       "</style>\n",
       "<table border=\"1\" class=\"dataframe\">\n",
       "  <thead>\n",
       "    <tr style=\"text-align: right;\">\n",
       "      <th></th>\n",
       "      <th>hash</th>\n",
       "      <th>is_merge</th>\n",
       "      <th>modifications</th>\n",
       "      <th>author_name</th>\n",
       "      <th>author_email</th>\n",
       "      <th>author_date</th>\n",
       "    </tr>\n",
       "  </thead>\n",
       "  <tbody>\n",
       "    <tr>\n",
       "      <th>0</th>\n",
       "      <td>234e72a5b317a8c77ce21fea28b238644ff20868</td>\n",
       "      <td>False</td>\n",
       "      <td>400</td>\n",
       "      <td>Denis Merigoux</td>\n",
       "      <td>denis.merigoux@gmail.com</td>\n",
       "      <td>2017-08-10 16:05:04</td>\n",
       "    </tr>\n",
       "    <tr>\n",
       "      <th>1</th>\n",
       "      <td>dfdab56a5480e92727f1e7e6dfc27234c2026e77</td>\n",
       "      <td>False</td>\n",
       "      <td>376</td>\n",
       "      <td>Denis Merigoux</td>\n",
       "      <td>denis.merigoux@gmail.com</td>\n",
       "      <td>2017-08-10 16:30:09</td>\n",
       "    </tr>\n",
       "    <tr>\n",
       "      <th>2</th>\n",
       "      <td>8f6957296e843b57ac98b0d88a3f795ad42c1c3e</td>\n",
       "      <td>True</td>\n",
       "      <td>686</td>\n",
       "      <td>Dan Gohman</td>\n",
       "      <td>sunfish@mozilla.com</td>\n",
       "      <td>2017-08-29 07:12:47</td>\n",
       "    </tr>\n",
       "    <tr>\n",
       "      <th>3</th>\n",
       "      <td>2efdc0ed37ed7ff0652fb2ea1c4b3180a8c20867</td>\n",
       "      <td>False</td>\n",
       "      <td>111</td>\n",
       "      <td>Dan Gohman</td>\n",
       "      <td>sunfish@mozilla.com</td>\n",
       "      <td>2017-08-31 10:44:59</td>\n",
       "    </tr>\n",
       "    <tr>\n",
       "      <th>4</th>\n",
       "      <td>d0fe50a2a87d69253163b5fd4dea31fec77ddb9e</td>\n",
       "      <td>False</td>\n",
       "      <td>679</td>\n",
       "      <td>Dan Gohman</td>\n",
       "      <td>sunfish@mozilla.com</td>\n",
       "      <td>2017-09-05 17:06:51</td>\n",
       "    </tr>\n",
       "    <tr>\n",
       "      <th>...</th>\n",
       "      <td>...</td>\n",
       "      <td>...</td>\n",
       "      <td>...</td>\n",
       "      <td>...</td>\n",
       "      <td>...</td>\n",
       "      <td>...</td>\n",
       "    </tr>\n",
       "    <tr>\n",
       "      <th>66</th>\n",
       "      <td>f40b9d8a5e0cc13cd2243148eb53c68ceae1771f</td>\n",
       "      <td>True</td>\n",
       "      <td>179</td>\n",
       "      <td>Pat Hickey</td>\n",
       "      <td>pat@moreproductive.org</td>\n",
       "      <td>2021-01-29 18:00:59</td>\n",
       "    </tr>\n",
       "    <tr>\n",
       "      <th>67</th>\n",
       "      <td>5ee093e7747107cda7e277481efbe270762bdae9</td>\n",
       "      <td>True</td>\n",
       "      <td>200</td>\n",
       "      <td>Pat Hickey</td>\n",
       "      <td>pat@moreproductive.org</td>\n",
       "      <td>2021-02-01 13:21:25</td>\n",
       "    </tr>\n",
       "    <tr>\n",
       "      <th>68</th>\n",
       "      <td>e4827ad779c8adf5d99d9b1a1aa62f07af78c892</td>\n",
       "      <td>True</td>\n",
       "      <td>205</td>\n",
       "      <td>Pat Hickey</td>\n",
       "      <td>phickey@fastly.com</td>\n",
       "      <td>2021-02-04 18:02:45</td>\n",
       "    </tr>\n",
       "    <tr>\n",
       "      <th>69</th>\n",
       "      <td>e41d88214455987751997b9d6173c5dee93204da</td>\n",
       "      <td>True</td>\n",
       "      <td>152</td>\n",
       "      <td>Chris Fallin</td>\n",
       "      <td>chris@cfallin.org</td>\n",
       "      <td>2021-03-05 10:46:47</td>\n",
       "    </tr>\n",
       "    <tr>\n",
       "      <th>70</th>\n",
       "      <td>df6812b8559c35230d44c6d6f94a83b2b97b5de3</td>\n",
       "      <td>True</td>\n",
       "      <td>126</td>\n",
       "      <td>Chris Fallin</td>\n",
       "      <td>chris@cfallin.org</td>\n",
       "      <td>2021-03-11 20:47:58</td>\n",
       "    </tr>\n",
       "  </tbody>\n",
       "</table>\n",
       "<p>71 rows × 6 columns</p>\n",
       "</div>"
      ],
      "text/plain": [
       "                                        hash  is_merge  modifications  \\\n",
       "0   234e72a5b317a8c77ce21fea28b238644ff20868     False            400   \n",
       "1   dfdab56a5480e92727f1e7e6dfc27234c2026e77     False            376   \n",
       "2   8f6957296e843b57ac98b0d88a3f795ad42c1c3e      True            686   \n",
       "3   2efdc0ed37ed7ff0652fb2ea1c4b3180a8c20867     False            111   \n",
       "4   d0fe50a2a87d69253163b5fd4dea31fec77ddb9e     False            679   \n",
       "..                                       ...       ...            ...   \n",
       "66  f40b9d8a5e0cc13cd2243148eb53c68ceae1771f      True            179   \n",
       "67  5ee093e7747107cda7e277481efbe270762bdae9      True            200   \n",
       "68  e4827ad779c8adf5d99d9b1a1aa62f07af78c892      True            205   \n",
       "69  e41d88214455987751997b9d6173c5dee93204da      True            152   \n",
       "70  df6812b8559c35230d44c6d6f94a83b2b97b5de3      True            126   \n",
       "\n",
       "       author_name              author_email          author_date  \n",
       "0   Denis Merigoux  denis.merigoux@gmail.com  2017-08-10 16:05:04  \n",
       "1   Denis Merigoux  denis.merigoux@gmail.com  2017-08-10 16:30:09  \n",
       "2       Dan Gohman       sunfish@mozilla.com  2017-08-29 07:12:47  \n",
       "3       Dan Gohman       sunfish@mozilla.com  2017-08-31 10:44:59  \n",
       "4       Dan Gohman       sunfish@mozilla.com  2017-09-05 17:06:51  \n",
       "..             ...                       ...                  ...  \n",
       "66      Pat Hickey    pat@moreproductive.org  2021-01-29 18:00:59  \n",
       "67      Pat Hickey    pat@moreproductive.org  2021-02-01 13:21:25  \n",
       "68      Pat Hickey        phickey@fastly.com  2021-02-04 18:02:45  \n",
       "69    Chris Fallin         chris@cfallin.org  2021-03-05 10:46:47  \n",
       "70    Chris Fallin         chris@cfallin.org  2021-03-11 20:47:58  \n",
       "\n",
       "[71 rows x 6 columns]"
      ]
     },
     "execution_count": 40,
     "metadata": {},
     "output_type": "execute_result"
    }
   ],
   "source": [
    "git2net.mining_state_summary(git_repo_dir, sqlite_db_file)"
   ]
  },
  {
   "cell_type": "markdown",
   "metadata": {},
   "source": [
    "### Database modification\n",
    "Replacing the duplicate names, then the names with numbers for compatibility with a temporal network."
   ]
  },
  {
   "cell_type": "code",
   "execution_count": 44,
   "metadata": {},
   "outputs": [
    {
     "data": {
      "text/html": [
       "<div>\n",
       "<style scoped>\n",
       "    .dataframe tbody tr th:only-of-type {\n",
       "        vertical-align: middle;\n",
       "    }\n",
       "\n",
       "    .dataframe tbody tr th {\n",
       "        vertical-align: top;\n",
       "    }\n",
       "\n",
       "    .dataframe thead th {\n",
       "        text-align: right;\n",
       "    }\n",
       "</style>\n",
       "<table border=\"1\" class=\"dataframe\">\n",
       "  <thead>\n",
       "    <tr style=\"text-align: right;\">\n",
       "      <th></th>\n",
       "      <th>hash</th>\n",
       "      <th>author_email</th>\n",
       "      <th>author_name</th>\n",
       "      <th>committer_email</th>\n",
       "      <th>committer_name</th>\n",
       "      <th>author_date</th>\n",
       "      <th>committer_date</th>\n",
       "      <th>author_timezone</th>\n",
       "      <th>committer_timezone</th>\n",
       "      <th>no_of_modifications</th>\n",
       "      <th>commit_message_len</th>\n",
       "      <th>project_name</th>\n",
       "      <th>parents</th>\n",
       "      <th>merge</th>\n",
       "      <th>in_main_branch</th>\n",
       "      <th>branches</th>\n",
       "    </tr>\n",
       "  </thead>\n",
       "  <tbody>\n",
       "    <tr>\n",
       "      <th>0</th>\n",
       "      <td>399be07fcf00d0974d2a83d1af55f0bee9861d54</td>\n",
       "      <td>jolesen@mozilla.com</td>\n",
       "      <td>Jakob Olesen</td>\n",
       "      <td>jolesen@mozilla.com</td>\n",
       "      <td>Jakob Olesen</td>\n",
       "      <td>2016-01-12 16:34:47</td>\n",
       "      <td>2016-01-12 16:51:35</td>\n",
       "      <td>28800</td>\n",
       "      <td>28800</td>\n",
       "      <td>2</td>\n",
       "      <td>28</td>\n",
       "      <td>wasmtime4analysis</td>\n",
       "      <td></td>\n",
       "      <td>0</td>\n",
       "      <td>1</td>\n",
       "      <td>main</td>\n",
       "    </tr>\n",
       "    <tr>\n",
       "      <th>1</th>\n",
       "      <td>1a24dd0b02879f9e2c9d27ba9962eb29c3654f0f</td>\n",
       "      <td>jolesen@mozilla.com</td>\n",
       "      <td>Jakob Olesen</td>\n",
       "      <td>jolesen@mozilla.com</td>\n",
       "      <td>Jakob Olesen</td>\n",
       "      <td>2016-01-12 16:34:47</td>\n",
       "      <td>2016-01-12 16:51:35</td>\n",
       "      <td>28800</td>\n",
       "      <td>28800</td>\n",
       "      <td>2</td>\n",
       "      <td>28</td>\n",
       "      <td>wasmtime4analysis</td>\n",
       "      <td></td>\n",
       "      <td>0</td>\n",
       "      <td>1</td>\n",
       "      <td>main</td>\n",
       "    </tr>\n",
       "    <tr>\n",
       "      <th>2</th>\n",
       "      <td>edb2440eaf13ac8150ba7c1e1fd9e69b714df389</td>\n",
       "      <td>jolesen@mozilla.com</td>\n",
       "      <td>Jakob Olesen</td>\n",
       "      <td>jolesen@mozilla.com</td>\n",
       "      <td>Jakob Olesen</td>\n",
       "      <td>2016-01-19 19:51:53</td>\n",
       "      <td>2016-01-19 19:54:33</td>\n",
       "      <td>28800</td>\n",
       "      <td>28800</td>\n",
       "      <td>1</td>\n",
       "      <td>24</td>\n",
       "      <td>wasmtime4analysis</td>\n",
       "      <td>b5ee157d4653baecc3e90f7bd47dad83a32c12ba</td>\n",
       "      <td>0</td>\n",
       "      <td>1</td>\n",
       "      <td>main</td>\n",
       "    </tr>\n",
       "    <tr>\n",
       "      <th>3</th>\n",
       "      <td>c8f20534d383981f0a4d535edebf01ea0528d277</td>\n",
       "      <td>jolesen@mozilla.com</td>\n",
       "      <td>Jakob Olesen</td>\n",
       "      <td>jolesen@mozilla.com</td>\n",
       "      <td>Jakob Olesen</td>\n",
       "      <td>2016-01-12 16:53:43</td>\n",
       "      <td>2016-01-19 19:54:27</td>\n",
       "      <td>28800</td>\n",
       "      <td>28800</td>\n",
       "      <td>3</td>\n",
       "      <td>125</td>\n",
       "      <td>wasmtime4analysis</td>\n",
       "      <td>ae54206e66f735ecb9b5f6d7fe5e7e8668b67222</td>\n",
       "      <td>0</td>\n",
       "      <td>1</td>\n",
       "      <td>main</td>\n",
       "    </tr>\n",
       "    <tr>\n",
       "      <th>4</th>\n",
       "      <td>152945f3d82fd70b8eafc916f3dc98c3c09da330</td>\n",
       "      <td>jolesen@mozilla.com</td>\n",
       "      <td>Jakob Olesen</td>\n",
       "      <td>jolesen@mozilla.com</td>\n",
       "      <td>Jakob Olesen</td>\n",
       "      <td>2016-01-19 19:51:53</td>\n",
       "      <td>2016-01-19 19:54:33</td>\n",
       "      <td>28800</td>\n",
       "      <td>28800</td>\n",
       "      <td>1</td>\n",
       "      <td>24</td>\n",
       "      <td>wasmtime4analysis</td>\n",
       "      <td>857e0f75a49bc92e6110c3fe24a99ef12493fef9</td>\n",
       "      <td>0</td>\n",
       "      <td>1</td>\n",
       "      <td>main</td>\n",
       "    </tr>\n",
       "    <tr>\n",
       "      <th>...</th>\n",
       "      <td>...</td>\n",
       "      <td>...</td>\n",
       "      <td>...</td>\n",
       "      <td>...</td>\n",
       "      <td>...</td>\n",
       "      <td>...</td>\n",
       "      <td>...</td>\n",
       "      <td>...</td>\n",
       "      <td>...</td>\n",
       "      <td>...</td>\n",
       "      <td>...</td>\n",
       "      <td>...</td>\n",
       "      <td>...</td>\n",
       "      <td>...</td>\n",
       "      <td>...</td>\n",
       "      <td>...</td>\n",
       "    </tr>\n",
       "    <tr>\n",
       "      <th>7978</th>\n",
       "      <td>0394a0119440a4ccb7206a3de21941bc5f93f25f</td>\n",
       "      <td>phickey@fastly.com</td>\n",
       "      <td>Pat Hickey</td>\n",
       "      <td>noreply@github.com</td>\n",
       "      <td>GitHub</td>\n",
       "      <td>2021-03-18 17:49:36</td>\n",
       "      <td>2021-03-18 17:49:36</td>\n",
       "      <td>25200</td>\n",
       "      <td>25200</td>\n",
       "      <td>0</td>\n",
       "      <td>131</td>\n",
       "      <td>wasmtime4analysis</td>\n",
       "      <td>59dfe4b9f47994eed7122085b96263465d5dbd69,38926...</td>\n",
       "      <td>1</td>\n",
       "      <td>1</td>\n",
       "      <td>main</td>\n",
       "    </tr>\n",
       "    <tr>\n",
       "      <th>7979</th>\n",
       "      <td>d081ef9c2e530db4dc4125200751ede856f306cb</td>\n",
       "      <td>fitzgen@gmail.com</td>\n",
       "      <td>Nick Fitzgerald</td>\n",
       "      <td>fitzgen@gmail.com</td>\n",
       "      <td>Nick Fitzgerald</td>\n",
       "      <td>2021-03-16 11:02:56</td>\n",
       "      <td>2021-03-16 11:02:56</td>\n",
       "      <td>25200</td>\n",
       "      <td>25200</td>\n",
       "      <td>54</td>\n",
       "      <td>44</td>\n",
       "      <td>wasmtime4analysis</td>\n",
       "      <td>2d3f2adf0407d4e37b8268b1ac1d74c5fbffbb62</td>\n",
       "      <td>0</td>\n",
       "      <td>1</td>\n",
       "      <td>main</td>\n",
       "    </tr>\n",
       "    <tr>\n",
       "      <th>7980</th>\n",
       "      <td>a8aaf812ef675e92f717893fc845db2dc5018128</td>\n",
       "      <td>fitzgen@gmail.com</td>\n",
       "      <td>Nick Fitzgerald</td>\n",
       "      <td>noreply@github.com</td>\n",
       "      <td>GitHub</td>\n",
       "      <td>2021-03-16 13:20:42</td>\n",
       "      <td>2021-03-16 13:20:42</td>\n",
       "      <td>25200</td>\n",
       "      <td>25200</td>\n",
       "      <td>0</td>\n",
       "      <td>78</td>\n",
       "      <td>wasmtime4analysis</td>\n",
       "      <td>2d3f2adf0407d4e37b8268b1ac1d74c5fbffbb62,fe933...</td>\n",
       "      <td>1</td>\n",
       "      <td>1</td>\n",
       "      <td>main</td>\n",
       "    </tr>\n",
       "    <tr>\n",
       "      <th>7981</th>\n",
       "      <td>ccdf6ec0b1033c0b45b0aa54f012d7d34eab29ff</td>\n",
       "      <td>phickey@fastly.com</td>\n",
       "      <td>Pat Hickey</td>\n",
       "      <td>noreply@github.com</td>\n",
       "      <td>GitHub</td>\n",
       "      <td>2021-03-05 10:43:55</td>\n",
       "      <td>2021-03-05 10:43:55</td>\n",
       "      <td>28800</td>\n",
       "      <td>28800</td>\n",
       "      <td>0</td>\n",
       "      <td>95</td>\n",
       "      <td>wasmtime4analysis</td>\n",
       "      <td>8854dec01dfa0ebfd018dc3e368355377641f7c1,84df5...</td>\n",
       "      <td>1</td>\n",
       "      <td>1</td>\n",
       "      <td>main</td>\n",
       "    </tr>\n",
       "    <tr>\n",
       "      <th>7982</th>\n",
       "      <td>f8cc824396691bceafae55cadae08ff294ae15de</td>\n",
       "      <td>peter@huene.dev</td>\n",
       "      <td>Peter Huene</td>\n",
       "      <td>noreply@github.com</td>\n",
       "      <td>GitHub</td>\n",
       "      <td>2021-03-08 12:20:31</td>\n",
       "      <td>2021-03-08 12:20:31</td>\n",
       "      <td>28800</td>\n",
       "      <td>28800</td>\n",
       "      <td>0</td>\n",
       "      <td>97</td>\n",
       "      <td>wasmtime4analysis</td>\n",
       "      <td>58769e500681374cdf89a458e9356eaca9c8a56f,62329...</td>\n",
       "      <td>1</td>\n",
       "      <td>1</td>\n",
       "      <td>main</td>\n",
       "    </tr>\n",
       "  </tbody>\n",
       "</table>\n",
       "<p>7983 rows × 16 columns</p>\n",
       "</div>"
      ],
      "text/plain": [
       "                                          hash         author_email  \\\n",
       "0     399be07fcf00d0974d2a83d1af55f0bee9861d54  jolesen@mozilla.com   \n",
       "1     1a24dd0b02879f9e2c9d27ba9962eb29c3654f0f  jolesen@mozilla.com   \n",
       "2     edb2440eaf13ac8150ba7c1e1fd9e69b714df389  jolesen@mozilla.com   \n",
       "3     c8f20534d383981f0a4d535edebf01ea0528d277  jolesen@mozilla.com   \n",
       "4     152945f3d82fd70b8eafc916f3dc98c3c09da330  jolesen@mozilla.com   \n",
       "...                                        ...                  ...   \n",
       "7978  0394a0119440a4ccb7206a3de21941bc5f93f25f   phickey@fastly.com   \n",
       "7979  d081ef9c2e530db4dc4125200751ede856f306cb    fitzgen@gmail.com   \n",
       "7980  a8aaf812ef675e92f717893fc845db2dc5018128    fitzgen@gmail.com   \n",
       "7981  ccdf6ec0b1033c0b45b0aa54f012d7d34eab29ff   phickey@fastly.com   \n",
       "7982  f8cc824396691bceafae55cadae08ff294ae15de      peter@huene.dev   \n",
       "\n",
       "          author_name      committer_email   committer_name  \\\n",
       "0        Jakob Olesen  jolesen@mozilla.com     Jakob Olesen   \n",
       "1        Jakob Olesen  jolesen@mozilla.com     Jakob Olesen   \n",
       "2        Jakob Olesen  jolesen@mozilla.com     Jakob Olesen   \n",
       "3        Jakob Olesen  jolesen@mozilla.com     Jakob Olesen   \n",
       "4        Jakob Olesen  jolesen@mozilla.com     Jakob Olesen   \n",
       "...               ...                  ...              ...   \n",
       "7978       Pat Hickey   noreply@github.com           GitHub   \n",
       "7979  Nick Fitzgerald    fitzgen@gmail.com  Nick Fitzgerald   \n",
       "7980  Nick Fitzgerald   noreply@github.com           GitHub   \n",
       "7981       Pat Hickey   noreply@github.com           GitHub   \n",
       "7982      Peter Huene   noreply@github.com           GitHub   \n",
       "\n",
       "              author_date       committer_date  author_timezone  \\\n",
       "0     2016-01-12 16:34:47  2016-01-12 16:51:35            28800   \n",
       "1     2016-01-12 16:34:47  2016-01-12 16:51:35            28800   \n",
       "2     2016-01-19 19:51:53  2016-01-19 19:54:33            28800   \n",
       "3     2016-01-12 16:53:43  2016-01-19 19:54:27            28800   \n",
       "4     2016-01-19 19:51:53  2016-01-19 19:54:33            28800   \n",
       "...                   ...                  ...              ...   \n",
       "7978  2021-03-18 17:49:36  2021-03-18 17:49:36            25200   \n",
       "7979  2021-03-16 11:02:56  2021-03-16 11:02:56            25200   \n",
       "7980  2021-03-16 13:20:42  2021-03-16 13:20:42            25200   \n",
       "7981  2021-03-05 10:43:55  2021-03-05 10:43:55            28800   \n",
       "7982  2021-03-08 12:20:31  2021-03-08 12:20:31            28800   \n",
       "\n",
       "      committer_timezone  no_of_modifications  commit_message_len  \\\n",
       "0                  28800                    2                  28   \n",
       "1                  28800                    2                  28   \n",
       "2                  28800                    1                  24   \n",
       "3                  28800                    3                 125   \n",
       "4                  28800                    1                  24   \n",
       "...                  ...                  ...                 ...   \n",
       "7978               25200                    0                 131   \n",
       "7979               25200                   54                  44   \n",
       "7980               25200                    0                  78   \n",
       "7981               28800                    0                  95   \n",
       "7982               28800                    0                  97   \n",
       "\n",
       "           project_name                                            parents  \\\n",
       "0     wasmtime4analysis                                                      \n",
       "1     wasmtime4analysis                                                      \n",
       "2     wasmtime4analysis           b5ee157d4653baecc3e90f7bd47dad83a32c12ba   \n",
       "3     wasmtime4analysis           ae54206e66f735ecb9b5f6d7fe5e7e8668b67222   \n",
       "4     wasmtime4analysis           857e0f75a49bc92e6110c3fe24a99ef12493fef9   \n",
       "...                 ...                                                ...   \n",
       "7978  wasmtime4analysis  59dfe4b9f47994eed7122085b96263465d5dbd69,38926...   \n",
       "7979  wasmtime4analysis           2d3f2adf0407d4e37b8268b1ac1d74c5fbffbb62   \n",
       "7980  wasmtime4analysis  2d3f2adf0407d4e37b8268b1ac1d74c5fbffbb62,fe933...   \n",
       "7981  wasmtime4analysis  8854dec01dfa0ebfd018dc3e368355377641f7c1,84df5...   \n",
       "7982  wasmtime4analysis  58769e500681374cdf89a458e9356eaca9c8a56f,62329...   \n",
       "\n",
       "      merge  in_main_branch branches  \n",
       "0         0               1     main  \n",
       "1         0               1     main  \n",
       "2         0               1     main  \n",
       "3         0               1     main  \n",
       "4         0               1     main  \n",
       "...     ...             ...      ...  \n",
       "7978      1               1     main  \n",
       "7979      0               1     main  \n",
       "7980      1               1     main  \n",
       "7981      1               1     main  \n",
       "7982      1               1     main  \n",
       "\n",
       "[7983 rows x 16 columns]"
      ]
     },
     "execution_count": 44,
     "metadata": {},
     "output_type": "execute_result"
    }
   ],
   "source": [
    "con = sqlite3.connect(sqlite_db_file)\n",
    "\n",
    "# Query the db\n",
    "data = pd.read_sql(\"\"\"SELECT * FROM commits\"\"\", con)\n",
    "data"
   ]
  },
  {
   "cell_type": "code",
   "execution_count": 58,
   "metadata": {},
   "outputs": [
    {
     "name": "stdout",
     "output_type": "stream",
     "text": [
      "s.pepyakin@gmail.com\n",
      "kevinmartinucr@gmail.com\n",
      "me@iximeow.net\n",
      "ben@brittain.org\n",
      "jolesen@mozilla.com\n",
      "jseward@acm.org\n",
      "matthieufelix@gmail.com\n",
      "andyfinch7@gmail.com\n",
      "cullen.caroline@gmail.com\n",
      "ranma42@gmail.com\n",
      "dominik.infuehr@gmail.com\n",
      "j.krauz@samsung.com\n",
      "kmartin+internal-github@fastly.com\n",
      "Dan.Knutson@gmail.com\n",
      "usharma1998@gmail.com\n",
      "45767732+jmkrauz@users.noreply.github.com\n",
      "git@iximeow.net\n",
      "greg@unrelenting.technology\n",
      "m4b.github.io@gmail.com\n",
      "rochet2@post.com\n",
      "sssmohd5@gmail.com\n",
      "dailyadm@hotmail.com\n",
      "jakub.konka@golem.network\n",
      "ventuzelo.patrick@gmail.com\n",
      "dev@sunfishcode.online\n",
      "bobo1239@web.de\n",
      "christopheragia@gmail.com\n",
      "wrbs@users.noreply.github.com\n",
      "aochyi@126.com\n",
      "anton.kirilov@arm.com\n",
      "MarkMcCaskey@users.noreply.github.com\n",
      "chris@cfallin.org\n",
      "nnethercote@mozilla.com\n",
      "cyndis@kapsi.fi\n",
      "benoitdelemps.add@gmail.com\n",
      "winter2718@gmail.com\n",
      "till@tillschneidereit.net\n",
      "luizirber@users.noreply.github.com\n",
      "fuumin.23@gmail.com\n",
      "bruce.mitchener@gmail.com\n",
      "lth@acm.org\n",
      "zach297@gmail.com\n",
      "repi@repi.se\n",
      "froydnj@gmail.com\n",
      "coreyf@rwell.org\n",
      "emiliano.lesende@gmail.com\n",
      "zack.slayton@gmail.com\n",
      "35854232+bookmoons@users.noreply.github.com\n",
      "plicease@cpan.org\n",
      "sean@swgillespie.me\n",
      "omar@bricck.co\n",
      "steve@tryingtobeawesome.com\n",
      "antoyo@users.noreply.github.com\n",
      "jmfoote@loyola.edu\n",
      "steffen.butzer@outlook.com\n",
      "maddy.lea@gmail.com\n",
      "whitequark@whitequark.org\n",
      "arthur.cohen@epita.fr\n",
      "kevin.xjy@gmail.com\n",
      "maxim.vorobjov@gmail.com\n",
      "anthony.mikh@yandex.ru\n",
      "jim.posen@gmail.com\n",
      "43446207+maxded@users.noreply.github.com\n",
      "shawntabrizi@gmail.com\n",
      "hanqo@users.noreply.github.com\n",
      "lepesme.jb@gmail.com\n",
      "ulrich.weigand@de.ibm.com\n",
      "lhansen@mozilla.com\n",
      "daniel.liu02@gmail.com\n",
      "leoyvens@gmail.com\n",
      "stoklund@2pi.dk\n",
      "ivan@mnt.io\n",
      "31468763+tiptop96@users.noreply.github.com\n",
      "achin@eminence32.net\n",
      "omeragacan@gmail.com\n",
      "52913081+oli-cosmian@users.noreply.github.com\n",
      "phickey@fastly.com\n",
      "m.sleepypanda@gmail.com\n",
      "pj@usa.net\n",
      "joshuawarner32@gmail.com\n",
      "dev.greg@outlook.com\n",
      "cfallin@fastly.com\n",
      "nicolas.b.pierron@mozilla.com\n",
      "acfoltzer@acfoltzer.net\n",
      "dccitaliano@gmail.com\n",
      "valentin@devling.xyz\n",
      "dueno@redhat.com\n",
      "124872+jedisct1@users.noreply.github.com\n",
      "github@martintribe.org\n",
      "maciej.wos@gmail.com\n",
      "lars-t-hansen@users.noreply.github.com\n",
      "nox@nox.paris\n",
      "repnop@outlook.com\n",
      "chris@theduke.at\n",
      "dkelly.home@gmail.com\n",
      "zummenix@gmail.com\n",
      "940375606@qq.com\n",
      "slightlyoutofphase@gmail.com\n",
      "ggreif@gmail.com\n",
      "robojumper@gmail.com\n",
      "public@benj.me\n",
      "bwb@google.com\n",
      "c27kwan@edu.uwaterloo.ca\n",
      "las@protonmail.ch\n",
      "lachlan.sneff@gmail.com\n",
      "takanori.1112@gmail.com\n",
      "m4b@users.noreply.github.com\n",
      "craigdissel@gmail.com\n",
      "newpavlov@gmail.com\n",
      "sergei@parity.io\n",
      "1565144+OrangeTux@users.noreply.github.com\n",
      "joshua.krbez@gmail.com\n",
      "darinmorrison@users.noreply.github.com\n",
      "denis.merigoux@gmail.com\n",
      "dalinaum@gmail.com\n",
      "taolzu@gmail.com\n",
      "gischeaffer@gmail.com\n",
      "thomas.aubry94@gmail.com\n",
      "louis@lpil.uk\n",
      "windzhaohan@gmail.com\n",
      "daisuke0884@gmail.com\n",
      "yurayura.rounin.3@gmail.com\n",
      "write@reusable.software\n",
      "joel@joelgallant.me\n",
      "felash@gmail.com\n",
      "hrydgard@gmail.com\n",
      "danaugrs@gmail.com\n",
      "arilotter@gmail.com\n",
      "xampprocky@gmail.com\n",
      "matt.sewall@gmail.com\n",
      "havar.novik@gmail.com\n",
      "ivanzvonimirhorvat@gmail.com\n",
      "steffengy@users.noreply.github.com\n",
      "igor.cohanovschi@gmail.com\n",
      "aholder97@gmail.com\n",
      "me@peterdelevoryas.com\n",
      "pkrasam@gmail.com\n",
      "teapot404@gmail.com\n",
      "me@mish.dev\n",
      "27856297+dependabot-preview[bot]@users.noreply.github.com\n",
      "dimitar.bounov@gmail.com\n",
      "philipjcraig@gmail.com\n",
      "eric@anholt.net\n",
      "tyler@fastly.com\n",
      "austinabell8@gmail.com\n",
      "kryptan@users.noreply.github.com\n",
      "kaseyc@users.noreply.github.com\n",
      "maxgraey@gmail.com\n",
      "cfallin@c1f.net\n",
      "josh@joshtriplett.org\n",
      "cfallin@mozilla.com\n",
      "shu@3hg.fr\n",
      "frehberg@gmail.com\n",
      "58423352+eust-dfinity@users.noreply.github.com\n",
      "jyn514@gmail.com\n",
      "undingen@gmail.com\n",
      "computers05@mail.ru\n",
      "dml@google.com\n",
      "matei.radu94@gmail.com\n",
      "john.willis.gallagher@gmail.com\n",
      "subtly@users.noreply.github.com\n",
      "teabee89@gmail.com\n",
      "wander.lairson@gmail.com\n",
      "sean.stangl@gmail.com\n",
      "kubkon@jakubkonka.com\n",
      "peter@huene.dev\n",
      "jsullivan@csumb.edu\n",
      "max.t.mcdonnell@gmail.com\n",
      "jreyes33@users.noreply.github.com\n",
      "oliver.scherer@cosmian.com\n",
      "koushiro.cqx@gmail.com\n",
      "michail.vms@gmail.com\n",
      "phuene@mozilla.com\n",
      "bouanto@zoho.com\n",
      "cburgos@users.noreply.github.com\n",
      "mokeyish@hotmail.com\n",
      "kmartin+github@fastly.com\n",
      "iam@pchanda.com\n",
      "john.rieth@outlook.com\n",
      "dan@dlrobertson.com\n",
      "Mrowqa@users.noreply.github.com\n",
      "johnnie.l.birch.jr@intel.com\n",
      "dindinw@users.noreply.github.com\n",
      "geo.couprie@gmail.com\n",
      "whosekiteneverfly@gmail.com\n",
      "alan@alanfoster.me\n",
      "icydefiance@gmail.com\n",
      "prathyushpramod@gmail.com\n",
      "jpopesculian@gmail.com\n",
      "ck@remobjects.com\n",
      "Aaronepower@users.noreply.github.com\n",
      "bchau3440@gmail.com\n",
      "yamafaktory@gmail.com\n",
      "alex.ene0x11@gmail.com\n",
      "regexident@gmail.com\n",
      "will@oasislabs.com\n",
      "daniel.keep@gmail.com\n",
      "darinmorrison@gmail.com\n",
      "robbepop@web.de\n",
      "christopher.serr@gmail.com\n",
      "joey.gouly@arm.com\n",
      "apyrgio@gmail.com\n",
      "16364986+data-pup@users.noreply.github.com\n",
      "sakariasjohansson@hotmail.com\n",
      "acfoltzer@fastly.com\n",
      "wanghui71leon@gmail.com\n",
      "leo@gaspard.io\n",
      "quadrupleslap@gmail.com\n",
      "bogusandre@gmail.com\n",
      "gabor@dfinity.org\n",
      "kungfukeith11@gmail.com\n",
      "mbestavr@redhat.com\n",
      "4464295+XAMPPRocky@users.noreply.github.com\n",
      "pat@moreproductive.org\n",
      "rhunt@eqrion.net\n",
      "lukas.bergdoll@gmail.com\n",
      "alex@alexcrichton.com\n",
      "arjunpitchanathan@gmail.com\n",
      "cedhut02@gmail.com\n",
      "gregoirevandera@gmail.com\n",
      "andrew.brown@intel.com\n",
      "me@syrusakbary.com\n",
      "peterhuene@protonmail.com\n",
      "Reisz@users.noreply.github.com\n",
      "dhaynespls@users.noreply.github.com\n",
      "2996317+sapessi@users.noreply.github.com\n",
      "morenzg@gmail.com\n",
      "kubo39@gmail.com\n",
      "pschwarz@bitwise.io\n",
      "yaron.wittenstein@gmail.com\n",
      "amanieu@gmail.com\n",
      "56939192+fst-crenshaw@users.noreply.github.com\n",
      "mcculley@stackframe.com\n",
      "ty@pre-alpha.com\n",
      "ydelendik@mozilla.com\n",
      "theaaronepower@gmail.com\n",
      "buckle2000@zoho.com\n",
      "mh@glandium.org\n",
      "keziahw@gmail.com\n",
      "herrtimson@yahoo.de\n",
      "tbmcmullen@gmail.com\n",
      "mominul2082@gmail.com\n",
      "nikvolf@gmail.com\n",
      "siyopao@gmail.com\n",
      "shaffer_jacob@outlook.com\n",
      "yjh465402634@gmail.com\n",
      "daniel.bevenius@gmail.com\n",
      "bjorn3@users.noreply.github.com\n",
      "jordandanford@gmail.com\n",
      "marmistrz.dev@zoho.eu\n",
      "samratmansingh@gmail.com\n",
      "45402135+jlb6740@users.noreply.github.com\n",
      "jawagu@gmail.com\n",
      "nabil.lamrabet@pm.me\n",
      "652732310@qq.com\n",
      "sunfish@mozilla.com\n",
      "keremkat@gmail.com\n",
      "AustinWise@gmail.com\n",
      "sendilkumarn@live.com\n",
      "9038181+pventuzelo@users.noreply.github.com\n",
      "lami4ka@gmail.com\n",
      "rett@google.com\n",
      "thibaultcha@users.noreply.github.com\n",
      "nicolas.b.pierron@nbp.name\n",
      "foote@fastly.com\n",
      "mail@stefanjunker.de\n",
      "jackefransham@gmail.com\n",
      "lu_zero@gentoo.org\n",
      "fitzgen@gmail.com\n",
      "jak3lang@gmail.com\n",
      "zhuoweizhang@yahoo.com\n",
      "josephehowarth@gmail.com\n",
      "afnanenayet@users.noreply.github.com\n",
      "artur.jamro@gmail.com\n"
     ]
    }
   ],
   "source": [
    "con = sqlite3.connect(sqlite_db_file)\n",
    "\n",
    "# Query the db\n",
    "data = pd.read_sql(\"\"\"SELECT * FROM commits\"\"\", con)\n",
    "#data[['author_name', 'author_email']].drop_duplicates().sort_values(by=['author_name', 'author_email']).to_excel('databases/{r}/{r}_commits_authors.xlsx'.format(r=repo_name))\n",
    "authors = data[['author_name', 'author_email']].drop_duplicates().sort_values(by=['author_name', 'author_email'])\n",
    "\n",
    "aliases = {}\n",
    "renamed = []\n",
    "#authors.loc[authors.author_email.value_counts() > 1]\n",
    "for i in authors.author_email.value_counts().index:\n",
    "    print(i)\n",
    "for author, email in authors.iterrows():\n",
    "    if email in authors.author_email.value_counts().index and not email in renamed:\n",
    "        "
   ]
  },
  {
   "cell_type": "code",
   "execution_count": null,
   "metadata": {},
   "outputs": [],
   "source": [
    "con = sqlite3.connect(sqlite_db_file)\n",
    "\n",
    "# Query the db\n",
    "data = pd.read_sql(\"\"\"SELECT * FROM commits\"\"\", con)\n",
    "data[['author_name', 'author_email']].drop_duplicates().sort_values(by=['author_name', 'author_email']).to_excel('databases/{r}/{r}_commits_authors.xlsx'.format(r=repo_name))\n",
    "data[['committer_name', 'committer_email']].drop_duplicates().sort_values(by=['committer_name', 'committer_email']).to_excel('databases/{r}/{r}_commits_committers.xlsx'.format(r=repo_name))\n",
    "\n",
    "#with open('aliases/aliases-{r}.json'.format(r=repo_name)) as f:\n",
    "#    aliases = json.load(f)\n",
    "#    data = data.replace({'author_name': aliases})\n",
    "#    data = data.replace({'committer_name': aliases})\n",
    "#f.close()\n",
    "\n",
    "rename_auth = {}\n",
    "rename_committer = {}\n",
    "\n",
    "i = 1\n",
    "for name in data['author_name'].unique():\n",
    "    rename_auth[name] = str(i)\n",
    "    i = i + 1\n",
    "\n",
    "i = 1\n",
    "for name in data['committer_name'].unique():\n",
    "    rename_committer[name] = str(i)\n",
    "    i = i + 1\n",
    "\n",
    "data = data.replace({'author_name': rename_auth})\n",
    "data = data.replace({'committer_name': rename_committer})\n",
    "\n",
    "#f = open('databases/{r}/{r}_authors.json'.format(r=repo_name), 'w')\n",
    "#f.write(json.dumps(rename_auth))\n",
    "#f.close()\n",
    "\n",
    "#f = open('databases/{r}/{r}_committers.json'.format(r=repo_name), 'w')\n",
    "#f.write(json.dumps(rename_committer))\n",
    "#f.close()\n",
    "\n",
    "data.to_sql('commits', con, if_exists='replace')"
   ]
  },
  {
   "cell_type": "markdown",
   "metadata": {},
   "source": [
    "### Commit counts"
   ]
  },
  {
   "cell_type": "markdown",
   "metadata": {},
   "source": [
    "The network can be too complex because we consider the whole timeframe of the repository since its creation. Therefore we might need to filter the time dimension, and in order to do that we need to find the first and last commit in the repo."
   ]
  },
  {
   "cell_type": "code",
   "execution_count": 2,
   "metadata": {},
   "outputs": [
    {
     "name": "stdout",
     "output_type": "stream",
     "text": [
      "Min date:  2009-07-31 15:07:16\n",
      "Max date:  2021-03-06 20:40:22\n"
     ]
    }
   ],
   "source": [
    "db = sqlite3.connect(sqlite_db_file)\n",
    "max_date = datetime.strptime(pd.read_sql_query(\"SELECT max(committer_date) as max FROM commits\", db)['max'].item(), '%Y-%m-%d %H:%M:%S')\n",
    "min_date = datetime.strptime(pd.read_sql_query(\"SELECT min(committer_date) as min FROM commits\", db)['min'].item(), '%Y-%m-%d %H:%M:%S')\n",
    "\n",
    "print('Min date: ', min_date)\n",
    "print('Max date: ', max_date)"
   ]
  },
  {
   "cell_type": "markdown",
   "metadata": {},
   "source": [
    "In order not to select an 'empty' time period (relatively few commits, e.g. holiday season), it's also worth observing the number of commits over time."
   ]
  },
  {
   "cell_type": "code",
   "execution_count": 3,
   "metadata": {
    "scrolled": true
   },
   "outputs": [
    {
     "data": {
      "text/plain": [
       "<BarContainer object of 4237 artists>"
      ]
     },
     "execution_count": 3,
     "metadata": {},
     "output_type": "execute_result"
    },
    {
     "data": {
      "image/png": "[encoded data removed]",
      "text/plain": [
       "<Figure size 1440x360 with 1 Axes>"
      ]
     },
     "metadata": {
      "needs_background": "light"
     },
     "output_type": "display_data"
    }
   ],
   "source": [
    "pdCommits = pd.read_sql_query(\"SELECT * FROM commits\", db)\n",
    "\n",
    "days = {(min_date+timedelta(days=x)).date() : 0 for x in range((max_date-min_date).days + 1)}\n",
    "\n",
    "commit_dates = pdCommits['committer_date'].apply(lambda x: datetime.strptime(x, '%Y-%m-%d %H:%M:%S').date()).value_counts()\n",
    "\n",
    "for key in commit_dates.keys():\n",
    "    days[key] = commit_dates.get(key)\n",
    "\n",
    "keys = days.keys()\n",
    "values = days.values()\n",
    "plt.figure(figsize=(20,5))\n",
    "plt.bar(keys, values)"
   ]
  },
  {
   "cell_type": "markdown",
   "metadata": {},
   "source": [
    "## Bipartite networks\n",
    "### Converting bipartite network into WOMP (weighted one-mode projection)"
   ]
  },
  {
   "cell_type": "code",
   "execution_count": 4,
   "metadata": {},
   "outputs": [],
   "source": [
    "def collab_network(sqlite_db_file, git_repo_dir, t, node_info, min_date, max_date, file_base=True):\n",
    "    if file_base:\n",
    "        start = int(datetime.timestamp(min_date))\n",
    "        end = int(datetime.timestamp(max_date))\n",
    "\n",
    "        n = pp.Network.from_temporal_network(t, min_time=start, max_time=end)\n",
    "        \n",
    "        n = remove_duplicate_filenames(n, git_repo_dir)\n",
    "        n = add_weights(n, node_info)\n",
    "        \n",
    "        new_n = copy.deepcopy(n)\n",
    "\n",
    "        for node1 in n.nodes:\n",
    "            if node_info['class'][node1] == 'author':\n",
    "                for node2 in n.nodes:\n",
    "                    if node_info['class'][node2] == 'author' and node1 != node2:\n",
    "                        intersect = n.successors[node1].intersection(n.successors[node2])\n",
    "                        w = 0\n",
    "                        for file in intersect:\n",
    "                            #print((node1, file), ':', n.edges[(node1, file)])\n",
    "                            w = w + n.edges[(node1, file)]['wijLR']\n",
    "                        if w > 0:\n",
    "                            new_n.add_edge(node1, node2, weight=w)\n",
    "\n",
    "        for node in n.nodes:\n",
    "            if node_info['class'][node] == 'file':\n",
    "                new_n.remove_node(node)\n",
    "\n",
    "        return new_n\n",
    "    else:\n",
    "        n, node_info, edge_info = git2net.get_coauthorship_network(sqlite_db_file, time_from=min_date, time_to=max_date)\n",
    "        return n"
   ]
  },
  {
   "cell_type": "markdown",
   "metadata": {},
   "source": [
    "Funtion for removing file names from a network, which occur more than once in the given git repo. This is necessary because files that are named the same but are located in different folders are merged during the git2net network creation."
   ]
  },
  {
   "cell_type": "code",
   "execution_count": 5,
   "metadata": {},
   "outputs": [],
   "source": [
    "def remove_duplicate_filenames(n, git_repo_dir):\n",
    "    all_files = []\n",
    "    for path, subdirs, files in os.walk(git_repo_dir):\n",
    "        for name in files:\n",
    "            all_files.append(name)\n",
    "\n",
    "    duplicates = [file for file in all_files if all_files.count(file) > 1]\n",
    "    remove_files = set(duplicates)\n",
    "\n",
    "    new_n = copy.deepcopy(n)\n",
    "    for node in new_n.nodes:\n",
    "        if node in remove_files:\n",
    "            n.remove_node(node)\n",
    "    del new_n\n",
    "    return n"
   ]
  },
  {
   "cell_type": "markdown",
   "metadata": {},
   "source": [
    "This function adds the total resources to the nodes, and the proportions to the edges."
   ]
  },
  {
   "cell_type": "code",
   "execution_count": 6,
   "metadata": {},
   "outputs": [],
   "source": [
    "def add_weights(n, node_info):\n",
    "    for node in n.nodes:\n",
    "        if node_info['class'][node] == 'author':\n",
    "            s = 0\n",
    "            for successor in n.successors[node]:\n",
    "                for key in n.edges:\n",
    "                    if key[0] == node and key[1] == successor:\n",
    "                        s = s + n.edges[key]['weight']\n",
    "\n",
    "        n.nodes[node]['WiL'] = s\n",
    "    for edge in n.edges:\n",
    "        n.edges[edge]['wijLR'] = n.edges[edge]['weight'] / n.nodes[edge[0]]['WiL']\n",
    "    \n",
    "    return n"
   ]
  },
  {
   "cell_type": "code",
   "execution_count": 7,
   "metadata": {},
   "outputs": [],
   "source": [
    "def collab_network_jaccard(sqlite_db_file, git_repo_dir, t, node_info, min_date, max_date, file_base=True):\n",
    "    if file_base:\n",
    "        start = int(datetime.timestamp(min_date))\n",
    "        end = int(datetime.timestamp(max_date))\n",
    "\n",
    "        n = pp.Network.from_temporal_network(t, min_time=start, max_time=end)\n",
    "        \n",
    "        n = remove_duplicate_filenames(n, git_repo_dir)\n",
    "        \n",
    "        new_n = copy.deepcopy(n)\n",
    "        \n",
    "        for node in n.nodes:\n",
    "            if node_info['class'][node] == 'file':\n",
    "                new_n.remove_node(node)\n",
    "        \n",
    "        new_n = new_n.to_undirected()\n",
    "        visited_nodes = []\n",
    "        for node1 in n.nodes:\n",
    "            if node_info['class'][node1] == 'author':\n",
    "                for node2 in n.nodes:\n",
    "                    if node_info['class'][node2] == 'author' and node1 != node2 and not node2 in visited_nodes:\n",
    "                        intersect = n.successors[node1].intersection(n.successors[node2])\n",
    "                        w_min = 0\n",
    "                        w_max = 0\n",
    "                        for file in intersect:\n",
    "                            #print((node1, file), ':', n.edges[(node1, file)])\n",
    "                            w_min = w_min + min(n.edges[(node1, file)]['weight'], n.edges[(node2, file)]['weight'])\n",
    "                            w_max = w_max + max(n.edges[(node1, file)]['weight'], n.edges[(node2, file)]['weight'])\n",
    "                        if w_max > 0:\n",
    "                            new_n.add_edge(node1, node2, weight=w_min/w_max)\n",
    "                visited_nodes.append(node1)\n",
    "                            \n",
    "        return new_n\n",
    "    else:\n",
    "        n, node_info, edge_info = git2net.get_coauthorship_network(sqlite_db_file, time_from=min_date, time_to=max_date)\n",
    "        return n"
   ]
  },
  {
   "cell_type": "code",
   "execution_count": 107,
   "metadata": {},
   "outputs": [],
   "source": [
    "t, node_info, edge_info = git2net.get_bipartite_network(sqlite_db_file)\n",
    "nj1 = collab_network_jaccard(sqlite_db_file, git_repo_dir, t, node_info, datetime(2014, 1, 1), datetime(2015, 12, 31), True)\n",
    "nj2 = collab_network_jaccard(sqlite_db_file, git_repo_dir, t, node_info, datetime(2014, 1, 1), datetime(2014, 12, 31), True)\n",
    "nj3 = collab_network_jaccard(sqlite_db_file, git_repo_dir, t, node_info, datetime(2014, 1, 1), datetime(2014, 6, 30), True)\n",
    "nj4 = collab_network_jaccard(sqlite_db_file, git_repo_dir, t, node_info, datetime(2014, 1, 1), datetime(2014, 3, 31), True)\n",
    "nj5 = collab_network_jaccard(sqlite_db_file, git_repo_dir, t, node_info, datetime(2014, 1, 1), datetime(2014, 1, 31), True)\n",
    "nj6 = collab_network_jaccard(sqlite_db_file, git_repo_dir, t, node_info, datetime(2014, 1, 1), datetime(2014, 1, 8), True)"
   ]
  },
  {
   "cell_type": "code",
   "execution_count": 108,
   "metadata": {},
   "outputs": [
    {
     "data": {
      "text/html": [
       "<style>\n",
       "    text.label_VSAyPgft {\n",
       "        text-anchor: middle;\n",
       "        font-size: 8px;\n",
       "        font-family: Arial, Helvetica, sans-serif;\n",
       "        fill: #999999;\n",
       "        stroke: #ffffff;\n",
       "        stroke-width: 0.1px;\n",
       "        opacity: 1.0;\n",
       "    }\n",
       "    .links_VSAyPgft line {\n",
       "    stroke-opacity: 1.0;\n",
       "    }\n",
       "    .arrows svg:path {\n",
       "        stroke: #666;\n",
       "    }\n",
       "    .nodes_VSAyPgft circle {\n",
       "    stroke: #fff;\n",
       "    stroke-width: 0.5px;\n",
       "    }\n",
       "</style>\n",
       "\n",
       "<svg width=\"400\" height=\"400\" id=\"VSAyPgft\">        \n",
       "    <text x=\"20\" y=\"20\" font-family=\"sans-serif\" font-size=\"14px\" fill=\"#666\" style=\"cursor: pointer\"\n",
       "        id='VSAyPgft_svg_txt'>[save svg]</text>\n",
       "</svg>\n",
       "\n",
       "<script charset=\"utf-8\" src=\"https://d3js.org/d3.v4.min.js\"></script>\n",
       "<script charset=\"utf-8\">\n",
       "\n",
       "// Load via requireJS if available (jupyter notebook environment)\n",
       "try {\n",
       "    // Problem: require.config will raise an exception when called for the second time \n",
       "    require.config({\n",
       "        paths: {\n",
       "            //d3: \"https://d3js.org/d3.v4.min\"\n",
       "            d3: \"https://d3js.org/d3.v4.min.js\".replace(\".js\", \"\")\n",
       "        }\n",
       "    });\n",
       "    console.log(\"Detected requireJS\");\n",
       "}\n",
       "catch(err){\n",
       "    // a reference error indicates that requireJS does not exist. \n",
       "    // other errors may occur due to multiple calls to config\n",
       "    if (err instanceof ReferenceError){\n",
       "        console.log(\"Detected no requireJS\");\n",
       "\n",
       "        // Helper function that waits for d3js to be loaded\n",
       "        require = function require(symbols, callback) {\n",
       "            var ms = 5;\n",
       "            window.setTimeout(function(t) {\n",
       "                if (window[symbols[0]])\n",
       "                    callback(window[symbols[0]]);\n",
       "                else \n",
       "                    window.setTimeout(arguments.callee, ms);\n",
       "            }, ms);\n",
       "        }\n",
       "    }\n",
       "}\n",
       "\n",
       "// wait until d3js has been loaded\n",
       "require([\"d3\"], function(d3) {\n",
       "    var svg = d3.select(\"#\"+\"VSAyPgft\"), radius = 6, width = +svg.attr(\"width\"), height = +svg.attr(\"height\");\n",
       "\n",
       "    var color = d3.scaleOrdinal(d3.schemeCategory20);\n",
       "\n",
       "    var graph = {\"links\": [{\"source\": \"n_18\", \"target\": \"n_54\", \"color\": \"#999999\", \"width\": 0.5, \"weight\": 0.3}, {\"source\": \"n_54\", \"target\": \"n_70\", \"color\": \"#999999\", \"width\": 0.5, \"weight\": 0.2478448275862069}, {\"source\": \"n_1\", \"target\": \"n_18\", \"color\": \"#999999\", \"width\": 0.5, \"weight\": 0.03286439114391144}, {\"source\": \"n_1\", \"target\": \"n_59\", \"color\": \"#999999\", \"width\": 0.5, \"weight\": 0.029903170685399657}, {\"source\": \"n_1\", \"target\": \"n_63\", \"color\": \"#999999\", \"width\": 0.5, \"weight\": 0.07566902206716063}, {\"source\": \"n_1\", \"target\": \"n_14\", \"color\": \"#999999\", \"width\": 0.5, \"weight\": 0.043478260869565216}, {\"source\": \"n_1\", \"target\": \"n_65\", \"color\": \"#999999\", \"width\": 0.5, \"weight\": 0.25}, {\"source\": \"n_1\", \"target\": \"n_66\", \"color\": \"#999999\", \"width\": 0.5, \"weight\": 0.25}, {\"source\": \"n_1\", \"target\": \"n_67\", \"color\": \"#999999\", \"width\": 0.5, \"weight\": 0.25}, {\"source\": \"n_1\", \"target\": \"n_74\", \"color\": \"#999999\", \"width\": 0.5, \"weight\": 0.25}, {\"source\": \"n_18\", \"target\": \"n_59\", \"color\": \"#999999\", \"width\": 0.5, \"weight\": 0.13145756457564575}, {\"source\": \"n_18\", \"target\": \"n_63\", \"color\": \"#999999\", \"width\": 0.5, \"weight\": 0.0721691789412473}, {\"source\": \"n_14\", \"target\": \"n_18\", \"color\": \"#999999\", \"width\": 0.5, \"weight\": 0.17391304347826086}, {\"source\": \"n_18\", \"target\": \"n_70\", \"color\": \"#999999\", \"width\": 0.5, \"weight\": 0.19827586206896552}, {\"source\": \"n_55\", \"target\": \"n_62\", \"color\": \"#999999\", \"width\": 0.5, \"weight\": 0.5}, {\"source\": \"n_56\", \"target\": \"n_73\", \"color\": \"#999999\", \"width\": 0.5, \"weight\": 0.5}, {\"source\": \"n_57\", \"target\": \"n_59\", \"color\": \"#999999\", \"width\": 0.5, \"weight\": 0.16802545237621794}, {\"source\": \"n_57\", \"target\": \"n_61\", \"color\": \"#999999\", \"width\": 0.5, \"weight\": 0.3008356545961003}, {\"source\": \"n_57\", \"target\": \"n_63\", \"color\": \"#999999\", \"width\": 0.5, \"weight\": 0.08142771922847483}, {\"source\": \"n_59\", \"target\": \"n_61\", \"color\": \"#999999\", \"width\": 0.5, \"weight\": 0.1991643454038997}, {\"source\": \"n_59\", \"target\": \"n_63\", \"color\": \"#999999\", \"width\": 0.5, \"weight\": 0.12519783651112032}, {\"source\": \"n_14\", \"target\": \"n_59\", \"color\": \"#999999\", \"width\": 0.5, \"weight\": 0.17391304347826086}, {\"source\": \"n_60\", \"target\": \"n_63\", \"color\": \"#999999\", \"width\": 0.5, \"weight\": 0.5}, {\"source\": \"n_14\", \"target\": \"n_63\", \"color\": \"#999999\", \"width\": 0.5, \"weight\": 0.11178378259921457}, {\"source\": \"n_63\", \"target\": \"n_70\", \"color\": \"#999999\", \"width\": 0.5, \"weight\": 0.05387931034482759}, {\"source\": \"n_65\", \"target\": \"n_67\", \"color\": \"#999999\", \"width\": 0.5, \"weight\": 0.25}, {\"source\": \"n_66\", \"target\": \"n_74\", \"color\": \"#999999\", \"width\": 0.5, \"weight\": 0.25}, {\"source\": \"n_68\", \"target\": \"n_72\", \"color\": \"#999999\", \"width\": 0.5, \"weight\": 0.5}], \"nodes\": [{\"id\": \"n_54\", \"text\": \"n_54\", \"color\": \"#99ccff\", \"size\": 5.0}, {\"id\": \"n_18\", \"text\": \"n_18\", \"color\": \"#99ccff\", \"size\": 5.0}, {\"id\": \"n_70\", \"text\": \"n_70\", \"color\": \"#99ccff\", \"size\": 5.0}, {\"id\": \"n_1\", \"text\": \"n_1\", \"color\": \"#99ccff\", \"size\": 5.0}, {\"id\": \"n_59\", \"text\": \"n_59\", \"color\": \"#99ccff\", \"size\": 5.0}, {\"id\": \"n_63\", \"text\": \"n_63\", \"color\": \"#99ccff\", \"size\": 5.0}, {\"id\": \"n_14\", \"text\": \"n_14\", \"color\": \"#99ccff\", \"size\": 5.0}, {\"id\": \"n_65\", \"text\": \"n_65\", \"color\": \"#99ccff\", \"size\": 5.0}, {\"id\": \"n_66\", \"text\": \"n_66\", \"color\": \"#99ccff\", \"size\": 5.0}, {\"id\": \"n_67\", \"text\": \"n_67\", \"color\": \"#99ccff\", \"size\": 5.0}, {\"id\": \"n_74\", \"text\": \"n_74\", \"color\": \"#99ccff\", \"size\": 5.0}, {\"id\": \"n_55\", \"text\": \"n_55\", \"color\": \"#99ccff\", \"size\": 5.0}, {\"id\": \"n_62\", \"text\": \"n_62\", \"color\": \"#99ccff\", \"size\": 5.0}, {\"id\": \"n_56\", \"text\": \"n_56\", \"color\": \"#99ccff\", \"size\": 5.0}, {\"id\": \"n_73\", \"text\": \"n_73\", \"color\": \"#99ccff\", \"size\": 5.0}, {\"id\": \"n_57\", \"text\": \"n_57\", \"color\": \"#99ccff\", \"size\": 5.0}, {\"id\": \"n_61\", \"text\": \"n_61\", \"color\": \"#99ccff\", \"size\": 5.0}, {\"id\": \"n_60\", \"text\": \"n_60\", \"color\": \"#99ccff\", \"size\": 5.0}, {\"id\": \"n_68\", \"text\": \"n_68\", \"color\": \"#99ccff\", \"size\": 5.0}, {\"id\": \"n_72\", \"text\": \"n_72\", \"color\": \"#99ccff\", \"size\": 5.0}]};\n",
       "    var directed = false;\n",
       "\n",
       "    var simulation = d3.forceSimulation()        \n",
       "       .force(\"link\", d3.forceLink().id(function(d) { return d.id; }).strength(function(d){return d.weight;}))\n",
       "        .force(\"charge\", d3.forceManyBody().strength(-20).distanceMax(400))\n",
       "       .force(\"repelForce\", d3.forceManyBody().strength(-200).distanceMax(100))\n",
       "       .force(\"center\", d3.forceCenter(400 / 2, 400 / 2))\n",
       "       .alphaTarget(0.0);\n",
       "\n",
       "    svg.append(\"defs\").selectAll(\"marker\")\n",
       "        .data([\"end\"])\n",
       "    .enter().append(\"marker\")\n",
       "        .attr(\"id\", String)\n",
       "        .attr(\"viewBox\", \"0 -5 20 20\")\n",
       "        .attr(\"refX\", 34)\n",
       "        .attr(\"refY\", 0)\n",
       "        .attr(\"markerWidth\", 15)\n",
       "        .attr(\"markerHeight\", 15)\n",
       "        .attr(\"orient\", \"auto\")\n",
       "    .append(\"path\")\n",
       "        // draws a filled path (triangle) between three points\n",
       "        .attr(\"d\", \"M0,-5 L20,0 L0,5 z\")\n",
       "        .attr(\"fill\", '#999')\n",
       "        .attr(\"stroke\", 'none');\n",
       "\n",
       "    var g = svg.append(\"g\")\n",
       "        .attr(\"class\", \"everything\");\n",
       "\n",
       "    var link = g.append(\"g\")\n",
       "        .attr(\"class\", \"links_VSAyPgft\")\n",
       "        .selectAll(\"line\")\n",
       "        .data(graph.links)\n",
       "        .enter().append(\"line\")\n",
       "        .attr(\"stroke-width\", function(d) { return d.width; })\n",
       "        .attr(\"stroke\", function(d) { return d.color; } );\n",
       "\n",
       "    if (directed)\n",
       "        link.attr(\"marker-end\", \"url(#end)\");\n",
       "\n",
       "    var node_g = g.append(\"g\")\n",
       "        .attr(\"class\", \"nodes_VSAyPgft\")\n",
       "        .selectAll(\"circle\")\n",
       "        .data(graph.nodes)\n",
       "        .enter()\n",
       "        .append(\"g\"); \n",
       "\n",
       "    var node = node_g.append(\"circle\")\n",
       "        .attr('id', function(d) { return d.id; })\n",
       "        .attr(\"r\", function(d) { return d.size; })\n",
       "        .attr(\"fill\", function(d) { return d.color; })\n",
       "        .call(d3.drag()\n",
       "            .on(\"start\", dragstarted)\n",
       "            .on(\"drag\", dragged)\n",
       "            .on(\"end\", dragended));\n",
       "\n",
       "    var text = node_g.append(\"text\")\n",
       "    .attr(\"x\", [0, -10][0])\n",
       "    .attr(\"y\", [0, -10][1]+3)\n",
       "    .attr(\"id\", function(d) {return d.id; })\n",
       "    .attr(\"class\", \"label_VSAyPgft\")\n",
       "    .text(function(d) { return d.id; });\n",
       "\n",
       "    node.append(\"title\")\n",
       "        .text(function(d) { return d.text; });\n",
       "\n",
       "    var zoom_handler = d3.zoom()\n",
       "        .on(\"zoom\", zoom_actions);\n",
       "    zoom_handler(svg);\n",
       "\n",
       "    // attach event handler for svg export\n",
       "    d3.select('#VSAyPgft_svg_txt').on(\"click\", save_svg);\n",
       "\n",
       "    simulation\n",
       "        .nodes(graph.nodes)\n",
       "        .on(\"tick\", ticked);\n",
       "\n",
       "    simulation.force(\"link\")\n",
       "        .links(graph.links);\n",
       "\n",
       "    function ticked() {\n",
       "        link.attr(\"x1\", function(d) { return d.source.x; })\n",
       "            .attr(\"y1\", function(d) { return d.source.y; })\n",
       "            .attr(\"x2\", function(d) { return d.target.x; })\n",
       "            .attr(\"y2\", function(d) { return d.target.y; });\n",
       "\n",
       "         text.attr(\"transform\", transform);\n",
       "\n",
       "\n",
       "        text.attr(\"cx\", function(d) { return d.x; })\n",
       "            .attr(\"cy\", function(d) { return d.y; });\n",
       "\n",
       "        node.attr(\"cx\", function(d) { return d.x; })\n",
       "            .attr(\"cy\", function(d) { return d.y; });\n",
       "    }\n",
       "\n",
       "    function transform(d) {\n",
       "        return \"translate(\" + d.x + \",\" + d.y + \")\";\n",
       "    }\n",
       "\n",
       "    function dragstarted(d) {\n",
       "    if (!d3.event.active) simulation.alphaTarget(0.3).restart();\n",
       "    d.fx = d.x;\n",
       "    d.fy = d.y;\n",
       "    }\n",
       "\n",
       "    function zoom_actions(){\n",
       "        g.attr(\"transform\", d3.event.transform)\n",
       "    }    \n",
       "\n",
       "    function dragged(d) {\n",
       "    d.fx = d3.event.x;\n",
       "    d.fy = d3.event.y;\n",
       "    }\n",
       "\n",
       "    function dragended(d) {\n",
       "    if (!d3.event.active) simulation.alphaTarget(0);\n",
       "    d.fx = null;\n",
       "    d.fy = null;\n",
       "    }\n",
       "\n",
       "    function to_svg() {\n",
       "        // Returns a SVG representation of the current state of the visualisation\n",
       "\t    var svg  = document.getElementById('VSAyPgft');\n",
       "\t    var xml = (new XMLSerializer).serializeToString(svg);\n",
       "        return xml;\n",
       "    }\n",
       "\n",
       "    function save_svg() {\n",
       "        var svg  = document.getElementById('VSAyPgft');\n",
       "        var xml = (new XMLSerializer).serializeToString(svg);        \n",
       "        var blob = new Blob([xml], {type: 'text/xml'});\n",
       "        if(window.navigator.msSaveOrOpenBlob) {\n",
       "            window.navigator.msSaveBlob(blob, 'network.svg');\n",
       "        }\n",
       "        else{\n",
       "            var elem = window.document.createElement('a');\n",
       "            elem.href = window.URL.createObjectURL(blob);\n",
       "            elem.download = 'network.svg';\n",
       "            document.body.appendChild(elem);\n",
       "            elem.click();\n",
       "            document.body.removeChild(elem);\n",
       "        }\n",
       "    }\n",
       "});\n",
       "</script>"
      ],
      "text/plain": [
       "<pathpy.classes.network.Network at 0x7f4b828916a0>"
      ]
     },
     "execution_count": 108,
     "metadata": {},
     "output_type": "execute_result"
    }
   ],
   "source": []
  },
  {
   "cell_type": "code",
   "execution_count": null,
   "metadata": {},
   "outputs": [],
   "source": []
  },
  {
   "cell_type": "code",
   "execution_count": 116,
   "metadata": {},
   "outputs": [
    {
     "data": {
      "text/html": [
       "<style>\n",
       "    text.label_RBdPGFFQ {\n",
       "        text-anchor: middle;\n",
       "        font-size: 9px;\n",
       "        font-family: Arial, Helvetica, sans-serif;\n",
       "        fill: #999999;\n",
       "        stroke: #ffffff;\n",
       "        stroke-width: 0.1px;\n",
       "        opacity: 1.0;\n",
       "    }\n",
       "    .links_RBdPGFFQ line {\n",
       "    stroke-opacity: 1.0;\n",
       "    }\n",
       "    .arrows svg:path {\n",
       "        stroke: #666;\n",
       "    }\n",
       "    .nodes_RBdPGFFQ circle {\n",
       "    stroke: #fff;\n",
       "    stroke-width: 0.5px;\n",
       "    }\n",
       "</style>\n",
       "\n",
       "<svg width=\"600\" height=\"600\" id=\"RBdPGFFQ\">        \n",
       "    <text x=\"20\" y=\"20\" font-family=\"sans-serif\" font-size=\"14px\" fill=\"#666\" style=\"cursor: pointer\"\n",
       "        id='RBdPGFFQ_svg_txt'>[save svg]</text>\n",
       "</svg>\n",
       "\n",
       "<script charset=\"utf-8\" src=\"https://d3js.org/d3.v4.min.js\"></script>\n",
       "<script charset=\"utf-8\">\n",
       "\n",
       "// Load via requireJS if available (jupyter notebook environment)\n",
       "try {\n",
       "    // Problem: require.config will raise an exception when called for the second time \n",
       "    require.config({\n",
       "        paths: {\n",
       "            //d3: \"https://d3js.org/d3.v4.min\"\n",
       "            d3: \"https://d3js.org/d3.v4.min.js\".replace(\".js\", \"\")\n",
       "        }\n",
       "    });\n",
       "    console.log(\"Detected requireJS\");\n",
       "}\n",
       "catch(err){\n",
       "    // a reference error indicates that requireJS does not exist. \n",
       "    // other errors may occur due to multiple calls to config\n",
       "    if (err instanceof ReferenceError){\n",
       "        console.log(\"Detected no requireJS\");\n",
       "\n",
       "        // Helper function that waits for d3js to be loaded\n",
       "        require = function require(symbols, callback) {\n",
       "            var ms = 5;\n",
       "            window.setTimeout(function(t) {\n",
       "                if (window[symbols[0]])\n",
       "                    callback(window[symbols[0]]);\n",
       "                else \n",
       "                    window.setTimeout(arguments.callee, ms);\n",
       "            }, ms);\n",
       "        }\n",
       "    }\n",
       "}\n",
       "\n",
       "// wait until d3js has been loaded\n",
       "require([\"d3\"], function(d3) {\n",
       "    var svg = d3.select(\"#\"+\"RBdPGFFQ\"), radius = 6, width = +svg.attr(\"width\"), height = +svg.attr(\"height\");\n",
       "\n",
       "    var color = d3.scaleOrdinal(d3.schemeCategory20);\n",
       "\n",
       "    var graph = {\"links\": [{\"source\": \"n_18\", \"target\": \"n_54\", \"color\": \"#999999\", \"width\": 0.75, \"weight\": 0.3}, {\"source\": \"n_54\", \"target\": \"n_70\", \"color\": \"#999999\", \"width\": 0.5, \"weight\": 0.2478448275862069}, {\"source\": \"n_1\", \"target\": \"n_18\", \"color\": \"#999999\", \"width\": 0.25, \"weight\": 0.03286439114391144}, {\"source\": \"n_1\", \"target\": \"n_59\", \"color\": \"#999999\", \"width\": 0.25, \"weight\": 0.029903170685399657}, {\"source\": \"n_1\", \"target\": \"n_63\", \"color\": \"#999999\", \"width\": 0.4230769230769231, \"weight\": 0.07566902206716063}, {\"source\": \"n_1\", \"target\": \"n_14\", \"color\": \"#999999\", \"width\": 0.25, \"weight\": 0.043478260869565216}, {\"source\": \"n_1\", \"target\": \"n_65\", \"color\": \"#999999\", \"width\": 1.0, \"weight\": 0.25}, {\"source\": \"n_1\", \"target\": \"n_66\", \"color\": \"#999999\", \"width\": 1.0, \"weight\": 0.25}, {\"source\": \"n_1\", \"target\": \"n_67\", \"color\": \"#999999\", \"width\": 1.0, \"weight\": 0.25}, {\"source\": \"n_1\", \"target\": \"n_74\", \"color\": \"#999999\", \"width\": 1.0, \"weight\": 0.25}, {\"source\": \"n_18\", \"target\": \"n_59\", \"color\": \"#999999\", \"width\": 1.0, \"weight\": 0.13145756457564575}, {\"source\": \"n_18\", \"target\": \"n_63\", \"color\": \"#999999\", \"width\": 0.40350877192982454, \"weight\": 0.0721691789412473}, {\"source\": \"n_14\", \"target\": \"n_18\", \"color\": \"#999999\", \"width\": 1.0, \"weight\": 0.17391304347826086}, {\"source\": \"n_18\", \"target\": \"n_70\", \"color\": \"#999999\", \"width\": 0.4, \"weight\": 0.19827586206896552}, {\"source\": \"n_55\", \"target\": \"n_62\", \"color\": \"#999999\", \"width\": 1.0, \"weight\": 0.5}, {\"source\": \"n_56\", \"target\": \"n_73\", \"color\": \"#999999\", \"width\": 0.5, \"weight\": 0.5}, {\"source\": \"n_57\", \"target\": \"n_59\", \"color\": \"#999999\", \"width\": 0.6190476190476191, \"weight\": 0.16802545237621794}, {\"source\": \"n_57\", \"target\": \"n_61\", \"color\": \"#999999\", \"width\": 0.9230769230769231, \"weight\": 0.3008356545961003}, {\"source\": \"n_57\", \"target\": \"n_63\", \"color\": \"#999999\", \"width\": 0.3, \"weight\": 0.08142771922847483}, {\"source\": \"n_59\", \"target\": \"n_61\", \"color\": \"#999999\", \"width\": 0.6111111111111112, \"weight\": 0.1991643454038997}, {\"source\": \"n_59\", \"target\": \"n_63\", \"color\": \"#999999\", \"width\": 0.7, \"weight\": 0.12519783651112032}, {\"source\": \"n_14\", \"target\": \"n_59\", \"color\": \"#999999\", \"width\": 1.0, \"weight\": 0.17391304347826086}, {\"source\": \"n_60\", \"target\": \"n_63\", \"color\": \"#999999\", \"width\": 0.23529411764705882, \"weight\": 0.5}, {\"source\": \"n_14\", \"target\": \"n_63\", \"color\": \"#999999\", \"width\": 0.625, \"weight\": 0.11178378259921457}, {\"source\": \"n_63\", \"target\": \"n_70\", \"color\": \"#999999\", \"width\": 0.10869565217391304, \"weight\": 0.05387931034482759}, {\"source\": \"n_65\", \"target\": \"n_67\", \"color\": \"#999999\", \"width\": 1.0, \"weight\": 0.25}, {\"source\": \"n_66\", \"target\": \"n_74\", \"color\": \"#999999\", \"width\": 1.0, \"weight\": 0.25}, {\"source\": \"n_68\", \"target\": \"n_72\", \"color\": \"#999999\", \"width\": 1.0, \"weight\": 0.5}], \"nodes\": [{\"id\": \"n_54\", \"text\": \"n_54\", \"color\": \"#99ccff\", \"size\": 5.0}, {\"id\": \"n_18\", \"text\": \"n_18\", \"color\": \"#99ccff\", \"size\": 5.0}, {\"id\": \"n_70\", \"text\": \"n_70\", \"color\": \"#99ccff\", \"size\": 5.0}, {\"id\": \"n_1\", \"text\": \"n_1\", \"color\": \"#99ccff\", \"size\": 5.0}, {\"id\": \"n_59\", \"text\": \"n_59\", \"color\": \"#99ccff\", \"size\": 5.0}, {\"id\": \"n_63\", \"text\": \"n_63\", \"color\": \"#99ccff\", \"size\": 5.0}, {\"id\": \"n_14\", \"text\": \"n_14\", \"color\": \"#99ccff\", \"size\": 5.0}, {\"id\": \"n_65\", \"text\": \"n_65\", \"color\": \"#99ccff\", \"size\": 5.0}, {\"id\": \"n_66\", \"text\": \"n_66\", \"color\": \"#99ccff\", \"size\": 5.0}, {\"id\": \"n_67\", \"text\": \"n_67\", \"color\": \"#99ccff\", \"size\": 5.0}, {\"id\": \"n_74\", \"text\": \"n_74\", \"color\": \"#99ccff\", \"size\": 5.0}, {\"id\": \"n_55\", \"text\": \"n_55\", \"color\": \"#99ccff\", \"size\": 5.0}, {\"id\": \"n_62\", \"text\": \"n_62\", \"color\": \"#99ccff\", \"size\": 5.0}, {\"id\": \"n_56\", \"text\": \"n_56\", \"color\": \"#99ccff\", \"size\": 5.0}, {\"id\": \"n_73\", \"text\": \"n_73\", \"color\": \"#99ccff\", \"size\": 5.0}, {\"id\": \"n_57\", \"text\": \"n_57\", \"color\": \"#99ccff\", \"size\": 5.0}, {\"id\": \"n_61\", \"text\": \"n_61\", \"color\": \"#99ccff\", \"size\": 5.0}, {\"id\": \"n_60\", \"text\": \"n_60\", \"color\": \"#99ccff\", \"size\": 5.0}, {\"id\": \"n_68\", \"text\": \"n_68\", \"color\": \"#99ccff\", \"size\": 5.0}, {\"id\": \"n_72\", \"text\": \"n_72\", \"color\": \"#99ccff\", \"size\": 5.0}]};\n",
       "    var directed = false;\n",
       "\n",
       "    var simulation = d3.forceSimulation()        \n",
       "       .force(\"link\", d3.forceLink().id(function(d) { return d.id; }).strength(function(d){return d.weight;}))\n",
       "        .force(\"charge\", d3.forceManyBody().strength(-20).distanceMax(600))\n",
       "       .force(\"repelForce\", d3.forceManyBody().strength(-200).distanceMax(100))\n",
       "       .force(\"center\", d3.forceCenter(600 / 2, 600 / 2))\n",
       "       .alphaTarget(0.0);\n",
       "\n",
       "    svg.append(\"defs\").selectAll(\"marker\")\n",
       "        .data([\"end\"])\n",
       "    .enter().append(\"marker\")\n",
       "        .attr(\"id\", String)\n",
       "        .attr(\"viewBox\", \"0 -5 20 20\")\n",
       "        .attr(\"refX\", 34)\n",
       "        .attr(\"refY\", 0)\n",
       "        .attr(\"markerWidth\", 15)\n",
       "        .attr(\"markerHeight\", 15)\n",
       "        .attr(\"orient\", \"auto\")\n",
       "    .append(\"path\")\n",
       "        // draws a filled path (triangle) between three points\n",
       "        .attr(\"d\", \"M0,-5 L20,0 L0,5 z\")\n",
       "        .attr(\"fill\", '#999')\n",
       "        .attr(\"stroke\", 'none');\n",
       "\n",
       "    var g = svg.append(\"g\")\n",
       "        .attr(\"class\", \"everything\");\n",
       "\n",
       "    var link = g.append(\"g\")\n",
       "        .attr(\"class\", \"links_RBdPGFFQ\")\n",
       "        .selectAll(\"line\")\n",
       "        .data(graph.links)\n",
       "        .enter().append(\"line\")\n",
       "        .attr(\"stroke-width\", function(d) { return d.width; })\n",
       "        .attr(\"stroke\", function(d) { return d.color; } );\n",
       "\n",
       "    if (directed)\n",
       "        link.attr(\"marker-end\", \"url(#end)\");\n",
       "\n",
       "    var node_g = g.append(\"g\")\n",
       "        .attr(\"class\", \"nodes_RBdPGFFQ\")\n",
       "        .selectAll(\"circle\")\n",
       "        .data(graph.nodes)\n",
       "        .enter()\n",
       "        .append(\"g\"); \n",
       "\n",
       "    var node = node_g.append(\"circle\")\n",
       "        .attr('id', function(d) { return d.id; })\n",
       "        .attr(\"r\", function(d) { return d.size; })\n",
       "        .attr(\"fill\", function(d) { return d.color; })\n",
       "        .call(d3.drag()\n",
       "            .on(\"start\", dragstarted)\n",
       "            .on(\"drag\", dragged)\n",
       "            .on(\"end\", dragended));\n",
       "\n",
       "    var text = node_g.append(\"text\")\n",
       "    .attr(\"x\", [0, -10][0])\n",
       "    .attr(\"y\", [0, -10][1]+3)\n",
       "    .attr(\"id\", function(d) {return d.id; })\n",
       "    .attr(\"class\", \"label_RBdPGFFQ\")\n",
       "    .text(function(d) { return d.id; });\n",
       "\n",
       "    node.append(\"title\")\n",
       "        .text(function(d) { return d.text; });\n",
       "\n",
       "    var zoom_handler = d3.zoom()\n",
       "        .on(\"zoom\", zoom_actions);\n",
       "    zoom_handler(svg);\n",
       "\n",
       "    // attach event handler for svg export\n",
       "    d3.select('#RBdPGFFQ_svg_txt').on(\"click\", save_svg);\n",
       "\n",
       "    simulation\n",
       "        .nodes(graph.nodes)\n",
       "        .on(\"tick\", ticked);\n",
       "\n",
       "    simulation.force(\"link\")\n",
       "        .links(graph.links);\n",
       "\n",
       "    function ticked() {\n",
       "        link.attr(\"x1\", function(d) { return d.source.x; })\n",
       "            .attr(\"y1\", function(d) { return d.source.y; })\n",
       "            .attr(\"x2\", function(d) { return d.target.x; })\n",
       "            .attr(\"y2\", function(d) { return d.target.y; });\n",
       "\n",
       "         text.attr(\"transform\", transform);\n",
       "\n",
       "\n",
       "        text.attr(\"cx\", function(d) { return d.x; })\n",
       "            .attr(\"cy\", function(d) { return d.y; });\n",
       "\n",
       "        node.attr(\"cx\", function(d) { return d.x; })\n",
       "            .attr(\"cy\", function(d) { return d.y; });\n",
       "    }\n",
       "\n",
       "    function transform(d) {\n",
       "        return \"translate(\" + d.x + \",\" + d.y + \")\";\n",
       "    }\n",
       "\n",
       "    function dragstarted(d) {\n",
       "    if (!d3.event.active) simulation.alphaTarget(0.3).restart();\n",
       "    d.fx = d.x;\n",
       "    d.fy = d.y;\n",
       "    }\n",
       "\n",
       "    function zoom_actions(){\n",
       "        g.attr(\"transform\", d3.event.transform)\n",
       "    }    \n",
       "\n",
       "    function dragged(d) {\n",
       "    d.fx = d3.event.x;\n",
       "    d.fy = d3.event.y;\n",
       "    }\n",
       "\n",
       "    function dragended(d) {\n",
       "    if (!d3.event.active) simulation.alphaTarget(0);\n",
       "    d.fx = null;\n",
       "    d.fy = null;\n",
       "    }\n",
       "\n",
       "    function to_svg() {\n",
       "        // Returns a SVG representation of the current state of the visualisation\n",
       "\t    var svg  = document.getElementById('RBdPGFFQ');\n",
       "\t    var xml = (new XMLSerializer).serializeToString(svg);\n",
       "        return xml;\n",
       "    }\n",
       "\n",
       "    function save_svg() {\n",
       "        var svg  = document.getElementById('RBdPGFFQ');\n",
       "        var xml = (new XMLSerializer).serializeToString(svg);        \n",
       "        var blob = new Blob([xml], {type: 'text/xml'});\n",
       "        if(window.navigator.msSaveOrOpenBlob) {\n",
       "            window.navigator.msSaveBlob(blob, 'network.svg');\n",
       "        }\n",
       "        else{\n",
       "            var elem = window.document.createElement('a');\n",
       "            elem.href = window.URL.createObjectURL(blob);\n",
       "            elem.download = 'network.svg';\n",
       "            document.body.appendChild(elem);\n",
       "            elem.click();\n",
       "            document.body.removeChild(elem);\n",
       "        }\n",
       "    }\n",
       "});\n",
       "</script>"
      ],
      "text/plain": [
       "<IPython.core.display.HTML object>"
      ]
     },
     "metadata": {},
     "output_type": "display_data"
    }
   ],
   "source": [
    "style = {\n",
    "    'edge_arrows': False,\n",
    "    #'node_size': {v: 3+u['WiL'] for v,u in n.nodes.items()},\n",
    "    'edge_width': {v: u['weight'] for v,u in nj3.edges.items()},\n",
    "    'width': 600,\n",
    "    'height': 600,\n",
    "    'label_size': '9px',\n",
    "}\n",
    "pp.visualisation.plot(nj3, **style)"
   ]
  },
  {
   "cell_type": "markdown",
   "metadata": {},
   "source": [
    "### Network statistics"
   ]
  },
  {
   "cell_type": "code",
   "execution_count": 10,
   "metadata": {},
   "outputs": [],
   "source": [
    "def network_stats(n, directed=False):\n",
    "    d = {}\n",
    "    N = len(n.nodes)\n",
    "    \n",
    "    # Node count\n",
    "    d['N'] = N\n",
    "    \n",
    "    # Network density\n",
    "    d['Network density'] = len(n.edges) / (N * (N - 1)) if N > 1 else 0\n",
    "    \n",
    "    # Clustering coefficient\n",
    "    d['Clustering coeff.'] = pp.algorithms.statistics.avg_clustering_coefficient(n)\n",
    "    \n",
    "    # COnnected components\n",
    "    try:\n",
    "        d['Number of Components'] = len(pp.algorithms.components.connected_components(n))\n",
    "    except ValueError:\n",
    "        d['Number of Components'] = -1\n",
    "    #d['Connected Components'] = pp.algorithms.components.connected_components(n)\n",
    "    \n",
    "    # Average degree\n",
    "    if directed:\n",
    "        d['Mean degree'] = pp.algorithms.statistics.mean_degree(n, degree='indegree')\n",
    "    else:\n",
    "        d['Mean degree'] = pp.algorithms.statistics.mean_degree(n, degree='degree')\n",
    "    #d['Mean outdegree'] = pp.algorithms.statistics.mean_degree(n, degree='indegree')\n",
    "    return d\n",
    "\n",
    "#print(network_stats(n1))"
   ]
  },
  {
   "cell_type": "markdown",
   "metadata": {},
   "source": [
    "Plotting the degree distribution"
   ]
  },
  {
   "cell_type": "markdown",
   "metadata": {},
   "source": [
    "### Network statistics over time plots"
   ]
  },
  {
   "cell_type": "code",
   "execution_count": null,
   "metadata": {},
   "outputs": [],
   "source": [
    "#stats = network_stats(n1)\n",
    "#stats\n",
    "\n",
    "db = sqlite3.connect(sqlite_db_file)\n",
    "#max_date = datetime.strptime(pd.read_sql_query(\"SELECT max(committer_date) as max FROM commits\", db)['max'].item(), '%Y-%m-%d %H:%M:%S')\n",
    "#min_date = datetime.strptime(pd.read_sql_query(\"SELECT min(committer_date) as min FROM commits\", db)['min'].item(), '%Y-%m-%d %H:%M:%S')\n",
    "max_date = datetime.strptime('2020-03-21 00:00:00', '%Y-%m-%d %H:%M:%S')\n",
    "min_date = datetime.strptime('2019-12-01 00:00:00', '%Y-%m-%d %H:%M:%S')\n",
    "\n",
    "print('Min date: ', min_date)\n",
    "print('Max date: ', max_date)\n",
    "\n",
    "t, node_info, edge_info = git2net.get_bipartite_network(sqlite_db_file)\n",
    "\n",
    "timespan = timedelta(days=30) # Timespan to be considered for the stats\n",
    "days = {(min_date+timedelta(days=x)).date() : 0 for x in range((max_date-min_date-timespan).days + 1)}\n",
    "mx, myj1, myj2, myj3, myj4, myj5 = [], [], [], [], [], []\n",
    "my1, my2, my3, my4, my5 = [], [], [], [], []\n",
    "\n",
    "for day in days:\n",
    "    print(day.strftime('%Y-%m-%d'))\n",
    "    mx.append(day)\n",
    "    start = datetime.combine(day, datetime.min.time())\n",
    "    end = datetime.combine(day+timespan, datetime.min.time())\n",
    "    #n = collab_network(sqlite_db_file, git_repo_dir, t, node_info, day, day+timespan, True)\n",
    "    n = collab_network_jaccard(sqlite_db_file, git_repo_dir, t, node_info, start, end, True)\n",
    "    stats=network_stats(n)\n",
    "    myj1.append(stats['N'])\n",
    "    myj2.append(stats['Network density'])\n",
    "    myj3.append(stats['Clustering coeff.'])\n",
    "    myj4.append(stats['Number of Components'])\n",
    "    myj5.append(stats['Mean degree'])\n",
    "    n = collab_network(sqlite_db_file, git_repo_dir, t, node_info, start, end, True)\n",
    "    stats=network_stats(n, True)\n",
    "    my1.append(stats['N'])\n",
    "    my2.append(stats['Network density'])\n",
    "    my3.append(stats['Clustering coeff.'])\n",
    "    my4.append(stats['Number of Components'])\n",
    "    my5.append(stats['Mean degree'])\n",
    "\n"
   ]
  },
  {
   "cell_type": "code",
   "execution_count": null,
   "metadata": {},
   "outputs": [],
   "source": [
    "#stats = network_stats(n1)\n",
    "#stats\n",
    "\n",
    "db = sqlite3.connect(sqlite_db_file)\n",
    "#max_date = datetime.strptime(pd.read_sql_query(\"SELECT max(committer_date) as max FROM commits\", db)['max'].item(), '%Y-%m-%d %H:%M:%S')\n",
    "#min_date = datetime.strptime(pd.read_sql_query(\"SELECT min(committer_date) as min FROM commits\", db)['min'].item(), '%Y-%m-%d %H:%M:%S')\n",
    "max_date = datetime.strptime('2020-02-28 00:00:00', '%Y-%m-%d %H:%M:%S')\n",
    "min_date = datetime.strptime('2019-12-01 00:00:00', '%Y-%m-%d %H:%M:%S')\n",
    "\n",
    "print('Min date: ', min_date)\n",
    "print('Max date: ', max_date)\n",
    "\n",
    "t, node_info, edge_info = git2net.get_bipartite_network(sqlite_db_file)\n",
    "\n",
    "timespan = timedelta(days=7) # Timespan to be considered for the stats\n",
    "days = {(min_date+timedelta(days=x)).date() : 0 for x in range((max_date-min_date-timespan).days + 1)}\n",
    "wx, wyj1, wyj2, wyj3, wyj4, wyj5 = [], [], [], [], [], []\n",
    "wy1, wy2, wy3, wy4, wy5 = [], [], [], [], []\n",
    "\n",
    "for day in days:\n",
    "    print(day.strftime('%Y-%m-%d'))\n",
    "    wx.append(day)\n",
    "    start = datetime.combine(day, datetime.min.time())\n",
    "    end = datetime.combine(day+timespan, datetime.min.time())\n",
    "    #n = collab_network(sqlite_db_file, git_repo_dir, t, node_info, day, day+timespan, True)\n",
    "    n = collab_network_jaccard(sqlite_db_file, git_repo_dir, t, node_info, start, end, True)\n",
    "    stats=network_stats(n)\n",
    "    wyj1.append(stats['N'])\n",
    "    wyj2.append(stats['Network density'])\n",
    "    wyj3.append(stats['Clustering coeff.'])\n",
    "    wyj4.append(stats['Number of Components'])\n",
    "    wyj5.append(stats['Mean degree'])\n",
    "    n = collab_network(sqlite_db_file, git_repo_dir, t, node_info, start, end, True)\n",
    "    stats=network_stats(n, True)\n",
    "    wy1.append(stats['N'])\n",
    "    wy2.append(stats['Network density'])\n",
    "    wy3.append(stats['Clustering coeff.'])\n",
    "    wy4.append(stats['Number of Components'])\n",
    "    wy5.append(stats['Mean degree'])\n",
    "\n"
   ]
  },
  {
   "cell_type": "code",
   "execution_count": 28,
   "metadata": {},
   "outputs": [
    {
     "data": {
      "text/plain": [
       "<matplotlib.legend.Legend at 0x7f7514596d00>"
      ]
     },
     "execution_count": 28,
     "metadata": {},
     "output_type": "execute_result"
    },
    {
     "data": {
      "image/png": "[encoded data removed]",
      "text/plain": [
       "<Figure size 1332x1116 with 5 Axes>"
      ]
     },
     "metadata": {
      "needs_background": "light"
     },
     "output_type": "display_data"
    }
   ],
   "source": [
    "fig, (ax1, ax2, ax3, ax4, ax5) = plt.subplots(5)\n",
    "fig.set_size_inches(18.5, 15.5)\n",
    "fig.suptitle('Vertically stacked subplots')\n",
    "ax1.plot(mx, my1, label = \"N (monthly)\", color = \"#212AA5\")\n",
    "ax1.plot(mx, myj1, label = \"N (monthly, jaccard)\", color = \"#7B9FF2\")\n",
    "ax1.plot(wx, wy1, label = \"N (weekly)\", color = \"#9E1711\")\n",
    "ax1.plot(wx, wyj1, label = \"N (weekly, jaccard)\", color = \"#D65D72\")\n",
    "ax1.legend()\n",
    "ax2.plot(mx, my2, label = \"Network density (monthly)\", color = \"#212AA5\")\n",
    "ax2.plot(mx, myj2, label = \"Network density (monthly, jaccard)\", color = \"#7B9FF2\")\n",
    "ax2.plot(wx, wy2, label = \"Network density (weekly)\", color = \"#9E1711\")\n",
    "ax2.plot(wx, wyj2, label = \"Network density (weekly, jaccard)\", color = \"#D65D72\")\n",
    "ax2.legend()\n",
    "ax3.plot(mx, my3, label = \"Clustering coeff. (monthly)\", color = \"#212AA5\")\n",
    "ax3.plot(mx, myj3, label = \"Clustering coeff. (monthly, jaccard)\", color = \"#7B9FF2\")\n",
    "ax3.plot(wx, wy3, label = \"Clustering coeff. (weekly)\", color = \"#9E1711\")\n",
    "ax3.plot(wx, wyj3, label = \"Clustering coeff. (weekly, jaccard)\", color = \"#D65D72\")\n",
    "ax3.legend()\n",
    "ax4.plot(mx, my4, label = \"Number of Components (monthly)\", color = \"#212AA5\")\n",
    "ax4.plot(mx, myj4, label = \"Number of Components (monthly, jaccard)\", color = \"#7B9FF2\")\n",
    "ax4.plot(wx, wy4, label = \"Number of Components (weekly)\", color = \"#9E1711\")\n",
    "ax4.plot(wx, wyj4, label = \"Number of Components (weekly, jaccard)\", color = \"#D65D72\")\n",
    "ax4.legend()\n",
    "ax5.plot(mx, my5, label = \"Mean degree (monthly)\", color = \"#212AA5\")\n",
    "ax5.plot(mx, myj5, label = \"Mean degree (monthly, jaccard)\", color = \"#7B9FF2\")\n",
    "ax5.plot(wx, wy5, label = \"Mean degree (weekly)\", color = \"#9E1711\")\n",
    "ax5.plot(wx, wyj5, label = \"Mean degree (weekly, jaccard)\", color = \"#D65D72\")\n",
    "ax5.legend()"
   ]
  }
 ],
 "metadata": {
  "kernelspec": {
   "display_name": "Python 3",
   "language": "python",
   "name": "python3"
  },
  "language_info": {
   "codemirror_mode": {
    "name": "ipython",
    "version": 3
   },
   "file_extension": ".py",
   "mimetype": "text/x-python",
   "name": "python",
   "nbconvert_exporter": "python",
   "pygments_lexer": "ipython3",
   "version": "3.8.5"
  }
 },
 "nbformat": 4,
 "nbformat_minor": 4
}
