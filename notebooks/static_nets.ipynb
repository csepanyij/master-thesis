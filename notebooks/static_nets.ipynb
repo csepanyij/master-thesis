{
 "cells": [
  {
   "cell_type": "markdown",
   "metadata": {},
   "source": [
    "# git2net analysis for the networkx repository\n",
    "\n",
    "First we import the required packages"
   ]
  },
  {
   "cell_type": "code",
   "execution_count": 411,
   "metadata": {},
   "outputs": [],
   "source": [
    "import pygit2 as git2\n",
    "import os\n",
    "import shutil\n",
    "import git2net\n",
    "import pathpy as pp\n",
    "import sqlite3\n",
    "import pandas as pd\n",
    "from datetime import date, datetime, timedelta\n",
    "import matplotlib.pyplot as plt\n",
    "import json \n",
    "import math\n",
    "import copy\n",
    "\n",
    "#git_repo_url = 'https://github.com/pandas-dev/pandas.git'\n",
    "git_repo_url = 'https://github.com/networkx/networkx.git'\n",
    "#git_repo_url = 'https://github.com/numpy/numpy.git'\n",
    "#git_repo_url = 'https://github.com/deepcharles/ruptures.git'\n",
    "#git_repo_url = 'https://github.com/mwaskom/seaborn.git'\n",
    "repo_name = 'networkx'\n",
    "local_directory = '.'\n",
    "git_repo_dir = 'repos/{r}4analysis'.format(r=repo_name)\n",
    "sqlite_db_file = 'databases/{r}/{r}_rename.db'.format(r=repo_name)\n",
    "#sqlite_db_file = 'databases/{r}/{r}.db'.format(r=repo_name)"
   ]
  },
  {
   "cell_type": "markdown",
   "metadata": {},
   "source": [
    "Clone repo:"
   ]
  },
  {
   "cell_type": "code",
   "execution_count": null,
   "metadata": {},
   "outputs": [],
   "source": [
    "if os.path.exists(git_repo_dir):\n",
    "    shutil.rmtree(git_repo_dir)\n",
    "\n",
    "repo = git2.clone_repository(git_repo_url, git_repo_dir) # Clones a non-bare repository"
   ]
  },
  {
   "cell_type": "markdown",
   "metadata": {},
   "source": [
    "Then we create the database for it. We will try with max_modification=100, so that most commits are processed.\n",
    "\n",
    "Mine repo:"
   ]
  },
  {
   "cell_type": "code",
   "execution_count": null,
   "metadata": {},
   "outputs": [],
   "source": [
    "# Remove database if exists\n",
    "#if os.path.exists(sqlite_db_file):\n",
    "#    os.remove(sqlite_db_file)\n",
    "\n",
    "max_modifications = 100\n",
    "    \n",
    "git2net.mine_git_repo(git_repo_dir, sqlite_db_file, max_modifications=max_modifications)"
   ]
  },
  {
   "cell_type": "markdown",
   "metadata": {},
   "source": [
    "Let's check the commits that had more than 100 files modified"
   ]
  },
  {
   "cell_type": "code",
   "execution_count": null,
   "metadata": {},
   "outputs": [],
   "source": [
    "git2net.mining_state_summary(git_repo_dir, sqlite_db_file)"
   ]
  },
  {
   "cell_type": "markdown",
   "metadata": {},
   "source": [
    "### Database modification\n",
    "Replacing the duplicate names, then the names with numbers for compatibility with a temporal network."
   ]
  },
  {
   "cell_type": "code",
   "execution_count": null,
   "metadata": {},
   "outputs": [],
   "source": [
    "con = sqlite3.connect(sqlite_db_file)\n",
    "\n",
    "# Query the db\n",
    "data = pd.read_sql(\"\"\"SELECT * FROM commits\"\"\", con)\n",
    "data"
   ]
  },
  {
   "cell_type": "code",
   "execution_count": null,
   "metadata": {},
   "outputs": [],
   "source": [
    "con = sqlite3.connect(sqlite_db_file)\n",
    "\n",
    "# Query the db\n",
    "data = pd.read_sql(\"\"\"SELECT * FROM commits\"\"\", con)\n",
    "data[['author_name', 'author_email']].drop_duplicates().sort_values(by=['author_name', 'author_email']).to_excel('databases/{r}/{r}_commits_authors.xlsx'.format(r=repo_name))\n",
    "data[['committer_name', 'committer_email']].drop_duplicates().sort_values(by=['committer_name', 'committer_email']).to_excel('databases/{r}/{r}_commits_committers.xlsx'.format(r=repo_name))"
   ]
  },
  {
   "cell_type": "code",
   "execution_count": null,
   "metadata": {},
   "outputs": [],
   "source": [
    "con = sqlite3.connect(sqlite_db_file)\n",
    "\n",
    "# Query the db\n",
    "data = pd.read_sql(\"\"\"SELECT * FROM commits\"\"\", con)\n",
    "data[['author_name', 'author_email']].drop_duplicates().sort_values(by=['author_name', 'author_email']).to_excel('databases/{r}/{r}_commits_authors.xlsx'.format(r=repo_name))\n",
    "data[['committer_name', 'committer_email']].drop_duplicates().sort_values(by=['committer_name', 'committer_email']).to_excel('databases/{r}/{r}_commits_committers.xlsx'.format(r=repo_name))\n",
    "\n",
    "#with open('aliases/aliases-{r}.json'.format(r=repo_name)) as f:\n",
    "#    aliases = json.load(f)\n",
    "#    data = data.replace({'author_name': aliases})\n",
    "#    data = data.replace({'committer_name': aliases})\n",
    "#f.close()\n",
    "\n",
    "rename_auth = {}\n",
    "rename_committer = {}\n",
    "\n",
    "i = 1\n",
    "for name in data['author_name'].unique():\n",
    "    rename_auth[name] = str(i)\n",
    "    i = i + 1\n",
    "\n",
    "i = 1\n",
    "for name in data['committer_name'].unique():\n",
    "    rename_committer[name] = str(i)\n",
    "    i = i + 1\n",
    "\n",
    "data = data.replace({'author_name': rename_auth})\n",
    "data = data.replace({'committer_name': rename_committer})\n",
    "\n",
    "#f = open('databases/{r}/{r}_authors.json'.format(r=repo_name), 'w')\n",
    "#f.write(json.dumps(rename_auth))\n",
    "#f.close()\n",
    "\n",
    "#f = open('databases/{r}/{r}_committers.json'.format(r=repo_name), 'w')\n",
    "#f.write(json.dumps(rename_committer))\n",
    "#f.close()\n",
    "\n",
    "data.to_sql('commits', con, if_exists='replace')"
   ]
  },
  {
   "cell_type": "markdown",
   "metadata": {},
   "source": [
    "### Commit counts"
   ]
  },
  {
   "cell_type": "markdown",
   "metadata": {},
   "source": [
    "The network can be too complex because we consider the whole timeframe of the repository since its creation. Therefore we might need to filter the time dimension, and in order to do that we need to find the first and last commit in the repo."
   ]
  },
  {
   "cell_type": "code",
   "execution_count": 398,
   "metadata": {},
   "outputs": [
    {
     "name": "stdout",
     "output_type": "stream",
     "text": [
      "Min date:  2015-12-16 11:16:18\n",
      "Max date:  2021-03-10 10:32:08\n"
     ]
    }
   ],
   "source": [
    "db = sqlite3.connect(sqlite_db_file)\n",
    "max_date = datetime.strptime(pd.read_sql_query(\"SELECT max(committer_date) as max FROM commits\", db)['max'].item(), '%Y-%m-%d %H:%M:%S')\n",
    "min_date = datetime.strptime(pd.read_sql_query(\"SELECT min(committer_date) as min FROM commits\", db)['min'].item(), '%Y-%m-%d %H:%M:%S')\n",
    "\n",
    "print('Min date: ', min_date)\n",
    "print('Max date: ', max_date)"
   ]
  },
  {
   "cell_type": "markdown",
   "metadata": {},
   "source": [
    "In order not to select an 'empty' time period (relatively few commits, e.g. holiday season), it's also worth observing the number of commits over time."
   ]
  },
  {
   "cell_type": "code",
   "execution_count": 399,
   "metadata": {
    "scrolled": true
   },
   "outputs": [
    {
     "data": {
      "text/plain": [
       "<BarContainer object of 1912 artists>"
      ]
     },
     "execution_count": 399,
     "metadata": {},
     "output_type": "execute_result"
    },
    {
     "data": {
      "image/png": "[encoded data removed]",
      "text/plain": [
       "<Figure size 1440x360 with 1 Axes>"
      ]
     },
     "metadata": {
      "needs_background": "light"
     },
     "output_type": "display_data"
    }
   ],
   "source": [
    "pdCommits = pd.read_sql_query(\"SELECT * FROM commits\", db)\n",
    "\n",
    "days = {(min_date+timedelta(days=x)).date() : 0 for x in range((max_date-min_date).days + 1)}\n",
    "\n",
    "commit_dates = pdCommits['committer_date'].apply(lambda x: datetime.strptime(x, '%Y-%m-%d %H:%M:%S').date()).value_counts()\n",
    "\n",
    "for key in commit_dates.keys():\n",
    "    days[key] = commit_dates.get(key)\n",
    "\n",
    "keys = days.keys()\n",
    "values = days.values()\n",
    "plt.figure(figsize=(20,5))\n",
    "plt.bar(keys, values)"
   ]
  },
  {
   "cell_type": "markdown",
   "metadata": {},
   "source": [
    "## Bipartite networks\n",
    "### Converting bipartite network into WOMP (weighted one-mode projection)"
   ]
  },
  {
   "cell_type": "code",
   "execution_count": 213,
   "metadata": {},
   "outputs": [],
   "source": [
    "def collab_network(sqlite_db_file, git_repo_dir, t, node_info, min_date, max_date, file_base):\n",
    "    if file_base:\n",
    "        start = int(datetime.timestamp(min_date))\n",
    "        end = int(datetime.timestamp(max_date))\n",
    "\n",
    "        n = pp.Network.from_temporal_network(t, min_time=start, max_time=end)\n",
    "        \n",
    "        n = remove_duplicate_filenames(n, git_repo_dir)\n",
    "        n = add_weights(n, node_info)\n",
    "        \n",
    "        new_n = copy.deepcopy(n)\n",
    "\n",
    "        for node1 in n.nodes:\n",
    "            if node_info['class'][node1] == 'author':\n",
    "                for node2 in n.nodes:\n",
    "                    if node_info['class'][node2] == 'author' and node1 != node2:\n",
    "                        intersect = n.successors[node1].intersection(n.successors[node2])\n",
    "                        w = 0\n",
    "                        for file in intersect:\n",
    "                            #print((node1, file), ':', n.edges[(node1, file)])\n",
    "                            w = w + n.edges[(node1, file)]['wijLR']\n",
    "                        if w > 0:\n",
    "                            new_n.add_edge(node1, node2, weight=w)\n",
    "\n",
    "        for node in n.nodes:\n",
    "            if node_info['class'][node] == 'file':\n",
    "                new_n.remove_node(node)\n",
    "\n",
    "        return new_n\n",
    "    else:\n",
    "        n, node_info, edge_info = git2net.get_coauthorship_network(sqlite_db_file, time_from=min_date, time_to=max_date)\n",
    "        return n"
   ]
  },
  {
   "cell_type": "markdown",
   "metadata": {},
   "source": [
    "Funtion for removing file names from a network, which occur more than once in the given git repo. This is necessary because files that are named the same but are located in different folders are merged during the git2net network creation."
   ]
  },
  {
   "cell_type": "code",
   "execution_count": 214,
   "metadata": {},
   "outputs": [],
   "source": [
    "def remove_duplicate_filenames(n, git_repo_dir):\n",
    "    all_files = []\n",
    "    for path, subdirs, files in os.walk(git_repo_dir):\n",
    "        for name in files:\n",
    "            all_files.append(name)\n",
    "\n",
    "    duplicates = [file for file in all_files if all_files.count(file) > 1]\n",
    "    remove_files = set(duplicates)\n",
    "\n",
    "    new_n = copy.deepcopy(n)\n",
    "    for node in new_n.nodes:\n",
    "        if node in remove_files:\n",
    "            n.remove_node(node)\n",
    "    del new_n\n",
    "    return n"
   ]
  },
  {
   "cell_type": "markdown",
   "metadata": {},
   "source": [
    "This function adds the total resources to the nodes, and the proportions to the edges."
   ]
  },
  {
   "cell_type": "code",
   "execution_count": 215,
   "metadata": {},
   "outputs": [],
   "source": [
    "def add_weights(n, node_info):\n",
    "    for node in n.nodes:\n",
    "        if node_info['class'][node] == 'author':\n",
    "            s = 0\n",
    "            for successor in n.successors[node]:\n",
    "                for key in n.edges:\n",
    "                    if key[0] == node and key[1] == successor:\n",
    "                        s = s + n.edges[key]['weight']\n",
    "\n",
    "        n.nodes[node]['WiL'] = s\n",
    "    for edge in n.edges:\n",
    "        n.edges[edge]['wijLR'] = n.edges[edge]['weight'] / n.nodes[edge[0]]['WiL']\n",
    "    \n",
    "    return n"
   ]
  },
  {
   "cell_type": "code",
   "execution_count": 412,
   "metadata": {},
   "outputs": [],
   "source": [
    "t, node_info, edge_info = git2net.get_bipartite_network(sqlite_db_file)\n",
    "n1 = collab_network(sqlite_db_file, git_repo_dir, t, node_info, datetime(2014, 1, 1), datetime(2015, 12, 31), True)\n",
    "n2 = collab_network(sqlite_db_file, git_repo_dir, t, node_info, datetime(2014, 1, 1), datetime(2014, 12, 31), True)\n",
    "n3 = collab_network(sqlite_db_file, git_repo_dir, t, node_info, datetime(2014, 1, 1), datetime(2014, 6, 30), True)\n",
    "n4 = collab_network(sqlite_db_file, git_repo_dir, t, node_info, datetime(2014, 1, 1), datetime(2014, 3, 31), True)\n",
    "n5 = collab_network(sqlite_db_file, git_repo_dir, t, node_info, datetime(2014, 1, 1), datetime(2014, 1, 31), True)\n",
    "n6 = collab_network(sqlite_db_file, git_repo_dir, t, node_info, datetime(2014, 1, 1), datetime(2014, 1, 8), True)"
   ]
  },
  {
   "cell_type": "code",
   "execution_count": 438,
   "metadata": {},
   "outputs": [
    {
     "data": {
      "text/html": [
       "<style>\n",
       "    text.label_cOihJcQC {\n",
       "        text-anchor: middle;\n",
       "        font-size: 9px;\n",
       "        font-family: Arial, Helvetica, sans-serif;\n",
       "        fill: #999999;\n",
       "        stroke: #ffffff;\n",
       "        stroke-width: 0.1px;\n",
       "        opacity: 1.0;\n",
       "    }\n",
       "    .links_cOihJcQC line {\n",
       "    stroke-opacity: 1.0;\n",
       "    }\n",
       "    .arrows svg:path {\n",
       "        stroke: #666;\n",
       "    }\n",
       "    .nodes_cOihJcQC circle {\n",
       "    stroke: #fff;\n",
       "    stroke-width: 0.5px;\n",
       "    }\n",
       "</style>\n",
       "\n",
       "<svg width=\"600\" height=\"600\" id=\"cOihJcQC\">        \n",
       "    <text x=\"20\" y=\"20\" font-family=\"sans-serif\" font-size=\"14px\" fill=\"#666\" style=\"cursor: pointer\"\n",
       "        id='cOihJcQC_svg_txt'>[save svg]</text>\n",
       "</svg>\n",
       "\n",
       "<script charset=\"utf-8\" src=\"https://d3js.org/d3.v4.min.js\"></script>\n",
       "<script charset=\"utf-8\">\n",
       "\n",
       "// Load via requireJS if available (jupyter notebook environment)\n",
       "try {\n",
       "    // Problem: require.config will raise an exception when called for the second time \n",
       "    require.config({\n",
       "        paths: {\n",
       "            //d3: \"https://d3js.org/d3.v4.min\"\n",
       "            d3: \"https://d3js.org/d3.v4.min.js\".replace(\".js\", \"\")\n",
       "        }\n",
       "    });\n",
       "    console.log(\"Detected requireJS\");\n",
       "}\n",
       "catch(err){\n",
       "    // a reference error indicates that requireJS does not exist. \n",
       "    // other errors may occur due to multiple calls to config\n",
       "    if (err instanceof ReferenceError){\n",
       "        console.log(\"Detected no requireJS\");\n",
       "\n",
       "        // Helper function that waits for d3js to be loaded\n",
       "        require = function require(symbols, callback) {\n",
       "            var ms = 5;\n",
       "            window.setTimeout(function(t) {\n",
       "                if (window[symbols[0]])\n",
       "                    callback(window[symbols[0]]);\n",
       "                else \n",
       "                    window.setTimeout(arguments.callee, ms);\n",
       "            }, ms);\n",
       "        }\n",
       "    }\n",
       "}\n",
       "\n",
       "// wait until d3js has been loaded\n",
       "require([\"d3\"], function(d3) {\n",
       "    var svg = d3.select(\"#\"+\"cOihJcQC\"), radius = 6, width = +svg.attr(\"width\"), height = +svg.attr(\"height\");\n",
       "\n",
       "    var color = d3.scaleOrdinal(d3.schemeCategory20);\n",
       "\n",
       "    var graph = {\"links\": [], \"nodes\": [{\"id\": \"n_54\", \"text\": \"n_54\", \"color\": \"#99ccff\", \"size\": 5.0}, {\"id\": \"n_1\", \"text\": \"n_1\", \"color\": \"#99ccff\", \"size\": 5.0}]};\n",
       "    var directed = false;\n",
       "\n",
       "    var simulation = d3.forceSimulation()        \n",
       "       .force(\"link\", d3.forceLink().id(function(d) { return d.id; }).strength(function(d){return d.weight;}))\n",
       "        .force(\"charge\", d3.forceManyBody().strength(-10).distanceMax(600))\n",
       "       .force(\"repelForce\", d3.forceManyBody().strength(-150).distanceMax(100))\n",
       "       .force(\"center\", d3.forceCenter(600 / 2, 600 / 2))\n",
       "       .alphaTarget(-5);\n",
       "\n",
       "    svg.append(\"defs\").selectAll(\"marker\")\n",
       "        .data([\"end\"])\n",
       "    .enter().append(\"marker\")\n",
       "        .attr(\"id\", String)\n",
       "        .attr(\"viewBox\", \"0 -5 20 20\")\n",
       "        .attr(\"refX\", 34)\n",
       "        .attr(\"refY\", 0)\n",
       "        .attr(\"markerWidth\", 15)\n",
       "        .attr(\"markerHeight\", 15)\n",
       "        .attr(\"orient\", \"auto\")\n",
       "    .append(\"path\")\n",
       "        // draws a filled path (triangle) between three points\n",
       "        .attr(\"d\", \"M0,-5 L20,0 L0,5 z\")\n",
       "        .attr(\"fill\", '#999')\n",
       "        .attr(\"stroke\", 'none');\n",
       "\n",
       "    var g = svg.append(\"g\")\n",
       "        .attr(\"class\", \"everything\");\n",
       "\n",
       "    var link = g.append(\"g\")\n",
       "        .attr(\"class\", \"links_cOihJcQC\")\n",
       "        .selectAll(\"line\")\n",
       "        .data(graph.links)\n",
       "        .enter().append(\"line\")\n",
       "        .attr(\"stroke-width\", function(d) { return d.width; })\n",
       "        .attr(\"stroke\", function(d) { return d.color; } );\n",
       "\n",
       "    if (directed)\n",
       "        link.attr(\"marker-end\", \"url(#end)\");\n",
       "\n",
       "    var node_g = g.append(\"g\")\n",
       "        .attr(\"class\", \"nodes_cOihJcQC\")\n",
       "        .selectAll(\"circle\")\n",
       "        .data(graph.nodes)\n",
       "        .enter()\n",
       "        .append(\"g\"); \n",
       "\n",
       "    var node = node_g.append(\"circle\")\n",
       "        .attr('id', function(d) { return d.id; })\n",
       "        .attr(\"r\", function(d) { return d.size; })\n",
       "        .attr(\"fill\", function(d) { return d.color; })\n",
       "        .call(d3.drag()\n",
       "            .on(\"start\", dragstarted)\n",
       "            .on(\"drag\", dragged)\n",
       "            .on(\"end\", dragended));\n",
       "\n",
       "    var text = node_g.append(\"text\")\n",
       "    .attr(\"x\", [0, -10][0])\n",
       "    .attr(\"y\", [0, -10][1]+3)\n",
       "    .attr(\"id\", function(d) {return d.id; })\n",
       "    .attr(\"class\", \"label_cOihJcQC\")\n",
       "    .text(function(d) { return d.id; });\n",
       "\n",
       "    node.append(\"title\")\n",
       "        .text(function(d) { return d.text; });\n",
       "\n",
       "    var zoom_handler = d3.zoom()\n",
       "        .on(\"zoom\", zoom_actions);\n",
       "    zoom_handler(svg);\n",
       "\n",
       "    // attach event handler for svg export\n",
       "    d3.select('#cOihJcQC_svg_txt').on(\"click\", save_svg);\n",
       "\n",
       "    simulation\n",
       "        .nodes(graph.nodes)\n",
       "        .on(\"tick\", ticked);\n",
       "\n",
       "    simulation.force(\"link\")\n",
       "        .links(graph.links);\n",
       "\n",
       "    function ticked() {\n",
       "        link.attr(\"x1\", function(d) { return d.source.x; })\n",
       "            .attr(\"y1\", function(d) { return d.source.y; })\n",
       "            .attr(\"x2\", function(d) { return d.target.x; })\n",
       "            .attr(\"y2\", function(d) { return d.target.y; });\n",
       "\n",
       "         text.attr(\"transform\", transform);\n",
       "\n",
       "\n",
       "        text.attr(\"cx\", function(d) { return d.x; })\n",
       "            .attr(\"cy\", function(d) { return d.y; });\n",
       "\n",
       "        node.attr(\"cx\", function(d) { return d.x; })\n",
       "            .attr(\"cy\", function(d) { return d.y; });\n",
       "    }\n",
       "\n",
       "    function transform(d) {\n",
       "        return \"translate(\" + d.x + \",\" + d.y + \")\";\n",
       "    }\n",
       "\n",
       "    function dragstarted(d) {\n",
       "    if (!d3.event.active) simulation.alphaTarget(0.3).restart();\n",
       "    d.fx = d.x;\n",
       "    d.fy = d.y;\n",
       "    }\n",
       "\n",
       "    function zoom_actions(){\n",
       "        g.attr(\"transform\", d3.event.transform)\n",
       "    }    \n",
       "\n",
       "    function dragged(d) {\n",
       "    d.fx = d3.event.x;\n",
       "    d.fy = d3.event.y;\n",
       "    }\n",
       "\n",
       "    function dragended(d) {\n",
       "    if (!d3.event.active) simulation.alphaTarget(0);\n",
       "    d.fx = null;\n",
       "    d.fy = null;\n",
       "    }\n",
       "\n",
       "    function to_svg() {\n",
       "        // Returns a SVG representation of the current state of the visualisation\n",
       "\t    var svg  = document.getElementById('cOihJcQC');\n",
       "\t    var xml = (new XMLSerializer).serializeToString(svg);\n",
       "        return xml;\n",
       "    }\n",
       "\n",
       "    function save_svg() {\n",
       "        var svg  = document.getElementById('cOihJcQC');\n",
       "        var xml = (new XMLSerializer).serializeToString(svg);        \n",
       "        var blob = new Blob([xml], {type: 'text/xml'});\n",
       "        if(window.navigator.msSaveOrOpenBlob) {\n",
       "            window.navigator.msSaveBlob(blob, 'network.svg');\n",
       "        }\n",
       "        else{\n",
       "            var elem = window.document.createElement('a');\n",
       "            elem.href = window.URL.createObjectURL(blob);\n",
       "            elem.download = 'network.svg';\n",
       "            document.body.appendChild(elem);\n",
       "            elem.click();\n",
       "            document.body.removeChild(elem);\n",
       "        }\n",
       "    }\n",
       "});\n",
       "</script>"
      ],
      "text/plain": [
       "<IPython.core.display.HTML object>"
      ]
     },
     "metadata": {},
     "output_type": "display_data"
    }
   ],
   "source": [
    "style = {\n",
    "    'edge_arrows': False,\n",
    "    #'node_size': {v: 3+u['WiL'] for v,u in n.nodes.items()},\n",
    "    'edge_width': {v: u['weight'] for v,u in n6.edges.items()},\n",
    "    'width': 600,\n",
    "    'height': 600,\n",
    "    'label_size': '9px',\n",
    "    'force_repel': -150,\n",
    "    'force_alpha': -5,\n",
    "    'force_charge': -10\n",
    "}\n",
    "pp.visualisation.plot(n6, **style)"
   ]
  },
  {
   "cell_type": "code",
   "execution_count": 416,
   "metadata": {},
   "outputs": [
    {
     "data": {
      "text/plain": [
       "41"
      ]
     },
     "execution_count": 416,
     "metadata": {},
     "output_type": "execute_result"
    }
   ],
   "source": [
    "len(n2.nodes)"
   ]
  },
  {
   "cell_type": "markdown",
   "metadata": {},
   "source": [
    "### Network density"
   ]
  },
  {
   "cell_type": "code",
   "execution_count": 209,
   "metadata": {},
   "outputs": [
    {
     "name": "stdout",
     "output_type": "stream",
     "text": [
      "Help on function plot in module pathpy.visualisation.html:\n",
      "\n",
      "plot(network, **params)\n",
      "    Plots an interactive visualisation of pathpy objects\n",
      "    in a jupyter notebook. This generic function supports instances of\n",
      "    pathpy.Network, pathpy.TemporalNetwork, pathpy.HigherOrderNetwork,\n",
      "    pathpy.MultiOrderModel, and pathpy.Paths. See description of different\n",
      "    visualisations in the parameter description.\n",
      "    \n",
      "    Parameters\n",
      "    ----------\n",
      "    network: Network, TemporalNetwork, HigherOrderNetwork, MultiOrderModel, Paths\n",
      "        The object to visualize. Depending on the type of the object passed, the following\n",
      "        visualisations are generated:\n",
      "            Network: interactive visualisation of a network with a force-directed layout.\n",
      "            HigherOrderNetwork: interactive visualisation of the first-order network\n",
      "                with forces calculated based on the higher-order network. By setting\n",
      "                plot_higher_order_nodes=True a network with unprojected\n",
      "                higher-order nodes can be plotted instead.\n",
      "            MultiOrderModel: interactive visualisation of the first-order network\n",
      "                with forces calculated based on the multi-order model.\n",
      "            TemporalNetwork: interactive and dynamic visualisation of a temporal\n",
      "                network.\n",
      "            Paths: alluvial diagram showing markov or non-Markov trajectories through\n",
      "                a given focal node.\n",
      "    params: dict\n",
      "        A dictionary with visualisation parameters. These parameters are passed through to\n",
      "        visualisation templates that are extendable by the user. The default pathpy templates\n",
      "        support the following parameters, depending on the type of object being visualised\n",
      "        (see brackets).\n",
      "            width: int (all)\n",
      "                Width of the div element containing the jupyter visualization.\n",
      "                Default value is 400.\n",
      "            height: int (all)\n",
      "                Height of the div element containing the jupyter visualization.\n",
      "                Default value is 400.\n",
      "            template: string (all)\n",
      "                Path to custom visualization template file. If this parameter is omitted, the\n",
      "                default pathpy visualistion template fitting the corresponding object will be used.\n",
      "            d3js_path: string (all)\n",
      "                URL to the d3js library. By default, d3js will be loaded from https://d3js.org/d3.v4.min.js.\n",
      "                For offline operation, the URL to a local copy of d3js can be specified instead. For custom\n",
      "                templates, a specific d3js version can be used.\n",
      "            node_size: int, dict (Network, HigherOrderNetwork, TemporalNetwork, MultiOrderModel)\n",
      "                Either an int value that specifies the radius of all nodes, or\n",
      "                a dictionary that assigns custom node sizes to invidual nodes.\n",
      "                Default value is 5.0.\n",
      "            edge_width: int, float, dict (Network, HigherOrderNetwork, TemporalNetwork, MultiOrderModel)\n",
      "                Either an int value that specifies the radius of all edges, or\n",
      "                a dictionary that assigns custom edge widths to invidual edges.\n",
      "                Default value is 0.5.\n",
      "            node_color: string, dict (Network, HigherOrderNetwork, TemporalNetwork, MultiOrderModel)\n",
      "                Either a string value that specifies the HTML color of all nodes,\n",
      "                or a dictionary that assigns custom node colors to invidual nodes.\n",
      "                Both HTML named colors ('red, 'blue', 'yellow') or HEX-RGB values can\n",
      "                be used. Default value is \"#99ccff\". (lightblue)\n",
      "            node_text: string, dict (Network, HigherOrderNetwork, MultiOrderModel)\n",
      "                A text displayed when hovering over nodes, e.g. containing node properties, full names, etc. \n",
      "                Defaults to node names.\n",
      "            edge_color: string, dict (Network, HigherOrderNetwork, TemporalNetwork, MultiOrderModel)\n",
      "                Either a string value that specifies the HTML color of all edges,\n",
      "                or a dictionary that assigns custom edge color to invidual edges.\n",
      "                Both HTML named colors ('red, 'blue', 'yellow') or HEX-RGB values can\n",
      "                be used. Default value is \"#cccccc\" (lightgray).\n",
      "            edge_opacity: float (Network, HigherOrderNetwork, TemporalNetwork, MultiOrderModel)\n",
      "                The opacity of all edges in a range from 0.0 to 1.0. Default value is 1.0.             \n",
      "            edge_arrows: bool (Network, HigherOrderNetwork, MultiOrderNetwork)\n",
      "                Whether to draw edge arrows for directed networks. Default value is True.\n",
      "            label_color: string (Network, HigherOrderNetwork, TemporalNetwork, MultiOrderModel)\n",
      "                The HTML color of node labels.  Both HTML named colors ('red, 'blue', 'yellow') \n",
      "                or HEX-RGB values can be used.Default value is '#cccccc' (lightgray).\n",
      "            label_opacity: float (Network, HigherOrderNetwork, TemporalNetwork, MultiOrderModel)\n",
      "                The opacity of the label. Default value is 1.0.\n",
      "            label_size: str (Network, HigherOrderNetwork, TemporalNetwork, MultiOrderNetwork)\n",
      "                CSS string specifying the font size to be used for labels. Default is '8px'.\n",
      "            label_offset: list (Network, HigherOrderNetwork, TemporalNetwork, MultiOrderNetwork)\n",
      "                The offset [x,y] of the label from the center of a node. For [0,0] labels will be\n",
      "                displayed in the center of nodes. Positive values for the first and second component\n",
      "                move the label to the right and top respectively. Default is [0, -10], which\n",
      "                displays labels above nodes to accomodate for labels wider than nodes.\n",
      "            force_charge: float, int ()\n",
      "                The charge strength of nodes to be used in the force-directed layout. Default value is -20\n",
      "            force_repel: float, int (all)\n",
      "                The strength of the repulsive force between nodes. Larger negative values will increase the distance\n",
      "                between nodes. Default value is -200.\n",
      "            force_alpha: float (all)\n",
      "                The alpha target (convergence threshold) to be passed to the underlying force-directed\n",
      "                layout algorithm. Default value is 0.0.\n",
      "            plot_higher_order_nodes: HigherOrderNetwork\n",
      "                If set to True, a raw higher-order network with higher-order nodes will be plotted. If\n",
      "                False, a first-order projection with a higher-order force-directed layout will be plotted.\n",
      "                The default value is True.\n",
      "            ms_per_frame: int (TemporalNetwork)\n",
      "                how many milliseconds each frame shall be displayed in the visualisation of a TemporalNetwork.\n",
      "                The 1000/ms_per_frame specifies the framerate of the visualisation. The default value of 20 yields a\n",
      "                framerate of 50 fps.\n",
      "            ts_per_frame: int (TemporalNetwork)\n",
      "                How many timestamps in a temporal network shall be displayed in every frame\n",
      "                of the visualisation. For a value of 1 each timestamp is shown in a separate frame.\n",
      "                For higher values, multiple timestamps will be aggregated in a single frame. For a\n",
      "                value of zero, simulation speed is adjusted to the inter event time distribution such\n",
      "                that on average five interactions are shown per second. Default value is 1.\n",
      "            look_behind: int (TemporalNetwork)\n",
      "                The look_ahead and look_behind parameters define a temporal range around the current time\n",
      "                stamp within which time-stamped edges will be considered for the force-directed layout.\n",
      "                Values larger than one result in smoothly changing layouts.\n",
      "                Default value is 10.\n",
      "            look_ahead: int (TemporalNetwork)\n",
      "                The look_ahead and look_behind parameters define a temporal range around the current time\n",
      "                stamp within which time-stamped edges will be considered for the force-directed layout.\n",
      "                Values larger than one result in smoothly changing layouts.\n",
      "                Default value is 10.\n",
      "            max_time: int (TemporalNetwork)\n",
      "                maximum time stamp to visualise. Useful to limit visualisation of very long Temporal Networks. \n",
      "                If None, the whole sequence will be shown. Default is None.\n",
      "            active_edge_width: float (TemporalNetwork)\n",
      "                A float value that specifies the width of currently active edges.\n",
      "                Default value is 4.0.\n",
      "            inactive_edge_width: float (TemporalNetwork)\n",
      "                A float value that specifies the width of currently active edges.\n",
      "                Default value is 0.5.\n",
      "            active_edge_color: string (TemporalNetwork)\n",
      "                A string value that specifies the HTML color of currently active edges.\n",
      "                Both HTML named colors ('red, 'blue', 'yellow') or HEX-RGB values can\n",
      "                be used. Default value is \"#ff0000\" (red).\n",
      "            inactive_edge_color: string (TemporalNetwork)\n",
      "                A string value that specifies the HTML color of inactive edges.\n",
      "                Both HTML named colors ('red, 'blue', 'yellow') or HEX-RGB values can\n",
      "                be used. Default value is \"#cccccc\" (lightgray).\n",
      "            active_node_color: string (TemporalNetwork)\n",
      "                A string value that specifies the HTML color of active nodes.\n",
      "                Both HTML named colors ('red, 'blue', 'yellow') or HEX-RGB values can\n",
      "                be used. Default value is \"#ff0000\" (red).\n",
      "            inactive_node_color: string (TemporalNetwork)\n",
      "                A string value that specifies the HTML color of inactive nodes.\n",
      "                Both HTML named colors ('red, 'blue', 'yellow') or HEX-RGB values can\n",
      "                be used. Default value is \"#cccccc\" (lightgray).\n",
      "    \n",
      "    Examples:\n",
      "    ---------\n",
      "    >>> paths = pp.Paths()\n",
      "    >>> paths.add_path('a,b,c')\n",
      "    >>> n = pp.Network.from_paths(paths)\n",
      "    >>> params = {'label_color': '#ff0000',\n",
      "                  'node_color': { 'a': '#ff0000', 'b': '#00ff00', 'c': '#0000ff'}\n",
      "    >>>          }\n",
      "    >>> pp.visualisation.plot(n, **params)\n",
      "    >>> [inline visualisation]\n",
      "    >>> pp.visualisation.export_html(n, filename='myvisualisation.html', **params)\n",
      "\n"
     ]
    }
   ],
   "source": [
    "help(pp.visualisation.plot)"
   ]
  },
  {
   "cell_type": "markdown",
   "metadata": {},
   "source": [
    "## Export temporal networks into HTML"
   ]
  },
  {
   "cell_type": "code",
   "execution_count": null,
   "metadata": {},
   "outputs": [],
   "source": [
    "def export_networks(git_repo_dir, t, node_info, sqlite_db_file, time_from, time_to, interval, delta, file_mode, repo_name):\n",
    "    if len(time_from) == len(time_to) == len(interval) == len(delta) == len(file_mode):\n",
    "        for i in range(0,len(delta)-1):\n",
    "            print('\\nIteration {i}/{r}'.format(i=i+1, r=len(delta)))\n",
    "            t2 = pp.TemporalNetwork()\n",
    "            current_interval = timedelta(days=interval[i])\n",
    "            current_delta = timedelta(days=delta[i])\n",
    "            rounds = math.ceil((time_to[i] - time_from[i] - current_interval)/current_delta)\n",
    "            for j in range(1,rounds+1):\n",
    "                print('Round {j}/{r}'.format(j=j, r=rounds), end = \"\\r\")\n",
    "                start = time_from[i] + j * current_delta\n",
    "                end = time_from[i] + j * current_delta + current_interval\n",
    "                network = collab_network(sqlite_db_file, git_repo_dir, t, node_info, start, end, file_mode[i])\n",
    "\n",
    "                for edge in network.edges:\n",
    "                    edge_from = \"{:.0f}\".format(edge[0]) if type(edge[0]) is float or type(edge[0]) is int else edge[0]\n",
    "                    edge_to   = \"{:.0f}\".format(edge[1]) if type(edge[1]) is float or type(edge[1]) is int else edge[1]\n",
    "                    t2.add_edge(edge_from, edge_to, j)\n",
    "\n",
    "            style = {    \n",
    "              'ts_per_frame': 1, \n",
    "              'ms_per_frame': 700,\n",
    "              'look_ahead': 0, \n",
    "              'look_behind': 1, \n",
    "              'inactive_edge_width': 2,\n",
    "              'active_edge_width': 4, \n",
    "              'label_color' : '#000000',\n",
    "              'label_size' : '8px',\n",
    "              'label_offset': [0,5]\n",
    "              }\n",
    "            pp.visualisation.export_html(t2, 'exports/{r}/{r}_tf{tf}_tt{tt}_i{i}_d{d}_{f}.html'.format(\n",
    "                r=repo_name,\n",
    "                tf=time_from[i].strftime('%Y%m%d'),\n",
    "                tt=time_to[i].strftime('%Y%m%d'),\n",
    "                i=interval[i],\n",
    "                d=delta[i],\n",
    "                f='f' if file_mode[i] else 'l'\n",
    "            ), **style)\n",
    "    else:\n",
    "        raise ValueError\n",
    "    print('\\nFinished exporting!')"
   ]
  },
  {
   "cell_type": "code",
   "execution_count": null,
   "metadata": {},
   "outputs": [],
   "source": [
    "time_from = [datetime(2014, 4,  1), datetime(2014, 4, 1), datetime(2014, 4,  1), datetime(2014,  1,  1), datetime(2014,  1,  1), datetime(2014,  1,  1), datetime(2014,  1,  1)]\n",
    "time_to   = [datetime(2014, 4, 30), datetime(2014, 5, 6), datetime(2014, 5, 13), datetime(2014, 12, 31), datetime(2014, 12, 31), datetime(2015, 12, 31), datetime(2016, 12, 31)]\n",
    "interval  = [1, 7, 14, 30, 60, 30, 60]\n",
    "delta     = [1, 1,  1,  7,  7, 14, 14]\n",
    "file_mode = [False, False, False, False, False, False, False]\n",
    "\n",
    "export_networks(git_repo_dir, t, node_info, sqlite_db_file, time_from, time_to, interval, delta, file_mode, repo_name)"
   ]
  }
 ],
 "metadata": {
  "kernelspec": {
   "display_name": "Python 3",
   "language": "python",
   "name": "python3"
  },
  "language_info": {
   "codemirror_mode": {
    "name": "ipython",
    "version": 3
   },
   "file_extension": ".py",
   "mimetype": "text/x-python",
   "name": "python",
   "nbconvert_exporter": "python",
   "pygments_lexer": "ipython3",
   "version": "3.8.5"
  }
 },
 "nbformat": 4,
 "nbformat_minor": 4
}
