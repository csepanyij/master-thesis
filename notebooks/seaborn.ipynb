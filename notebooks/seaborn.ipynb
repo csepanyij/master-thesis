{
 "cells": [
  {
   "cell_type": "markdown",
   "metadata": {},
   "source": [
    "# git2net analysis for the seaborn repository\n",
    "\n",
    "First we clone the repo"
   ]
  },
  {
   "cell_type": "code",
   "execution_count": 1,
   "metadata": {},
   "outputs": [],
   "source": [
    "import pygit2 as git2\n",
    "import os\n",
    "import shutil\n",
    "import git2net\n",
    "import pathpy as pp\n",
    "import sqlite3\n",
    "import pandas as pd\n",
    "from datetime import date, datetime, timedelta\n",
    "import matplotlib.pyplot as plt\n",
    "import json \n",
    "\n",
    "git_repo_url = 'https://github.com/mwaskom/seaborn.git'\n",
    "local_directory = '.'\n",
    "git_repo_dir = 'notebooks/repos/seaborn4analysis'\n",
    "sqlite_db_file = 'notebooks/databases/seaborn.db'"
   ]
  },
  {
   "cell_type": "markdown",
   "metadata": {},
   "source": [
    "Clone repo:"
   ]
  },
  {
   "cell_type": "code",
   "execution_count": null,
   "metadata": {},
   "outputs": [],
   "source": [
    "if os.path.exists(git_repo_dir):\n",
    "    shutil.rmtree(git_repo_dir)\n",
    "\n",
    "repo = git2.clone_repository(git_repo_url, git_repo_dir) # Clones a non-bare repository"
   ]
  },
  {
   "cell_type": "markdown",
   "metadata": {},
   "source": [
    "Then we create the database for it. We will try with max_modification=100, so that most commits are processed.\n",
    "\n",
    "Mine repo:"
   ]
  },
  {
   "cell_type": "code",
   "execution_count": null,
   "metadata": {},
   "outputs": [],
   "source": [
    "# Remove database if exists\n",
    "#if os.path.exists(sqlite_db_file):\n",
    "#    os.remove(sqlite_db_file)\n",
    "\n",
    "max_modifications = 100\n",
    "    \n",
    "git2net.mine_git_repo(git_repo_dir, sqlite_db_file, max_modifications=max_modifications)"
   ]
  },
  {
   "cell_type": "markdown",
   "metadata": {},
   "source": [
    "Let's check the commits that had more than 100 files modified"
   ]
  },
  {
   "cell_type": "code",
   "execution_count": null,
   "metadata": {},
   "outputs": [],
   "source": [
    "git2net.mining_state_summary(git_repo_dir, sqlite_db_file)"
   ]
  },
  {
   "cell_type": "markdown",
   "metadata": {},
   "source": [
    "### Database modification\n",
    "Replacing the aliases belonging to the same person."
   ]
  },
  {
   "cell_type": "code",
   "execution_count": null,
   "metadata": {},
   "outputs": [],
   "source": [
    "con = sqlite3.connect(sqlite_db_file)\n",
    "\n",
    "# Query the db\n",
    "data = pd.read_sql(\"\"\"SELECT * FROM commits\"\"\", con)\n",
    "\n",
    "# Get all the name-email pairs\n",
    "names = data[['author_email', 'author_name']].copy()\n",
    "names.groupby(['author_email', 'author_name']).size().reset_index().rename(columns={0:'count'})\n",
    "\n",
    "# After adding the similar names to the aliases.json, replace the values\n",
    "#with open('aliases.json') as file:\n",
    "#    aliases = json.load(file)\n",
    "\n",
    "#data = data.replace(aliases)\n",
    "\n",
    "# Save changes in db\n",
    "#data.to_sql('commits', con, if_exists='replace')"
   ]
  },
  {
   "cell_type": "code",
   "execution_count": 22,
   "metadata": {},
   "outputs": [],
   "source": [
    "con = sqlite3.connect(sqlite_db_file)\n",
    "\n",
    "# Query the db\n",
    "data = pd.read_sql(\"\"\"SELECT * FROM commits\"\"\", con)\n",
    "\n",
    "with open('notebooks/replace_chars.json') as file:\n",
    "    replace_dict = json.load(file)\n",
    "\n",
    "for key, value in replace_dict.items():\n",
    "    data['author_name'].str.replace(key, value)\n",
    "    data['committer_name'].str.replace(key, value)\n",
    "data.to_sql('commits', con, if_exists='replace')"
   ]
  },
  {
   "cell_type": "code",
   "execution_count": 23,
   "metadata": {},
   "outputs": [
    {
     "output_type": "execute_result",
     "data": {
      "text/plain": [
       "                                          hash  \\\n",
       "0     31eda8fc053ff3aacc20e7c01570efac01c35db1   \n",
       "1     36dd99374a1d6857af7652a9fb832a712a066e16   \n",
       "2     9caebbff04919e8db78baf544d825190d3fc49d8   \n",
       "3     f39de6924a5ae1d77c013177f177ac9f48e9a72f   \n",
       "4     22d9c3b4e73adc2f9699a4e00141373f695b8e2e   \n",
       "...                                        ...   \n",
       "2754  adcc3fbd1e182bbf7e12a5500265f3b6a65d7af9   \n",
       "2755  0b7697dea9f421e65bbd2c6e8fca73fee33e4191   \n",
       "2756  b9d649e9af5ec722f4c7fbdb807b5768adcd8bb3   \n",
       "2757  0547bb1cef8f7a1d9080ec96bb99841afb6bdeba   \n",
       "2758  f123d9b9f46caea4942f392e8f8d1805c121fe01   \n",
       "\n",
       "                          author_email     author_name       committer_email  \\\n",
       "0                 mwaskom@stanford.edu  Michael Waskom  mwaskom@stanford.edu   \n",
       "1                 mwaskom@stanford.edu  Michael Waskom  mwaskom@stanford.edu   \n",
       "2                 mwaskom@stanford.edu  Michael Waskom  mwaskom@stanford.edu   \n",
       "3                 mwaskom@stanford.edu  Michael Waskom  mwaskom@stanford.edu   \n",
       "4                 mwaskom@stanford.edu  Michael Waskom  mwaskom@stanford.edu   \n",
       "...                                ...             ...                   ...   \n",
       "2754                   mwaskom@nyu.edu  Michael Waskom       mwaskom@nyu.edu   \n",
       "2755  mwaskom@users.noreply.github.com  Michael Waskom    noreply@github.com   \n",
       "2756                   mwaskom@nyu.edu  Michael Waskom       mwaskom@nyu.edu   \n",
       "2757  mwaskom@users.noreply.github.com  Michael Waskom    noreply@github.com   \n",
       "2758  mwaskom@users.noreply.github.com  Michael Waskom    noreply@github.com   \n",
       "\n",
       "      committer_name          author_date       committer_date  \\\n",
       "0     Michael Waskom  2012-06-18 12:30:41  2012-06-18 12:30:41   \n",
       "1     Michael Waskom  2012-06-18 11:40:27  2012-06-18 11:40:27   \n",
       "2     Michael Waskom  2012-06-18 13:15:31  2012-06-18 13:15:31   \n",
       "3     Michael Waskom  2012-06-18 13:40:57  2012-06-18 13:40:57   \n",
       "4     Michael Waskom  2012-06-18 16:19:02  2012-06-18 16:19:02   \n",
       "...              ...                  ...                  ...   \n",
       "2754  Michael Waskom  2020-01-18 18:19:29  2020-01-18 18:19:29   \n",
       "2755          GitHub  2020-09-08 07:18:28  2020-09-08 07:18:28   \n",
       "2756  Michael Waskom  2020-08-17 18:02:30  2020-08-17 18:02:30   \n",
       "2757          GitHub  2020-09-07 15:59:15  2020-09-07 15:59:15   \n",
       "2758          GitHub  2020-09-04 18:36:28  2020-09-04 18:36:28   \n",
       "\n",
       "      author_timezone  committer_timezone  no_of_modifications  \\\n",
       "0               25200               25200                    1   \n",
       "1               25200               25200                    6   \n",
       "2               25200               25200                    1   \n",
       "3               25200               25200                    1   \n",
       "4               25200               25200                    1   \n",
       "...               ...                 ...                  ...   \n",
       "2754            18000               18000                    0   \n",
       "2755            14400               14400                   81   \n",
       "2756            14400               14400                    0   \n",
       "2757            14400               14400                   43   \n",
       "2758            14400               14400                   26   \n",
       "\n",
       "      commit_message_len      project_name  \\\n",
       "0                     13  seaborn4analysis   \n",
       "1                     14  seaborn4analysis   \n",
       "2                     31  seaborn4analysis   \n",
       "3                     24  seaborn4analysis   \n",
       "4                     44  seaborn4analysis   \n",
       "...                  ...               ...   \n",
       "2754                  79  seaborn4analysis   \n",
       "2755                 254  seaborn4analysis   \n",
       "2756                  97  seaborn4analysis   \n",
       "2757                 856  seaborn4analysis   \n",
       "2758                 118  seaborn4analysis   \n",
       "\n",
       "                                                parents  merge  \\\n",
       "0              36dd99374a1d6857af7652a9fb832a712a066e16      0   \n",
       "1                                                            0   \n",
       "2              31eda8fc053ff3aacc20e7c01570efac01c35db1      0   \n",
       "3              9caebbff04919e8db78baf544d825190d3fc49d8      0   \n",
       "4              f39de6924a5ae1d77c013177f177ac9f48e9a72f      0   \n",
       "...                                                 ...    ...   \n",
       "2754  11f9de9f6b327f70ed7e4f9f6feb3dc17f172c1c,087f0...      1   \n",
       "2755           0547bb1cef8f7a1d9080ec96bb99841afb6bdeba      0   \n",
       "2756  c0c040cc0db547246b58bc7e73202fa2f01453e7,a40e4...      1   \n",
       "2757           89f71465c76d447cc5a22e38e4d8813cba2f84dc      0   \n",
       "2758           eee5d3012d21440de63b66bb2b9809bd5cbfb93c      0   \n",
       "\n",
       "      in_main_branch branches  \n",
       "0                  1   master  \n",
       "1                  1   master  \n",
       "2                  1   master  \n",
       "3                  1   master  \n",
       "4                  1   master  \n",
       "...              ...      ...  \n",
       "2754               1   master  \n",
       "2755               1   master  \n",
       "2756               1   master  \n",
       "2757               1   master  \n",
       "2758               1   master  \n",
       "\n",
       "[2759 rows x 16 columns]"
      ],
      "text/html": "<div>\n<style scoped>\n    .dataframe tbody tr th:only-of-type {\n        vertical-align: middle;\n    }\n\n    .dataframe tbody tr th {\n        vertical-align: top;\n    }\n\n    .dataframe thead th {\n        text-align: right;\n    }\n</style>\n<table border=\"1\" class=\"dataframe\">\n  <thead>\n    <tr style=\"text-align: right;\">\n      <th></th>\n      <th>hash</th>\n      <th>author_email</th>\n      <th>author_name</th>\n      <th>committer_email</th>\n      <th>committer_name</th>\n      <th>author_date</th>\n      <th>committer_date</th>\n      <th>author_timezone</th>\n      <th>committer_timezone</th>\n      <th>no_of_modifications</th>\n      <th>commit_message_len</th>\n      <th>project_name</th>\n      <th>parents</th>\n      <th>merge</th>\n      <th>in_main_branch</th>\n      <th>branches</th>\n    </tr>\n  </thead>\n  <tbody>\n    <tr>\n      <th>0</th>\n      <td>31eda8fc053ff3aacc20e7c01570efac01c35db1</td>\n      <td>mwaskom@stanford.edu</td>\n      <td>Michael Waskom</td>\n      <td>mwaskom@stanford.edu</td>\n      <td>Michael Waskom</td>\n      <td>2012-06-18 12:30:41</td>\n      <td>2012-06-18 12:30:41</td>\n      <td>25200</td>\n      <td>25200</td>\n      <td>1</td>\n      <td>13</td>\n      <td>seaborn4analysis</td>\n      <td>36dd99374a1d6857af7652a9fb832a712a066e16</td>\n      <td>0</td>\n      <td>1</td>\n      <td>master</td>\n    </tr>\n    <tr>\n      <th>1</th>\n      <td>36dd99374a1d6857af7652a9fb832a712a066e16</td>\n      <td>mwaskom@stanford.edu</td>\n      <td>Michael Waskom</td>\n      <td>mwaskom@stanford.edu</td>\n      <td>Michael Waskom</td>\n      <td>2012-06-18 11:40:27</td>\n      <td>2012-06-18 11:40:27</td>\n      <td>25200</td>\n      <td>25200</td>\n      <td>6</td>\n      <td>14</td>\n      <td>seaborn4analysis</td>\n      <td></td>\n      <td>0</td>\n      <td>1</td>\n      <td>master</td>\n    </tr>\n    <tr>\n      <th>2</th>\n      <td>9caebbff04919e8db78baf544d825190d3fc49d8</td>\n      <td>mwaskom@stanford.edu</td>\n      <td>Michael Waskom</td>\n      <td>mwaskom@stanford.edu</td>\n      <td>Michael Waskom</td>\n      <td>2012-06-18 13:15:31</td>\n      <td>2012-06-18 13:15:31</td>\n      <td>25200</td>\n      <td>25200</td>\n      <td>1</td>\n      <td>31</td>\n      <td>seaborn4analysis</td>\n      <td>31eda8fc053ff3aacc20e7c01570efac01c35db1</td>\n      <td>0</td>\n      <td>1</td>\n      <td>master</td>\n    </tr>\n    <tr>\n      <th>3</th>\n      <td>f39de6924a5ae1d77c013177f177ac9f48e9a72f</td>\n      <td>mwaskom@stanford.edu</td>\n      <td>Michael Waskom</td>\n      <td>mwaskom@stanford.edu</td>\n      <td>Michael Waskom</td>\n      <td>2012-06-18 13:40:57</td>\n      <td>2012-06-18 13:40:57</td>\n      <td>25200</td>\n      <td>25200</td>\n      <td>1</td>\n      <td>24</td>\n      <td>seaborn4analysis</td>\n      <td>9caebbff04919e8db78baf544d825190d3fc49d8</td>\n      <td>0</td>\n      <td>1</td>\n      <td>master</td>\n    </tr>\n    <tr>\n      <th>4</th>\n      <td>22d9c3b4e73adc2f9699a4e00141373f695b8e2e</td>\n      <td>mwaskom@stanford.edu</td>\n      <td>Michael Waskom</td>\n      <td>mwaskom@stanford.edu</td>\n      <td>Michael Waskom</td>\n      <td>2012-06-18 16:19:02</td>\n      <td>2012-06-18 16:19:02</td>\n      <td>25200</td>\n      <td>25200</td>\n      <td>1</td>\n      <td>44</td>\n      <td>seaborn4analysis</td>\n      <td>f39de6924a5ae1d77c013177f177ac9f48e9a72f</td>\n      <td>0</td>\n      <td>1</td>\n      <td>master</td>\n    </tr>\n    <tr>\n      <th>...</th>\n      <td>...</td>\n      <td>...</td>\n      <td>...</td>\n      <td>...</td>\n      <td>...</td>\n      <td>...</td>\n      <td>...</td>\n      <td>...</td>\n      <td>...</td>\n      <td>...</td>\n      <td>...</td>\n      <td>...</td>\n      <td>...</td>\n      <td>...</td>\n      <td>...</td>\n      <td>...</td>\n    </tr>\n    <tr>\n      <th>2754</th>\n      <td>adcc3fbd1e182bbf7e12a5500265f3b6a65d7af9</td>\n      <td>mwaskom@nyu.edu</td>\n      <td>Michael Waskom</td>\n      <td>mwaskom@nyu.edu</td>\n      <td>Michael Waskom</td>\n      <td>2020-01-18 18:19:29</td>\n      <td>2020-01-18 18:19:29</td>\n      <td>18000</td>\n      <td>18000</td>\n      <td>0</td>\n      <td>79</td>\n      <td>seaborn4analysis</td>\n      <td>11f9de9f6b327f70ed7e4f9f6feb3dc17f172c1c,087f0...</td>\n      <td>1</td>\n      <td>1</td>\n      <td>master</td>\n    </tr>\n    <tr>\n      <th>2755</th>\n      <td>0b7697dea9f421e65bbd2c6e8fca73fee33e4191</td>\n      <td>mwaskom@users.noreply.github.com</td>\n      <td>Michael Waskom</td>\n      <td>noreply@github.com</td>\n      <td>GitHub</td>\n      <td>2020-09-08 07:18:28</td>\n      <td>2020-09-08 07:18:28</td>\n      <td>14400</td>\n      <td>14400</td>\n      <td>81</td>\n      <td>254</td>\n      <td>seaborn4analysis</td>\n      <td>0547bb1cef8f7a1d9080ec96bb99841afb6bdeba</td>\n      <td>0</td>\n      <td>1</td>\n      <td>master</td>\n    </tr>\n    <tr>\n      <th>2756</th>\n      <td>b9d649e9af5ec722f4c7fbdb807b5768adcd8bb3</td>\n      <td>mwaskom@nyu.edu</td>\n      <td>Michael Waskom</td>\n      <td>mwaskom@nyu.edu</td>\n      <td>Michael Waskom</td>\n      <td>2020-08-17 18:02:30</td>\n      <td>2020-08-17 18:02:30</td>\n      <td>14400</td>\n      <td>14400</td>\n      <td>0</td>\n      <td>97</td>\n      <td>seaborn4analysis</td>\n      <td>c0c040cc0db547246b58bc7e73202fa2f01453e7,a40e4...</td>\n      <td>1</td>\n      <td>1</td>\n      <td>master</td>\n    </tr>\n    <tr>\n      <th>2757</th>\n      <td>0547bb1cef8f7a1d9080ec96bb99841afb6bdeba</td>\n      <td>mwaskom@users.noreply.github.com</td>\n      <td>Michael Waskom</td>\n      <td>noreply@github.com</td>\n      <td>GitHub</td>\n      <td>2020-09-07 15:59:15</td>\n      <td>2020-09-07 15:59:15</td>\n      <td>14400</td>\n      <td>14400</td>\n      <td>43</td>\n      <td>856</td>\n      <td>seaborn4analysis</td>\n      <td>89f71465c76d447cc5a22e38e4d8813cba2f84dc</td>\n      <td>0</td>\n      <td>1</td>\n      <td>master</td>\n    </tr>\n    <tr>\n      <th>2758</th>\n      <td>f123d9b9f46caea4942f392e8f8d1805c121fe01</td>\n      <td>mwaskom@users.noreply.github.com</td>\n      <td>Michael Waskom</td>\n      <td>noreply@github.com</td>\n      <td>GitHub</td>\n      <td>2020-09-04 18:36:28</td>\n      <td>2020-09-04 18:36:28</td>\n      <td>14400</td>\n      <td>14400</td>\n      <td>26</td>\n      <td>118</td>\n      <td>seaborn4analysis</td>\n      <td>eee5d3012d21440de63b66bb2b9809bd5cbfb93c</td>\n      <td>0</td>\n      <td>1</td>\n      <td>master</td>\n    </tr>\n  </tbody>\n</table>\n<p>2759 rows × 16 columns</p>\n</div>"
     },
     "metadata": {},
     "execution_count": 23
    }
   ],
   "source": [
    "data"
   ]
  },
  {
   "cell_type": "markdown",
   "metadata": {},
   "source": [
    "### Co-author networks"
   ]
  },
  {
   "cell_type": "markdown",
   "metadata": {},
   "source": [
    "Now let's visualize the result"
   ]
  },
  {
   "cell_type": "code",
   "execution_count": null,
   "metadata": {
    "collapsed": true,
    "jupyter": {
     "outputs_hidden": true
    }
   },
   "outputs": [],
   "source": [
    "t, node_info, edge_info = git2net.get_coediting_network(sqlite_db_file)\n",
    "pp.Network.from_temporal_network(t)"
   ]
  },
  {
   "cell_type": "markdown",
   "metadata": {},
   "source": [
    "which files were edited by the authors"
   ]
  },
  {
   "cell_type": "code",
   "execution_count": null,
   "metadata": {
    "collapsed": true,
    "jupyter": {
     "outputs_hidden": true
    }
   },
   "outputs": [],
   "source": [
    "t, node_info, edge_info = git2net.get_bipartite_network(sqlite_db_file)\n",
    "n = pp.Network.from_temporal_network(t)\n",
    "\n",
    "colour_map = {'author': '#73D2DE', 'file': '#2E5EAA'}\n",
    "node_color = {node: colour_map[node_info['class'][node]] for node in n.nodes}\n",
    "pp.visualisation.plot(n, node_color=node_color)"
   ]
  },
  {
   "cell_type": "markdown",
   "metadata": {},
   "source": [
    "Co-authorship network"
   ]
  },
  {
   "cell_type": "code",
   "execution_count": null,
   "metadata": {
    "collapsed": true,
    "jupyter": {
     "outputs_hidden": true
    }
   },
   "outputs": [],
   "source": [
    "n, node_info, edge_info = git2net.get_coauthorship_network(sqlite_db_file)\n",
    "n"
   ]
  },
  {
   "cell_type": "markdown",
   "metadata": {},
   "source": [
    "The network is too complex because we consider the whole timeframe of the repository since its creation. Therefore we need to filter the time dimensin, and in order to do that we nee to find the first and last commit in the repo."
   ]
  },
  {
   "cell_type": "code",
   "execution_count": null,
   "metadata": {},
   "outputs": [],
   "source": [
    "db = sqlite3.connect(sqlite_db_file)\n",
    "max_date = datetime.strptime(pd.read_sql_query(\"SELECT max(committer_date) as max FROM commits\", db)['max'].item(), '%Y-%m-%d %H:%M:%S')\n",
    "min_date = datetime.strptime(pd.read_sql_query(\"SELECT min(committer_date) as min FROM commits\", db)['min'].item(), '%Y-%m-%d %H:%M:%S')\n",
    "\n",
    "print('Min date: ', min_date)\n",
    "print('Max date: ', max_date)"
   ]
  },
  {
   "cell_type": "markdown",
   "metadata": {},
   "source": [
    "In order not to select an 'empty' time period (relatively few commits, e.g. holiday season), it's also worth observing the number of commits over time."
   ]
  },
  {
   "cell_type": "code",
   "execution_count": null,
   "metadata": {},
   "outputs": [],
   "source": [
    "pdCommits = pd.read_sql_query(\"SELECT * FROM commits\", db)\n",
    "\n",
    "days = {(min_date+timedelta(days=x)).date() : 0 for x in range((max_date-min_date).days + 1)}\n",
    "\n",
    "commit_dates = pdCommits['committer_date'].apply(lambda x: datetime.strptime(x, '%Y-%m-%d %H:%M:%S').date()).value_counts()\n",
    "\n",
    "for key in commit_dates.keys():\n",
    "    days[key] = commit_dates.get(key)\n",
    "\n",
    "keys = days.keys()\n",
    "values = days.values()\n",
    "plt.figure(figsize=(20,5))\n",
    "plt.bar(keys, values)"
   ]
  },
  {
   "cell_type": "markdown",
   "metadata": {},
   "source": [
    "Let's choose the year 2020 based on the plot, as that was the busiest year."
   ]
  },
  {
   "cell_type": "code",
   "execution_count": null,
   "metadata": {},
   "outputs": [],
   "source": [
    "time_from = datetime(2020, 1, 1)\n",
    "time_to = datetime(2020, 12, 31)\n",
    "n, node_info, edge_info = git2net.get_coauthorship_network(sqlite_db_file, time_from=time_from, time_to=time_to)\n",
    "n"
   ]
  },
  {
   "cell_type": "markdown",
   "metadata": {},
   "source": [
    "We can set the node size based on the number of degrees each author has in the network. This emphasizes who collaborate more with the others in the given timeframe."
   ]
  },
  {
   "cell_type": "code",
   "execution_count": null,
   "metadata": {
    "collapsed": true,
    "jupyter": {
     "outputs_hidden": true
    }
   },
   "outputs": [],
   "source": [
    "node_style = zip(n.nodes, n.node_properties('degree'))\n",
    "style = {}\n",
    "style['node_size'] = {v:3+u for v,u in node_style}\n",
    "pp.visualisation.plot(n, **style)"
   ]
  },
  {
   "cell_type": "markdown",
   "metadata": {},
   "source": [
    "## Bipartite networks\n",
    "Because our network changes over time, we would like to visualize each year consecutively one after the other. We can use the pathpy temporal networks for this. "
   ]
  },
  {
   "cell_type": "code",
   "execution_count": 24,
   "metadata": {},
   "outputs": [],
   "source": [
    "def collab_network(sqlite_db_file, min_date, max_date):\n",
    "    start = int(datetime.timestamp(min_date))\n",
    "    end = int(datetime.timestamp(max_date))\n",
    "    t, node_info, edge_info = git2net.get_bipartite_network(sqlite_db_file)\n",
    "    n = pp.Network.from_temporal_network(t)\n",
    "\n",
    "    \n",
    "\n",
    "    new_n = copy.deepcopy(n)\n",
    "    \n",
    "    for node in n.nodes:\n",
    "        if node_info['class'][node] == 'file':\n",
    "            new_n.remove_node(node)\n",
    "\n",
    "    for node in new_n.nodes:\n",
    "        for f in n.successors[node]:\n",
    "            for pre in n.predecessors[f]:\n",
    "                if not node == pre:\n",
    "                    new_n.add_edge(node, pre)\n",
    "\n",
    "    \n",
    "    return new_n\n"
   ]
  },
  {
   "cell_type": "code",
   "execution_count": null,
   "metadata": {},
   "outputs": [],
   "source": [
    "time_from = datetime(2013, 11, 1)\n",
    "time_to = datetime(2013, 12, 5)\n",
    "interval = timedelta(days=30)\n",
    "delta = timedelta(days=1)\n",
    "\n",
    "del t2\n",
    "t2 = pp.TemporalNetwork()\n",
    "for i in range(math.ceil((time_to - time_from - interval)/delta)):\n",
    "    start = time_from + i * delta\n",
    "    end = time_from + i * delta + interval\n",
    "    network = collab_network(sqlite_db_file, start, end)\n",
    "\n",
    "    for edge in network.edges:\n",
    "        t2.add_edge(edge[0], edge[1], i)\n",
    "\n",
    "t2\n"
   ]
  },
  {
   "cell_type": "code",
   "execution_count": null,
   "metadata": {},
   "outputs": [],
   "source": [
    "# help(pp.temporal_network)\n",
    "\n",
    "t2 = pp.TemporalNetwork()\n",
    "years = []\n",
    "\n",
    "for year in range(min_date.year, max_date.year):\n",
    "    print('Processing year: ', year)\n",
    "    n, node_info, edge_info = git2net.get_coauthorship_network(sqlite_db_file, time_from=datetime(year, 1,1), time_to=datetime(year, 12, 31))\n",
    "    years.append(n)\n",
    "    for edge in list(n.edges.keys()):\n",
    "        t2.add_edge(edge[0].replace(' ','_'),edge[1].replace(' ','_'),year)\n",
    "\n",
    "# t2 = t.filter_edges(lambda v, w, time: True if (time_from <= time <= time_to) else False)"
   ]
  },
  {
   "cell_type": "code",
   "execution_count": null,
   "metadata": {},
   "outputs": [],
   "source": [
    "style = {    \n",
    "  'ts_per_frame': 1, \n",
    "  'ms_per_frame': 2000,\n",
    "  'look_ahead': 0, \n",
    "  'look_behind': 0, \n",
    "  'node_size': 15, \n",
    "  'inactive_edge_width': 2,\n",
    "  'active_edge_width': 4, \n",
    "  'label_color' : '#000000',\n",
    "  'label_size' : '8px',\n",
    "  'label_offset': [0,5]\n",
    "  }\n",
    "print(t2)\n",
    "pp.visualisation.plot(t2, **style, width=1000, height=1000)"
   ]
  }
 ],
 "metadata": {
  "kernelspec": {
   "display_name": "Python 3",
   "language": "python",
   "name": "python3"
  },
  "language_info": {
   "codemirror_mode": {
    "name": "ipython",
    "version": 3
   },
   "file_extension": ".py",
   "mimetype": "text/x-python",
   "name": "python",
   "nbconvert_exporter": "python",
   "pygments_lexer": "ipython3",
   "version": "3.6.5-final"
  }
 },
 "nbformat": 4,
 "nbformat_minor": 4
}