{
 "cells": [
  {
   "cell_type": "code",
   "execution_count": null,
   "id": "motivated-centre",
   "metadata": {
    "scrolled": true
   },
   "outputs": [
    {
     "name": "stdout",
     "output_type": "stream",
     "text": [
      "\n",
      "\n",
      "Mining repository 1 / 88\n",
      "Current repository: nccgroup/scoutsuite\n",
      "\n",
      "\n",
      "\n",
      "Mining repository 2 / 88\n",
      "Current repository: lavaio/lava\n",
      "\n",
      "\n",
      "\n",
      "Mining repository 3 / 88\n",
      "Current repository: restcomm/sip-servlets\n",
      "\n",
      "\n",
      "\n",
      "Mining repository 4 / 88\n",
      "Current repository: corretto/corretto-11\n",
      "\n",
      "\n",
      "\n",
      "Mining repository 5 / 88\n",
      "Current repository: kiwix/kiwix-android\n",
      "\n",
      "\n",
      "\n",
      "Mining repository 6 / 88\n",
      "Current repository: dbeaver/dbeaver\n",
      "\n",
      "\n",
      "\n",
      "Mining repository 7 / 88\n",
      "Current repository: ember-cli/ember-cli\n",
      "\n",
      "\n",
      "\n",
      "Mining repository 8 / 88\n",
      "Current repository: ksp-ro/realismoverhaul\n",
      "\n",
      "\n",
      "\n",
      "Mining repository 9 / 88\n",
      "Current repository: astropy/halotools\n",
      "\n",
      "\n",
      "\n",
      "Mining repository 10 / 88\n",
      "Current repository: betaflight/betaflight-configurator\n",
      "\n",
      "\n",
      "\n",
      "Mining repository 11 / 88\n",
      "Current repository: spotbugs/spotbugs\n",
      "\n",
      "\n",
      "\n",
      "Mining repository 12 / 88\n",
      "Current repository: scipp/scipp\n",
      "\n",
      "\n",
      "\n",
      "Mining repository 13 / 88\n",
      "Current repository: nunit/nunit\n",
      "\n",
      "\n",
      "\n",
      "Mining repository 14 / 88\n",
      "Current repository: nfs-ganesha/nfs-ganesha\n",
      "\n",
      "\n",
      "\n",
      "Mining repository 15 / 88\n",
      "Current repository: megaglest/megaglest-source\n",
      "\n",
      "\n",
      "\n",
      "Mining repository 16 / 88\n",
      "Current repository: fioprotocol/fio\n",
      "\n",
      "\n",
      "\n",
      "Mining repository 17 / 88\n",
      "Current repository: geonetwork/core-geonetwork\n",
      "\n",
      "\n",
      "\n",
      "Mining repository 18 / 88\n",
      "Current repository: ibm/carbon-components-angular\n",
      "\n",
      "\n",
      "\n",
      "Mining repository 19 / 88\n",
      "Current repository: mvvmcross/mvvmcross\n",
      "\n",
      "\n",
      "\n",
      "Mining repository 20 / 88\n",
      "Current repository: simpeg/simpeg\n",
      "\n",
      "\n",
      "\n",
      "Mining repository 21 / 88\n",
      "Current repository: digitalgreenorg/dg\n",
      "\n",
      "\n",
      "\n",
      "Mining repository 22 / 88\n",
      "Current repository: ansible/awx\n",
      "\n",
      "\n",
      "\n",
      "Mining repository 23 / 88\n",
      "Current repository: real-logic/aeron\n",
      "\n",
      "\n",
      "\n",
      "Mining repository 24 / 88\n",
      "Current repository: gmod/jbrowse\n",
      "\n",
      "\n",
      "\n",
      "Mining repository 25 / 88\n",
      "Current repository: swaywm/sway\n",
      "\n",
      "\n",
      "\n",
      "Mining repository 26 / 88\n",
      "Current repository: stack-of-tasks/pinocchio\n",
      "\n",
      "\n",
      "\n",
      "Mining repository 27 / 88\n",
      "Current repository: geli-lms/geli\n",
      "\n",
      "\n",
      "\n",
      "Mining repository 28 / 88\n",
      "Current repository: dgcdev/digitalcoin\n",
      "\n",
      "\n",
      "\n",
      "Mining repository 29 / 88\n",
      "Current repository: spyder-ide/spyder\n",
      "\n",
      "\n",
      "\n",
      "Mining repository 30 / 88\n",
      "Current repository: apinf/platform\n",
      "\n",
      "\n",
      "\n",
      "Mining repository 31 / 88\n",
      "Current repository: myhush/hush\n",
      "\n",
      "\n",
      "\n",
      "Mining repository 32 / 88\n",
      "Current repository: theano/theano\n",
      "\n",
      "\n",
      "\n",
      "Mining repository 33 / 88\n",
      "Current repository: spongepowered/spongecommon\n",
      "\n",
      "\n",
      "\n",
      "Mining repository 34 / 88\n",
      "Current repository: zephyrproject-rtos/zephyr\n",
      "\n",
      "\n",
      "\n",
      "Mining repository 35 / 88\n",
      "Current repository: ptmt/react-native-macos\n",
      "\n",
      "\n",
      "\n",
      "Mining repository 36 / 88\n",
      "Current repository: microsoft/cntk\n",
      "\n",
      "\n",
      "\n",
      "Mining repository 37 / 88\n",
      "Current repository: liveblog/liveblog\n",
      "\n",
      "\n",
      "\n",
      "Mining repository 38 / 88\n",
      "Current repository: taskcluster/taskcluster\n",
      "\n",
      "\n",
      "\n",
      "Mining repository 39 / 88\n",
      "Current repository: dita-ot/dita-ot\n",
      "\n",
      "\n",
      "\n",
      "Mining repository 40 / 88\n",
      "Current repository: vuetifyjs/vuetify\n",
      "\n",
      "\n",
      "\n",
      "Mining repository 41 / 88\n",
      "Current repository: flowminder/flowkit\n",
      "\n",
      "\n",
      "\n",
      "Mining repository 42 / 88\n",
      "Current repository: project-osrm/osrm-backend\n",
      "\n",
      "\n",
      "\n",
      "Mining repository 43 / 88\n",
      "Current repository: spongepowered/sponge\n",
      "\n",
      "\n",
      "\n",
      "Mining repository 44 / 88\n",
      "Current repository: unvanquished/unvanquished\n",
      "\n",
      "\n",
      "\n",
      "Mining repository 45 / 88\n",
      "Current repository: linq2db/linq2db\n",
      "\n",
      "\n",
      "\n",
      "Mining repository 46 / 88\n",
      "Current repository: canjs/canjs\n",
      "\n",
      "\n",
      "\n",
      "Mining repository 47 / 88\n",
      "Current repository: visit-dav/visit\n",
      "\n",
      "\n",
      "\n",
      "Mining repository 48 / 88\n",
      "Current repository: nukeykt/nblood\n",
      "\n",
      "\n",
      "\n",
      "Mining repository 49 / 88\n",
      "Current repository: souffle-lang/souffle\n",
      "\n",
      "\n",
      "\n",
      "Mining repository 50 / 88\n",
      "Current repository: bitzenycoredevelopers/bitzeny\n",
      "\n",
      "\n",
      "\n",
      "Mining repository 51 / 88\n",
      "Current repository: dhis2/dhis2-android-capture-app\n",
      "\n",
      "\n",
      "\n",
      "Mining repository 52 / 88\n",
      "Current repository: photonstorm/phaser\n",
      "\n",
      "\n",
      "\n",
      "Mining repository 53 / 88\n",
      "Current repository: nuget/nugetgallery\n",
      "\n",
      "\n",
      "\n",
      "Mining repository 54 / 88\n",
      "Current repository: frappe/erpnext\n",
      "\n",
      "\n",
      "\n",
      "Mining repository 55 / 88\n",
      "Current repository: zilliqa/zilliqa\n",
      "\n",
      "\n",
      "\n",
      "Mining repository 56 / 88\n",
      "Current repository: iov-one/iov-core\n",
      "\n",
      "\n",
      "\n",
      "Mining repository 57 / 88\n",
      "Current repository: open62541/open62541\n",
      "\n",
      "\n",
      "\n",
      "Mining repository 58 / 88\n",
      "Current repository: mavlink/qgroundcontrol\n",
      "\n",
      "\n",
      "\n",
      "Mining repository 59 / 88\n",
      "Current repository: rptools/maptool\n",
      "\n",
      "\n",
      "\n",
      "Mining repository 60 / 88\n",
      "Current repository: openbazaar/openbazaar-desktop\n",
      "\n",
      "\n",
      "\n",
      "Mining repository 61 / 88\n",
      "Current repository: endless-sky/endless-sky\n",
      "\n",
      "\n",
      "\n",
      "Mining repository 62 / 88\n",
      "Current repository: globalarrays/ga\n",
      "\n",
      "\n",
      "\n",
      "Mining repository 63 / 88\n",
      "Current repository: telefonicaid/fiware-orion\n",
      "\n",
      "\n",
      "\n",
      "Mining repository 64 / 88\n",
      "Current repository: linuxdeepin/dde-control-center\n",
      "\n",
      "\n",
      "\n",
      "Mining repository 65 / 88\n",
      "Current repository: reportportal/service-ui\n",
      "\n",
      "\n",
      "\n",
      "Mining repository 66 / 88\n",
      "Current repository: boost-ext/di\n",
      "\n",
      "\n",
      "\n",
      "Mining repository 67 / 88\n",
      "Current repository: tropy/tropy\n",
      "\n",
      "\n",
      "\n",
      "Mining repository 68 / 88\n",
      "Current repository: wazuh/wazuh-kibana-app\n",
      "\n",
      "\n",
      "\n",
      "Mining repository 69 / 88\n",
      "Current repository: openzfs/zfs\n",
      "\n",
      "\n",
      "\n",
      "Mining repository 70 / 88\n",
      "Current repository: twbs/bootstrap\n",
      "\n",
      "\n",
      "\n",
      "Mining repository 71 / 88\n",
      "Current repository: secdev/scapy\n",
      "\n",
      "\n",
      "\n",
      "Mining repository 72 / 88\n",
      "Current repository: pmeal/openpnm\n",
      "\n",
      "\n",
      "\n",
      "Mining repository 73 / 88\n",
      "Current repository: aria2/aria2\n",
      "\n",
      "\n",
      "\n",
      "Mining repository 74 / 88\n",
      "Current repository: zeebe-io/zeebe\n",
      "\n",
      "\n",
      "\n",
      "Mining repository 75 / 88\n",
      "Current repository: liqd/adhocracy3\n",
      "\n",
      "\n",
      "\n",
      "Mining repository 76 / 88\n",
      "Current repository: tryghost/ghost\n",
      "\n",
      "\n",
      "\n",
      "Mining repository 77 / 88\n",
      "Current repository: ultimaker/cura\n",
      "\n",
      "\n",
      "\n",
      "Mining repository 78 / 88\n",
      "Current repository: augurproject/augur-ui\n",
      "\n",
      "\n",
      "\n",
      "Mining repository 79 / 88\n",
      "Current repository: pculture/miro\n",
      "\n",
      "\n",
      "\n",
      "Mining repository 80 / 88\n",
      "Current repository: jhipster/generator-jhipster\n",
      "\n",
      "\n",
      "\n",
      "Mining repository 81 / 88\n",
      "Current repository: ledgerhq/ledger-live-desktop\n",
      "\n",
      "\n",
      "\n",
      "Mining repository 82 / 88\n",
      "Current repository: sefaria/sefaria-project\n",
      "\n",
      "\n",
      "\n",
      "Mining repository 83 / 88\n",
      "Current repository: livelykernel/livelykernel\n",
      "\n",
      "\n",
      "\n",
      "Mining repository 84 / 88\n",
      "Current repository: handsontable/handsontable\n",
      "\n",
      "\n",
      "\n",
      "Mining repository 85 / 88\n",
      "Current repository: imageengine/cortex\n",
      "\n",
      "Phase 1: Cloning repository...\n",
      "Done.\n",
      "\n",
      "Phase 2: Mining repository...\n",
      "\n",
      "Found no database on provided path. Starting from scratch.\n"
     ]
    },
    {
     "name": "stderr",
     "output_type": "stream",
     "text": [
      "Parallel (12 processes):   0%|          | 1/8740 [00:00<1:21:36,  1.78it/s]"
     ]
    },
    {
     "name": "stdout",
     "output_type": "stream",
     "text": [
      "Commit exceeding max_modifications:  7e4f0927427f27d0f344a689d8442528e6eae8db\n"
     ]
    },
    {
     "name": "stderr",
     "output_type": "stream",
     "text": [
      "Parallel (12 processes):   0%|          | 12/8740 [00:07<1:35:03,  1.53it/s]"
     ]
    },
    {
     "name": "stdout",
     "output_type": "stream",
     "text": [
      "Commit exceeding max_modifications:  b0da73e74cadc41bd6e58bb3d80461a32831063f\n"
     ]
    },
    {
     "name": "stderr",
     "output_type": "stream",
     "text": [
      "\r",
      "Parallel (12 processes):   0%|          | 13/8740 [00:08<1:47:54,  1.35it/s]"
     ]
    },
    {
     "name": "stdout",
     "output_type": "stream",
     "text": [
      "Commit exceeding max_modifications:  a5948c7e4e87a5a2356613a7642cb6c6c2afb486\n"
     ]
    },
    {
     "name": "stderr",
     "output_type": "stream",
     "text": [
      "Parallel (12 processes):   0%|          | 24/8740 [00:15<1:21:16,  1.79it/s]"
     ]
    },
    {
     "name": "stdout",
     "output_type": "stream",
     "text": [
      "Commit exceeding max_modifications:  00d41ac358819f61f4b282949e46dc7e092f4d83\n"
     ]
    },
    {
     "name": "stderr",
     "output_type": "stream",
     "text": [
      "Parallel (12 processes):   0%|          | 30/8740 [00:17<1:06:42,  2.18it/s]"
     ]
    },
    {
     "name": "stdout",
     "output_type": "stream",
     "text": [
      "Commit exceeding max_modifications:  437002a759e79764d25059885b509e6c01a4f5b7\n"
     ]
    },
    {
     "name": "stderr",
     "output_type": "stream",
     "text": [
      "Parallel (12 processes):   0%|          | 33/8740 [00:20<1:46:15,  1.37it/s]"
     ]
    },
    {
     "name": "stdout",
     "output_type": "stream",
     "text": [
      "Commit exceeding max_modifications:  0adbaf6ee6f27d7cead52debe00fb9c5a2b0a7f1\n"
     ]
    },
    {
     "name": "stderr",
     "output_type": "stream",
     "text": [
      "Parallel (12 processes):   1%|▏         | 115/8740 [01:20<1:06:54,  2.15it/s]"
     ]
    },
    {
     "name": "stdout",
     "output_type": "stream",
     "text": [
      "Commit exceeding max_modifications:  68241ff28bae41cfb4f8bbf06a25352337d77b69\n"
     ]
    },
    {
     "name": "stderr",
     "output_type": "stream",
     "text": [
      "Parallel (12 processes):   2%|▏         | 208/8740 [02:28<46:08,  3.08it/s]  "
     ]
    },
    {
     "name": "stdout",
     "output_type": "stream",
     "text": [
      "Commit exceeding max_modifications:  622d41ed09956ef320232546c405efe8c1fdb8cb\n"
     ]
    },
    {
     "name": "stderr",
     "output_type": "stream",
     "text": [
      "Parallel (12 processes):   3%|▎         | 237/8740 [02:39<1:05:26,  2.17it/s]"
     ]
    },
    {
     "name": "stdout",
     "output_type": "stream",
     "text": [
      "Commit exceeding max_modifications:  33444c1c8f1336d2e81e267f1d22318447ebe7dd\n"
     ]
    },
    {
     "name": "stderr",
     "output_type": "stream",
     "text": [
      "\r",
      "Parallel (12 processes):   3%|▎         | 238/8740 [02:40<1:32:33,  1.53it/s]"
     ]
    },
    {
     "name": "stdout",
     "output_type": "stream",
     "text": [
      "Commit exceeding max_modifications:  4d157bf59ca76f6f3452144aa153460b8c49d302\n"
     ]
    },
    {
     "name": "stderr",
     "output_type": "stream",
     "text": [
      "Parallel (12 processes):   3%|▎         | 251/8740 [02:50<2:23:51,  1.02s/it]"
     ]
    },
    {
     "name": "stdout",
     "output_type": "stream",
     "text": [
      "Commit exceeding max_modifications:  4eec46472896b43622924de51fba8f296985ff20\n"
     ]
    },
    {
     "name": "stderr",
     "output_type": "stream",
     "text": [
      "Parallel (12 processes):   3%|▎         | 300/8740 [03:14<42:46,  3.29it/s]  "
     ]
    },
    {
     "name": "stdout",
     "output_type": "stream",
     "text": [
      "Commit exceeding max_modifications:  95dac023adac9fae7357a7180e7589da865fa559\n"
     ]
    },
    {
     "name": "stderr",
     "output_type": "stream",
     "text": [
      "Parallel (12 processes):   4%|▎         | 308/8740 [03:18<1:08:35,  2.05it/s]"
     ]
    },
    {
     "name": "stdout",
     "output_type": "stream",
     "text": [
      "Commit exceeding max_modifications:  d2bc58351d04857a837003ca68148e5291df98f0\n"
     ]
    },
    {
     "name": "stderr",
     "output_type": "stream",
     "text": [
      "Parallel (12 processes):   4%|▎         | 311/8740 [03:19<1:12:44,  1.93it/s]"
     ]
    },
    {
     "name": "stdout",
     "output_type": "stream",
     "text": [
      "Commit exceeding max_modifications:  7585e9910b2187a163fe7fdc26498e8a29709cee\n"
     ]
    },
    {
     "name": "stderr",
     "output_type": "stream",
     "text": [
      "Parallel (12 processes):   4%|▎         | 313/8740 [03:20<1:08:29,  2.05it/s]"
     ]
    },
    {
     "name": "stdout",
     "output_type": "stream",
     "text": [
      "Commit exceeding max_modifications:  3823b7df9a457dd399911a76affac244acf1e32d\n"
     ]
    },
    {
     "name": "stderr",
     "output_type": "stream",
     "text": [
      "Parallel (12 processes):   4%|▍         | 345/8740 [03:37<1:28:30,  1.58it/s]"
     ]
    },
    {
     "name": "stdout",
     "output_type": "stream",
     "text": [
      "Commit exceeding max_modifications:  3c01cf57c3be7a0c652f3e9929f401e2725dcac5\n"
     ]
    },
    {
     "name": "stderr",
     "output_type": "stream",
     "text": [
      "Parallel (12 processes):   5%|▍         | 398/8740 [04:06<52:14,  2.66it/s]  "
     ]
    },
    {
     "name": "stdout",
     "output_type": "stream",
     "text": [
      "Commit exceeding max_modifications:  dbcb3aeb3bd23318d6bc8e2fa76e31aebdb84ec5\n"
     ]
    },
    {
     "name": "stderr",
     "output_type": "stream",
     "text": [
      "Parallel (12 processes):   5%|▍         | 403/8740 [04:09<1:22:56,  1.68it/s]"
     ]
    },
    {
     "name": "stdout",
     "output_type": "stream",
     "text": [
      "Commit exceeding max_modifications:  4b08d85f6483721ed19d1fd583654a127c7819f3\n"
     ]
    },
    {
     "name": "stderr",
     "output_type": "stream",
     "text": [
      "Parallel (12 processes):   5%|▍         | 411/8740 [04:26<4:42:55,  2.04s/it]"
     ]
    },
    {
     "name": "stdout",
     "output_type": "stream",
     "text": [
      "Commit exceeding max_modifications:  34be1866c8b1829b5996101258d65f2c86f38b5a\n"
     ]
    },
    {
     "name": "stderr",
     "output_type": "stream",
     "text": [
      "Parallel (12 processes):   5%|▍         | 413/8740 [04:31<5:20:30,  2.31s/it]"
     ]
    },
    {
     "name": "stdout",
     "output_type": "stream",
     "text": [
      "Commit exceeding max_modifications:  f27e5c57985f2aa4111fc0c5b850d9f7bfbb926e\n"
     ]
    },
    {
     "name": "stderr",
     "output_type": "stream",
     "text": [
      "Parallel (12 processes):   5%|▍         | 422/8740 [04:45<2:36:26,  1.13s/it]"
     ]
    },
    {
     "name": "stdout",
     "output_type": "stream",
     "text": [
      "Commit exceeding max_modifications:  612d5146dc19ee3629920840e7f402b0727311d2\n"
     ]
    },
    {
     "name": "stderr",
     "output_type": "stream",
     "text": [
      "Parallel (12 processes):   5%|▌         | 453/8740 [05:05<1:08:51,  2.01it/s]"
     ]
    },
    {
     "name": "stdout",
     "output_type": "stream",
     "text": [
      "Commit exceeding max_modifications:  f217d6dd17bfa84011f332e5525d10b68b921772\n"
     ]
    },
    {
     "name": "stderr",
     "output_type": "stream",
     "text": [
      "Parallel (12 processes):   5%|▌         | 461/8740 [05:10<1:15:39,  1.82it/s]"
     ]
    },
    {
     "name": "stdout",
     "output_type": "stream",
     "text": [
      "Commit exceeding max_modifications:  d984e39521968dd5e687193fb049d79f1042b9f4\n"
     ]
    },
    {
     "name": "stderr",
     "output_type": "stream",
     "text": [
      "Parallel (12 processes):   6%|▌         | 511/8740 [05:47<2:12:47,  1.03it/s]"
     ]
    },
    {
     "name": "stdout",
     "output_type": "stream",
     "text": [
      "Commit exceeding max_modifications:  2de9de585f883312a421777457a9975c6906347b\n"
     ]
    },
    {
     "name": "stderr",
     "output_type": "stream",
     "text": [
      "Parallel (12 processes):   6%|▌         | 516/8740 [05:49<1:00:45,  2.26it/s]"
     ]
    },
    {
     "name": "stdout",
     "output_type": "stream",
     "text": [
      "Commit exceeding max_modifications:  12d706f5f3a89ac1da715d46e39e872343fc581c"
     ]
    },
    {
     "name": "stderr",
     "output_type": "stream",
     "text": [
      "\r",
      "Parallel (12 processes):   6%|▌         | 517/8740 [05:50<1:13:10,  1.87it/s]"
     ]
    },
    {
     "name": "stdout",
     "output_type": "stream",
     "text": [
      "\n"
     ]
    },
    {
     "name": "stderr",
     "output_type": "stream",
     "text": [
      "Parallel (12 processes):  10%|█         | 881/8740 [09:18<1:04:53,  2.02it/s]"
     ]
    },
    {
     "name": "stdout",
     "output_type": "stream",
     "text": [
      "Commit exceeding max_modifications:  b79d7e817187600f86bba48a5860a7f486dfefdf\n"
     ]
    },
    {
     "name": "stderr",
     "output_type": "stream",
     "text": [
      "Parallel (12 processes):  10%|█         | 897/8740 [09:25<1:15:12,  1.74it/s]"
     ]
    },
    {
     "name": "stdout",
     "output_type": "stream",
     "text": [
      "Commit exceeding max_modifications:  dde831b51c95002db3424d4086a4702522a8e45e\n"
     ]
    },
    {
     "name": "stderr",
     "output_type": "stream",
     "text": [
      "Parallel (12 processes):  10%|█         | 902/8740 [09:27<45:59,  2.84it/s]  "
     ]
    },
    {
     "name": "stdout",
     "output_type": "stream",
     "text": [
      "Commit exceeding max_modifications:  5b76d421b2f91594c2a0d1da2ed2d9e6035c2fb8\n"
     ]
    },
    {
     "name": "stderr",
     "output_type": "stream",
     "text": [
      "\r",
      "Parallel (12 processes):  10%|█         | 903/8740 [09:27<52:07,  2.51it/s]"
     ]
    },
    {
     "name": "stdout",
     "output_type": "stream",
     "text": [
      "Commit exceeding max_modifications:  5c6587096126a27c2de5d58cfb4867da39046103\n"
     ]
    },
    {
     "name": "stderr",
     "output_type": "stream",
     "text": [
      "Parallel (12 processes):  10%|█         | 907/8740 [09:30<1:09:19,  1.88it/s]"
     ]
    },
    {
     "name": "stdout",
     "output_type": "stream",
     "text": [
      "Commit exceeding max_modifications:  7935ccd25f6ab4b69c5a13b7914a52d215a37227\n"
     ]
    },
    {
     "name": "stderr",
     "output_type": "stream",
     "text": [
      "Parallel (12 processes):  11%|█         | 971/8740 [09:57<2:07:42,  1.01it/s]"
     ]
    },
    {
     "name": "stdout",
     "output_type": "stream",
     "text": [
      "Commit exceeding max_modifications:  bf76059f80aa53e7ea71aff39f67d6ca83a31a8b\n",
      "Commit exceeding max_modifications:  81b8072992bf5a9db8e4b254f89e55b27f926a9f\n",
      "Commit exceeding max_modifications:  d90ff5a04bf5bafe89819eb5c2cc4952ee102274\n",
      "Commit exceeding max_modifications:  21597debf84bdc6d9dbc894218d28da02e0d6e88\n",
      "Commit exceeding max_modifications:  3878a251c365260246a949347123eb3278b4a02a\n"
     ]
    },
    {
     "name": "stderr",
     "output_type": "stream",
     "text": [
      "Parallel (12 processes):  11%|█         | 973/8740 [10:02<3:56:21,  1.83s/it]"
     ]
    },
    {
     "name": "stdout",
     "output_type": "stream",
     "text": [
      "Commit exceeding max_modifications:  d44a6a23c4f33c63f0a10fda7b9fac1b4b447cab\n"
     ]
    },
    {
     "name": "stderr",
     "output_type": "stream",
     "text": [
      "Parallel (12 processes):  15%|█▍        | 1293/8740 [11:36<18:43,  6.63it/s]  "
     ]
    },
    {
     "name": "stdout",
     "output_type": "stream",
     "text": [
      "Commit exceeding max_modifications:  b5d007288ebfae51c920c5259519080cd0d035f0\n"
     ]
    },
    {
     "name": "stderr",
     "output_type": "stream",
     "text": [
      "Parallel (12 processes):  15%|█▍        | 1299/8740 [11:37<19:31,  6.35it/s]"
     ]
    },
    {
     "name": "stdout",
     "output_type": "stream",
     "text": [
      "Commit exceeding max_modifications:  b20561f33cb2f5422527125d8cc8e809d4473b2f\n"
     ]
    },
    {
     "name": "stderr",
     "output_type": "stream",
     "text": [
      "Parallel (12 processes):  15%|█▌        | 1326/8740 [11:42<22:22,  5.52it/s]"
     ]
    },
    {
     "name": "stdout",
     "output_type": "stream",
     "text": [
      "Commit exceeding max_modifications:  8b768c0d0d2390c0ec52cde95f1791e5223cd058\n"
     ]
    },
    {
     "name": "stderr",
     "output_type": "stream",
     "text": [
      "Parallel (12 processes):  15%|█▌        | 1333/8740 [11:43<19:53,  6.21it/s]"
     ]
    },
    {
     "name": "stdout",
     "output_type": "stream",
     "text": [
      "Commit exceeding max_modifications:  b85771b8f8989058973ff30848843329d60b734a\n"
     ]
    },
    {
     "name": "stderr",
     "output_type": "stream",
     "text": [
      "Parallel (12 processes):  18%|█▊        | 1546/8740 [12:21<20:43,  5.79it/s]"
     ]
    },
    {
     "name": "stdout",
     "output_type": "stream",
     "text": [
      "Commit exceeding max_modifications:  653e083e8526747daaeae6881a9a3e539525a6c7\n"
     ]
    },
    {
     "name": "stderr",
     "output_type": "stream",
     "text": [
      "Parallel (12 processes):  18%|█▊        | 1557/8740 [12:24<25:44,  4.65it/s]"
     ]
    },
    {
     "name": "stdout",
     "output_type": "stream",
     "text": [
      "Commit exceeding max_modifications:  a2dd11db3a4ff2211ae0fd3030c313f69f12529b\n"
     ]
    },
    {
     "name": "stderr",
     "output_type": "stream",
     "text": [
      "Parallel (12 processes):  18%|█▊        | 1596/8740 [12:31<22:46,  5.23it/s]"
     ]
    },
    {
     "name": "stdout",
     "output_type": "stream",
     "text": [
      "Commit exceeding max_modifications:  25156ff6b8676c1de803fe39843a530cc693efd5\n"
     ]
    },
    {
     "name": "stderr",
     "output_type": "stream",
     "text": [
      "Parallel (12 processes):  18%|█▊        | 1605/8740 [12:33<34:05,  3.49it/s]"
     ]
    },
    {
     "name": "stdout",
     "output_type": "stream",
     "text": [
      "Commit exceeding max_modifications:  c22fe79a87757cca4696ccfb9b8138ff0a58146c\n",
      "Commit exceeding max_modifications:  07cf907220ce6881210c0d0c2a9d7a40b0316f59\n"
     ]
    },
    {
     "name": "stderr",
     "output_type": "stream",
     "text": [
      "Parallel (12 processes):  18%|█▊        | 1608/8740 [12:34<30:03,  3.95it/s]"
     ]
    },
    {
     "name": "stdout",
     "output_type": "stream",
     "text": [
      "Commit exceeding max_modifications:  668bf742db7cd8e3b786773890d76adf407c59ba\n",
      "Commit exceeding max_modifications:  9f54b6148cae032e3515d36ed923327abdf67f04\n"
     ]
    },
    {
     "name": "stderr",
     "output_type": "stream",
     "text": [
      "Parallel (12 processes):  18%|█▊        | 1612/8740 [12:34<20:45,  5.73it/s]"
     ]
    },
    {
     "name": "stdout",
     "output_type": "stream",
     "text": [
      "Commit exceeding max_modifications:  514722d2202d565eed13a549849ae587b25b393c\n"
     ]
    },
    {
     "name": "stderr",
     "output_type": "stream",
     "text": [
      "Parallel (12 processes):  18%|█▊        | 1614/8740 [12:35<20:41,  5.74it/s]"
     ]
    },
    {
     "name": "stdout",
     "output_type": "stream",
     "text": [
      "Commit exceeding max_modifications:  27ae54f7b74be85b519d002eff38ac99d7b18eaf\n",
      "Commit exceeding max_modifications:  "
     ]
    },
    {
     "name": "stderr",
     "output_type": "stream",
     "text": [
      "\r",
      "Parallel (12 processes):  18%|█▊        | 1616/8740 [12:35<17:06,  6.94it/s]"
     ]
    },
    {
     "name": "stdout",
     "output_type": "stream",
     "text": [
      "bf8618ac67e91eff4c24542233ad8dd63007194e\n",
      "Commit exceeding max_modifications:  aea2af9715faf615ae814bdcf6142becefe726af\n"
     ]
    },
    {
     "name": "stderr",
     "output_type": "stream",
     "text": [
      "Parallel (12 processes):  19%|█▉        | 1683/8740 [12:47<20:36,  5.71it/s]"
     ]
    },
    {
     "name": "stdout",
     "output_type": "stream",
     "text": [
      "Commit exceeding max_modifications:  33dfb4f122d1f1a5e130dddcd93b1ff707a54c1e\n"
     ]
    },
    {
     "name": "stderr",
     "output_type": "stream",
     "text": [
      "Parallel (12 processes):  21%|██        | 1818/8740 [13:08<11:19, 10.19it/s]"
     ]
    },
    {
     "name": "stdout",
     "output_type": "stream",
     "text": [
      "Commit exceeding max_modifications:  a3748311b270dd69efff52a3758c38593406eea9\n"
     ]
    },
    {
     "name": "stderr",
     "output_type": "stream",
     "text": [
      "Parallel (12 processes):  21%|██        | 1822/8740 [13:08<10:51, 10.62it/s]"
     ]
    },
    {
     "name": "stdout",
     "output_type": "stream",
     "text": [
      "Commit exceeding max_modifications:  5bf9f6ee4382936ebe23f9b5c5934489fa674745\n"
     ]
    },
    {
     "name": "stderr",
     "output_type": "stream",
     "text": [
      "Parallel (12 processes):  21%|██        | 1830/8740 [13:09<12:27,  9.24it/s]"
     ]
    },
    {
     "name": "stdout",
     "output_type": "stream",
     "text": [
      "Commit exceeding max_modifications:  f58c7361996e14a02dec81990775cf2070eb23c0\n"
     ]
    },
    {
     "name": "stderr",
     "output_type": "stream",
     "text": [
      "Parallel (12 processes):  21%|██        | 1832/8740 [13:09<12:29,  9.22it/s]"
     ]
    },
    {
     "name": "stdout",
     "output_type": "stream",
     "text": [
      "Commit exceeding max_modifications:  f897f27fff5f196dec9d8439d85e6d912aa1426b\n"
     ]
    },
    {
     "name": "stderr",
     "output_type": "stream",
     "text": [
      "Parallel (12 processes):  21%|██        | 1852/8740 [13:12<20:55,  5.49it/s]"
     ]
    },
    {
     "name": "stdout",
     "output_type": "stream",
     "text": [
      "Commit exceeding max_modifications:  ec19fe3aa56316f6a4599a5a0fd9773ad773c30c\n"
     ]
    },
    {
     "name": "stderr",
     "output_type": "stream",
     "text": [
      "\r",
      "Parallel (12 processes):  21%|██        | 1853/8740 [13:13<26:13,  4.38it/s]"
     ]
    },
    {
     "name": "stdout",
     "output_type": "stream",
     "text": [
      "Commit exceeding max_modifications:  b2eba4c04917b8c305b6a69c3c98c5db5d9ab9eb\n"
     ]
    },
    {
     "name": "stderr",
     "output_type": "stream",
     "text": [
      "Parallel (12 processes):  22%|██▏       | 1885/8740 [13:19<22:21,  5.11it/s]"
     ]
    },
    {
     "name": "stdout",
     "output_type": "stream",
     "text": [
      "Commit exceeding max_modifications:  6b1bc6180a3f3e0cef98431592475d197feb7990\n"
     ]
    },
    {
     "name": "stderr",
     "output_type": "stream",
     "text": [
      "Parallel (12 processes):  22%|██▏       | 1900/8740 [13:21<16:46,  6.80it/s]"
     ]
    },
    {
     "name": "stdout",
     "output_type": "stream",
     "text": [
      "Commit exceeding max_modifications:  df0837c1dfd53616ffc176f6f52db6b1b625dabc\n"
     ]
    },
    {
     "name": "stderr",
     "output_type": "stream",
     "text": [
      "Parallel (12 processes):  22%|██▏       | 1917/8740 [13:24<19:02,  5.97it/s]"
     ]
    },
    {
     "name": "stdout",
     "output_type": "stream",
     "text": [
      "Commit exceeding max_modifications:  "
     ]
    },
    {
     "name": "stderr",
     "output_type": "stream",
     "text": [
      "\r",
      "Parallel (12 processes):  22%|██▏       | 1918/8740 [13:24<18:53,  6.02it/s]"
     ]
    },
    {
     "name": "stdout",
     "output_type": "stream",
     "text": [
      "a749a25ef6d2ddb1badff651d1c182780073b71e\n"
     ]
    },
    {
     "name": "stderr",
     "output_type": "stream",
     "text": [
      "Parallel (12 processes):  23%|██▎       | 1974/8740 [13:35<26:42,  4.22it/s]"
     ]
    },
    {
     "name": "stdout",
     "output_type": "stream",
     "text": [
      "Commit exceeding max_modifications:  9beba027c546b1d3d7cf30ba42b46522c8f6f086\n"
     ]
    },
    {
     "name": "stderr",
     "output_type": "stream",
     "text": [
      "Parallel (12 processes):  23%|██▎       | 1994/8740 [13:40<27:10,  4.14it/s]"
     ]
    },
    {
     "name": "stdout",
     "output_type": "stream",
     "text": [
      "Commit exceeding max_modifications:  a5bb1631ceefb200eae334dccff783e1edd4c9ee\n",
      "Commit exceeding max_modifications:  a789f965aa6b6da0b93dc53ed03bbc51dc568f12\n"
     ]
    },
    {
     "name": "stderr",
     "output_type": "stream",
     "text": [
      "\r",
      "Parallel (12 processes):  23%|██▎       | 1995/8740 [13:41<37:03,  3.03it/s]"
     ]
    },
    {
     "name": "stdout",
     "output_type": "stream",
     "text": [
      "Commit exceeding max_modifications:  b0c754d308fe9158ecd5cd57fbc4dda3590a3a7c\n"
     ]
    },
    {
     "name": "stderr",
     "output_type": "stream",
     "text": [
      "\r",
      "Parallel (12 processes):  23%|██▎       | 1996/8740 [13:41<31:26,  3.57it/s]"
     ]
    },
    {
     "name": "stdout",
     "output_type": "stream",
     "text": [
      "Commit exceeding max_modifications:  35eae2376e35e4b24ff8b613d6fb9d32a7220861\n"
     ]
    },
    {
     "name": "stderr",
     "output_type": "stream",
     "text": [
      "Parallel (12 processes):  23%|██▎       | 2012/8740 [13:45<35:15,  3.18it/s]"
     ]
    },
    {
     "name": "stdout",
     "output_type": "stream",
     "text": [
      "Commit exceeding max_modifications:  29d135b3b250c5e07b6992f28ac826fc1ad2a57c\n"
     ]
    },
    {
     "name": "stderr",
     "output_type": "stream",
     "text": [
      "Parallel (12 processes):  23%|██▎       | 2028/8740 [13:49<20:22,  5.49it/s]"
     ]
    },
    {
     "name": "stdout",
     "output_type": "stream",
     "text": [
      "Commit exceeding max_modifications:  eedeb730165198631e01e491aa411efc47df4d4f\n"
     ]
    },
    {
     "name": "stderr",
     "output_type": "stream",
     "text": [
      "\r",
      "Parallel (12 processes):  23%|██▎       | 2029/8740 [13:49<22:13,  5.03it/s]"
     ]
    },
    {
     "name": "stdout",
     "output_type": "stream",
     "text": [
      "Commit exceeding max_modifications:  f53f0555ffc125b508e079f366c84b9a2b7bc123\n"
     ]
    },
    {
     "name": "stderr",
     "output_type": "stream",
     "text": [
      "Parallel (12 processes):  25%|██▍       | 2172/8740 [14:11<18:44,  5.84it/s]"
     ]
    },
    {
     "name": "stdout",
     "output_type": "stream",
     "text": [
      "Commit exceeding max_modifications:  ef1752c32d2a5cc158b3e51f2b4b6fcc86deca80\n"
     ]
    },
    {
     "name": "stderr",
     "output_type": "stream",
     "text": [
      "Parallel (12 processes):  29%|██▉       | 2541/8740 [15:15<26:43,  3.87it/s]"
     ]
    },
    {
     "name": "stdout",
     "output_type": "stream",
     "text": [
      "Commit exceeding max_modifications:  a52e23db9a808c2807940771536ca1abc56c638b\n"
     ]
    },
    {
     "name": "stderr",
     "output_type": "stream",
     "text": [
      "Parallel (12 processes):  34%|███▍      | 2954/8740 [16:25<34:38,  2.78it/s]"
     ]
    },
    {
     "name": "stdout",
     "output_type": "stream",
     "text": [
      "Commit exceeding max_modifications:  ab4efb2dbda83c131f8d06bbf2d26827bbc1f103\n"
     ]
    },
    {
     "name": "stderr",
     "output_type": "stream",
     "text": [
      "Parallel (12 processes):  34%|███▍      | 2956/8740 [16:25<31:04,  3.10it/s]"
     ]
    },
    {
     "name": "stdout",
     "output_type": "stream",
     "text": [
      "Commit exceeding max_modifications:  7eb1c9b43f8cc84458bda6f1d94a83b8e360d6ff\n",
      "Commit exceeding max_modifications:  79974979eac5ea3052f69067985d90b91a03d889\n"
     ]
    },
    {
     "name": "stderr",
     "output_type": "stream",
     "text": [
      "\r",
      "Parallel (12 processes):  34%|███▍      | 2957/8740 [16:26<35:09,  2.74it/s]"
     ]
    },
    {
     "name": "stdout",
     "output_type": "stream",
     "text": [
      "Commit exceeding max_modifications:  7613c77b22f3490b8f92736b03b65a47340dac0c\n"
     ]
    },
    {
     "name": "stderr",
     "output_type": "stream",
     "text": [
      "Parallel (12 processes):  34%|███▍      | 2963/8740 [16:27<24:24,  3.95it/s]"
     ]
    },
    {
     "name": "stdout",
     "output_type": "stream",
     "text": [
      "Commit exceeding max_modifications:  71eab8cbd12e858e20a571f293bbad6712bfc910\n"
     ]
    },
    {
     "name": "stderr",
     "output_type": "stream",
     "text": [
      "Parallel (12 processes):  36%|███▌      | 3156/8740 [17:24<34:06,  2.73it/s]  "
     ]
    },
    {
     "name": "stdout",
     "output_type": "stream",
     "text": [
      "Commit exceeding max_modifications:  cce4c91f302eb4b1878c0706777c0f2c42da59f4\n"
     ]
    },
    {
     "name": "stderr",
     "output_type": "stream",
     "text": [
      "Parallel (12 processes):  36%|███▌      | 3160/8740 [17:26<41:29,  2.24it/s]"
     ]
    },
    {
     "name": "stdout",
     "output_type": "stream",
     "text": [
      "Commit exceeding max_modifications:  0663bc84194e39b4ae477f7baabde8a5998bb807\n",
      "Commit exceeding max_modifications:  193355f4a3ef415538038b1f1d8bc0909a9d9ec5\n"
     ]
    },
    {
     "name": "stderr",
     "output_type": "stream",
     "text": [
      "Parallel (12 processes): 100%|██████████| 8740/8740 [29:48<00:00,  4.89it/s]\n"
     ]
    },
    {
     "name": "stdout",
     "output_type": "stream",
     "text": [
      "Done.\n",
      "\n"
     ]
    },
    {
     "name": "stderr",
     "output_type": "stream",
     "text": [
      "author identity disambiguation:  12%|█▏        | 314/2556 [00:00<00:00, 3137.09it/s]"
     ]
    },
    {
     "name": "stdout",
     "output_type": "stream",
     "text": [
      "Phase 3: Disambiguating authors...\n",
      "\n"
     ]
    },
    {
     "name": "stderr",
     "output_type": "stream",
     "text": [
      "author identity disambiguation: 100%|██████████| 2556/2556 [00:00<00:00, 3239.50it/s]\n"
     ]
    },
    {
     "name": "stdout",
     "output_type": "stream",
     "text": [
      "Done.\n",
      "\n",
      "\n",
      "\n",
      "Mining repository 86 / 88\n",
      "Current repository: unidata/netcdf-c\n",
      "\n",
      "Phase 1: Cloning repository...\n",
      "Done.\n",
      "\n",
      "Phase 2: Mining repository...\n",
      "\n",
      "Found no database on provided path. Starting from scratch.\n"
     ]
    },
    {
     "name": "stderr",
     "output_type": "stream",
     "text": [
      "\r",
      "Parallel (12 processes):   0%|          | 0/7801 [00:00<?, ?it/s]"
     ]
    },
    {
     "name": "stdout",
     "output_type": "stream",
     "text": [
      "Commit exceeding max_modifications:  280bc3c5c3424641c9b15c61552acd88221ae0bb\n"
     ]
    },
    {
     "name": "stderr",
     "output_type": "stream",
     "text": [
      "Parallel (12 processes):   0%|          | 5/7801 [00:01<26:46,  4.85it/s]  "
     ]
    },
    {
     "name": "stdout",
     "output_type": "stream",
     "text": [
      "Commit exceeding max_modifications:  7afbaa4b52d3342fe6e7c93c0a7423ea3fd28844\n"
     ]
    },
    {
     "name": "stderr",
     "output_type": "stream",
     "text": [
      "Parallel (12 processes):   0%|          | 28/7801 [00:04<16:23,  7.90it/s]"
     ]
    },
    {
     "name": "stdout",
     "output_type": "stream",
     "text": [
      "Commit exceeding max_modifications:  9c5c4dc96a04d91143acfdb37af4f28420c8e4b0\n"
     ]
    },
    {
     "name": "stderr",
     "output_type": "stream",
     "text": [
      "Parallel (12 processes):   0%|          | 34/7801 [00:04<18:28,  7.01it/s]"
     ]
    },
    {
     "name": "stdout",
     "output_type": "stream",
     "text": [
      "Commit exceeding max_modifications:  18f4bca367140fc05be78287da26a34ebc3d9286\n"
     ]
    },
    {
     "name": "stderr",
     "output_type": "stream",
     "text": [
      "Parallel (12 processes):   1%|          | 61/7801 [00:09<25:38,  5.03it/s]"
     ]
    },
    {
     "name": "stdout",
     "output_type": "stream",
     "text": [
      "Commit exceeding max_modifications:  4c46932e2c3b35a810460b1342d037ecbf0199e5\n"
     ]
    },
    {
     "name": "stderr",
     "output_type": "stream",
     "text": [
      "Parallel (12 processes):   2%|▏         | 131/7801 [00:37<1:22:53,  1.54it/s]"
     ]
    },
    {
     "name": "stdout",
     "output_type": "stream",
     "text": [
      "Commit exceeding max_modifications:  bd980e869f068c5a6d6fe1ec833fb0f3bddc37ae\n"
     ]
    },
    {
     "name": "stderr",
     "output_type": "stream",
     "text": [
      "Parallel (12 processes):   4%|▍         | 307/7801 [01:07<26:35,  4.70it/s]  "
     ]
    },
    {
     "name": "stdout",
     "output_type": "stream",
     "text": [
      "Commit exceeding max_modifications:  965a3aac7026e121551f8d585eb59f8ebfe60ee0\n"
     ]
    },
    {
     "name": "stderr",
     "output_type": "stream",
     "text": [
      "Parallel (12 processes):   4%|▍         | 318/7801 [01:10<22:08,  5.63it/s]"
     ]
    },
    {
     "name": "stdout",
     "output_type": "stream",
     "text": [
      "Commit exceeding max_modifications:  0b477e29cc18fd0a8ff970321270fe008b51dde8\n"
     ]
    },
    {
     "name": "stderr",
     "output_type": "stream",
     "text": [
      "Parallel (12 processes):   4%|▍         | 321/7801 [01:10<17:45,  7.02it/s]"
     ]
    },
    {
     "name": "stdout",
     "output_type": "stream",
     "text": [
      "Commit exceeding max_modifications:  0d55153dc5724c30c09527dd6beae705918b03b8\n"
     ]
    },
    {
     "name": "stderr",
     "output_type": "stream",
     "text": [
      "Parallel (12 processes):   4%|▍         | 327/7801 [01:12<30:23,  4.10it/s]"
     ]
    },
    {
     "name": "stdout",
     "output_type": "stream",
     "text": [
      "Commit exceeding max_modifications:  4de8b332515a966bf9297bffbd8603821f754c9b"
     ]
    },
    {
     "name": "stderr",
     "output_type": "stream",
     "text": [
      "\r",
      "Parallel (12 processes):   4%|▍         | 328/7801 [01:13<33:51,  3.68it/s]"
     ]
    },
    {
     "name": "stdout",
     "output_type": "stream",
     "text": [
      "\n"
     ]
    },
    {
     "name": "stderr",
     "output_type": "stream",
     "text": [
      "Parallel (12 processes):   4%|▍         | 341/7801 [01:15<24:58,  4.98it/s]"
     ]
    },
    {
     "name": "stdout",
     "output_type": "stream",
     "text": [
      "Commit exceeding max_modifications:  fec4cdb230a937080adbf9d3b51f91f94c2f8c04\n"
     ]
    },
    {
     "name": "stderr",
     "output_type": "stream",
     "text": [
      "Parallel (12 processes):   6%|▌         | 446/7801 [01:31<34:04,  3.60it/s]"
     ]
    },
    {
     "name": "stdout",
     "output_type": "stream",
     "text": [
      "Commit exceeding max_modifications:  922ed6a303112856ca7a614ee00001dc00485c6c\n"
     ]
    },
    {
     "name": "stderr",
     "output_type": "stream",
     "text": [
      "Parallel (12 processes):   6%|▌         | 453/7801 [01:32<22:19,  5.49it/s]"
     ]
    },
    {
     "name": "stdout",
     "output_type": "stream",
     "text": [
      "Commit exceeding max_modifications:  7eccec950fc7f325aa5ff41ad05ad8dfd0866348"
     ]
    },
    {
     "name": "stderr",
     "output_type": "stream",
     "text": [
      "\r",
      "Parallel (12 processes):   6%|▌         | 454/7801 [01:32<21:09,  5.79it/s]"
     ]
    },
    {
     "name": "stdout",
     "output_type": "stream",
     "text": [
      "\n"
     ]
    },
    {
     "name": "stderr",
     "output_type": "stream",
     "text": [
      "Parallel (12 processes):   7%|▋         | 520/7801 [01:44<37:40,  3.22it/s]"
     ]
    },
    {
     "name": "stdout",
     "output_type": "stream",
     "text": [
      "Commit exceeding max_modifications:  0a1faacc4267d61c4715274de98c29cdfef5a5b5\n"
     ]
    },
    {
     "name": "stderr",
     "output_type": "stream",
     "text": [
      "Parallel (12 processes):   7%|▋         | 523/7801 [01:44<23:15,  5.22it/s]"
     ]
    },
    {
     "name": "stdout",
     "output_type": "stream",
     "text": [
      "Commit exceeding max_modifications:  efd9808b0a88a03dba836fb9c20774f482544b31\n"
     ]
    },
    {
     "name": "stderr",
     "output_type": "stream",
     "text": [
      "Parallel (12 processes):   7%|▋         | 550/7801 [01:50<33:35,  3.60it/s]"
     ]
    },
    {
     "name": "stdout",
     "output_type": "stream",
     "text": [
      "Commit exceeding max_modifications:  afd11a0d611a8ed869ec566e1d09b39b89889942\n"
     ]
    },
    {
     "name": "stderr",
     "output_type": "stream",
     "text": [
      "Parallel (12 processes):   9%|▉         | 710/7801 [02:27<26:03,  4.53it/s]"
     ]
    },
    {
     "name": "stdout",
     "output_type": "stream",
     "text": [
      "Commit exceeding max_modifications:  2e96987a41365ec789bbdceee62e267739643755\n"
     ]
    },
    {
     "name": "stderr",
     "output_type": "stream",
     "text": [
      "Parallel (12 processes):  10%|█         | 791/7801 [02:50<23:27,  4.98it/s]  "
     ]
    },
    {
     "name": "stdout",
     "output_type": "stream",
     "text": [
      "Commit exceeding max_modifications:  Commit exceeding max_modifications:  42999f4c7c63c8f903219a0dc4aa3c5181a787d61af2b768b0b86918ed27e04b3ab163e9db8488eb\n",
      "\n"
     ]
    },
    {
     "name": "stderr",
     "output_type": "stream",
     "text": [
      "Parallel (12 processes):  10%|█         | 794/7801 [02:51<38:44,  3.01it/s]"
     ]
    },
    {
     "name": "stdout",
     "output_type": "stream",
     "text": [
      "Commit exceeding max_modifications:  0d903265750029348948fbaad717be5b0eb6396b\n"
     ]
    },
    {
     "name": "stderr",
     "output_type": "stream",
     "text": [
      "Parallel (12 processes):  11%|█         | 824/7801 [02:58<26:43,  4.35it/s]  "
     ]
    },
    {
     "name": "stdout",
     "output_type": "stream",
     "text": [
      "Commit exceeding max_modifications:  ffb7dc6f0d729940d63d53b7f7f732145aa64557\n"
     ]
    },
    {
     "name": "stderr",
     "output_type": "stream",
     "text": [
      "Parallel (12 processes):  11%|█         | 834/7801 [03:01<38:45,  3.00it/s]"
     ]
    },
    {
     "name": "stdout",
     "output_type": "stream",
     "text": [
      "Commit exceeding max_modifications:  e8453be1e5e7431b0c032a3f014cb776ff30b088\n"
     ]
    },
    {
     "name": "stderr",
     "output_type": "stream",
     "text": [
      "Parallel (12 processes):  12%|█▏        | 915/7801 [03:12<20:59,  5.47it/s]"
     ]
    },
    {
     "name": "stdout",
     "output_type": "stream",
     "text": [
      "Commit exceeding max_modifications:  e55d002dbc2fa45ab33034a399a6af4b3f66ae7d\n"
     ]
    },
    {
     "name": "stderr",
     "output_type": "stream",
     "text": [
      "Parallel (12 processes):  12%|█▏        | 941/7801 [03:19<43:57,  2.60it/s]  "
     ]
    },
    {
     "name": "stdout",
     "output_type": "stream",
     "text": [
      "Commit exceeding max_modifications:  98675a8047b35f93bcd7cecf87f73255c54501c5\n"
     ]
    },
    {
     "name": "stderr",
     "output_type": "stream",
     "text": [
      "Parallel (12 processes):  12%|█▏        | 943/7801 [03:20<36:40,  3.12it/s]"
     ]
    },
    {
     "name": "stdout",
     "output_type": "stream",
     "text": [
      "Commit exceeding max_modifications:  7a226dd3f1bf432bd1d326521dda3965461c9edd\n"
     ]
    },
    {
     "name": "stderr",
     "output_type": "stream",
     "text": [
      "Parallel (12 processes):  13%|█▎        | 995/7801 [03:28<14:08,  8.02it/s]"
     ]
    },
    {
     "name": "stdout",
     "output_type": "stream",
     "text": [
      "Commit exceeding max_modifications:  c525d1789223b7f8fe95bf721c328fee054772d1\n"
     ]
    },
    {
     "name": "stderr",
     "output_type": "stream",
     "text": [
      "Parallel (12 processes):  13%|█▎        | 1017/7801 [03:33<18:30,  6.11it/s]"
     ]
    },
    {
     "name": "stdout",
     "output_type": "stream",
     "text": [
      "Commit exceeding max_modifications:  792a96b819af7b81a3185784698fe92aaf0db8d0\n"
     ]
    },
    {
     "name": "stderr",
     "output_type": "stream",
     "text": [
      "Parallel (12 processes):  20%|██        | 1583/7801 [05:47<23:48,  4.35it/s]  "
     ]
    },
    {
     "name": "stdout",
     "output_type": "stream",
     "text": [
      "Commit exceeding max_modifications:  bd51d8d568fcab53b6f2fb263861128a9a318f94\n"
     ]
    },
    {
     "name": "stderr",
     "output_type": "stream",
     "text": [
      "\r",
      "Parallel (12 processes):  20%|██        | 1584/7801 [05:48<22:08,  4.68it/s]"
     ]
    },
    {
     "name": "stdout",
     "output_type": "stream",
     "text": [
      "Commit exceeding max_modifications:  042f84cade0b5b3cc8f3807181b9353190a05826\n"
     ]
    },
    {
     "name": "stderr",
     "output_type": "stream",
     "text": [
      "Parallel (12 processes):  20%|██        | 1591/7801 [05:49<25:22,  4.08it/s]"
     ]
    },
    {
     "name": "stdout",
     "output_type": "stream",
     "text": [
      "Commit exceeding max_modifications:  a5d23868b7f23c0b0563c51a08cda17c7c803f9b\n"
     ]
    },
    {
     "name": "stderr",
     "output_type": "stream",
     "text": [
      "Parallel (12 processes):  28%|██▊       | 2167/7801 [08:21<26:20,  3.56it/s]  "
     ]
    },
    {
     "name": "stdout",
     "output_type": "stream",
     "text": [
      "Commit exceeding max_modifications:  7e582ad3f27779923308c024e091ffd52f41868e\n"
     ]
    },
    {
     "name": "stderr",
     "output_type": "stream",
     "text": [
      "Parallel (12 processes):  28%|██▊       | 2204/7801 [08:28<23:55,  3.90it/s]"
     ]
    },
    {
     "name": "stdout",
     "output_type": "stream",
     "text": [
      "Commit exceeding max_modifications:  740a7bfc21b618a103a11ed77a515ea4f33c0d13\n"
     ]
    },
    {
     "name": "stderr",
     "output_type": "stream",
     "text": [
      "Parallel (12 processes):  28%|██▊       | 2206/7801 [08:28<25:38,  3.64it/s]"
     ]
    },
    {
     "name": "stdout",
     "output_type": "stream",
     "text": [
      "Commit exceeding max_modifications:  c6716f3f82f08fac5a809003ec2a2d570abcc873\n"
     ]
    },
    {
     "name": "stderr",
     "output_type": "stream",
     "text": [
      "Parallel (12 processes):  29%|██▉       | 2280/7801 [08:40<18:57,  4.86it/s]"
     ]
    },
    {
     "name": "stdout",
     "output_type": "stream",
     "text": [
      "Commit exceeding max_modifications:  eaf8ef61e0ce662d97151b3253f9967722c9dd00\n"
     ]
    },
    {
     "name": "stderr",
     "output_type": "stream",
     "text": [
      "Parallel (12 processes):  35%|███▍      | 2727/7801 [10:55<21:59,  3.84it/s]  "
     ]
    },
    {
     "name": "stdout",
     "output_type": "stream",
     "text": [
      "Commit exceeding max_modifications:  859f1050051bc9c199487264e932bcfae2536e9a\n"
     ]
    },
    {
     "name": "stderr",
     "output_type": "stream",
     "text": [
      "Parallel (12 processes):  35%|███▌      | 2766/7801 [11:33<31:33,  2.66it/s]  "
     ]
    },
    {
     "name": "stdout",
     "output_type": "stream",
     "text": [
      "Commit exceeding max_modifications:  49597a64af9aec6da3f52c2975a85a6a2a3f1f11\n"
     ]
    },
    {
     "name": "stderr",
     "output_type": "stream",
     "text": [
      "Parallel (12 processes):  37%|███▋      | 2866/7801 [15:10<1:14:06,  1.11it/s] "
     ]
    },
    {
     "name": "stdout",
     "output_type": "stream",
     "text": [
      "Commit exceeding max_modifications:  612b35a84c25ed7e2b0f6b91a285e5a62cd8a184\n"
     ]
    },
    {
     "name": "stderr",
     "output_type": "stream",
     "text": [
      "Parallel (12 processes):  37%|███▋      | 2879/7801 [15:29<2:34:40,  1.89s/it]"
     ]
    },
    {
     "name": "stdout",
     "output_type": "stream",
     "text": [
      "Commit exceeding max_modifications:  c1210f40203a9e76bfd6ef2eb852be483692f915\n"
     ]
    },
    {
     "name": "stderr",
     "output_type": "stream",
     "text": [
      "Parallel (12 processes):  37%|███▋      | 2881/7801 [15:30<1:39:25,  1.21s/it]"
     ]
    },
    {
     "name": "stdout",
     "output_type": "stream",
     "text": [
      "Commit exceeding max_modifications:  bd84e9a8eba9a3f333744d1955d5fe9d94730ded\n"
     ]
    },
    {
     "name": "stderr",
     "output_type": "stream",
     "text": [
      "Parallel (12 processes):  45%|████▌     | 3514/7801 [21:01<11:37,  6.15it/s]  "
     ]
    },
    {
     "name": "stdout",
     "output_type": "stream",
     "text": [
      "Commit exceeding max_modifications: "
     ]
    },
    {
     "name": "stderr",
     "output_type": "stream",
     "text": [
      "\r",
      "Parallel (12 processes):  45%|████▌     | 3515/7801 [21:01<11:09,  6.40it/s]"
     ]
    },
    {
     "name": "stdout",
     "output_type": "stream",
     "text": [
      " 04e5ff4c749d7ea0609b5bfda6d5882db1541ade\n"
     ]
    },
    {
     "name": "stderr",
     "output_type": "stream",
     "text": [
      "Parallel (12 processes):  45%|████▌     | 3522/7801 [21:03<15:55,  4.48it/s]"
     ]
    },
    {
     "name": "stdout",
     "output_type": "stream",
     "text": [
      "Commit exceeding max_modifications:  f4ac2f827dc7f7519748f10b018ce083b778ee6d\n"
     ]
    },
    {
     "name": "stderr",
     "output_type": "stream",
     "text": [
      "Parallel (12 processes):  47%|████▋     | 3662/7801 [22:07<32:12,  2.14it/s]  "
     ]
    },
    {
     "name": "stdout",
     "output_type": "stream",
     "text": [
      "Commit exceeding max_modifications:  ee2916f60aa16a42038a0ad6c6af9e93410ff050\n"
     ]
    },
    {
     "name": "stderr",
     "output_type": "stream",
     "text": [
      "Parallel (12 processes):  47%|████▋     | 3674/7801 [22:14<38:21,  1.79it/s]"
     ]
    },
    {
     "name": "stdout",
     "output_type": "stream",
     "text": [
      "Commit exceeding max_modifications:  696c200e29d6f33e66ccb0ca8a0fcbf1b264742eCommit exceeding max_modifications: \n",
      " 622bbbb0e7bfe7b1c764aeb0ccb8375c194ff776\n",
      "Commit exceeding max_modifications:  78c0f34c82b84351da56d7218a49743b06a12bf3\n"
     ]
    },
    {
     "name": "stderr",
     "output_type": "stream",
     "text": [
      "Parallel (12 processes):  47%|████▋     | 3687/7801 [22:21<26:21,  2.60it/s]"
     ]
    },
    {
     "name": "stdout",
     "output_type": "stream",
     "text": [
      "Commit exceeding max_modifications:  1a8e7891f080ea109ff25f98688679b08e4a928c\n"
     ]
    },
    {
     "name": "stderr",
     "output_type": "stream",
     "text": [
      "Parallel (12 processes):  47%|████▋     | 3689/7801 [22:21<20:47,  3.30it/s]"
     ]
    },
    {
     "name": "stdout",
     "output_type": "stream",
     "text": [
      "Commit exceeding max_modifications:  ec526880dd7dade746ad6b4d72164ba0fafe0535\n"
     ]
    },
    {
     "name": "stderr",
     "output_type": "stream",
     "text": [
      "Parallel (12 processes):  47%|████▋     | 3695/7801 [22:23<18:34,  3.68it/s]"
     ]
    },
    {
     "name": "stdout",
     "output_type": "stream",
     "text": [
      "Commit exceeding max_modifications:  2558fd6f9f9d13579f33f7aa2ad5162a659e247c\n"
     ]
    },
    {
     "name": "stderr",
     "output_type": "stream",
     "text": [
      "Parallel (12 processes):  47%|████▋     | 3698/7801 [22:24<19:09,  3.57it/s]"
     ]
    },
    {
     "name": "stdout",
     "output_type": "stream",
     "text": [
      "Commit exceeding max_modifications:  8e3790f7ce1e273074bd4c972eb4d2de0df3c221\n"
     ]
    },
    {
     "name": "stderr",
     "output_type": "stream",
     "text": [
      "\r",
      "Parallel (12 processes):  47%|████▋     | 3699/7801 [22:24<18:32,  3.69it/s]"
     ]
    },
    {
     "name": "stdout",
     "output_type": "stream",
     "text": [
      "Commit exceeding max_modifications:  3db4f013bfadad693ee71859cf13dccd86a1c74d\n"
     ]
    },
    {
     "name": "stderr",
     "output_type": "stream",
     "text": [
      "Parallel (12 processes):  48%|████▊     | 3711/7801 [22:31<39:56,  1.71it/s]"
     ]
    },
    {
     "name": "stdout",
     "output_type": "stream",
     "text": [
      "Commit exceeding max_modifications:  26c393cd1300ac0d7827a69ca9feb110be6ac545\n"
     ]
    },
    {
     "name": "stderr",
     "output_type": "stream",
     "text": [
      "Parallel (12 processes):  48%|████▊     | 3715/7801 [22:34<41:50,  1.63it/s]  "
     ]
    },
    {
     "name": "stdout",
     "output_type": "stream",
     "text": [
      "Commit exceeding max_modifications: "
     ]
    },
    {
     "name": "stderr",
     "output_type": "stream",
     "text": [
      "\r",
      "Parallel (12 processes):  48%|████▊     | 3716/7801 [22:34<35:48,  1.90it/s]"
     ]
    },
    {
     "name": "stdout",
     "output_type": "stream",
     "text": [
      " be6e1b65dc5ebb1d1a0c8ec158a3424dcca929db\n"
     ]
    },
    {
     "name": "stderr",
     "output_type": "stream",
     "text": [
      "Parallel (12 processes):  48%|████▊     | 3730/7801 [22:42<44:00,  1.54it/s]  "
     ]
    },
    {
     "name": "stdout",
     "output_type": "stream",
     "text": [
      "Commit exceeding max_modifications:  80390b94e53e44cd0090a3db000e906adf997df3\n"
     ]
    },
    {
     "name": "stderr",
     "output_type": "stream",
     "text": [
      "Parallel (12 processes):  48%|████▊     | 3735/7801 [22:44<42:05,  1.61it/s]"
     ]
    },
    {
     "name": "stdout",
     "output_type": "stream",
     "text": [
      "Commit exceeding max_modifications:  7d9a1107c93fc92036d2ce68aeb4c275577b1723\n"
     ]
    },
    {
     "name": "stderr",
     "output_type": "stream",
     "text": [
      "Parallel (12 processes):  48%|████▊     | 3745/7801 [22:49<24:02,  2.81it/s]  "
     ]
    },
    {
     "name": "stdout",
     "output_type": "stream",
     "text": [
      "Commit exceeding max_modifications:  c774157d05acb8f37b880d6476b2d9c699db1796\n"
     ]
    },
    {
     "name": "stderr",
     "output_type": "stream",
     "text": [
      "\r",
      "Parallel (12 processes):  48%|████▊     | 3746/7801 [22:49<23:41,  2.85it/s]"
     ]
    },
    {
     "name": "stdout",
     "output_type": "stream",
     "text": [
      "Commit exceeding max_modifications:  5f15c9e777a48b997f46888b0ca736f7a1761071\n"
     ]
    },
    {
     "name": "stderr",
     "output_type": "stream",
     "text": [
      "Parallel (12 processes):  48%|████▊     | 3751/7801 [22:51<33:15,  2.03it/s]"
     ]
    },
    {
     "name": "stdout",
     "output_type": "stream",
     "text": [
      "Commit exceeding max_modifications:  6d8809100fdc40656fbbd048fe99dc1f645e5f8f\n"
     ]
    },
    {
     "name": "stderr",
     "output_type": "stream",
     "text": [
      "Parallel (12 processes):  48%|████▊     | 3753/7801 [22:52<24:39,  2.74it/s]"
     ]
    },
    {
     "name": "stdout",
     "output_type": "stream",
     "text": [
      "Commit exceeding max_modifications:  6627d7299d0ccb50361eaf38adca8921d8b0cbf6\n"
     ]
    },
    {
     "name": "stderr",
     "output_type": "stream",
     "text": [
      "Parallel (12 processes):  48%|████▊     | 3770/7801 [23:01<23:51,  2.82it/s]"
     ]
    },
    {
     "name": "stdout",
     "output_type": "stream",
     "text": [
      "Commit exceeding max_modifications:  8dddd222a37f18d41d4c054ba445dee7ce7167e6\n"
     ]
    },
    {
     "name": "stderr",
     "output_type": "stream",
     "text": [
      "Parallel (12 processes):  48%|████▊     | 3783/7801 [23:21<3:13:15,  2.89s/it]"
     ]
    },
    {
     "name": "stdout",
     "output_type": "stream",
     "text": [
      "Commit exceeding max_modifications:  051bd3b81a208cd4dc786ad5c8aa4a0d71776263\n"
     ]
    },
    {
     "name": "stderr",
     "output_type": "stream",
     "text": [
      "Parallel (12 processes):  49%|████▊     | 3785/7801 [23:26<2:55:48,  2.63s/it]"
     ]
    },
    {
     "name": "stdout",
     "output_type": "stream",
     "text": [
      "Commit exceeding max_modifications:  c834d4af12d860e2a33c485a23f88f7f51d26d89\n"
     ]
    },
    {
     "name": "stderr",
     "output_type": "stream",
     "text": [
      "Parallel (12 processes):  49%|████▉     | 3854/7801 [23:44<23:46,  2.77it/s]  "
     ]
    },
    {
     "name": "stdout",
     "output_type": "stream",
     "text": [
      "Commit exceeding max_modifications:  e0a1b9aafe06d2a54f78ab7d3571c873cd898a08\n"
     ]
    },
    {
     "name": "stderr",
     "output_type": "stream",
     "text": [
      "Parallel (12 processes):  50%|████▉     | 3880/7801 [23:52<47:40,  1.37it/s]"
     ]
    },
    {
     "name": "stdout",
     "output_type": "stream",
     "text": [
      "Commit exceeding max_modifications:  e56e50413f3d3693fdfb70531e69a3281ca33bb7\n"
     ]
    },
    {
     "name": "stderr",
     "output_type": "stream",
     "text": [
      "Parallel (12 processes):  50%|█████     | 3915/7801 [24:00<17:33,  3.69it/s]"
     ]
    },
    {
     "name": "stdout",
     "output_type": "stream",
     "text": [
      "Commit exceeding max_modifications:  9e7a902dcff9f3e8303bd2cd00bd222529e194e5\n"
     ]
    },
    {
     "name": "stderr",
     "output_type": "stream",
     "text": [
      "Parallel (12 processes):  50%|█████     | 3924/7801 [24:13<1:40:59,  1.56s/it]"
     ]
    },
    {
     "name": "stdout",
     "output_type": "stream",
     "text": [
      "Commit exceeding max_modifications:  05d3d7e9f5b849e65c0c5f0b653efc5aff36b089\n"
     ]
    },
    {
     "name": "stderr",
     "output_type": "stream",
     "text": [
      "Parallel (12 processes):  50%|█████     | 3927/7801 [24:14<44:31,  1.45it/s]  "
     ]
    },
    {
     "name": "stdout",
     "output_type": "stream",
     "text": [
      "Commit exceeding max_modifications:  99625c0c9f8e6ae5607bfb256d2de5121c28a310\n"
     ]
    },
    {
     "name": "stderr",
     "output_type": "stream",
     "text": [
      "\r",
      "Parallel (12 processes):  50%|█████     | 3928/7801 [24:14<37:49,  1.71it/s]"
     ]
    },
    {
     "name": "stdout",
     "output_type": "stream",
     "text": [
      "Commit exceeding max_modifications:  f6ac978f2527ee7c6f0f46e467ca2c07a910ebdd\n"
     ]
    },
    {
     "name": "stderr",
     "output_type": "stream",
     "text": [
      "Parallel (12 processes):  50%|█████     | 3938/7801 [24:16<15:01,  4.28it/s]"
     ]
    },
    {
     "name": "stdout",
     "output_type": "stream",
     "text": [
      "Commit exceeding max_modifications:  eb98d238d0e70d81ce303e7310e0e3f67e3e531a\n"
     ]
    },
    {
     "name": "stderr",
     "output_type": "stream",
     "text": [
      "Parallel (12 processes):  51%|█████     | 3944/7801 [24:19<28:04,  2.29it/s]"
     ]
    },
    {
     "name": "stdout",
     "output_type": "stream",
     "text": [
      "Commit exceeding max_modifications:  86fc8745dc9170f48fb9e6d5e70fe7b8fafd0d6b\n"
     ]
    },
    {
     "name": "stderr",
     "output_type": "stream",
     "text": [
      "Parallel (12 processes):  51%|█████     | 3958/7801 [24:25<20:59,  3.05it/s]"
     ]
    },
    {
     "name": "stdout",
     "output_type": "stream",
     "text": [
      "Commit exceeding max_modifications:  b0cf032ddd629314e11e9ac2f387b99b188fdf68\n"
     ]
    },
    {
     "name": "stderr",
     "output_type": "stream",
     "text": [
      "Parallel (12 processes):  52%|█████▏    | 4061/7801 [25:00<18:01,  3.46it/s]  "
     ]
    },
    {
     "name": "stdout",
     "output_type": "stream",
     "text": [
      "Commit exceeding max_modifications:  6fb871fe34d4b336b0dada3d22c64e83858f6e20\n"
     ]
    },
    {
     "name": "stderr",
     "output_type": "stream",
     "text": [
      "Parallel (12 processes):  52%|█████▏    | 4064/7801 [25:01<18:25,  3.38it/s]"
     ]
    },
    {
     "name": "stdout",
     "output_type": "stream",
     "text": [
      "Commit exceeding max_modifications:  9964cee7cdb6c32e1890dd5af854a828896af87a\n"
     ]
    },
    {
     "name": "stderr",
     "output_type": "stream",
     "text": [
      "Parallel (12 processes):  52%|█████▏    | 4086/7801 [25:04<07:31,  8.23it/s]"
     ]
    },
    {
     "name": "stdout",
     "output_type": "stream",
     "text": [
      "Commit exceeding max_modifications:  ef372357a08795c130159a0c80b5b06b9318169f\n"
     ]
    },
    {
     "name": "stderr",
     "output_type": "stream",
     "text": [
      "Parallel (12 processes):  52%|█████▏    | 4091/7801 [25:07<26:31,  2.33it/s]"
     ]
    },
    {
     "name": "stdout",
     "output_type": "stream",
     "text": [
      "Commit exceeding max_modifications:  "
     ]
    },
    {
     "name": "stderr",
     "output_type": "stream",
     "text": [
      "\r",
      "Parallel (12 processes):  52%|█████▏    | 4092/7801 [25:07<21:06,  2.93it/s]"
     ]
    },
    {
     "name": "stdout",
     "output_type": "stream",
     "text": [
      "733da154c561dc37ab7ba65ad610a8c693f7c551\n"
     ]
    },
    {
     "name": "stderr",
     "output_type": "stream",
     "text": [
      "Parallel (12 processes):  53%|█████▎    | 4123/7801 [25:21<37:08,  1.65it/s]"
     ]
    },
    {
     "name": "stdout",
     "output_type": "stream",
     "text": [
      "Commit exceeding max_modifications:  440cf724ad92fc6ed63a5039ea7974e5fb87b1cb\n"
     ]
    },
    {
     "name": "stderr",
     "output_type": "stream",
     "text": [
      "Parallel (12 processes):  53%|█████▎    | 4170/7801 [25:50<47:04,  1.29it/s]  "
     ]
    },
    {
     "name": "stdout",
     "output_type": "stream",
     "text": [
      "Commit exceeding max_modifications:  178ed4aa98aef686dbc0e5c493c0483d3fb34c58\n"
     ]
    },
    {
     "name": "stderr",
     "output_type": "stream",
     "text": [
      "Parallel (12 processes):  54%|█████▎    | 4178/7801 [25:57<1:15:58,  1.26s/it]"
     ]
    },
    {
     "name": "stdout",
     "output_type": "stream",
     "text": [
      "Commit exceeding max_modifications:  9935d54fdf53ece9267c92c65f5949b0765bfd10\n"
     ]
    },
    {
     "name": "stderr",
     "output_type": "stream",
     "text": [
      "\r",
      "Parallel (12 processes):  54%|█████▎    | 4179/7801 [25:57<57:47,  1.04it/s]  "
     ]
    },
    {
     "name": "stdout",
     "output_type": "stream",
     "text": [
      "Commit exceeding max_modifications:  2d77e6451bf945716ab8f779d8ee3b9c61fccf25\n"
     ]
    },
    {
     "name": "stderr",
     "output_type": "stream",
     "text": [
      "Parallel (12 processes):  54%|█████▎    | 4193/7801 [26:09<29:22,  2.05it/s]  "
     ]
    },
    {
     "name": "stdout",
     "output_type": "stream",
     "text": [
      "Commit exceeding max_modifications:  2987fb0bed1fcac1392ccd2cc243e8750dd4ff4a\n"
     ]
    },
    {
     "name": "stderr",
     "output_type": "stream",
     "text": [
      "Parallel (12 processes):  54%|█████▍    | 4196/7801 [26:12<42:07,  1.43it/s]"
     ]
    },
    {
     "name": "stdout",
     "output_type": "stream",
     "text": [
      "Commit exceeding max_modifications:  7f886320f326f2aa713a8fafb07e79a9014a9465\n"
     ]
    },
    {
     "name": "stderr",
     "output_type": "stream",
     "text": [
      "Parallel (12 processes):  54%|█████▍    | 4228/7801 [26:41<49:03,  1.21it/s]  "
     ]
    },
    {
     "name": "stdout",
     "output_type": "stream",
     "text": [
      "Commit exceeding max_modifications:  bb2505cf4ecf6d3343c82189fac0e5419b29059d"
     ]
    },
    {
     "name": "stderr",
     "output_type": "stream",
     "text": [
      "\r",
      "Parallel (12 processes):  54%|█████▍    | 4229/7801 [26:41<37:08,  1.60it/s]"
     ]
    },
    {
     "name": "stdout",
     "output_type": "stream",
     "text": [
      "\n"
     ]
    },
    {
     "name": "stderr",
     "output_type": "stream",
     "text": [
      "Parallel (12 processes):  55%|█████▍    | 4252/7801 [27:26<41:26,  1.43it/s]  "
     ]
    },
    {
     "name": "stdout",
     "output_type": "stream",
     "text": [
      "Commit exceeding max_modifications:  4ee89ed71be925434acc28a36a3a585fb984afe4\n"
     ]
    },
    {
     "name": "stderr",
     "output_type": "stream",
     "text": [
      "Parallel (12 processes):  55%|█████▌    | 4324/7801 [28:27<10:06,  5.73it/s]  "
     ]
    },
    {
     "name": "stdout",
     "output_type": "stream",
     "text": [
      "Commit exceeding max_modifications:  16d6f94f30aeb0e77f0b999f8808071b6f228985\n"
     ]
    },
    {
     "name": "stderr",
     "output_type": "stream",
     "text": [
      "Parallel (12 processes):  56%|█████▌    | 4348/7801 [29:28<9:18:29,  9.70s/it] "
     ]
    },
    {
     "name": "stdout",
     "output_type": "stream",
     "text": [
      "Commit exceeding max_modifications:  2baf95e09d8e673509682efe9cdbdc65388779c8\n"
     ]
    },
    {
     "name": "stderr",
     "output_type": "stream",
     "text": [
      "\r",
      "Parallel (12 processes):  56%|█████▌    | 4349/7801 [29:28<6:38:23,  6.92s/it]"
     ]
    },
    {
     "name": "stdout",
     "output_type": "stream",
     "text": [
      "Commit exceeding max_modifications:  3b8232890295425b4f3d9086fc23abd0ea0cd721\n"
     ]
    },
    {
     "name": "stderr",
     "output_type": "stream",
     "text": [
      "Parallel (12 processes):  56%|█████▌    | 4356/7801 [29:32<1:07:54,  1.18s/it]"
     ]
    },
    {
     "name": "stdout",
     "output_type": "stream",
     "text": [
      "Commit exceeding max_modifications:  83c2395238730a1e21625997f2937f7b1cfb6de5\n"
     ]
    },
    {
     "name": "stderr",
     "output_type": "stream",
     "text": [
      "Parallel (12 processes):  58%|█████▊    | 4553/7801 [31:42<21:35,  2.51it/s]  "
     ]
    },
    {
     "name": "stdout",
     "output_type": "stream",
     "text": [
      "Commit exceeding max_modifications:  39ce5e6058a80e439f444cdb49d3c312dd94b5da\n"
     ]
    },
    {
     "name": "stderr",
     "output_type": "stream",
     "text": [
      "Parallel (12 processes):  59%|█████▉    | 4627/7801 [31:59<09:49,  5.38it/s]"
     ]
    },
    {
     "name": "stdout",
     "output_type": "stream",
     "text": [
      "Commit exceeding max_modifications:  2197d9849bc0209497fc8fc7dcb82e89e745c6d7\n"
     ]
    },
    {
     "name": "stderr",
     "output_type": "stream",
     "text": [
      "Parallel (12 processes):  60%|█████▉    | 4661/7801 [32:31<13:33,  3.86it/s]  "
     ]
    },
    {
     "name": "stdout",
     "output_type": "stream",
     "text": [
      "Commit exceeding max_modifications:  8487a0a9549b3dc075c526e20c2d9888069f62ea\n"
     ]
    },
    {
     "name": "stderr",
     "output_type": "stream",
     "text": [
      "Parallel (12 processes):  60%|██████    | 4702/7801 [32:45<14:29,  3.56it/s]"
     ]
    },
    {
     "name": "stdout",
     "output_type": "stream",
     "text": [
      "Commit exceeding max_modifications:  27693ba4a3ff4b0650ec1dda20c05c0e31cf4a4c\n"
     ]
    },
    {
     "name": "stderr",
     "output_type": "stream",
     "text": [
      "Parallel (12 processes):  61%|██████    | 4774/7801 [33:33<45:54,  1.10it/s]  "
     ]
    },
    {
     "name": "stdout",
     "output_type": "stream",
     "text": [
      "Commit exceeding max_modifications:  a8faac92929a2b3104c8c2031af39e269c7c3379"
     ]
    },
    {
     "name": "stderr",
     "output_type": "stream",
     "text": [
      "\r",
      "Parallel (12 processes):  61%|██████    | 4775/7801 [33:36<1:16:36,  1.52s/it]"
     ]
    },
    {
     "name": "stdout",
     "output_type": "stream",
     "text": [
      "\n"
     ]
    },
    {
     "name": "stderr",
     "output_type": "stream",
     "text": [
      "Parallel (12 processes):  62%|██████▏   | 4805/7801 [33:54<35:28,  1.41it/s]  "
     ]
    },
    {
     "name": "stdout",
     "output_type": "stream",
     "text": [
      "Commit exceeding max_modifications:  8280586c16d90a15ae590869ddc4d79153a443be\n"
     ]
    },
    {
     "name": "stderr",
     "output_type": "stream",
     "text": [
      "Parallel (12 processes):  62%|██████▏   | 4821/7801 [34:06<25:30,  1.95it/s]  "
     ]
    },
    {
     "name": "stdout",
     "output_type": "stream",
     "text": [
      "Commit exceeding max_modifications: "
     ]
    },
    {
     "name": "stderr",
     "output_type": "stream",
     "text": [
      "\r",
      "Parallel (12 processes):  62%|██████▏   | 4822/7801 [34:06<20:03,  2.48it/s]"
     ]
    },
    {
     "name": "stdout",
     "output_type": "stream",
     "text": [
      " 66fb19ab365006b44c638f364b4544338586b582\n"
     ]
    },
    {
     "name": "stderr",
     "output_type": "stream",
     "text": [
      "Parallel (12 processes):  62%|██████▏   | 4825/7801 [34:08<22:27,  2.21it/s]"
     ]
    },
    {
     "name": "stdout",
     "output_type": "stream",
     "text": [
      "Commit exceeding max_modifications:  480b6446584cf06b4e73c104b10b24911babcd2a\n"
     ]
    },
    {
     "name": "stderr",
     "output_type": "stream",
     "text": [
      "\r",
      "Parallel (12 processes):  62%|██████▏   | 4826/7801 [34:08<19:18,  2.57it/s]"
     ]
    },
    {
     "name": "stdout",
     "output_type": "stream",
     "text": [
      "Commit exceeding max_modifications:  da87652aa7f88f70beb6449cb9818afdbe8993dc\n"
     ]
    },
    {
     "name": "stderr",
     "output_type": "stream",
     "text": [
      "Parallel (12 processes):  63%|██████▎   | 4896/7801 [35:01<53:05,  1.10s/it]  "
     ]
    },
    {
     "name": "stdout",
     "output_type": "stream",
     "text": [
      "Commit exceeding max_modifications:  a13b722af90bd6c499aa53b7fb7ef75f6ed55730\n"
     ]
    },
    {
     "name": "stderr",
     "output_type": "stream",
     "text": [
      "Parallel (12 processes):  63%|██████▎   | 4905/7801 [35:14<1:09:09,  1.43s/it]"
     ]
    },
    {
     "name": "stdout",
     "output_type": "stream",
     "text": [
      "Commit exceeding max_modifications:  5ff3bb34ca46692f47f99d760369e1301fec228c\n",
      "Commit exceeding max_modifications:  4739cd3225fc232708565be769c5e790a70f0529\n"
     ]
    },
    {
     "name": "stderr",
     "output_type": "stream",
     "text": [
      "Parallel (12 processes):  63%|██████▎   | 4920/7801 [35:24<53:32,  1.12s/it]  "
     ]
    },
    {
     "name": "stdout",
     "output_type": "stream",
     "text": [
      "Commit exceeding max_modifications:  46e39c364771ec1ff580a2464d7aac48ae8be802\n"
     ]
    },
    {
     "name": "stderr",
     "output_type": "stream",
     "text": [
      "Parallel (12 processes):  63%|██████▎   | 4934/7801 [35:35<48:04,  1.01s/it]  "
     ]
    },
    {
     "name": "stdout",
     "output_type": "stream",
     "text": [
      "Commit exceeding max_modifications:  0f36b279be81057aad3c056ed7b87e19d56210f9\n"
     ]
    },
    {
     "name": "stderr",
     "output_type": "stream",
     "text": [
      "Parallel (12 processes):  64%|██████▎   | 4957/7801 [35:47<26:19,  1.80it/s]"
     ]
    },
    {
     "name": "stdout",
     "output_type": "stream",
     "text": [
      "Commit exceeding max_modifications:  7faa84b34cdcbfec3e2ecfbba4209a8a4b50c08f\n"
     ]
    },
    {
     "name": "stderr",
     "output_type": "stream",
     "text": [
      "\r",
      "Parallel (12 processes):  64%|██████▎   | 4959/7801 [35:52<1:07:52,  1.43s/it]"
     ]
    },
    {
     "name": "stdout",
     "output_type": "stream",
     "text": [
      "Commit exceeding max_modifications:  ed9fa9f64cffeaee5b97abde150ff4b0d3dd15f2\n"
     ]
    },
    {
     "name": "stderr",
     "output_type": "stream",
     "text": [
      "Parallel (12 processes):  65%|██████▍   | 5034/7801 [36:20<40:40,  1.13it/s]  "
     ]
    },
    {
     "name": "stdout",
     "output_type": "stream",
     "text": [
      "Commit exceeding max_modifications:  9aa1e9a14ec8f17751c8ebfdaffefd93bc9d321f\n"
     ]
    },
    {
     "name": "stderr",
     "output_type": "stream",
     "text": [
      "Parallel (12 processes):  65%|██████▌   | 5105/7801 [37:21<12:31,  3.59it/s]  "
     ]
    },
    {
     "name": "stdout",
     "output_type": "stream",
     "text": [
      "Commit exceeding max_modifications:  27ca221bdb8a45b06bd7d66c79a5ccbddc03cede\n"
     ]
    },
    {
     "name": "stderr",
     "output_type": "stream",
     "text": [
      "Parallel (12 processes):  66%|██████▋   | 5170/7801 [37:56<16:36,  2.64it/s]"
     ]
    },
    {
     "name": "stdout",
     "output_type": "stream",
     "text": [
      "Commit exceeding max_modifications:  c9d1589c393628c6dfc49f1996f433d8b70ccfa0\n"
     ]
    },
    {
     "name": "stderr",
     "output_type": "stream",
     "text": [
      "\r",
      "Parallel (12 processes):  66%|██████▋   | 5171/7801 [37:56<13:35,  3.23it/s]"
     ]
    },
    {
     "name": "stdout",
     "output_type": "stream",
     "text": [
      "Commit exceeding max_modifications:  a8c4c0aa6867f49185f75c457577373311ad98f6\n"
     ]
    },
    {
     "name": "stderr",
     "output_type": "stream",
     "text": [
      "\r",
      "Parallel (12 processes):  66%|██████▋   | 5172/7801 [37:56<13:26,  3.26it/s]"
     ]
    },
    {
     "name": "stdout",
     "output_type": "stream",
     "text": [
      "Commit exceeding max_modifications:  ebe66330067788a839532f35cc06a68a551274ce\n"
     ]
    },
    {
     "name": "stderr",
     "output_type": "stream",
     "text": [
      "Parallel (12 processes):  67%|██████▋   | 5206/7801 [38:45<28:36,  1.51it/s]  "
     ]
    },
    {
     "name": "stdout",
     "output_type": "stream",
     "text": [
      "Commit exceeding max_modifications:  02bd33f250b485fc68b505521d291d210cb674e6\n"
     ]
    },
    {
     "name": "stderr",
     "output_type": "stream",
     "text": [
      "\r",
      "Parallel (12 processes):  67%|██████▋   | 5207/7801 [38:45<23:57,  1.80it/s]"
     ]
    },
    {
     "name": "stdout",
     "output_type": "stream",
     "text": [
      "Commit exceeding max_modifications:  ec1437dd09d7ead1bf3dbb99b3cb15d076752cbb\n"
     ]
    },
    {
     "name": "stderr",
     "output_type": "stream",
     "text": [
      "Parallel (12 processes):  70%|███████   | 5489/7801 [41:44<07:23,  5.21it/s]  "
     ]
    },
    {
     "name": "stdout",
     "output_type": "stream",
     "text": [
      "Commit exceeding max_modifications:  5bd160086bd45e935b08f1d277191e7b1d4532bd\n"
     ]
    },
    {
     "name": "stderr",
     "output_type": "stream",
     "text": [
      "Parallel (12 processes):  73%|███████▎  | 5692/7801 [43:59<59:55,  1.71s/it]  "
     ]
    },
    {
     "name": "stdout",
     "output_type": "stream",
     "text": [
      "Commit exceeding max_modifications:  5e69b0a52d8c4e19b93171ea72beefbf22595cf3\n"
     ]
    },
    {
     "name": "stderr",
     "output_type": "stream",
     "text": [
      "Parallel (12 processes):  73%|███████▎  | 5715/7801 [44:33<34:07,  1.02it/s]  "
     ]
    },
    {
     "name": "stdout",
     "output_type": "stream",
     "text": [
      "Commit exceeding max_modifications:  86e002d794ba5540e879705343f0843a6a4a6c3d\n",
      "Commit exceeding max_modifications:  784d777bff6dbb6abea5451c36c06d0e4f161417\n"
     ]
    },
    {
     "name": "stderr",
     "output_type": "stream",
     "text": [
      "Parallel (12 processes):  74%|███████▍  | 5785/7801 [45:34<32:08,  1.05it/s]  "
     ]
    },
    {
     "name": "stdout",
     "output_type": "stream",
     "text": [
      "Commit exceeding max_modifications:  a5a34f6abac04249464fa69f7de79429767f6c1e\n"
     ]
    },
    {
     "name": "stderr",
     "output_type": "stream",
     "text": [
      "Parallel (12 processes):  74%|███████▍  | 5791/7801 [45:38<26:59,  1.24it/s]"
     ]
    },
    {
     "name": "stdout",
     "output_type": "stream",
     "text": [
      "Commit exceeding max_modifications:  8259455582720a5e75b1f068b83f596619fb69e8\n"
     ]
    },
    {
     "name": "stderr",
     "output_type": "stream",
     "text": [
      "Parallel (12 processes):  76%|███████▋  | 5966/7801 [47:00<09:59,  3.06it/s]  "
     ]
    },
    {
     "name": "stdout",
     "output_type": "stream",
     "text": [
      "Commit exceeding max_modifications:  ce78cf2d73d4d03650365a9b2c9a02cdca18ef33\n"
     ]
    },
    {
     "name": "stderr",
     "output_type": "stream",
     "text": [
      "Parallel (12 processes):  78%|███████▊  | 6091/7801 [48:03<13:03,  2.18it/s]"
     ]
    },
    {
     "name": "stdout",
     "output_type": "stream",
     "text": [
      "Commit exceeding max_modifications:  462ec939130845d1e339161237bdeeedd2884ffc\n"
     ]
    },
    {
     "name": "stderr",
     "output_type": "stream",
     "text": [
      "Parallel (12 processes):  78%|███████▊  | 6123/7801 [48:18<12:42,  2.20it/s]"
     ]
    },
    {
     "name": "stdout",
     "output_type": "stream",
     "text": [
      "Commit exceeding max_modifications:  30ea33435cdb923b4ab21476ea5ea4c6d499f2a1\n",
      "Commit exceeding max_modifications:  "
     ]
    },
    {
     "name": "stderr",
     "output_type": "stream",
     "text": [
      "\r",
      "Parallel (12 processes):  79%|███████▊  | 6124/7801 [48:19<14:25,  1.94it/s]"
     ]
    },
    {
     "name": "stdout",
     "output_type": "stream",
     "text": [
      "b16eceabe27ef334d4384eae07387cbac18d2afc\n",
      "Commit exceeding max_modifications:  8ca5a1ac1792fddadeeac15c82e3634def5b677a\n"
     ]
    },
    {
     "name": "stderr",
     "output_type": "stream",
     "text": [
      "\r",
      "Parallel (12 processes):  79%|███████▊  | 6127/7801 [48:19<07:39,  3.65it/s]"
     ]
    },
    {
     "name": "stdout",
     "output_type": "stream",
     "text": [
      "Commit exceeding max_modifications:  735ae80928573fb54ef64b54acd957391503c476\n"
     ]
    },
    {
     "name": "stderr",
     "output_type": "stream",
     "text": [
      "Parallel (12 processes):  79%|███████▉  | 6145/7801 [48:24<05:45,  4.80it/s]"
     ]
    },
    {
     "name": "stdout",
     "output_type": "stream",
     "text": [
      "Commit exceeding max_modifications:  6b2156bbcc7e9355d02d1c01788a131a08eca0a5\n"
     ]
    },
    {
     "name": "stderr",
     "output_type": "stream",
     "text": [
      "Parallel (12 processes):  79%|███████▉  | 6147/7801 [48:24<05:12,  5.29it/s]"
     ]
    },
    {
     "name": "stdout",
     "output_type": "stream",
     "text": [
      "Commit exceeding max_modifications:  c62d7eb541b01bf61fc67a890d03dea946464838\n"
     ]
    },
    {
     "name": "stderr",
     "output_type": "stream",
     "text": [
      "Parallel (12 processes):  79%|███████▉  | 6158/7801 [48:33<39:45,  1.45s/it]"
     ]
    },
    {
     "name": "stdout",
     "output_type": "stream",
     "text": [
      "Commit exceeding max_modifications:  bdf7eef7c6d66912e689071229c59ff5a435d7dc\n"
     ]
    },
    {
     "name": "stderr",
     "output_type": "stream",
     "text": [
      "Parallel (12 processes):  80%|███████▉  | 6240/7801 [50:10<1:14:48,  2.88s/it]"
     ]
    },
    {
     "name": "stdout",
     "output_type": "stream",
     "text": [
      "Commit exceeding max_modifications:  b27c7d899dd12406f180ef5ddf2548797697d948\n"
     ]
    },
    {
     "name": "stderr",
     "output_type": "stream",
     "text": [
      "Parallel (12 processes):  82%|████████▏ | 6363/7801 [51:26<10:14,  2.34it/s]  "
     ]
    },
    {
     "name": "stdout",
     "output_type": "stream",
     "text": [
      "Commit exceeding max_modifications:  45a8a265b821f3bb9c4ad46491be6f1be9ad87f0\n"
     ]
    },
    {
     "name": "stderr",
     "output_type": "stream",
     "text": [
      "Parallel (12 processes):  83%|████████▎ | 6494/7801 [52:42<43:49,  2.01s/it]  "
     ]
    },
    {
     "name": "stdout",
     "output_type": "stream",
     "text": [
      "Commit exceeding max_modifications:  6446ff37c557ae88c6d07d9ac734f9e33b8bc352\n"
     ]
    },
    {
     "name": "stderr",
     "output_type": "stream",
     "text": [
      "Parallel (12 processes):  83%|████████▎ | 6497/7801 [52:43<23:17,  1.07s/it]"
     ]
    },
    {
     "name": "stdout",
     "output_type": "stream",
     "text": [
      "Commit exceeding max_modifications:  c776039eba3c03c3338e8f22769cd245d82d3339\n"
     ]
    },
    {
     "name": "stderr",
     "output_type": "stream",
     "text": [
      "Parallel (12 processes):  83%|████████▎ | 6513/7801 [52:55<10:31,  2.04it/s]"
     ]
    },
    {
     "name": "stdout",
     "output_type": "stream",
     "text": [
      "Commit exceeding max_modifications:  3b34a82e1929a069281cd9a43e55665c455a5a42\n"
     ]
    },
    {
     "name": "stderr",
     "output_type": "stream",
     "text": [
      "Parallel (12 processes):  84%|████████▎ | 6516/7801 [52:56<08:24,  2.55it/s]"
     ]
    },
    {
     "name": "stdout",
     "output_type": "stream",
     "text": [
      "Commit exceeding max_modifications:  103e5a3ff5f4ee3873bf7267d84e87295d3aa5bd\n"
     ]
    },
    {
     "name": "stderr",
     "output_type": "stream",
     "text": [
      "Parallel (12 processes):  84%|████████▎ | 6526/7801 [52:58<05:10,  4.10it/s]"
     ]
    },
    {
     "name": "stdout",
     "output_type": "stream",
     "text": [
      "Commit exceeding max_modifications:  95f631474344dfc1a4827349989829b931673e8e\n"
     ]
    },
    {
     "name": "stderr",
     "output_type": "stream",
     "text": [
      "Parallel (12 processes):  86%|████████▌ | 6683/7801 [53:51<07:22,  2.53it/s]"
     ]
    },
    {
     "name": "stdout",
     "output_type": "stream",
     "text": [
      "Commit exceeding max_modifications:  e7cc899264907d2a815b2262f95f17b9f672b81f\n"
     ]
    },
    {
     "name": "stderr",
     "output_type": "stream",
     "text": [
      "Parallel (12 processes):  90%|████████▉ | 6994/7801 [55:04<06:08,  2.19it/s]"
     ]
    },
    {
     "name": "stdout",
     "output_type": "stream",
     "text": [
      "Commit exceeding max_modifications:  2e7234ff5bb9156b550a0bca41656828c957d297\n"
     ]
    },
    {
     "name": "stderr",
     "output_type": "stream",
     "text": [
      "Parallel (12 processes):  93%|█████████▎| 7252/7801 [56:26<02:35,  3.53it/s]"
     ]
    },
    {
     "name": "stdout",
     "output_type": "stream",
     "text": [
      "Commit exceeding max_modifications:  7b1b06b5cac7e5d1c16ecef6698d5b841d08f941\n"
     ]
    },
    {
     "name": "stderr",
     "output_type": "stream",
     "text": [
      "Parallel (12 processes):  94%|█████████▍| 7320/7801 [56:51<03:17,  2.43it/s]"
     ]
    },
    {
     "name": "stdout",
     "output_type": "stream",
     "text": [
      "Commit exceeding max_modifications:  65414eeaa4915d249470f228e740972030eabef6\n"
     ]
    },
    {
     "name": "stderr",
     "output_type": "stream",
     "text": [
      "Parallel (12 processes):  94%|█████████▍| 7322/7801 [56:52<03:06,  2.57it/s]"
     ]
    },
    {
     "name": "stdout",
     "output_type": "stream",
     "text": [
      "Commit exceeding max_modifications:  4cb66b96c5c50cbab3042afa78dc6f353460835f\n"
     ]
    },
    {
     "name": "stderr",
     "output_type": "stream",
     "text": [
      "\r",
      "Parallel (12 processes):  94%|█████████▍| 7323/7801 [56:52<03:04,  2.59it/s]"
     ]
    },
    {
     "name": "stdout",
     "output_type": "stream",
     "text": [
      "Commit exceeding max_modifications:  bc77f3c19913a94c6b221a75c6ed746fe7f1552c\n"
     ]
    },
    {
     "name": "stderr",
     "output_type": "stream",
     "text": [
      "Parallel (12 processes):  94%|█████████▍| 7331/7801 [56:54<02:25,  3.23it/s]"
     ]
    },
    {
     "name": "stdout",
     "output_type": "stream",
     "text": [
      "Commit exceeding max_modifications:  ed421f22332a3e7b0d0df88431f29359a2b08750\n"
     ]
    },
    {
     "name": "stderr",
     "output_type": "stream",
     "text": [
      "Parallel (12 processes):  94%|█████████▍| 7340/7801 [56:57<01:48,  4.24it/s]"
     ]
    },
    {
     "name": "stdout",
     "output_type": "stream",
     "text": [
      "Commit exceeding max_modifications:  59e04ae0712a59688e5ae80dfbe7fc4c295d2826\n"
     ]
    },
    {
     "name": "stderr",
     "output_type": "stream",
     "text": [
      "Parallel (12 processes):  94%|█████████▍| 7362/7801 [57:02<01:51,  3.94it/s]"
     ]
    },
    {
     "name": "stdout",
     "output_type": "stream",
     "text": [
      "Commit exceeding max_modifications:  dd0609b15399acea9bc14167ef52db63677f790b\n"
     ]
    },
    {
     "name": "stderr",
     "output_type": "stream",
     "text": [
      "Parallel (12 processes):  94%|█████████▍| 7365/7801 [57:03<03:21,  2.16it/s]"
     ]
    },
    {
     "name": "stdout",
     "output_type": "stream",
     "text": [
      "Commit exceeding max_modifications:  4b78c0c4a30a8a786cbd14a6a89d711062a22447\n"
     ]
    },
    {
     "name": "stderr",
     "output_type": "stream",
     "text": [
      "Parallel (12 processes):  95%|█████████▍| 7394/7801 [57:12<01:47,  3.79it/s]"
     ]
    },
    {
     "name": "stdout",
     "output_type": "stream",
     "text": [
      "Commit exceeding max_modifications:  cee0a9332d72df6fa29d44b6aca6a9b348b3737f\n"
     ]
    },
    {
     "name": "stderr",
     "output_type": "stream",
     "text": [
      "Parallel (12 processes):  96%|█████████▌| 7461/7801 [57:27<00:44,  7.66it/s]"
     ]
    },
    {
     "name": "stdout",
     "output_type": "stream",
     "text": [
      "Commit exceeding max_modifications:  9944174b96d19ff6d324f0e9545f9ef2e5fd505e\n"
     ]
    },
    {
     "name": "stderr",
     "output_type": "stream",
     "text": [
      "Parallel (12 processes):  96%|█████████▌| 7463/7801 [57:27<00:50,  6.72it/s]"
     ]
    },
    {
     "name": "stdout",
     "output_type": "stream",
     "text": [
      "Commit exceeding max_modifications:  "
     ]
    },
    {
     "name": "stderr",
     "output_type": "stream",
     "text": [
      "\r",
      "Parallel (12 processes):  96%|█████████▌| 7464/7801 [57:27<00:55,  6.07it/s]"
     ]
    },
    {
     "name": "stdout",
     "output_type": "stream",
     "text": [
      "616812f204cca39bd9149a9a6fe442c7f1325a7f\n"
     ]
    },
    {
     "name": "stderr",
     "output_type": "stream",
     "text": [
      "\r",
      "Parallel (12 processes):  96%|█████████▌| 7465/7801 [57:27<00:54,  6.20it/s]"
     ]
    },
    {
     "name": "stdout",
     "output_type": "stream",
     "text": [
      "Commit exceeding max_modifications:  c025e85a4a84cd09e301dbe658fae0c4ce23d2d6\n"
     ]
    },
    {
     "name": "stderr",
     "output_type": "stream",
     "text": [
      "Parallel (12 processes):  96%|█████████▌| 7469/7801 [57:28<00:46,  7.21it/s]"
     ]
    },
    {
     "name": "stdout",
     "output_type": "stream",
     "text": [
      "Commit exceeding max_modifications:  16c27ca13f834e3a2813cf118a01932cab7201e9\n"
     ]
    },
    {
     "name": "stderr",
     "output_type": "stream",
     "text": [
      "Parallel (12 processes):  96%|█████████▌| 7473/7801 [57:28<00:30, 10.81it/s]"
     ]
    },
    {
     "name": "stdout",
     "output_type": "stream",
     "text": [
      "Commit exceeding max_modifications:  c5355034c5383e783678601d6ee776c919ab635e\n"
     ]
    },
    {
     "name": "stderr",
     "output_type": "stream",
     "text": [
      "\r",
      "Parallel (12 processes):  96%|█████████▌| 7475/7801 [57:29<00:40,  7.98it/s]"
     ]
    },
    {
     "name": "stdout",
     "output_type": "stream",
     "text": [
      "Commit exceeding max_modifications:  a58f8f6f0e969fa7d1bf4f8e8d8fd9232c87c1d5\n",
      "Commit exceeding max_modifications:  31dee0c4da3ee6334284cb26de596f8e17d20a14\n"
     ]
    },
    {
     "name": "stderr",
     "output_type": "stream",
     "text": [
      "\r",
      "Parallel (12 processes):  96%|█████████▌| 7477/7801 [57:29<00:34,  9.34it/s]"
     ]
    },
    {
     "name": "stdout",
     "output_type": "stream",
     "text": [
      "Commit exceeding max_modifications:  b84f1361a40291c135fe42385b35c55b2113af5b\n"
     ]
    },
    {
     "name": "stderr",
     "output_type": "stream",
     "text": [
      "Parallel (12 processes):  96%|█████████▌| 7481/7801 [57:29<00:35,  9.14it/s]"
     ]
    },
    {
     "name": "stdout",
     "output_type": "stream",
     "text": [
      "Commit exceeding max_modifications:  aad64e715d2a9a49b25f3b014e01414bce469727\n"
     ]
    },
    {
     "name": "stderr",
     "output_type": "stream",
     "text": [
      "Parallel (12 processes):  96%|█████████▌| 7489/7801 [57:31<01:02,  5.00it/s]"
     ]
    },
    {
     "name": "stdout",
     "output_type": "stream",
     "text": [
      "Commit exceeding max_modifications:  a89e1f73b8959044b729c468128ac85e032d717a\n"
     ]
    },
    {
     "name": "stderr",
     "output_type": "stream",
     "text": [
      "Parallel (12 processes):  98%|█████████▊| 7631/7801 [58:20<00:21,  7.91it/s]"
     ]
    },
    {
     "name": "stdout",
     "output_type": "stream",
     "text": [
      "Commit exceeding max_modifications:  878866c039e3bc358e17f7377326cb2c8235f3ce\n"
     ]
    },
    {
     "name": "stderr",
     "output_type": "stream",
     "text": [
      "Parallel (12 processes):  98%|█████████▊| 7637/7801 [58:22<00:37,  4.43it/s]"
     ]
    },
    {
     "name": "stdout",
     "output_type": "stream",
     "text": [
      "Commit exceeding max_modifications:  6fafa6612c5618aec02eea7ecbaf2fa0928dc0a6\n"
     ]
    },
    {
     "name": "stderr",
     "output_type": "stream",
     "text": [
      "Parallel (12 processes):  98%|█████████▊| 7646/7801 [58:24<00:36,  4.21it/s]"
     ]
    },
    {
     "name": "stdout",
     "output_type": "stream",
     "text": [
      "Commit exceeding max_modifications:  c612db3b1a2aef48c9277b7864e3435c011f60a4\n"
     ]
    },
    {
     "name": "stderr",
     "output_type": "stream",
     "text": [
      "Parallel (12 processes):  98%|█████████▊| 7659/7801 [58:29<01:04,  2.20it/s]"
     ]
    },
    {
     "name": "stdout",
     "output_type": "stream",
     "text": [
      "Commit exceeding max_modifications:  ad6bff35c39a0600fb8f2e176be4269e768e4e22\n"
     ]
    },
    {
     "name": "stderr",
     "output_type": "stream",
     "text": [
      "Parallel (12 processes):  99%|█████████▊| 7697/7801 [58:39<00:27,  3.83it/s]"
     ]
    },
    {
     "name": "stdout",
     "output_type": "stream",
     "text": [
      "Commit exceeding max_modifications:  52011297f31f060a5b254a8a89c64a985ce64002\n"
     ]
    },
    {
     "name": "stderr",
     "output_type": "stream",
     "text": [
      "Parallel (12 processes):  99%|█████████▉| 7746/7801 [59:19<00:42,  1.31it/s]"
     ]
    },
    {
     "name": "stdout",
     "output_type": "stream",
     "text": [
      "Commit exceeding max_modifications:  a9ba3c53b156e1b32f76f43b67ef430b4013af0a\n"
     ]
    },
    {
     "name": "stderr",
     "output_type": "stream",
     "text": [
      "Parallel (12 processes):  99%|█████████▉| 7753/7801 [59:23<00:39,  1.23it/s]"
     ]
    },
    {
     "name": "stdout",
     "output_type": "stream",
     "text": [
      "Commit exceeding max_modifications:  ffa8a7067f7028db1b45689f8044f1aefb32ce50\n"
     ]
    },
    {
     "name": "stderr",
     "output_type": "stream",
     "text": [
      "Parallel (12 processes):  99%|█████████▉| 7755/7801 [59:24<00:30,  1.49it/s]"
     ]
    },
    {
     "name": "stdout",
     "output_type": "stream",
     "text": [
      "Commit exceeding max_modifications:  f75c1c4d7be0c36774c68a0a080d59b5f1663e9f\n"
     ]
    },
    {
     "name": "stderr",
     "output_type": "stream",
     "text": [
      "Parallel (12 processes): 100%|█████████▉| 7800/7801 [1:00:25<00:05,  5.97s/it]"
     ]
    }
   ],
   "source": [
    "import pygit2 as git2\n",
    "import os\n",
    "import shutil\n",
    "import git2net\n",
    "import pathpy as pp\n",
    "import sqlite3\n",
    "import pandas as pd\n",
    "from datetime import date, datetime, timedelta\n",
    "import datetime as dt\n",
    "import matplotlib.pyplot as plt\n",
    "from matplotlib.pyplot import figure\n",
    "import matplotlib.dates as mdates\n",
    "import json \n",
    "import math\n",
    "import copy\n",
    "import networkx\n",
    "import gambit\n",
    "import time\n",
    "from pathlib import Path\n",
    "\n",
    "#import aliases\n",
    "#import mining\n",
    "#import networks\n",
    "#import statistics\n",
    "\n",
    "with open('sampling/releases_corrected.json', 'r') as f:\n",
    "    repositories = json.load(f)\n",
    "\n",
    "c = len(repositories)\n",
    "i = 0\n",
    "for repo_name in repositories:\n",
    "    i = i + 1\n",
    "    print('\\n\\nMining repository {i} / {c}'.format(i=i, c=c))\n",
    "    print('Current repository: {repo_name}\\n'.format(repo_name=repo_name))\n",
    "    git_repo_url = 'https://github.com/{r}'.format(r=repo_name)\n",
    "    git_repo_dir = 'repos/{r}4analysis'.format(r=repo_name) \n",
    "    sqlite_db_file = 'databases/{r}/{r2}.db'.format(r=repo_name, r2=repo_name.split('/')[1])\n",
    "\n",
    "    if not os.path.exists(git_repo_dir):\n",
    "        # 1. Clone project\n",
    "        print('Phase 1: Cloning repository...')\n",
    "        clone_repo(git_repo_dir, git_repo_url)\n",
    "        print('Done.\\n')\n",
    "        time.sleep(3)\n",
    "\n",
    "    if not os.path.exists(sqlite_db_file):\n",
    "        # 2. Mine project\n",
    "        print('Phase 2: Mining repository...\\n')\n",
    "        mine_repo(git_repo_dir, sqlite_db_file)\n",
    "        print('Done.\\n')\n",
    "        time.sleep(3)\n",
    "        \n",
    "    if not os.path.exists('databases/{r}/disambiguation.csv'.format(r=repo_name)):\n",
    "        # 3. Disambiguate\n",
    "        print('Phase 3: Disambiguating authors...\\n')\n",
    "        gambit_aliases(sqlite_db_file, repo_name)\n",
    "        print('Done.\\n')\n",
    "        time.sleep(3)\n",
    "        "
   ]
  },
  {
   "cell_type": "code",
   "execution_count": 8,
   "id": "worse-person",
   "metadata": {},
   "outputs": [],
   "source": [
    "def clone_repo(git_repo_dir, git_repo_url, delete_existing=True):\n",
    "    if os.path.exists(git_repo_dir) and delete_existing:\n",
    "        shutil.rmtree(git_repo_dir)\n",
    "\n",
    "    repo = git2.clone_repository(git_repo_url, git_repo_dir) # Clones a non-bare repository\n",
    "    return repo\n",
    "\n",
    "\n",
    "def mine_repo(git_repo_dir, sqlite_db_file, max_modifications=100, delete_existing=False):\n",
    "    # Remove database if exists\n",
    "    if os.path.exists(sqlite_db_file):\n",
    "        if delete_existing:\n",
    "            os.remove(sqlite_db_file)\n",
    "    else:\n",
    "        Path(os.path.dirname(os.path.abspath(sqlite_db_file))).mkdir(parents=True, exist_ok=True)\n",
    "        #os.mkdir(os.path.dirname(os.path.abspath(sqlite_db_file)))\n",
    "    \n",
    "    #print(git_repo_dir)\n",
    "    #print(sqlite_db_file)\n",
    "        \n",
    "    git2net.mine_git_repo(git_repo_dir, sqlite_db_file, max_modifications=max_modifications)\n",
    "    #git2net.mining_state_summary(git_repo_dir, sqlite_db_file)"
   ]
  },
  {
   "cell_type": "code",
   "execution_count": 22,
   "id": "determined-chair",
   "metadata": {},
   "outputs": [
    {
     "name": "stdout",
     "output_type": "stream",
     "text": [
      "\n",
      "\n",
      "Summary of 1 / 88\n",
      "Current repository: nccgroup/scoutsuite\n",
      "\n",
      "\n",
      "\n",
      "Summary of 2 / 88\n",
      "Current repository: lavaio/lava\n",
      "\n",
      "\n",
      "\n",
      "Summary of 3 / 88\n",
      "Current repository: restcomm/sip-servlets\n",
      "\n",
      "\n",
      "\n",
      "Summary of 4 / 88\n",
      "Current repository: corretto/corretto-11\n",
      "\n",
      "\n",
      "\n",
      "Summary of 5 / 88\n",
      "Current repository: kiwix/kiwix-android\n",
      "\n",
      "\n",
      "\n",
      "Summary of 6 / 88\n",
      "Current repository: dbeaver/dbeaver\n",
      "\n",
      "\n",
      "\n",
      "Summary of 7 / 88\n",
      "Current repository: ember-cli/ember-cli\n",
      "\n",
      "\n",
      "\n",
      "Summary of 8 / 88\n",
      "Current repository: ksp-ro/realismoverhaul\n",
      "\n",
      "\n",
      "\n",
      "Summary of 9 / 88\n",
      "Current repository: astropy/halotools\n",
      "\n",
      "\n",
      "\n",
      "Summary of 10 / 88\n",
      "Current repository: betaflight/betaflight-configurator\n",
      "\n",
      "\n",
      "\n",
      "Summary of 11 / 88\n",
      "Current repository: spotbugs/spotbugs\n",
      "\n",
      "\n",
      "\n",
      "Summary of 12 / 88\n",
      "Current repository: scipp/scipp\n",
      "\n",
      "\n",
      "\n",
      "Summary of 13 / 88\n",
      "Current repository: nunit/nunit\n",
      "\n",
      "\n",
      "\n",
      "Summary of 14 / 88\n",
      "Current repository: nfs-ganesha/nfs-ganesha\n",
      "\n",
      "\n",
      "\n",
      "Summary of 15 / 88\n",
      "Current repository: megaglest/megaglest-source\n",
      "\n",
      "\n",
      "\n",
      "Summary of 16 / 88\n",
      "Current repository: fioprotocol/fio\n",
      "\n",
      "\n",
      "\n",
      "Summary of 17 / 88\n",
      "Current repository: geonetwork/core-geonetwork\n",
      "\n",
      "\n",
      "\n",
      "Summary of 18 / 88\n",
      "Current repository: ibm/carbon-components-angular\n",
      "\n",
      "\n",
      "\n",
      "Summary of 19 / 88\n",
      "Current repository: mvvmcross/mvvmcross\n",
      "\n",
      "\n",
      "\n",
      "Summary of 20 / 88\n",
      "Current repository: simpeg/simpeg\n",
      "\n",
      "\n",
      "\n",
      "Summary of 21 / 88\n",
      "Current repository: digitalgreenorg/dg\n",
      "\n",
      "\n",
      "\n",
      "Summary of 22 / 88\n",
      "Current repository: ansible/awx\n",
      "\n",
      "\n",
      "\n",
      "Summary of 23 / 88\n",
      "Current repository: real-logic/aeron\n",
      "\n",
      "\n",
      "\n",
      "Summary of 24 / 88\n",
      "Current repository: gmod/jbrowse\n",
      "\n",
      "\n",
      "\n",
      "Summary of 25 / 88\n",
      "Current repository: swaywm/sway\n",
      "\n",
      "\n",
      "\n",
      "Summary of 26 / 88\n",
      "Current repository: stack-of-tasks/pinocchio\n",
      "\n",
      "\n",
      "\n",
      "Summary of 27 / 88\n",
      "Current repository: geli-lms/geli\n",
      "\n",
      "\n",
      "\n",
      "Summary of 28 / 88\n",
      "Current repository: dgcdev/digitalcoin\n",
      "\n",
      "\n",
      "\n",
      "Summary of 29 / 88\n",
      "Current repository: spyder-ide/spyder\n",
      "\n",
      "\n",
      "\n",
      "Summary of 30 / 88\n",
      "Current repository: apinf/platform\n",
      "\n",
      "\n",
      "\n",
      "Summary of 31 / 88\n",
      "Current repository: myhush/hush\n",
      "\n",
      "\n",
      "\n",
      "Summary of 32 / 88\n",
      "Current repository: theano/theano\n",
      "\n",
      "\n",
      "\n",
      "Summary of 33 / 88\n",
      "Current repository: spongepowered/spongecommon\n",
      "\n",
      "\n",
      "\n",
      "Summary of 34 / 88\n",
      "Current repository: zephyrproject-rtos/zephyr\n",
      "\n",
      "\n",
      "\n",
      "Summary of 35 / 88\n",
      "Current repository: ptmt/react-native-macos\n",
      "\n",
      "\n",
      "\n",
      "Summary of 36 / 88\n",
      "Current repository: microsoft/cntk\n",
      "\n",
      "\n",
      "\n",
      "Summary of 37 / 88\n",
      "Current repository: liveblog/liveblog\n",
      "\n",
      "\n",
      "\n",
      "Summary of 38 / 88\n",
      "Current repository: taskcluster/taskcluster\n",
      "\n",
      "\n",
      "\n",
      "Summary of 39 / 88\n",
      "Current repository: dita-ot/dita-ot\n",
      "\n",
      "\n",
      "\n",
      "Summary of 40 / 88\n",
      "Current repository: vuetifyjs/vuetify\n",
      "\n",
      "\n",
      "\n",
      "Summary of 41 / 88\n",
      "Current repository: flowminder/flowkit\n",
      "\n",
      "\n",
      "\n",
      "Summary of 42 / 88\n",
      "Current repository: project-osrm/osrm-backend\n",
      "\n",
      "\n",
      "\n",
      "Summary of 43 / 88\n",
      "Current repository: spongepowered/sponge\n",
      "\n",
      "\n",
      "\n",
      "Summary of 44 / 88\n",
      "Current repository: unvanquished/unvanquished\n",
      "\n",
      "\n",
      "\n",
      "Summary of 45 / 88\n",
      "Current repository: linq2db/linq2db\n",
      "\n",
      "\n",
      "\n",
      "Summary of 46 / 88\n",
      "Current repository: canjs/canjs\n",
      "\n",
      "\n",
      "\n",
      "Summary of 47 / 88\n",
      "Current repository: visit-dav/visit\n",
      "\n",
      "\n",
      "\n",
      "Summary of 48 / 88\n",
      "Current repository: nukeykt/nblood\n",
      "\n",
      "\n",
      "\n",
      "Summary of 49 / 88\n",
      "Current repository: souffle-lang/souffle\n",
      "\n",
      "\n",
      "\n",
      "Summary of 50 / 88\n",
      "Current repository: bitzenycoredevelopers/bitzeny\n",
      "\n",
      "\n",
      "\n",
      "Summary of 51 / 88\n",
      "Current repository: dhis2/dhis2-android-capture-app\n",
      "\n",
      "\n",
      "\n",
      "Summary of 52 / 88\n",
      "Current repository: photonstorm/phaser\n",
      "\n",
      "\n",
      "\n",
      "Summary of 53 / 88\n",
      "Current repository: nuget/nugetgallery\n",
      "\n",
      "\n",
      "\n",
      "Summary of 54 / 88\n",
      "Current repository: frappe/erpnext\n",
      "\n",
      "\n",
      "\n",
      "Summary of 55 / 88\n",
      "Current repository: zilliqa/zilliqa\n",
      "\n",
      "\n",
      "\n",
      "Summary of 56 / 88\n",
      "Current repository: iov-one/iov-core\n",
      "\n",
      "\n",
      "\n",
      "Summary of 57 / 88\n",
      "Current repository: open62541/open62541\n",
      "\n",
      "\n",
      "\n",
      "Summary of 58 / 88\n",
      "Current repository: mavlink/qgroundcontrol\n",
      "\n",
      "\n",
      "\n",
      "Summary of 59 / 88\n",
      "Current repository: rptools/maptool\n",
      "\n",
      "\n",
      "\n",
      "Summary of 60 / 88\n",
      "Current repository: openbazaar/openbazaar-desktop\n",
      "\n",
      "\n",
      "\n",
      "Summary of 61 / 88\n",
      "Current repository: endless-sky/endless-sky\n",
      "\n",
      "\n",
      "\n",
      "Summary of 62 / 88\n",
      "Current repository: globalarrays/ga\n",
      "\n",
      "\n",
      "\n",
      "Summary of 63 / 88\n",
      "Current repository: telefonicaid/fiware-orion\n",
      "\n",
      "\n",
      "\n",
      "Summary of 64 / 88\n",
      "Current repository: linuxdeepin/dde-control-center\n",
      "\n",
      "\n",
      "\n",
      "Summary of 65 / 88\n",
      "Current repository: reportportal/service-ui\n",
      "\n",
      "\n",
      "\n",
      "Summary of 66 / 88\n",
      "Current repository: boost-ext/di\n",
      "\n",
      "\n",
      "\n",
      "Summary of 67 / 88\n",
      "Current repository: tropy/tropy\n",
      "\n",
      "\n",
      "\n",
      "Summary of 68 / 88\n",
      "Current repository: wazuh/wazuh-kibana-app\n",
      "\n",
      "\n",
      "\n",
      "Summary of 69 / 88\n",
      "Current repository: openzfs/zfs\n",
      "\n",
      "\n",
      "\n",
      "Summary of 70 / 88\n",
      "Current repository: twbs/bootstrap\n",
      "\n",
      "\n",
      "\n",
      "Summary of 71 / 88\n",
      "Current repository: secdev/scapy\n",
      "\n",
      "\n",
      "\n",
      "Summary of 72 / 88\n",
      "Current repository: pmeal/openpnm\n",
      "\n",
      "\n",
      "\n",
      "Summary of 73 / 88\n",
      "Current repository: aria2/aria2\n",
      "\n",
      "\n",
      "\n",
      "Summary of 74 / 88\n",
      "Current repository: zeebe-io/zeebe\n",
      "\n",
      "\n",
      "\n",
      "Summary of 75 / 88\n",
      "Current repository: liqd/adhocracy3\n",
      "\n",
      "\n",
      "\n",
      "Summary of 76 / 88\n",
      "Current repository: tryghost/ghost\n",
      "\n",
      "\n",
      "\n",
      "Summary of 77 / 88\n",
      "Current repository: ultimaker/cura\n",
      "\n",
      "\n",
      "\n",
      "Summary of 78 / 88\n",
      "Current repository: augurproject/augur-ui\n",
      "\n",
      "\n",
      "\n",
      "Summary of 79 / 88\n",
      "Current repository: pculture/miro\n",
      "\n",
      "\n",
      "\n",
      "Summary of 80 / 88\n",
      "Current repository: jhipster/generator-jhipster\n",
      "\n",
      "\n",
      "\n",
      "Summary of 81 / 88\n",
      "Current repository: ledgerhq/ledger-live-desktop\n",
      "\n",
      "\n",
      "\n",
      "Summary of 82 / 88\n",
      "Current repository: sefaria/sefaria-project\n",
      "\n",
      "\n",
      "\n",
      "Summary of 83 / 88\n",
      "Current repository: livelykernel/livelykernel\n",
      "\n",
      "\n",
      "\n",
      "Summary of 84 / 88\n",
      "Current repository: handsontable/handsontable\n",
      "\n",
      "\n",
      "\n",
      "Summary of 85 / 88\n",
      "Current repository: imageengine/cortex\n",
      "\n",
      "\n",
      "\n",
      "Summary of 86 / 88\n",
      "Current repository: unidata/netcdf-c\n",
      "\n",
      "\n",
      "\n",
      "Summary of 87 / 88\n",
      "Current repository: euroelessar/qutim\n",
      "\n",
      "\n",
      "\n",
      "Summary of 88 / 88\n",
      "Current repository: antennapod/antennapod\n",
      "\n"
     ]
    }
   ],
   "source": [
    "with open('sampling/releases_corrected.json', 'r') as f:\n",
    "    repositories = json.load(f)\n",
    "\n",
    "c = len(repositories)\n",
    "i = 0\n",
    "\n",
    "with open('databases/mining_summary.json', 'r') as f:\n",
    "    mined_repos = json.load(f)\n",
    "\n",
    "for repo_name in repositories:\n",
    "    i = i + 1\n",
    "    print('\\n\\nSummary of {i} / {c}'.format(i=i, c=c))\n",
    "    print('Current repository: {repo_name}\\n'.format(repo_name=repo_name))\n",
    "    git_repo_url = 'https://github.com/{r}'.format(r=repo_name)\n",
    "    git_repo_dir = 'repos/{r}4analysis'.format(r=repo_name) \n",
    "    sqlite_db_file = 'databases/{r}/{r2}.db'.format(r=repo_name, r2=repo_name.split('/')[1])\n",
    "    \n",
    "    if not repo_name in mined_repos:\n",
    "        git2net.mining_state_summary(git_repo_dir, sqlite_db_file)"
   ]
  },
  {
   "cell_type": "code",
   "execution_count": 35,
   "id": "functioning-peter",
   "metadata": {},
   "outputs": [
    {
     "name": "stdout",
     "output_type": "stream",
     "text": [
      "97.39792682926831\n"
     ]
    }
   ],
   "source": [
    "with open('databases/mining_summary.json', 'r') as f:\n",
    "    mined_repos = json.load(f)\n",
    "    \n",
    "s = 0\n",
    "i = 0\n",
    "for repo in mined_repos:\n",
    "    i = i + 1\n",
    "    s = s + mined_repos[repo]['percentage']\n",
    "\n",
    "print(s/i)"
   ]
  },
  {
   "cell_type": "code",
   "execution_count": null,
   "id": "efficient-harrison",
   "metadata": {},
   "outputs": [],
   "source": [
    "import pygit2 as git2\n",
    "import os\n",
    "import shutil\n",
    "import git2net\n",
    "import pathpy as pp\n",
    "import sqlite3\n",
    "import pandas as pd\n",
    "from datetime import date, datetime, timedelta\n",
    "import datetime as dt\n",
    "import matplotlib.pyplot as plt\n",
    "from matplotlib.pyplot import figure\n",
    "import matplotlib.dates as mdates\n",
    "import json \n",
    "import math\n",
    "import copy\n",
    "import networkx\n",
    "\n",
    "import gambit\n",
    "\n",
    "git_repo_url = 'https://github.com/taskcluster/taskcluster'\n",
    "\n",
    "repo_name = 'taskcluster/taskcluster'\n",
    "git_repo_url = 'https://github.com/{r}'.format(r=repo_name)\n",
    "git_repo_dir = 'repos/{r}4analysis'.format(r=repo_name) \n",
    "sqlite_db_file = 'databases/{r}/{r2}.db'.format(r=repo_name, r2=repo_name.split('/')[1])\n",
    "\n",
    "con = sqlite3.connect(sqlite_db_file)\n",
    "\n",
    "# Query the db\n",
    "data = pd.read_sql(\"\"\"SELECT * FROM commits\"\"\", con)\n",
    "aliases = data[['author_name', 'author_email']]\n",
    "aliases = aliases.rename(columns={'author_email': 'alias_email', 'author_name': 'alias_name'})\n",
    "aliases = aliases.drop_duplicates()\n",
    "authors = gambit.disambiguate_aliases(aliases)\n",
    "authors.to_csv('databases/{r}/disambiguation.csv'.format(r=repo_name))\n",
    "\n",
    "for index, row in data.iterrows():\n",
    "    #print(index, row['author_name'])\n",
    "    if len(authors[(authors.alias_name == row['author_name']) & (authors.alias_email == row['author_email'])]['author_id']) == 1:\n",
    "        auth_id = authors[(authors.alias_name == row['author_name']) & (authors.alias_email == row['author_email'])]['author_id'].values[0]\n",
    "        data.loc[index, 'author_name'] = auth_id\n",
    "    else:\n",
    "        raise ValueError\n",
    "\n",
    "data.to_sql('commits', con, if_exists='replace')"
   ]
  }
 ],
 "metadata": {
  "kernelspec": {
   "display_name": "Python 3",
   "language": "python",
   "name": "python3"
  },
  "language_info": {
   "codemirror_mode": {
    "name": "ipython",
    "version": 3
   },
   "file_extension": ".py",
   "mimetype": "text/x-python",
   "name": "python",
   "nbconvert_exporter": "python",
   "pygments_lexer": "ipython3",
   "version": "3.8.5"
  }
 },
 "nbformat": 4,
 "nbformat_minor": 5
}
